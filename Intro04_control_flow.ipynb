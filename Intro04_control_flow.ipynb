{
  "cells": [
    {
      "cell_type": "markdown",
      "metadata": {
        "id": "view-in-github",
        "colab_type": "text"
      },
      "source": [
        "<a href=\"https://colab.research.google.com/github/HuberAdrian/DataScience-Lectures/blob/main/Intro04_control_flow.ipynb\" target=\"_parent\"><img src=\"https://colab.research.google.com/assets/colab-badge.svg\" alt=\"Open In Colab\"/></a>"
      ]
    },
    {
      "cell_type": "markdown",
      "metadata": {
        "id": "se8IPeZ_HzlB"
      },
      "source": [
        "# Introduction to Python IV - Control Flow\n",
        "* Based on a lecture series by Rajath Kumart (https://github.com/rajathkumarmp/Python-Lectures)\n",
        "* Ported to Python3 and extessions added by Janis Keuper\n",
        "* Copyright: Creative Commons Attribution 3.0 Unported License. To view a copy of this license, visit http://creativecommons.org/licenses/by/3.0/"
      ]
    },
    {
      "cell_type": "markdown",
      "metadata": {
        "id": "CCbAyQDSHzlD"
      },
      "source": [
        "# Control Flow Statements"
      ]
    },
    {
      "cell_type": "markdown",
      "metadata": {
        "id": "ArY3TebFHzlD"
      },
      "source": [
        "## If"
      ]
    },
    {
      "cell_type": "markdown",
      "metadata": {
        "id": "zYMRTO7eHzlE"
      },
      "source": [
        "if some_condition:\n",
        "    \n",
        "    algorithm"
      ]
    },
    {
      "cell_type": "code",
      "execution_count": null,
      "metadata": {
        "jupyter": {
          "outputs_hidden": false
        },
        "id": "P-4LTMb6HzlE"
      },
      "outputs": [],
      "source": [
        "x = 12\n",
        "if x >10:\n",
        "    print (\"Hello\")"
      ]
    },
    {
      "cell_type": "markdown",
      "metadata": {
        "id": "LAzCZKvMHzlF"
      },
      "source": [
        "## If-else"
      ]
    },
    {
      "cell_type": "markdown",
      "metadata": {
        "id": "ztzq0gsrHzlF"
      },
      "source": [
        "if some_condition:\n",
        "    \n",
        "    algorithm\n",
        "    \n",
        "else:\n",
        "    \n",
        "    algorithm"
      ]
    },
    {
      "cell_type": "code",
      "execution_count": null,
      "metadata": {
        "jupyter": {
          "outputs_hidden": false
        },
        "id": "IZy3UUVuHzlG"
      },
      "outputs": [],
      "source": [
        "x = 12\n",
        "if x > 10:\n",
        "    print (\"hello\")\n",
        "else:\n",
        "    print (\"world\")"
      ]
    },
    {
      "cell_type": "markdown",
      "metadata": {
        "id": "dLItbrU7HzlG"
      },
      "source": [
        "## if-elif"
      ]
    },
    {
      "cell_type": "markdown",
      "metadata": {
        "id": "VrapG2BhHzlH"
      },
      "source": [
        "if some_condition:\n",
        "    \n",
        "    algorithm\n",
        "\n",
        "elif some_condition:\n",
        "    \n",
        "    algorithm\n",
        "\n",
        "else:\n",
        "    \n",
        "    algorithm"
      ]
    },
    {
      "cell_type": "code",
      "execution_count": null,
      "metadata": {
        "jupyter": {
          "outputs_hidden": false
        },
        "id": "LyNLNunnHzlH"
      },
      "outputs": [],
      "source": [
        "x = 10\n",
        "y = 12\n",
        "if x > y:\n",
        "    print (\"x>y\")\n",
        "elif x < y:\n",
        "    print (\"x<y\")\n",
        "else:\n",
        "    print (\"x=y\")"
      ]
    },
    {
      "cell_type": "markdown",
      "metadata": {
        "id": "AByUwc5rHzlH"
      },
      "source": [
        "if statement inside a if statement or if-elif or if-else are called as nested if statements."
      ]
    },
    {
      "cell_type": "code",
      "execution_count": null,
      "metadata": {
        "jupyter": {
          "outputs_hidden": false
        },
        "id": "xEUxqzSxHzlI"
      },
      "outputs": [],
      "source": [
        "x = 10\n",
        "y = 12\n",
        "if x > y:\n",
        "    print (\"x>y\")\n",
        "elif x < y:\n",
        "    print (\"x<y\")\n",
        "    if x==10:\n",
        "        print (\"x=10\")\n",
        "    else:\n",
        "        print (\"invalid\")\n",
        "else:\n",
        "    print (\"x=y\")"
      ]
    },
    {
      "cell_type": "markdown",
      "metadata": {
        "id": "XN4WrgHkHzlI"
      },
      "source": [
        "## Loops"
      ]
    },
    {
      "cell_type": "markdown",
      "metadata": {
        "id": "WKAPgWnYHzlI"
      },
      "source": [
        "### For"
      ]
    },
    {
      "cell_type": "markdown",
      "metadata": {
        "id": "QGe6kq-IHzlJ"
      },
      "source": [
        "for variable in something:\n",
        "    \n",
        "    algorithm"
      ]
    },
    {
      "cell_type": "code",
      "execution_count": null,
      "metadata": {
        "jupyter": {
          "outputs_hidden": false
        },
        "id": "3qDFuQmEHzlJ"
      },
      "outputs": [],
      "source": [
        "for i in range(5):\n",
        "    print (i)"
      ]
    },
    {
      "cell_type": "markdown",
      "metadata": {
        "id": "z4LX6s01HzlJ"
      },
      "source": [
        "In the above example, i iterates over the 0,1,2,3,4. Every time it takes each value and executes the algorithm inside the loop. It is also possible to iterate over a nested list illustrated below."
      ]
    },
    {
      "cell_type": "code",
      "execution_count": null,
      "metadata": {
        "jupyter": {
          "outputs_hidden": false
        },
        "id": "1Y7a2fhHHzlK"
      },
      "outputs": [],
      "source": [
        "list_of_lists = [[1, 2, 3], [4, 5, 6], [7, 8, 9]]\n",
        "for list1 in list_of_lists:\n",
        "        print (list1)"
      ]
    },
    {
      "cell_type": "markdown",
      "metadata": {
        "id": "BAjwIIREHzlK"
      },
      "source": [
        "A use case of a nested for loop in this case would be,"
      ]
    },
    {
      "cell_type": "code",
      "execution_count": null,
      "metadata": {
        "jupyter": {
          "outputs_hidden": false
        },
        "id": "fL9QklAkHzlK"
      },
      "outputs": [],
      "source": [
        "list_of_lists = [[1, 2, 3], [4, 5, 6], [7, 8, 9]]\n",
        "for list1 in list_of_lists:\n",
        "    for x in list1:\n",
        "        print (x)"
      ]
    },
    {
      "cell_type": "markdown",
      "metadata": {
        "id": "Fot-EOWnHzlL"
      },
      "source": [
        "### While"
      ]
    },
    {
      "cell_type": "markdown",
      "metadata": {
        "id": "YA-P7sSfHzlL"
      },
      "source": [
        "while some_condition:\n",
        "    \n",
        "    algorithm"
      ]
    },
    {
      "cell_type": "code",
      "execution_count": null,
      "metadata": {
        "jupyter": {
          "outputs_hidden": false
        },
        "id": "oCglBzVeHzlL"
      },
      "outputs": [],
      "source": [
        "i = 1\n",
        "while i < 3:\n",
        "    print(i ** 2)\n",
        "    i = i+1\n",
        "print('Bye')"
      ]
    },
    {
      "cell_type": "markdown",
      "metadata": {
        "id": "I5RhIzKGHzlL"
      },
      "source": [
        "## Break"
      ]
    },
    {
      "cell_type": "markdown",
      "metadata": {
        "id": "HjStau1NHzlM"
      },
      "source": [
        "As the name says. It is used to break out of a loop when a condition becomes true when executing the loop."
      ]
    },
    {
      "cell_type": "code",
      "execution_count": null,
      "metadata": {
        "jupyter": {
          "outputs_hidden": false
        },
        "id": "kMhYV5KEHzlM"
      },
      "outputs": [],
      "source": [
        "for i in range(100):\n",
        "    print (i)\n",
        "    if i>=7:\n",
        "        break"
      ]
    },
    {
      "cell_type": "markdown",
      "metadata": {
        "id": "JrZop-hMHzlM"
      },
      "source": [
        "## Continue"
      ]
    },
    {
      "cell_type": "markdown",
      "metadata": {
        "id": "YJaZr2eGHzlM"
      },
      "source": [
        "This continues the rest of the loop. Sometimes when a condition is satisfied there are chances of the loop getting terminated. This can be avoided using continue statement. "
      ]
    },
    {
      "cell_type": "code",
      "execution_count": null,
      "metadata": {
        "jupyter": {
          "outputs_hidden": false
        },
        "id": "R_MTk1IwHzlN"
      },
      "outputs": [],
      "source": [
        "for i in range(10):\n",
        "    if i>4:\n",
        "        print (\"The end.\")\n",
        "        continue\n",
        "    elif i<7:\n",
        "        print (i)"
      ]
    },
    {
      "cell_type": "markdown",
      "metadata": {
        "id": "nUUJffuGHzlN"
      },
      "source": [
        "## List Comprehensions"
      ]
    },
    {
      "cell_type": "markdown",
      "metadata": {
        "id": "PDizQWmSHzlN"
      },
      "source": [
        "Python makes it simple to generate a required list with a single line of code using list comprehensions. For example If i need to generate multiples of say 27 I write the code using for loop as,"
      ]
    },
    {
      "cell_type": "code",
      "execution_count": null,
      "metadata": {
        "jupyter": {
          "outputs_hidden": false
        },
        "id": "YmVAFPQEHzlN",
        "colab": {
          "base_uri": "https://localhost:8080/"
        },
        "outputId": "15a789d9-7621-4101-e15d-78a8067ed1a6"
      },
      "outputs": [
        {
          "output_type": "stream",
          "name": "stdout",
          "text": [
            "[27, 54, 81, 108, 135, 162, 189, 216, 243, 270]\n"
          ]
        }
      ],
      "source": [
        "res = []\n",
        "for i in range(1,11):\n",
        "    x = 27*i\n",
        "    res.append(x)\n",
        "print (res)"
      ]
    },
    {
      "cell_type": "markdown",
      "metadata": {
        "id": "gu6z7uvNHzlO"
      },
      "source": [
        "Since you are generating another list altogether and that is what is required, List comprehensions is a more efficient way to solve this problem."
      ]
    },
    {
      "cell_type": "code",
      "execution_count": null,
      "metadata": {
        "jupyter": {
          "outputs_hidden": false
        },
        "id": "rfwfE_4AHzlO",
        "colab": {
          "base_uri": "https://localhost:8080/"
        },
        "outputId": "ef4ef168-7dde-4af8-a27d-7078d3e3f623"
      },
      "outputs": [
        {
          "output_type": "execute_result",
          "data": {
            "text/plain": [
              "[27, 54, 81, 108, 135, 162, 189, 216, 243, 270]"
            ]
          },
          "metadata": {},
          "execution_count": 2
        }
      ],
      "source": [
        "[27*x for x in range(1,11)]"
      ]
    },
    {
      "cell_type": "markdown",
      "metadata": {
        "id": "iODKfEx-HzlO"
      },
      "source": [
        "That's it!. Only remember to enclose it in square brackets"
      ]
    }
  ],
  "metadata": {
    "kernelspec": {
      "display_name": "Python 3",
      "language": "python",
      "name": "python3"
    },
    "language_info": {
      "codemirror_mode": {
        "name": "ipython",
        "version": 3
      },
      "file_extension": ".py",
      "mimetype": "text/x-python",
      "name": "python",
      "nbconvert_exporter": "python",
      "pygments_lexer": "ipython3",
      "version": "3.7.6"
    },
    "colab": {
      "name": "Intro04-control-flow.ipynb",
      "provenance": [],
      "include_colab_link": true
    }
  },
  "nbformat": 4,
  "nbformat_minor": 0
}