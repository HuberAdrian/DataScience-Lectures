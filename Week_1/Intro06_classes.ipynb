{
  "cells": [
    {
      "cell_type": "markdown",
      "metadata": {
        "id": "view-in-github",
        "colab_type": "text"
      },
      "source": [
        "<a href=\"https://colab.research.google.com/github/HuberAdrian/DataScience-Lectures/blob/main/Intro06_classes.ipynb\" target=\"_parent\"><img src=\"https://colab.research.google.com/assets/colab-badge.svg\" alt=\"Open In Colab\"/></a>"
      ]
    },
    {
      "cell_type": "markdown",
      "metadata": {
        "id": "TohJlgFsH8K_"
      },
      "source": [
        "# Introduction to Python VI - Classes\n",
        "* Based on a lecture series by Rajath Kumart (https://github.com/rajathkumarmp/Python-Lectures)\n",
        "* Ported to Python3 and extessions added by Janis Keuper\n",
        "* Copyright: Creative Commons Attribution 3.0 Unported License. To view a copy of this license, visit http://creativecommons.org/licenses/by/3.0/"
      ]
    },
    {
      "cell_type": "code",
      "execution_count": null,
      "metadata": {
        "id": "JlbGjAZEH8LB",
        "colab": {
          "base_uri": "https://localhost:8080/"
        },
        "outputId": "0b1b2a09-789d-42a8-f51b-6c4b935f6c1b"
      },
      "outputs": [
        {
          "output_type": "stream",
          "name": "stdout",
          "text": [
            "Cloning into 'DATA'...\n",
            "remote: Enumerating objects: 87, done.\u001b[K\n",
            "remote: Counting objects: 100% (87/87), done.\u001b[K\n",
            "remote: Compressing objects: 100% (73/73), done.\u001b[K\n",
            "remote: Total 87 (delta 21), reused 79 (delta 13), pack-reused 0\u001b[K\n",
            "Unpacking objects: 100% (87/87), done.\n",
            "Checking out files: 100% (61/61), done.\n"
          ]
        }
      ],
      "source": [
        "#in colab, we need to clone the data from the repo\n",
        "!git clone https://github.com/keuperj/DATA.git\n",
        "path='DATA'"
      ]
    },
    {
      "cell_type": "markdown",
      "metadata": {
        "id": "v2Rdx3gCH8LC"
      },
      "source": [
        "# Classes"
      ]
    },
    {
      "cell_type": "markdown",
      "metadata": {
        "id": "VVL88KegH8LC"
      },
      "source": [
        "Variables, Lists, Dictionaries etc in python is a object. Without getting into the theory part of Object Oriented Programming, explanation of the concepts will be done along this tutorial.\n",
        "\n",
        "For in depth information on claases see: https://docs.python.org/3/tutorial/classes.html"
      ]
    },
    {
      "cell_type": "markdown",
      "metadata": {
        "id": "TMthMf6HH8LD"
      },
      "source": [
        "A class is declared as follows"
      ]
    },
    {
      "cell_type": "markdown",
      "metadata": {
        "id": "LvgBpe5mH8LD"
      },
      "source": [
        "class class_name:\n",
        "\n",
        "    Functions"
      ]
    },
    {
      "cell_type": "code",
      "execution_count": null,
      "metadata": {
        "tags": [],
        "id": "hbv2seGQH8LE"
      },
      "outputs": [],
      "source": [
        "class FirstClass:\n",
        "    pass"
      ]
    },
    {
      "cell_type": "markdown",
      "metadata": {
        "id": "a6MFMS0gH8LE"
      },
      "source": [
        "**pass** in python means do nothing. "
      ]
    },
    {
      "cell_type": "markdown",
      "metadata": {
        "id": "_fol5HD_H8LF"
      },
      "source": [
        "Above, a class object named \"FirstClass\" is declared now consider a \"egclass\" which has all the characteristics of \"FirstClass\". So all you have to do is, equate the \"egclass\" to \"FirstClass\". In python jargon this is called as creating an instance. \"egclass\" is the instance of \"FirstClass\""
      ]
    },
    {
      "cell_type": "code",
      "execution_count": null,
      "metadata": {
        "jupyter": {
          "outputs_hidden": false
        },
        "id": "A-Yjsj8nH8LF"
      },
      "outputs": [],
      "source": [
        "egclass = FirstClass()"
      ]
    },
    {
      "cell_type": "code",
      "execution_count": null,
      "metadata": {
        "jupyter": {
          "outputs_hidden": false
        },
        "id": "_rNQpo7TH8LF",
        "colab": {
          "base_uri": "https://localhost:8080/"
        },
        "outputId": "3479f9ea-3280-443a-ab77-5bb6bc7cf66d"
      },
      "outputs": [
        {
          "output_type": "execute_result",
          "data": {
            "text/plain": [
              "__main__.FirstClass"
            ]
          },
          "metadata": {},
          "execution_count": 4
        }
      ],
      "source": [
        "type(egclass)"
      ]
    },
    {
      "cell_type": "code",
      "execution_count": null,
      "metadata": {
        "jupyter": {
          "outputs_hidden": false
        },
        "id": "xoVFO6DJH8LG",
        "colab": {
          "base_uri": "https://localhost:8080/"
        },
        "outputId": "27cb07a6-c8ab-4664-d317-b10b4bc1eaba"
      },
      "outputs": [
        {
          "output_type": "execute_result",
          "data": {
            "text/plain": [
              "type"
            ]
          },
          "metadata": {},
          "execution_count": 5
        }
      ],
      "source": [
        "type(FirstClass)"
      ]
    },
    {
      "cell_type": "markdown",
      "metadata": {
        "id": "HlxArqMPH8LG"
      },
      "source": [
        "Now let us add some \"functionality\" to the class. So that our \"FirstClass\" is defined in a better way. A function inside a class is called as a \"Method\" of that class"
      ]
    },
    {
      "cell_type": "markdown",
      "metadata": {
        "id": "YrZgBTFJH8LG"
      },
      "source": [
        "Most of the classes will have a function named \"\\_\\_init\\_\\_\". These are called as magic methods. In this method you basically initialize the variables of that class or any other initial algorithms which is applicable to all methods is specified in this method. A variable inside a class is called an attribute."
      ]
    },
    {
      "cell_type": "markdown",
      "metadata": {
        "id": "8vwmPdDJH8LH"
      },
      "source": [
        "These helps simplify the process of initializing a instance. For example,\n",
        "\n",
        "Without the use of magic method or \\_\\_init\\_\\_ which is otherwise called as constructors. One had to define a **init( )** method and call the **init( )** function."
      ]
    },
    {
      "cell_type": "code",
      "execution_count": null,
      "metadata": {
        "jupyter": {
          "outputs_hidden": false
        },
        "id": "oekzIFISH8LH"
      },
      "outputs": [],
      "source": [
        "eg0 = FirstClass()"
      ]
    },
    {
      "cell_type": "markdown",
      "metadata": {
        "id": "tfSGIrtPH8LH"
      },
      "source": [
        "But when the constructor is defined the \\_\\_init\\_\\_ is called thus intializing the instance created. "
      ]
    },
    {
      "cell_type": "markdown",
      "metadata": {
        "id": "2waCYdqNH8LI"
      },
      "source": [
        "We will make our \"FirstClass\" to accept two variables: name and symbol.\n",
        "\n",
        "I will be explaining about the \"self\" in a while."
      ]
    },
    {
      "cell_type": "code",
      "execution_count": null,
      "metadata": {
        "id": "CLA0LD_hH8LI"
      },
      "outputs": [],
      "source": [
        "class FirstClass:\n",
        "    def __init__(self,name,symbol):\n",
        "        self.name = name\n",
        "        self.symbol = symbol"
      ]
    },
    {
      "cell_type": "markdown",
      "metadata": {
        "id": "hhgZPLxmH8LJ"
      },
      "source": [
        "Now that we have defined a function and added the \\_\\_init\\_\\_ method. We can create a instance of FirstClass which now accepts two arguments. "
      ]
    },
    {
      "cell_type": "code",
      "execution_count": null,
      "metadata": {
        "id": "TQwTP0lUH8LJ"
      },
      "outputs": [],
      "source": [
        "eg1 = FirstClass('one',1)\n",
        "eg2 = FirstClass('two',2)"
      ]
    },
    {
      "cell_type": "code",
      "execution_count": null,
      "metadata": {
        "jupyter": {
          "outputs_hidden": false
        },
        "id": "i8fjwmBxH8LJ",
        "colab": {
          "base_uri": "https://localhost:8080/"
        },
        "outputId": "6223d5a8-4157-4fe4-b4fb-e260a99f2d51"
      },
      "outputs": [
        {
          "output_type": "stream",
          "name": "stdout",
          "text": [
            "one 1\n",
            "two 2\n"
          ]
        }
      ],
      "source": [
        "print (eg1.name, eg1.symbol)\n",
        "print (eg2.name, eg2.symbol)"
      ]
    },
    {
      "cell_type": "markdown",
      "metadata": {
        "id": "5U0xkTqMH8LJ"
      },
      "source": [
        "**dir( )** function comes very handy in looking into what the class contains and what all method it offers"
      ]
    },
    {
      "cell_type": "code",
      "execution_count": null,
      "metadata": {
        "jupyter": {
          "outputs_hidden": false
        },
        "id": "DVOOw8E6H8LK",
        "colab": {
          "base_uri": "https://localhost:8080/"
        },
        "outputId": "eeeef757-ce91-478e-e2e9-95a1da478ffe"
      },
      "outputs": [
        {
          "output_type": "execute_result",
          "data": {
            "text/plain": [
              "['__class__',\n",
              " '__delattr__',\n",
              " '__dict__',\n",
              " '__dir__',\n",
              " '__doc__',\n",
              " '__eq__',\n",
              " '__format__',\n",
              " '__ge__',\n",
              " '__getattribute__',\n",
              " '__gt__',\n",
              " '__hash__',\n",
              " '__init__',\n",
              " '__init_subclass__',\n",
              " '__le__',\n",
              " '__lt__',\n",
              " '__module__',\n",
              " '__ne__',\n",
              " '__new__',\n",
              " '__reduce__',\n",
              " '__reduce_ex__',\n",
              " '__repr__',\n",
              " '__setattr__',\n",
              " '__sizeof__',\n",
              " '__str__',\n",
              " '__subclasshook__',\n",
              " '__weakref__']"
            ]
          },
          "metadata": {},
          "execution_count": 10
        }
      ],
      "source": [
        "dir(FirstClass)"
      ]
    },
    {
      "cell_type": "markdown",
      "metadata": {
        "id": "TkJu9eq7H8LK"
      },
      "source": [
        "**dir( )** of an instance also shows it's defined attributes."
      ]
    },
    {
      "cell_type": "code",
      "execution_count": null,
      "metadata": {
        "jupyter": {
          "outputs_hidden": false
        },
        "id": "ht8z4qccH8LK",
        "colab": {
          "base_uri": "https://localhost:8080/"
        },
        "outputId": "43436dee-9858-4b6e-ce1e-a6905a219bd5"
      },
      "outputs": [
        {
          "output_type": "execute_result",
          "data": {
            "text/plain": [
              "['__class__',\n",
              " '__delattr__',\n",
              " '__dict__',\n",
              " '__dir__',\n",
              " '__doc__',\n",
              " '__eq__',\n",
              " '__format__',\n",
              " '__ge__',\n",
              " '__getattribute__',\n",
              " '__gt__',\n",
              " '__hash__',\n",
              " '__init__',\n",
              " '__init_subclass__',\n",
              " '__le__',\n",
              " '__lt__',\n",
              " '__module__',\n",
              " '__ne__',\n",
              " '__new__',\n",
              " '__reduce__',\n",
              " '__reduce_ex__',\n",
              " '__repr__',\n",
              " '__setattr__',\n",
              " '__sizeof__',\n",
              " '__str__',\n",
              " '__subclasshook__',\n",
              " '__weakref__',\n",
              " 'name',\n",
              " 'symbol']"
            ]
          },
          "metadata": {},
          "execution_count": 11
        }
      ],
      "source": [
        "dir(eg1)"
      ]
    },
    {
      "cell_type": "markdown",
      "metadata": {
        "id": "MjLSDeLtH8LK"
      },
      "source": [
        "Changing the FirstClass function a bit,"
      ]
    },
    {
      "cell_type": "code",
      "execution_count": null,
      "metadata": {
        "id": "0S4vAUPqH8LL"
      },
      "outputs": [],
      "source": [
        "class FirstClass:\n",
        "    def __init__(self,name,symbol):\n",
        "        self.n = name\n",
        "        self.s = symbol"
      ]
    },
    {
      "cell_type": "markdown",
      "metadata": {
        "id": "YU2Mi33bH8LL"
      },
      "source": [
        "Changing self.name and self.symbol to self.n and self.s respectively will yield,"
      ]
    },
    {
      "cell_type": "code",
      "execution_count": null,
      "metadata": {
        "id": "M7W1J3ikH8LL"
      },
      "outputs": [],
      "source": [
        "eg1 = FirstClass('one',1)\n",
        "eg2 = FirstClass('two',2)"
      ]
    },
    {
      "cell_type": "code",
      "execution_count": null,
      "metadata": {
        "jupyter": {
          "outputs_hidden": false
        },
        "id": "QInCE_drH8LL",
        "colab": {
          "base_uri": "https://localhost:8080/",
          "height": 175
        },
        "outputId": "1efaa61b-294c-4caa-acd0-18934dea9091"
      },
      "outputs": [
        {
          "output_type": "error",
          "ename": "AttributeError",
          "evalue": "ignored",
          "traceback": [
            "\u001b[0;31m---------------------------------------------------------------------------\u001b[0m",
            "\u001b[0;31mAttributeError\u001b[0m                            Traceback (most recent call last)",
            "\u001b[0;32m<ipython-input-14-1e025abf832b>\u001b[0m in \u001b[0;36m<module>\u001b[0;34m()\u001b[0m\n\u001b[0;32m----> 1\u001b[0;31m \u001b[0mprint\u001b[0m \u001b[0;34m(\u001b[0m\u001b[0meg1\u001b[0m\u001b[0;34m.\u001b[0m\u001b[0mname\u001b[0m\u001b[0;34m,\u001b[0m \u001b[0meg1\u001b[0m\u001b[0;34m.\u001b[0m\u001b[0msymbol\u001b[0m\u001b[0;34m)\u001b[0m\u001b[0;34m\u001b[0m\u001b[0;34m\u001b[0m\u001b[0m\n\u001b[0m\u001b[1;32m      2\u001b[0m \u001b[0mprint\u001b[0m \u001b[0;34m(\u001b[0m\u001b[0meg2\u001b[0m\u001b[0;34m.\u001b[0m\u001b[0mname\u001b[0m\u001b[0;34m,\u001b[0m \u001b[0meg2\u001b[0m\u001b[0;34m.\u001b[0m\u001b[0msymbol\u001b[0m\u001b[0;34m)\u001b[0m\u001b[0;34m\u001b[0m\u001b[0;34m\u001b[0m\u001b[0m\n",
            "\u001b[0;31mAttributeError\u001b[0m: 'FirstClass' object has no attribute 'name'"
          ]
        }
      ],
      "source": [
        "print (eg1.name, eg1.symbol)\n",
        "print (eg2.name, eg2.symbol)"
      ]
    },
    {
      "cell_type": "markdown",
      "metadata": {
        "id": "nCbE6dV-H8LM"
      },
      "source": [
        "AttributeError, Remember variables are nothing but attributes inside a class? So this means we have not given the correct attribute for the instance."
      ]
    },
    {
      "cell_type": "code",
      "execution_count": null,
      "metadata": {
        "jupyter": {
          "outputs_hidden": false
        },
        "id": "ehDK7qXIH8LM"
      },
      "outputs": [],
      "source": [
        "dir(eg1)"
      ]
    },
    {
      "cell_type": "code",
      "execution_count": null,
      "metadata": {
        "jupyter": {
          "outputs_hidden": false
        },
        "id": "iRX07zfkH8LM"
      },
      "outputs": [],
      "source": [
        "print (eg1.n, eg1.s)\n",
        "print (eg2.n, eg2.s)"
      ]
    },
    {
      "cell_type": "markdown",
      "metadata": {
        "id": "3bN9ArC1H8LM"
      },
      "source": [
        "So now we have solved the error. Now let us compare the two examples that we saw.\n",
        "\n",
        "When I declared self.name and self.symbol, there was no attribute error for eg1.name and eg1.symbol and when I declared self.n and self.s, there was no attribute error for eg1.n and eg1.s\n",
        "\n",
        "From the above we can conclude that self is nothing but the instance itself.\n",
        "\n",
        "Remember, self is not predefined it is userdefined. You can make use of anything you are comfortable with. But it has become a common practice to use self."
      ]
    },
    {
      "cell_type": "code",
      "execution_count": null,
      "metadata": {
        "id": "L-r0jGidH8LM"
      },
      "outputs": [],
      "source": [
        "class FirstClass:\n",
        "    def __init__(asdf1234,name,symbol):\n",
        "        asdf1234.n = name\n",
        "        asdf1234.s = symbol"
      ]
    },
    {
      "cell_type": "code",
      "execution_count": null,
      "metadata": {
        "id": "zHuaQk9RH8LN"
      },
      "outputs": [],
      "source": [
        "eg1 = FirstClass('one',1)\n",
        "eg2 = FirstClass('two',2)"
      ]
    },
    {
      "cell_type": "code",
      "execution_count": null,
      "metadata": {
        "jupyter": {
          "outputs_hidden": false
        },
        "id": "S26JQ3GlH8LN"
      },
      "outputs": [],
      "source": [
        "print (eg1.n, eg1.s)\n",
        "print (eg2.n, eg2.s)"
      ]
    },
    {
      "cell_type": "markdown",
      "metadata": {
        "id": "8G0FODAiH8LN"
      },
      "source": [
        "Since eg1 and eg2 are instances of FirstClass it need not necessarily be limited to FirstClass itself. It might extend itself by declaring other attributes without having the attribute to be declared inside the FirstClass."
      ]
    },
    {
      "cell_type": "code",
      "execution_count": null,
      "metadata": {
        "id": "shMG2y9fH8LN"
      },
      "outputs": [],
      "source": [
        "eg1.cube = 1\n",
        "eg2.cube = 8"
      ]
    },
    {
      "cell_type": "code",
      "execution_count": null,
      "metadata": {
        "jupyter": {
          "outputs_hidden": false
        },
        "id": "s_spWx3TH8LO"
      },
      "outputs": [],
      "source": [
        "dir(eg1)"
      ]
    },
    {
      "cell_type": "markdown",
      "metadata": {
        "id": "41mDxBRlH8LO"
      },
      "source": [
        "Just like global and local variables as we saw earlier, even classes have it's own types of variables.\n",
        "\n",
        "Class Attribute : attributes defined outside the method and is applicable to all the instances.\n",
        "\n",
        "Instance Attribute : attributes defined inside a method and is applicable to only that method and is unique to each instance."
      ]
    },
    {
      "cell_type": "code",
      "execution_count": null,
      "metadata": {
        "jupyter": {
          "outputs_hidden": false
        },
        "id": "wCUf3WGuH8LO"
      },
      "outputs": [],
      "source": [
        "class FirstClass:\n",
        "    test = 'test'\n",
        "    def __init__(self,name,symbol):\n",
        "        self.name = name\n",
        "        self.symbol = symbol"
      ]
    },
    {
      "cell_type": "markdown",
      "metadata": {
        "id": "zisIBfjDH8LO"
      },
      "source": [
        "Here test is a class attribute and name is a instance attribute."
      ]
    },
    {
      "cell_type": "code",
      "execution_count": null,
      "metadata": {
        "id": "_Fnqhz-wH8LO"
      },
      "outputs": [],
      "source": [
        "eg3 = FirstClass('Three',3)"
      ]
    },
    {
      "cell_type": "code",
      "execution_count": null,
      "metadata": {
        "jupyter": {
          "outputs_hidden": false
        },
        "id": "AARou9FMH8LP"
      },
      "outputs": [],
      "source": [
        "print (eg3.test, eg3.name)"
      ]
    },
    {
      "cell_type": "markdown",
      "metadata": {
        "id": "mHQReob5H8LP"
      },
      "source": [
        "Let us add some more methods to FirstClass."
      ]
    },
    {
      "cell_type": "code",
      "execution_count": null,
      "metadata": {
        "id": "cy-R0VPbH8LP"
      },
      "outputs": [],
      "source": [
        "class FirstClass:\n",
        "    def __init__(self,name,symbol):\n",
        "        self.name = name\n",
        "        self.symbol = symbol\n",
        "    def square(self):\n",
        "        return self.symbol * self.symbol\n",
        "    def cube(self):\n",
        "        return self.symbol * self.symbol * self.symbol\n",
        "    def multiply(self, x):\n",
        "        return self.symbol * x"
      ]
    },
    {
      "cell_type": "code",
      "execution_count": null,
      "metadata": {
        "id": "207T2K1aH8LQ"
      },
      "outputs": [],
      "source": [
        "eg4 = FirstClass('Five',5)"
      ]
    },
    {
      "cell_type": "code",
      "execution_count": null,
      "metadata": {
        "jupyter": {
          "outputs_hidden": false
        },
        "id": "eA8vWVGDH8LQ"
      },
      "outputs": [],
      "source": [
        "print (eg4.square())\n",
        "print (eg4.cube())"
      ]
    },
    {
      "cell_type": "code",
      "execution_count": null,
      "metadata": {
        "jupyter": {
          "outputs_hidden": false
        },
        "id": "X9CPEG7pH8LQ"
      },
      "outputs": [],
      "source": [
        "eg4.multiply(2)"
      ]
    },
    {
      "cell_type": "markdown",
      "metadata": {
        "id": "hljGJGuGH8LQ"
      },
      "source": [
        "The above can also be written as,"
      ]
    },
    {
      "cell_type": "code",
      "execution_count": null,
      "metadata": {
        "jupyter": {
          "outputs_hidden": false
        },
        "id": "xUiUFdL-H8LQ"
      },
      "outputs": [],
      "source": [
        "FirstClass.multiply(eg4,2)"
      ]
    },
    {
      "cell_type": "markdown",
      "metadata": {
        "id": "azfmDzyEH8LR"
      },
      "source": [
        "## Inheritance"
      ]
    },
    {
      "cell_type": "markdown",
      "metadata": {
        "id": "aDXojWluH8LR"
      },
      "source": [
        "There might be cases where a new class would have all the previous characteristics of an already defined class. So the new class can \"inherit\" the previous class and add it's own methods to it. This is called as inheritance."
      ]
    },
    {
      "cell_type": "markdown",
      "metadata": {
        "id": "BXf_C-XHH8LR"
      },
      "source": [
        "Consider class SoftwareEngineer which has a method salary."
      ]
    },
    {
      "cell_type": "code",
      "execution_count": null,
      "metadata": {
        "id": "KjXBRP9mH8LR"
      },
      "outputs": [],
      "source": [
        "class SoftwareEngineer:\n",
        "    def __init__(self,name,age):\n",
        "        self.name = name\n",
        "        self.age = age\n",
        "    def salary(self, value):\n",
        "        self.money = value\n",
        "        print (self.name,\"earns\",self.money)"
      ]
    },
    {
      "cell_type": "code",
      "execution_count": null,
      "metadata": {
        "jupyter": {
          "outputs_hidden": false
        },
        "id": "9U_FOOU3H8LR"
      },
      "outputs": [],
      "source": [
        "a = SoftwareEngineer('Kartik',26)"
      ]
    },
    {
      "cell_type": "code",
      "execution_count": null,
      "metadata": {
        "jupyter": {
          "outputs_hidden": false
        },
        "id": "Gilo2dcsH8LR"
      },
      "outputs": [],
      "source": [
        "a.salary(40000)"
      ]
    },
    {
      "cell_type": "code",
      "execution_count": null,
      "metadata": {
        "jupyter": {
          "outputs_hidden": false
        },
        "id": "iPFB9FtxH8LS"
      },
      "outputs": [],
      "source": [
        "dir(SoftwareEngineer)"
      ]
    },
    {
      "cell_type": "markdown",
      "metadata": {
        "id": "sYN-UOTFH8LS"
      },
      "source": [
        "Now consider another class Artist which tells us about the amount of money an artist earns and his artform."
      ]
    },
    {
      "cell_type": "code",
      "execution_count": null,
      "metadata": {
        "jupyter": {
          "outputs_hidden": false
        },
        "id": "jYgTwkdPH8LS"
      },
      "outputs": [],
      "source": [
        "class Artist:\n",
        "    def __init__(self,name,age):\n",
        "        self.name = name\n",
        "        self.age = age\n",
        "    def money(self,value):\n",
        "        self.money = value\n",
        "        print (self.name,\"earns\",self.money)\n",
        "    def artform(self, job):\n",
        "        self.job = job\n",
        "        print (self.name,\"is a\", self.job)"
      ]
    },
    {
      "cell_type": "code",
      "execution_count": null,
      "metadata": {
        "id": "y73WpOPEH8LS"
      },
      "outputs": [],
      "source": [
        "b = Artist('Nitin',20)"
      ]
    },
    {
      "cell_type": "code",
      "execution_count": null,
      "metadata": {
        "jupyter": {
          "outputs_hidden": false
        },
        "id": "irm5Rc56H8LS"
      },
      "outputs": [],
      "source": [
        "b.money(50000)\n",
        "b.artform('Musician')"
      ]
    },
    {
      "cell_type": "code",
      "execution_count": null,
      "metadata": {
        "jupyter": {
          "outputs_hidden": false
        },
        "id": "fGdaYnFDH8LT"
      },
      "outputs": [],
      "source": [
        "dir(Artist)"
      ]
    },
    {
      "cell_type": "markdown",
      "metadata": {
        "id": "RVELyt69H8LT"
      },
      "source": [
        "money method and salary method are the same. So we can generalize the method to salary and inherit the SoftwareEngineer class to Artist class. Now the artist class becomes,"
      ]
    },
    {
      "cell_type": "code",
      "execution_count": null,
      "metadata": {
        "jupyter": {
          "outputs_hidden": false
        },
        "id": "7U4Yagr4H8LT"
      },
      "outputs": [],
      "source": [
        "class Artist(SoftwareEngineer):\n",
        "    def artform(self, job):\n",
        "        self.job = job\n",
        "        print (self.name,\"is a\", self.job)"
      ]
    },
    {
      "cell_type": "code",
      "execution_count": null,
      "metadata": {
        "jupyter": {
          "outputs_hidden": false
        },
        "id": "c9CemRsmH8LT"
      },
      "outputs": [],
      "source": [
        "c = Artist('Nishanth',21)"
      ]
    },
    {
      "cell_type": "code",
      "execution_count": null,
      "metadata": {
        "jupyter": {
          "outputs_hidden": false
        },
        "id": "AXlY4vtHH8LU"
      },
      "outputs": [],
      "source": [
        "dir(Artist)"
      ]
    },
    {
      "cell_type": "code",
      "execution_count": null,
      "metadata": {
        "jupyter": {
          "outputs_hidden": false
        },
        "id": "Tnj7YQfZH8LU"
      },
      "outputs": [],
      "source": [
        "c.salary(60000)\n",
        "c.artform('Dancer')"
      ]
    },
    {
      "cell_type": "markdown",
      "metadata": {
        "id": "_sHpFYcMH8LU"
      },
      "source": [
        "Suppose say while inheriting a particular method is not suitable for the new class. One can override this method by defining again that method with the same name inside the new class."
      ]
    },
    {
      "cell_type": "code",
      "execution_count": null,
      "metadata": {
        "id": "OFwrfATmH8LU"
      },
      "outputs": [],
      "source": [
        "class Artist(SoftwareEngineer):\n",
        "    def artform(self, job):\n",
        "        self.job = job\n",
        "        print (self.name,\"is a\", self.job)\n",
        "    def salary(self, value):\n",
        "        self.money = value\n",
        "        print (self.name,\"earns\",self.money)\n",
        "        print (\"I am overriding the SoftwareEngineer class's salary method\")"
      ]
    },
    {
      "cell_type": "code",
      "execution_count": null,
      "metadata": {
        "id": "m5g3O3XfH8LV"
      },
      "outputs": [],
      "source": [
        "c = Artist('Nishanth',21)"
      ]
    },
    {
      "cell_type": "code",
      "execution_count": null,
      "metadata": {
        "jupyter": {
          "outputs_hidden": false
        },
        "id": "Lgl6o-rZH8LV"
      },
      "outputs": [],
      "source": [
        "c.salary(60000)\n",
        "c.artform('Dancer')"
      ]
    },
    {
      "cell_type": "markdown",
      "metadata": {
        "id": "R3L518HUH8LV"
      },
      "source": [
        "If not sure how many times methods will be called it will become difficult to declare so many variables to carry each result hence it is better to declare a list and append the result."
      ]
    },
    {
      "cell_type": "code",
      "execution_count": null,
      "metadata": {
        "jupyter": {
          "outputs_hidden": false
        },
        "id": "tO-7BpchH8LV"
      },
      "outputs": [],
      "source": [
        "class emptylist:\n",
        "    def __init__(self):\n",
        "        self.data = []\n",
        "    def one(self,x):\n",
        "        self.data.append(x)\n",
        "    def two(self, x ):\n",
        "        self.data.append(x**2)\n",
        "    def three(self, x):\n",
        "        self.data.append(x**3)"
      ]
    },
    {
      "cell_type": "code",
      "execution_count": null,
      "metadata": {
        "jupyter": {
          "outputs_hidden": false
        },
        "id": "GteVBkxmH8LV"
      },
      "outputs": [],
      "source": [
        "xc = emptylist()"
      ]
    },
    {
      "cell_type": "code",
      "execution_count": null,
      "metadata": {
        "jupyter": {
          "outputs_hidden": false
        },
        "id": "fZruDGeIH8LW"
      },
      "outputs": [],
      "source": [
        "xc.one(1)\n",
        "print (xc.data)"
      ]
    },
    {
      "cell_type": "markdown",
      "metadata": {
        "id": "VoK5YxYOH8LW"
      },
      "source": [
        "Since xc.data is a list direct list operations can also be performed."
      ]
    },
    {
      "cell_type": "code",
      "execution_count": null,
      "metadata": {
        "jupyter": {
          "outputs_hidden": false
        },
        "id": "o7bl3AwoH8LW"
      },
      "outputs": [],
      "source": [
        "xc.data.append(8)\n",
        "print (xc.data)"
      ]
    },
    {
      "cell_type": "code",
      "execution_count": null,
      "metadata": {
        "jupyter": {
          "outputs_hidden": false
        },
        "id": "n43hGb-6H8LW"
      },
      "outputs": [],
      "source": [
        "xc.two(3)\n",
        "print (xc.data)"
      ]
    },
    {
      "cell_type": "markdown",
      "metadata": {
        "id": "SxOVHBiCH8LW"
      },
      "source": [
        "If the number of input arguments varies from instance to instance asterisk can be used as shown."
      ]
    },
    {
      "cell_type": "code",
      "execution_count": null,
      "metadata": {
        "jupyter": {
          "outputs_hidden": false
        },
        "id": "C3vprnDnH8LX"
      },
      "outputs": [],
      "source": [
        "class NotSure:\n",
        "    def __init__(self, *args):\n",
        "        self.data = ''.join(list(args)) "
      ]
    },
    {
      "cell_type": "code",
      "execution_count": null,
      "metadata": {
        "jupyter": {
          "outputs_hidden": false
        },
        "id": "1Sp8HlzPH8LX"
      },
      "outputs": [],
      "source": [
        "yz = NotSure('I', 'Do' , 'Not', 'Know', 'What', 'To','Type')"
      ]
    },
    {
      "cell_type": "code",
      "execution_count": null,
      "metadata": {
        "jupyter": {
          "outputs_hidden": false
        },
        "id": "nPMdP5TlH8LX"
      },
      "outputs": [],
      "source": [
        "yz.data"
      ]
    },
    {
      "cell_type": "markdown",
      "metadata": {
        "id": "Cej-QyI-H8LX"
      },
      "source": [
        "# Where to go from here?"
      ]
    },
    {
      "cell_type": "markdown",
      "metadata": {
        "id": "0XRhI-F2H8LX"
      },
      "source": [
        "Practice alone can help you get the hang of python. Give your self problem statements and solve them. You can also sign up to any competitive coding platform for problem statements. The more you code the more you discover and the more you start appreciating the language.\n",
        "\n",
        "\n",
        "Now that you have been introduced to python, You can try out the different python libraries in the field of your interest. I highly recommend you to check out this curated list of Python frameworks, libraries and software http://awesome-python.com\n",
        "\n",
        "\n",
        "The official python documentation : https://docs.python.org/3/\n",
        "\n"
      ]
    },
    {
      "cell_type": "markdown",
      "metadata": {
        "id": "aPtygN5NH8LY"
      },
      "source": [
        "## Further Topics:\n",
        "* Error handling https://docs.python.org/3/tutorial/errors.html\n",
        "* Auto Documentation https://docs.python-guide.org/writing/documentation/\n",
        "* Testing https://docs.python.org/3/library/unittest.html\n",
        "* Debugging https://docs.python.org/3/library/pdb.html\n"
      ]
    },
    {
      "cell_type": "code",
      "execution_count": null,
      "metadata": {
        "id": "0G7mhwVzH8LY"
      },
      "outputs": [],
      "source": [
        ""
      ]
    }
  ],
  "metadata": {
    "kernelspec": {
      "display_name": "Python 3",
      "language": "python",
      "name": "python3"
    },
    "language_info": {
      "codemirror_mode": {
        "name": "ipython",
        "version": 3
      },
      "file_extension": ".py",
      "mimetype": "text/x-python",
      "name": "python",
      "nbconvert_exporter": "python",
      "pygments_lexer": "ipython3",
      "version": "3.7.6"
    },
    "colab": {
      "name": "Intro06_classes.ipynb",
      "provenance": [],
      "include_colab_link": true
    }
  },
  "nbformat": 4,
  "nbformat_minor": 0
}