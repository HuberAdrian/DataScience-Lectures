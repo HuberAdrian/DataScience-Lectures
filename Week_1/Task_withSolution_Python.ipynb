{
  "cells": [
    {
      "cell_type": "markdown",
      "metadata": {
        "id": "view-in-github",
        "colab_type": "text"
      },
      "source": [
        "<a href=\"https://colab.research.google.com/github/HuberAdrian/DataScience-Lectures/blob/main/Task_withSolution_Python.ipynb\" target=\"_parent\"><img src=\"https://colab.research.google.com/assets/colab-badge.svg\" alt=\"Open In Colab\"/></a>"
      ]
    },
    {
      "cell_type": "markdown",
      "metadata": {
        "id": "SC6COUckz28_"
      },
      "source": [
        "# Exercise I: Your own Python module "
      ]
    },
    {
      "cell_type": "markdown",
      "metadata": {
        "id": "L5j5XeL_z29B"
      },
      "source": [
        "Write your own python module (choose a name) with the following properties:\n",
        "\n",
        "1. start new python file for the module\n",
        "2. define a class ***ListKeeper*** with the following properties and API:\n",
        "   1. ***Listkeeper*** strores named lists (hint: use dictionaries) \n",
        "   2. it initializes with a list named *example*: [1,2,3,4,5]\n",
        "   3. ``show()`` returns all list names\n",
        "   4. ``add(name, list)`` adds a new list\n",
        "   5. ``delete(name)`` deletes list\n",
        "   6. ``sort(name)`` returns the sorted list *name*\n",
        "   7. ``append(name, list)`` appends *list* to *name* \n",
        "3. add comments and documentation to your class\n",
        "4. Import your module in this notebook\n",
        "5. write tests to check the functionality of your class "
      ]
    },
    {
      "cell_type": "markdown",
      "metadata": {
        "id": "mWIPY-jCz29C"
      },
      "source": [
        "## Solution"
      ]
    },
    {
      "cell_type": "markdown",
      "metadata": {
        "id": "8e3UMzfWz29D"
      },
      "source": [
        "### write ListKeeper Class to file"
      ]
    },
    {
      "cell_type": "code",
      "execution_count": null,
      "metadata": {
        "id": "RRKDlk2-z29D",
        "outputId": "de3e5632-48c1-4b2d-a300-5ec720dd3b01"
      },
      "outputs": [
        {
          "name": "stdout",
          "output_type": "stream",
          "text": [
            "Overwriting MySuperModule.py\n"
          ]
        }
      ],
      "source": [
        "%%writefile MySuperModule.py\n",
        "\"\"\"\n",
        "Class ListKeeper\n",
        "\n",
        "Keeps a dictionary of lists and provides some methods to operate on the items \n",
        "\"\"\"\n",
        "class ListKeeper:\n",
        "    \"\"\"\n",
        "    There are no private variables in Python, but vars starting with __ are a bit protected \n",
        "    by via renaming through the interpreter (not a security feature!)\n",
        "    \"\"\"\n",
        "    __listDict = dict()\n",
        "    \n",
        "    \"\"\"\n",
        "    __init__()\n",
        "    Constructor\n",
        "    \"\"\"\n",
        "    def __init__(self):\n",
        "        self.__listDict['example'] = [1,2,3,4,5]\n",
        "    \n",
        "    \"\"\"\n",
        "    show()\n",
        "    returns the names (= keys) of all dict items \n",
        "    \"\"\"\n",
        "    def show(self):\n",
        "        return self.__listDict.keys()\n",
        "    \n",
        "    \"\"\"\n",
        "    add()\n",
        "    adds new list to dict\n",
        "    \"\"\"\n",
        "    def add(self,name, newList):\n",
        "        self.__listDict[name] = newList\n",
        "    \n",
        "    \"\"\"\n",
        "    delete()\n",
        "    deletes list from dict\n",
        "    \"\"\"\n",
        "    def delete(self, name):\n",
        "        self.__listDict.pop(name)\n",
        "    \n",
        "    \"\"\"\n",
        "    sort()\n",
        "    sorts list of given name\n",
        "    \"\"\"\n",
        "    def sort(self, name):\n",
        "        self.__listDict[name].sort()\n",
        "    \n",
        "    \"\"\"\n",
        "    append()\n",
        "    appends list to existing entry\n",
        "    \"\"\"\n",
        "    def append(self, name, appList):\n",
        "        self.__listDict[name].extend(appList)\n",
        "        \n",
        "    \"\"\"\n",
        "    __getitem__()\n",
        "    overwrites the [] operator\n",
        "    \"\"\"    \n",
        "    def __getitem__(self, key):\n",
        "        return self.__listDict[key]\n",
        "        \n"
      ]
    },
    {
      "cell_type": "markdown",
      "metadata": {
        "id": "KuHgZbo_z29G"
      },
      "source": [
        "### import and test class"
      ]
    },
    {
      "cell_type": "code",
      "execution_count": null,
      "metadata": {
        "id": "SvcTDWRKz29G"
      },
      "outputs": [],
      "source": [
        "#first set auro reload of modules - this way changes in the module are used right away\n",
        "# NOTE: does not work in Colab -> need to reload the session in colab to reload modules\n",
        "%load_ext autoreload\n",
        "%autoreload 2"
      ]
    },
    {
      "cell_type": "code",
      "execution_count": null,
      "metadata": {
        "id": "_rWvmjz0z29H"
      },
      "outputs": [],
      "source": [
        "#import my module\n",
        "import MySuperModule"
      ]
    },
    {
      "cell_type": "code",
      "execution_count": null,
      "metadata": {
        "id": "3MG1NV7ez29H"
      },
      "outputs": [],
      "source": [
        "#create an instance of the ListKeeper class\n",
        "LK = MySuperModule.ListKeeper()"
      ]
    },
    {
      "cell_type": "code",
      "execution_count": null,
      "metadata": {
        "id": "ku15krqDz29I",
        "outputId": "96407539-e935-4a42-8d3b-7de8db4893ab"
      },
      "outputs": [
        {
          "data": {
            "text/plain": [
              "dict_keys(['example'])"
            ]
          },
          "execution_count": 4,
          "metadata": {},
          "output_type": "execute_result"
        }
      ],
      "source": [
        "#show if constructor added default list\n",
        "LK.show()"
      ]
    },
    {
      "cell_type": "code",
      "execution_count": null,
      "metadata": {
        "id": "kJCbA7OZz29I",
        "outputId": "8d8cbc24-4109-4c14-dd17-7d7f4eec454a"
      },
      "outputs": [
        {
          "data": {
            "text/plain": [
              "[1, 2, 3, 4, 5]"
            ]
          },
          "execution_count": 5,
          "metadata": {},
          "output_type": "execute_result"
        }
      ],
      "source": [
        "LK['example']"
      ]
    },
    {
      "cell_type": "code",
      "execution_count": null,
      "metadata": {
        "id": "c_It6Kmpz29J"
      },
      "outputs": [],
      "source": [
        "#test adding a list\n",
        "LK.add('test1',[9,2,7,4,2])\n",
        "LK.add('test_string',[\"hallo\",\"du\",\"tester\",\"AA\"])"
      ]
    },
    {
      "cell_type": "code",
      "execution_count": null,
      "metadata": {
        "id": "sKfDUPpUz29J",
        "outputId": "1de14127-7ccd-41c8-fa2b-bb7287d4186d"
      },
      "outputs": [
        {
          "data": {
            "text/plain": [
              "dict_keys(['example', 'test1', 'test_string'])"
            ]
          },
          "execution_count": 7,
          "metadata": {},
          "output_type": "execute_result"
        }
      ],
      "source": [
        "LK.show()"
      ]
    },
    {
      "cell_type": "code",
      "execution_count": null,
      "metadata": {
        "id": "8EhICaarz29K"
      },
      "outputs": [],
      "source": [
        "#check lists using assert\n",
        "assert LK['test1']==[9,2,7,4,2]"
      ]
    },
    {
      "cell_type": "code",
      "execution_count": null,
      "metadata": {
        "id": "KXt6bpJ5z29K"
      },
      "outputs": [],
      "source": [
        "#test delete\n",
        "LK.delete('test1')"
      ]
    },
    {
      "cell_type": "code",
      "execution_count": null,
      "metadata": {
        "id": "owRZW65Oz29L",
        "outputId": "cb7d4826-c968-49ae-9290-6da871975c92"
      },
      "outputs": [
        {
          "data": {
            "text/plain": [
              "dict_keys(['example', 'test_string'])"
            ]
          },
          "execution_count": 10,
          "metadata": {},
          "output_type": "execute_result"
        }
      ],
      "source": [
        "LK.show()\n"
      ]
    },
    {
      "cell_type": "code",
      "execution_count": null,
      "metadata": {
        "id": "vgcuGTq-z29L"
      },
      "outputs": [],
      "source": [
        "#test sort\n",
        "LK.sort('test_string')"
      ]
    },
    {
      "cell_type": "code",
      "execution_count": null,
      "metadata": {
        "id": "8Otkl6kDz29L",
        "outputId": "abd2b581-cb34-4f82-9046-e88aad210bdc"
      },
      "outputs": [
        {
          "data": {
            "text/plain": [
              "['AA', 'du', 'hallo', 'tester']"
            ]
          },
          "execution_count": 12,
          "metadata": {},
          "output_type": "execute_result"
        }
      ],
      "source": [
        "LK['test_string']"
      ]
    },
    {
      "cell_type": "code",
      "execution_count": null,
      "metadata": {
        "id": "Jaah7h9Gz29M"
      },
      "outputs": [],
      "source": [
        "#test append\n",
        "LK.append('example',[99,23,224,86])"
      ]
    },
    {
      "cell_type": "code",
      "execution_count": null,
      "metadata": {
        "id": "0mKTSEcdz29M",
        "outputId": "c20d7891-9684-4769-a8d3-067d02a3a695"
      },
      "outputs": [
        {
          "data": {
            "text/plain": [
              "[1, 2, 3, 4, 5, 99, 23, 224, 86]"
            ]
          },
          "execution_count": 14,
          "metadata": {},
          "output_type": "execute_result"
        }
      ],
      "source": [
        "LK['example']"
      ]
    },
    {
      "cell_type": "code",
      "execution_count": null,
      "metadata": {
        "id": "wpkwEye2z29N"
      },
      "outputs": [],
      "source": [
        ""
      ]
    },
    {
      "cell_type": "code",
      "execution_count": null,
      "metadata": {
        "id": "5i8k77h-z29N"
      },
      "outputs": [],
      "source": [
        ""
      ]
    }
  ],
  "metadata": {
    "kernelspec": {
      "display_name": "Python 3",
      "language": "python",
      "name": "python3"
    },
    "language_info": {
      "codemirror_mode": {
        "name": "ipython",
        "version": 3
      },
      "file_extension": ".py",
      "mimetype": "text/x-python",
      "name": "python",
      "nbconvert_exporter": "python",
      "pygments_lexer": "ipython3",
      "version": "3.7.6"
    },
    "colab": {
      "name": "Task_withSolution_Python.ipynb",
      "provenance": [],
      "collapsed_sections": [],
      "include_colab_link": true
    }
  },
  "nbformat": 4,
  "nbformat_minor": 0
}