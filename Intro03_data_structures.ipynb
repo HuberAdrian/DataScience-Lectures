{
  "cells": [
    {
      "cell_type": "markdown",
      "metadata": {
        "id": "view-in-github",
        "colab_type": "text"
      },
      "source": [
        "<a href=\"https://colab.research.google.com/github/HuberAdrian/DataScience-Lectures/blob/main/Intro03_data_structures.ipynb\" target=\"_parent\"><img src=\"https://colab.research.google.com/assets/colab-badge.svg\" alt=\"Open In Colab\"/></a>"
      ]
    },
    {
      "cell_type": "markdown",
      "metadata": {
        "id": "9mgD_wY5Hom1"
      },
      "source": [
        "# Introduction to Python III - Data Structures\n",
        "* Based on a lecture series by Rajath Kumart (https://github.com/rajathkumarmp/Python-Lectures)\n",
        "* Ported to Python3 and extessions added by Janis Keuper\n",
        "* Copyright: Creative Commons Attribution 3.0 Unported License. To view a copy of this license, visit http://creativecommons.org/licenses/by/3.0/"
      ]
    },
    {
      "cell_type": "markdown",
      "metadata": {
        "id": "a9RuR0JwHom5"
      },
      "source": [
        "# Data Structures"
      ]
    },
    {
      "cell_type": "markdown",
      "metadata": {
        "id": "HkjAIzn-Hom5"
      },
      "source": [
        "In simple terms, It is the the collection or group of data in a particular structure."
      ]
    },
    {
      "cell_type": "markdown",
      "metadata": {
        "id": "v2nV8TidHom5"
      },
      "source": [
        "## Lists"
      ]
    },
    {
      "cell_type": "markdown",
      "metadata": {
        "id": "NX012gsLHom6"
      },
      "source": [
        "Lists are the most commonly used data structure. Think of it as a sequence of data that is enclosed in square brackets and data are separated by a comma. Each of these data can be accessed by calling it's index value.\n",
        "\n",
        "Lists are declared by just equating a variable to '[ ]' or list."
      ]
    },
    {
      "cell_type": "code",
      "execution_count": null,
      "metadata": {
        "jupyter": {
          "outputs_hidden": false
        },
        "id": "u-R43-UxHom6"
      },
      "outputs": [],
      "source": [
        "a = []"
      ]
    },
    {
      "cell_type": "code",
      "execution_count": null,
      "metadata": {
        "jupyter": {
          "outputs_hidden": false
        },
        "id": "zasQ5e8vHom7",
        "colab": {
          "base_uri": "https://localhost:8080/"
        },
        "outputId": "a6ede7a5-f3df-4a87-faae-b3f04380c7a1"
      },
      "outputs": [
        {
          "output_type": "stream",
          "name": "stdout",
          "text": [
            "<class 'list'>\n"
          ]
        }
      ],
      "source": [
        "print (type(a))"
      ]
    },
    {
      "cell_type": "markdown",
      "metadata": {
        "id": "A5W8SW_cHom8"
      },
      "source": [
        "One can directly assign the sequence of data to a list x as shown."
      ]
    },
    {
      "cell_type": "code",
      "execution_count": null,
      "metadata": {
        "jupyter": {
          "outputs_hidden": false
        },
        "id": "tr3uR-9DHom8"
      },
      "outputs": [],
      "source": [
        "x = ['apple', 'orange']"
      ]
    },
    {
      "cell_type": "markdown",
      "metadata": {
        "id": "ihzRShZwHom8"
      },
      "source": [
        "### Indexing"
      ]
    },
    {
      "cell_type": "markdown",
      "metadata": {
        "id": "sK7fVzUUHom9"
      },
      "source": [
        "In python, Indexing starts from 0. Thus now the list x, which has two elements will have apple at 0 index and orange at 1 index."
      ]
    },
    {
      "cell_type": "code",
      "execution_count": null,
      "metadata": {
        "jupyter": {
          "outputs_hidden": false
        },
        "id": "R-O2OOTaHom9",
        "colab": {
          "base_uri": "https://localhost:8080/",
          "height": 34
        },
        "outputId": "2a8f5bef-1145-40aa-9935-20272f435711"
      },
      "outputs": [
        {
          "output_type": "execute_result",
          "data": {
            "text/plain": [
              "'apple'"
            ],
            "application/vnd.google.colaboratory.intrinsic+json": {
              "type": "string"
            }
          },
          "metadata": {},
          "execution_count": 4
        }
      ],
      "source": [
        "x[0]"
      ]
    },
    {
      "cell_type": "markdown",
      "metadata": {
        "id": "gnzAFKDTHom9"
      },
      "source": [
        "Indexing can also be done in reverse order. That is the last element can be accessed first. Here, indexing starts from -1. Thus index value -1 will be orange and index -2 will be apple."
      ]
    },
    {
      "cell_type": "code",
      "execution_count": null,
      "metadata": {
        "jupyter": {
          "outputs_hidden": false
        },
        "id": "FDQNhaveHom-",
        "colab": {
          "base_uri": "https://localhost:8080/",
          "height": 34
        },
        "outputId": "01e1e03d-7882-4357-a1a4-cf25efe6052a"
      },
      "outputs": [
        {
          "output_type": "execute_result",
          "data": {
            "text/plain": [
              "'orange'"
            ],
            "application/vnd.google.colaboratory.intrinsic+json": {
              "type": "string"
            }
          },
          "metadata": {},
          "execution_count": 5
        }
      ],
      "source": [
        "x[-1]"
      ]
    },
    {
      "cell_type": "markdown",
      "metadata": {
        "id": "HGLIDrVtHom-"
      },
      "source": [
        "As you might have already guessed, x[0] = x[-2], x[1] = x[-1]. This concept can be extended towards lists with more many elements."
      ]
    },
    {
      "cell_type": "code",
      "execution_count": null,
      "metadata": {
        "jupyter": {
          "outputs_hidden": false
        },
        "id": "UhtA6s0wHom-"
      },
      "outputs": [],
      "source": [
        "y = ['carrot','potato']"
      ]
    },
    {
      "cell_type": "markdown",
      "metadata": {
        "id": "nJj3rVArHom_"
      },
      "source": [
        "Here we have declared two lists x and y each containing its own data. Now, these two lists can again be put into another list say z which will have it's data as two lists. This list inside a list is called as nested lists and is how an array would be declared which we will see later."
      ]
    },
    {
      "cell_type": "code",
      "execution_count": null,
      "metadata": {
        "jupyter": {
          "outputs_hidden": false
        },
        "id": "D3JvitXnHom_",
        "colab": {
          "base_uri": "https://localhost:8080/"
        },
        "outputId": "6a14c6e7-560f-4c06-f7a9-10c025160074"
      },
      "outputs": [
        {
          "output_type": "stream",
          "name": "stdout",
          "text": [
            "[['apple', 'orange'], ['carrot', 'potato']]\n"
          ]
        }
      ],
      "source": [
        "z  = [x,y]\n",
        "print (z)"
      ]
    },
    {
      "cell_type": "markdown",
      "metadata": {
        "id": "j98rF8q_Hom_"
      },
      "source": [
        "Indexing in nested lists can be quite confusing if you do not understand how indexing works in python. So let us break it down and then arrive at a conclusion.\n",
        "\n",
        "Let us access the data 'apple' in the above nested list.\n",
        "First, at index 0 there is a list ['apple','orange'] and at index 1 there is another list ['carrot','potato']. Hence z[0] should give us the first list which contains 'apple'."
      ]
    },
    {
      "cell_type": "code",
      "execution_count": null,
      "metadata": {
        "jupyter": {
          "outputs_hidden": false
        },
        "id": "6aBqtCn8HonA",
        "colab": {
          "base_uri": "https://localhost:8080/"
        },
        "outputId": "ab09686d-6417-4d5c-e35e-146134d226e9"
      },
      "outputs": [
        {
          "output_type": "stream",
          "name": "stdout",
          "text": [
            "['apple', 'orange']\n"
          ]
        }
      ],
      "source": [
        "z1 = z[0]\n",
        "print (z1)"
      ]
    },
    {
      "cell_type": "markdown",
      "metadata": {
        "id": "m-HK8diZHonA"
      },
      "source": [
        "Now observe that z1 is not at all a nested list thus to access 'apple', z1 should be indexed at 0."
      ]
    },
    {
      "cell_type": "code",
      "execution_count": null,
      "metadata": {
        "jupyter": {
          "outputs_hidden": false
        },
        "id": "8t247il9HonA",
        "colab": {
          "base_uri": "https://localhost:8080/",
          "height": 34
        },
        "outputId": "db16d893-27c8-4f36-9497-b50eb71f3c8d"
      },
      "outputs": [
        {
          "output_type": "execute_result",
          "data": {
            "text/plain": [
              "'apple'"
            ],
            "application/vnd.google.colaboratory.intrinsic+json": {
              "type": "string"
            }
          },
          "metadata": {},
          "execution_count": 9
        }
      ],
      "source": [
        "z1[0]"
      ]
    },
    {
      "cell_type": "markdown",
      "metadata": {
        "id": "RQ2Za0SFHonB"
      },
      "source": [
        "Instead of doing the above, In python, you can access 'apple' by just writing the index values each time side by side."
      ]
    },
    {
      "cell_type": "code",
      "execution_count": null,
      "metadata": {
        "jupyter": {
          "outputs_hidden": false
        },
        "id": "pfr5Bjh7HonB",
        "colab": {
          "base_uri": "https://localhost:8080/",
          "height": 34
        },
        "outputId": "c12057c0-86f8-4b66-e49d-81b4cddd60e5"
      },
      "outputs": [
        {
          "output_type": "execute_result",
          "data": {
            "text/plain": [
              "'apple'"
            ],
            "application/vnd.google.colaboratory.intrinsic+json": {
              "type": "string"
            }
          },
          "metadata": {},
          "execution_count": 10
        }
      ],
      "source": [
        "z[0][0]"
      ]
    },
    {
      "cell_type": "markdown",
      "metadata": {
        "id": "e53nA14LHonB"
      },
      "source": [
        "If there was a list inside a list inside a list then you can access the innermost value by executing z[ ][ ][ ]."
      ]
    },
    {
      "cell_type": "markdown",
      "metadata": {
        "id": "NRXCmhxyHonB"
      },
      "source": [
        "### Slicing"
      ]
    },
    {
      "cell_type": "markdown",
      "metadata": {
        "id": "7YSi-btOHonC"
      },
      "source": [
        "Indexing was only limited to accessing a single element, Slicing on the other hand is accessing a sequence of data inside the list. In other words \"slicing\" the list.\n",
        "\n",
        "Slicing is done by defining the index values of the first element and the last element from the parent list that is required in the sliced list. It is written as parentlist[ a : b ] where a,b are the index values from the parent list. If a or b is not defined then the index value is considered to be the first value for a if a is not defined and the last value for b when b is not defined."
      ]
    },
    {
      "cell_type": "code",
      "execution_count": null,
      "metadata": {
        "collapsed": true,
        "jupyter": {
          "outputs_hidden": true
        },
        "id": "HZDWCDf8HonC"
      },
      "outputs": [],
      "source": [
        "num = [0,1,2,3,4,5,6,7,8,9]"
      ]
    },
    {
      "cell_type": "code",
      "execution_count": null,
      "metadata": {
        "jupyter": {
          "outputs_hidden": false
        },
        "id": "BC4Hv2LXHonC",
        "colab": {
          "base_uri": "https://localhost:8080/"
        },
        "outputId": "4b0bb688-8e4a-466e-daab-06d85325e741"
      },
      "outputs": [
        {
          "output_type": "stream",
          "name": "stdout",
          "text": [
            "[0, 1, 2, 3]\n",
            "[4, 5, 6, 7, 8, 9]\n"
          ]
        }
      ],
      "source": [
        "print (num[0:4])\n",
        "print (num[4:])"
      ]
    },
    {
      "cell_type": "markdown",
      "metadata": {
        "id": "8qGjEkZLHonC"
      },
      "source": [
        "You can also slice a parent list with a fixed length or step length."
      ]
    },
    {
      "cell_type": "code",
      "execution_count": null,
      "metadata": {
        "jupyter": {
          "outputs_hidden": false
        },
        "id": "PogHaxnOHonD",
        "colab": {
          "base_uri": "https://localhost:8080/"
        },
        "outputId": "cd34c853-7a2d-407e-b0a7-35226b86ce33"
      },
      "outputs": [
        {
          "output_type": "execute_result",
          "data": {
            "text/plain": [
              "[0, 3, 6]"
            ]
          },
          "metadata": {},
          "execution_count": 13
        }
      ],
      "source": [
        "num[:9:3]"
      ]
    },
    {
      "cell_type": "markdown",
      "metadata": {
        "id": "FDyXpLrlHonD"
      },
      "source": [
        "### Built in List Functions"
      ]
    },
    {
      "cell_type": "markdown",
      "metadata": {
        "id": "rlz41mKKHonE"
      },
      "source": [
        "To find the length of the list or the number of elements in a list, **len( )** is used."
      ]
    },
    {
      "cell_type": "code",
      "execution_count": null,
      "metadata": {
        "jupyter": {
          "outputs_hidden": false
        },
        "id": "jT8uvODiHonE",
        "colab": {
          "base_uri": "https://localhost:8080/"
        },
        "outputId": "76d89ba2-99e9-496f-ebae-ffb54b26c694"
      },
      "outputs": [
        {
          "output_type": "execute_result",
          "data": {
            "text/plain": [
              "10"
            ]
          },
          "metadata": {},
          "execution_count": 14
        }
      ],
      "source": [
        "len(num)"
      ]
    },
    {
      "cell_type": "markdown",
      "metadata": {
        "id": "q13PlfsEHonF"
      },
      "source": [
        "If the list consists of all integer elements then **min( )** and **max( )** gives the minimum and maximum value in the list."
      ]
    },
    {
      "cell_type": "code",
      "execution_count": null,
      "metadata": {
        "jupyter": {
          "outputs_hidden": false
        },
        "id": "uOcOBuG1HonF",
        "colab": {
          "base_uri": "https://localhost:8080/"
        },
        "outputId": "c9f7f28a-f7b7-46ae-a951-b05e71d0aae9"
      },
      "outputs": [
        {
          "output_type": "execute_result",
          "data": {
            "text/plain": [
              "0"
            ]
          },
          "metadata": {},
          "execution_count": 15
        }
      ],
      "source": [
        "min(num)"
      ]
    },
    {
      "cell_type": "code",
      "execution_count": null,
      "metadata": {
        "jupyter": {
          "outputs_hidden": false
        },
        "id": "RtX6oD9KHonG",
        "colab": {
          "base_uri": "https://localhost:8080/"
        },
        "outputId": "bc001e0c-b221-46cc-d49c-a4bdc762706b"
      },
      "outputs": [
        {
          "output_type": "execute_result",
          "data": {
            "text/plain": [
              "9"
            ]
          },
          "metadata": {},
          "execution_count": 16
        }
      ],
      "source": [
        "max(num)"
      ]
    },
    {
      "cell_type": "markdown",
      "metadata": {
        "id": "dsgwI5alHonG"
      },
      "source": [
        "Lists can be concatenated by adding, '+' them. The resultant list will contain all the elements of the lists that were added. The resultant list will not be a nested list."
      ]
    },
    {
      "cell_type": "code",
      "execution_count": null,
      "metadata": {
        "jupyter": {
          "outputs_hidden": false
        },
        "id": "IX2ryIb4HonG",
        "colab": {
          "base_uri": "https://localhost:8080/"
        },
        "outputId": "01b50ae8-1b7a-41e8-e4e6-80bc03c13ba7"
      },
      "outputs": [
        {
          "output_type": "execute_result",
          "data": {
            "text/plain": [
              "[1, 2, 3, 5, 4, 7]"
            ]
          },
          "metadata": {},
          "execution_count": 17
        }
      ],
      "source": [
        "[1,2,3] + [5,4,7]"
      ]
    },
    {
      "cell_type": "markdown",
      "metadata": {
        "id": "wYIuR-23HonH"
      },
      "source": [
        "There might arise a requirement where you might need to check if a particular element is there in a predefined list. Consider the below list."
      ]
    },
    {
      "cell_type": "code",
      "execution_count": null,
      "metadata": {
        "jupyter": {
          "outputs_hidden": false
        },
        "id": "bitrRvZgHonH"
      },
      "outputs": [],
      "source": [
        "names = ['Earth','Air','Fire','Water']"
      ]
    },
    {
      "cell_type": "markdown",
      "metadata": {
        "id": "0jVwNdXAHonH"
      },
      "source": [
        "To check if 'Fire' and 'Rajath' is present in the list names. A conventional approach would be to use a for loop and iterate over the list and use the if condition. But in python you can use 'a in b' concept which would return 'True' if a is present in b and 'False' if not."
      ]
    },
    {
      "cell_type": "code",
      "execution_count": null,
      "metadata": {
        "jupyter": {
          "outputs_hidden": false
        },
        "id": "gF8mkW7XHonI",
        "colab": {
          "base_uri": "https://localhost:8080/"
        },
        "outputId": "0ca284e7-5f16-40ef-caab-743b1e7a1ae6"
      },
      "outputs": [
        {
          "output_type": "execute_result",
          "data": {
            "text/plain": [
              "True"
            ]
          },
          "metadata": {},
          "execution_count": 19
        }
      ],
      "source": [
        "'Fire' in names"
      ]
    },
    {
      "cell_type": "code",
      "execution_count": null,
      "metadata": {
        "jupyter": {
          "outputs_hidden": false
        },
        "id": "p58fqTTDHonJ",
        "colab": {
          "base_uri": "https://localhost:8080/"
        },
        "outputId": "b74c6a48-e8a4-4c5a-9201-80ce12824fa1"
      },
      "outputs": [
        {
          "output_type": "execute_result",
          "data": {
            "text/plain": [
              "False"
            ]
          },
          "metadata": {},
          "execution_count": 20
        }
      ],
      "source": [
        "'Hans' in names"
      ]
    },
    {
      "cell_type": "markdown",
      "metadata": {
        "id": "ZmZf28TiHonJ"
      },
      "source": [
        "In a list with elements as string, **max( )** and **min( )** is applicable. **max( )** would return a string element whose ASCII value is the highest and the lowest when **min( )** is used. Note that only the first index of each element is considered each time and if they value is the same then second index considered so on and so forth."
      ]
    },
    {
      "cell_type": "code",
      "execution_count": null,
      "metadata": {
        "collapsed": true,
        "jupyter": {
          "outputs_hidden": true
        },
        "id": "Dr-e4o9XHonJ"
      },
      "outputs": [],
      "source": [
        "mlist = ['bzaa','ds','nc','az','z','klm']"
      ]
    },
    {
      "cell_type": "code",
      "execution_count": null,
      "metadata": {
        "jupyter": {
          "outputs_hidden": false
        },
        "id": "IUCixeCDHonJ",
        "colab": {
          "base_uri": "https://localhost:8080/"
        },
        "outputId": "34824e17-1712-4a35-f438-2a472d9a2a37"
      },
      "outputs": [
        {
          "output_type": "stream",
          "name": "stdout",
          "text": [
            "z\n",
            "az\n"
          ]
        }
      ],
      "source": [
        "print (max(mlist))\n",
        "print (min(mlist))"
      ]
    },
    {
      "cell_type": "markdown",
      "metadata": {
        "id": "DROo6RZ_HonJ"
      },
      "source": [
        "Here the first index of each element is considered and thus z has the highest ASCII value thus it is returned and minimum ASCII is a. But what if numbers are declared as strings?"
      ]
    },
    {
      "cell_type": "code",
      "execution_count": null,
      "metadata": {
        "collapsed": true,
        "jupyter": {
          "outputs_hidden": true
        },
        "id": "sPR_t07DHonK"
      },
      "outputs": [],
      "source": [
        "nlist = ['1','94','93','1000']"
      ]
    },
    {
      "cell_type": "code",
      "execution_count": null,
      "metadata": {
        "jupyter": {
          "outputs_hidden": false
        },
        "id": "lThsNq45HonK",
        "colab": {
          "base_uri": "https://localhost:8080/"
        },
        "outputId": "85bb2ce2-0b51-4dc1-df0f-124faa0db67f"
      },
      "outputs": [
        {
          "output_type": "stream",
          "name": "stdout",
          "text": [
            "94\n",
            "1\n"
          ]
        }
      ],
      "source": [
        "print (max(nlist))\n",
        "print (min(nlist))"
      ]
    },
    {
      "cell_type": "markdown",
      "metadata": {
        "id": "Xd7U7_bEHonK"
      },
      "source": [
        "Even if the numbers are declared in a string the first index of each element is considered and the maximum and minimum values are returned accordingly."
      ]
    },
    {
      "cell_type": "markdown",
      "metadata": {
        "id": "HqGTx2n4HonK"
      },
      "source": [
        "But if you want to find the **max( )** string element based on the length of the string then another parameter 'key=len' is declared inside the **max( )** and **min( )** function."
      ]
    },
    {
      "cell_type": "code",
      "execution_count": null,
      "metadata": {
        "jupyter": {
          "outputs_hidden": false
        },
        "id": "qheCVe4IHonK",
        "colab": {
          "base_uri": "https://localhost:8080/"
        },
        "outputId": "119d5413-53dd-4da1-ab70-9d2583191546"
      },
      "outputs": [
        {
          "output_type": "stream",
          "name": "stdout",
          "text": [
            "Earth\n",
            "Air\n"
          ]
        }
      ],
      "source": [
        "print (max(names, key=len))\n",
        "print (min(names, key=len))"
      ]
    },
    {
      "cell_type": "markdown",
      "metadata": {
        "id": "5RQnuF0DHonL"
      },
      "source": [
        "But even 'Water' has length 5. **max()** or **min()** function returns the first element when there are two or more elements with the same length.\n",
        "\n",
        "Any other built in function can be used or lambda function (will be discussed later) in place of len.\n",
        "\n",
        "A string can be converted into a list by using the **list()** function."
      ]
    },
    {
      "cell_type": "code",
      "execution_count": null,
      "metadata": {
        "jupyter": {
          "outputs_hidden": false
        },
        "id": "_ZA54RgfHonL",
        "colab": {
          "base_uri": "https://localhost:8080/"
        },
        "outputId": "effdf9bf-7e0f-4de2-bbf6-22314cb3890a"
      },
      "outputs": [
        {
          "output_type": "execute_result",
          "data": {
            "text/plain": [
              "['h', 'e', 'l', 'l', 'o']"
            ]
          },
          "metadata": {},
          "execution_count": 26
        }
      ],
      "source": [
        "list('hello')"
      ]
    },
    {
      "cell_type": "markdown",
      "metadata": {
        "id": "0AY3Kl0JHonL"
      },
      "source": [
        "**append( )** is used to add a element at the end of the list."
      ]
    },
    {
      "cell_type": "code",
      "execution_count": null,
      "metadata": {
        "jupyter": {
          "outputs_hidden": false
        },
        "id": "Mgfwod7IHonL"
      },
      "outputs": [],
      "source": [
        "lst = [1,1,4,8,7]"
      ]
    },
    {
      "cell_type": "code",
      "execution_count": null,
      "metadata": {
        "jupyter": {
          "outputs_hidden": false
        },
        "id": "kxJcKPkyHonL",
        "colab": {
          "base_uri": "https://localhost:8080/"
        },
        "outputId": "5dba474f-deb0-4b51-abb8-c0efdd5d8ef2"
      },
      "outputs": [
        {
          "output_type": "stream",
          "name": "stdout",
          "text": [
            "[1, 1, 4, 8, 7, 1]\n"
          ]
        }
      ],
      "source": [
        "lst.append(1)\n",
        "print (lst)"
      ]
    },
    {
      "cell_type": "markdown",
      "metadata": {
        "id": "ddkdcLmwHonL"
      },
      "source": [
        "**WARNING:** using append() in loop to append many items is very inefficient! "
      ]
    },
    {
      "cell_type": "markdown",
      "metadata": {
        "id": "LMm6wh1SHonM"
      },
      "source": [
        "**count( )** is used to count the number of a particular element that is present in the list. "
      ]
    },
    {
      "cell_type": "code",
      "execution_count": null,
      "metadata": {
        "jupyter": {
          "outputs_hidden": false
        },
        "id": "GXaSlW73HonM",
        "colab": {
          "base_uri": "https://localhost:8080/"
        },
        "outputId": "a67a8940-5c96-485d-f4bf-07765156dd3d"
      },
      "outputs": [
        {
          "output_type": "execute_result",
          "data": {
            "text/plain": [
              "3"
            ]
          },
          "metadata": {},
          "execution_count": 29
        }
      ],
      "source": [
        "lst.count(1)"
      ]
    },
    {
      "cell_type": "markdown",
      "metadata": {
        "id": "a8TxhIoVHonM"
      },
      "source": [
        "**append( )** function can also be used to add a entire list at the end. Observe that the resultant list becomes a nested list."
      ]
    },
    {
      "cell_type": "code",
      "execution_count": null,
      "metadata": {
        "collapsed": true,
        "jupyter": {
          "outputs_hidden": true
        },
        "id": "kAjecH9PHonM"
      },
      "outputs": [],
      "source": [
        "lst1 = [5,4,2,8]"
      ]
    },
    {
      "cell_type": "code",
      "execution_count": null,
      "metadata": {
        "jupyter": {
          "outputs_hidden": false
        },
        "id": "6COhaQgqHonM",
        "colab": {
          "base_uri": "https://localhost:8080/"
        },
        "outputId": "6489ef4e-068b-4ba9-a1eb-63c047fbfd91"
      },
      "outputs": [
        {
          "output_type": "stream",
          "name": "stdout",
          "text": [
            "[1, 1, 4, 8, 7, 1, [5, 4, 2, 8]]\n"
          ]
        }
      ],
      "source": [
        "lst.append(lst1)\n",
        "print (lst)"
      ]
    },
    {
      "cell_type": "markdown",
      "metadata": {
        "id": "DgnN0GLKHonM"
      },
      "source": [
        "But if nested list is not what is desired then **extend( )** function can be used."
      ]
    },
    {
      "cell_type": "code",
      "execution_count": null,
      "metadata": {
        "jupyter": {
          "outputs_hidden": false
        },
        "id": "7u-nPFz_HonM",
        "colab": {
          "base_uri": "https://localhost:8080/"
        },
        "outputId": "9c9275db-9dc1-499f-ab35-642840966903"
      },
      "outputs": [
        {
          "output_type": "stream",
          "name": "stdout",
          "text": [
            "[1, 1, 4, 8, 7, 1, [5, 4, 2, 8], 5, 4, 2, 8]\n"
          ]
        }
      ],
      "source": [
        "lst.extend(lst1)\n",
        "print (lst)"
      ]
    },
    {
      "cell_type": "markdown",
      "metadata": {
        "id": "-gB_75jbHonN"
      },
      "source": [
        "**index( )** is used to find the index value of a particular element. Note that if there are multiple elements of the same value then the first index value of that element is returned."
      ]
    },
    {
      "cell_type": "code",
      "execution_count": null,
      "metadata": {
        "jupyter": {
          "outputs_hidden": false
        },
        "id": "-tjFGAM0HonN",
        "colab": {
          "base_uri": "https://localhost:8080/"
        },
        "outputId": "5bb550b2-27e8-4b26-8bc0-ae54789f59ee"
      },
      "outputs": [
        {
          "output_type": "execute_result",
          "data": {
            "text/plain": [
              "0"
            ]
          },
          "metadata": {},
          "execution_count": 33
        }
      ],
      "source": [
        "lst.index(1)"
      ]
    },
    {
      "cell_type": "markdown",
      "metadata": {
        "id": "Qyc4oddtHonN"
      },
      "source": [
        "**insert(x,y)** is used to insert a element y at a specified index value x. **append( )** function made it only possible to insert at the end. "
      ]
    },
    {
      "cell_type": "code",
      "execution_count": null,
      "metadata": {
        "jupyter": {
          "outputs_hidden": false
        },
        "id": "POtR7vGwHonN",
        "colab": {
          "base_uri": "https://localhost:8080/"
        },
        "outputId": "11b4cbf1-c87f-4ca3-b5c2-3545ea4af818"
      },
      "outputs": [
        {
          "output_type": "stream",
          "name": "stdout",
          "text": [
            "[1, 1, 4, 8, 7, 'name', 1, [5, 4, 2, 8], 5, 4, 2, 8]\n"
          ]
        }
      ],
      "source": [
        "lst.insert(5, 'name')\n",
        "print (lst)"
      ]
    },
    {
      "cell_type": "markdown",
      "metadata": {
        "id": "-JPzrcXJHonN"
      },
      "source": [
        "**insert(x,y)** inserts but does not replace element. If you want to replace the element with another element you simply assign the value to that particular index."
      ]
    },
    {
      "cell_type": "code",
      "execution_count": null,
      "metadata": {
        "jupyter": {
          "outputs_hidden": false
        },
        "id": "jvNWk8pbHonN",
        "colab": {
          "base_uri": "https://localhost:8080/"
        },
        "outputId": "c4fb800d-9a5e-42ea-fdf5-cb96643c4829"
      },
      "outputs": [
        {
          "output_type": "stream",
          "name": "stdout",
          "text": [
            "[1, 1, 4, 8, 7, 'Python', 1, [5, 4, 2, 8], 5, 4, 2, 8]\n"
          ]
        }
      ],
      "source": [
        "lst[5] = 'Python'\n",
        "print (lst)"
      ]
    },
    {
      "cell_type": "markdown",
      "metadata": {
        "id": "sMlgJt1oHonO"
      },
      "source": [
        "**pop( )** function return the last element in the list. This is similar to the operation of a stack. Hence it wouldn't be wrong to tell that lists can be used as a stack."
      ]
    },
    {
      "cell_type": "code",
      "execution_count": null,
      "metadata": {
        "jupyter": {
          "outputs_hidden": false
        },
        "id": "TWgLUneZHonO",
        "colab": {
          "base_uri": "https://localhost:8080/"
        },
        "outputId": "977e586e-5236-490c-cace-001c18a13008"
      },
      "outputs": [
        {
          "output_type": "execute_result",
          "data": {
            "text/plain": [
              "8"
            ]
          },
          "metadata": {},
          "execution_count": 36
        }
      ],
      "source": [
        "lst.pop()"
      ]
    },
    {
      "cell_type": "markdown",
      "metadata": {
        "id": "SOXuBd3QHonO"
      },
      "source": [
        "Index value can be specified to pop a ceratin element corresponding to that index value."
      ]
    },
    {
      "cell_type": "code",
      "execution_count": null,
      "metadata": {
        "jupyter": {
          "outputs_hidden": false
        },
        "id": "CVbhsiWcHonO",
        "colab": {
          "base_uri": "https://localhost:8080/"
        },
        "outputId": "dc4658b9-e657-4194-a7ca-98e996853c00"
      },
      "outputs": [
        {
          "output_type": "execute_result",
          "data": {
            "text/plain": [
              "1"
            ]
          },
          "metadata": {},
          "execution_count": 37
        }
      ],
      "source": [
        "lst.pop(0)"
      ]
    },
    {
      "cell_type": "markdown",
      "metadata": {
        "id": "2Htu1i1VHonO"
      },
      "source": [
        "**pop( )** is used to remove element based on it's index value which can be assigned to a variable. One can also remove element by specifying the element itself using the **remove( )** function."
      ]
    },
    {
      "cell_type": "code",
      "execution_count": null,
      "metadata": {
        "jupyter": {
          "outputs_hidden": false
        },
        "id": "NMpiNCGuHonO",
        "colab": {
          "base_uri": "https://localhost:8080/"
        },
        "outputId": "558370d9-0488-453d-cfad-a60a36548877"
      },
      "outputs": [
        {
          "output_type": "stream",
          "name": "stdout",
          "text": [
            "[1, 4, 8, 7, 1, [5, 4, 2, 8], 5, 4, 2]\n"
          ]
        }
      ],
      "source": [
        "lst.remove('Python')\n",
        "print (lst)"
      ]
    },
    {
      "cell_type": "markdown",
      "metadata": {
        "id": "x5xWIqSgHonP"
      },
      "source": [
        "Alternative to **remove** function but with using index value is **del**"
      ]
    },
    {
      "cell_type": "code",
      "execution_count": null,
      "metadata": {
        "jupyter": {
          "outputs_hidden": false
        },
        "id": "ASi1ydw0HonP",
        "colab": {
          "base_uri": "https://localhost:8080/"
        },
        "outputId": "b0cd722c-4faf-4e22-8778-0f748b02afe0"
      },
      "outputs": [
        {
          "output_type": "stream",
          "name": "stdout",
          "text": [
            "[1, 8, 7, 1, [5, 4, 2, 8], 5, 4, 2]\n"
          ]
        }
      ],
      "source": [
        "del lst[1]\n",
        "print (lst)"
      ]
    },
    {
      "cell_type": "markdown",
      "metadata": {
        "id": "dPYJY5VuHonP"
      },
      "source": [
        "The entire elements present in the list can be reversed by using the **reverse()** function."
      ]
    },
    {
      "cell_type": "code",
      "execution_count": null,
      "metadata": {
        "jupyter": {
          "outputs_hidden": false
        },
        "id": "PFakPVcpHonP",
        "colab": {
          "base_uri": "https://localhost:8080/"
        },
        "outputId": "a2a00ffd-f77e-4b69-ddb8-2f43623206df"
      },
      "outputs": [
        {
          "output_type": "stream",
          "name": "stdout",
          "text": [
            "[2, 4, 5, [5, 4, 2, 8], 1, 7, 8, 1]\n"
          ]
        }
      ],
      "source": [
        "lst.reverse()\n",
        "print (lst)"
      ]
    },
    {
      "cell_type": "markdown",
      "metadata": {
        "id": "Iqb6W6_jHonP"
      },
      "source": [
        "Note that the nested list [5,4,2,8] is treated as a single element of the parent list lst. Thus the elements inside the nested list is not reversed.\n",
        "\n",
        "Python offers built in operation **sort( )** to arrange the elements in ascending order."
      ]
    },
    {
      "cell_type": "code",
      "execution_count": null,
      "metadata": {
        "jupyter": {
          "outputs_hidden": false
        },
        "id": "6xKf1Dn5HonP",
        "colab": {
          "base_uri": "https://localhost:8080/"
        },
        "outputId": "a5ef7c77-00ce-4a43-ef10-d78073e6f558"
      },
      "outputs": [
        {
          "output_type": "stream",
          "name": "stdout",
          "text": [
            "[1, 1, 2, 2, 4, 4, 5, 5, 7, 8, 8]\n"
          ]
        }
      ],
      "source": [
        "lst=[1, 8, 7, 1, 5, 4, 2, 8, 5, 4, 2]\n",
        "lst.sort()\n",
        "print (lst)"
      ]
    },
    {
      "cell_type": "markdown",
      "metadata": {
        "id": "q49gwT5sHonP"
      },
      "source": [
        "For descending order, By default the reverse condition will be False for reverse. Hence changing it to True would arrange the elements in descending order."
      ]
    },
    {
      "cell_type": "code",
      "execution_count": null,
      "metadata": {
        "jupyter": {
          "outputs_hidden": false
        },
        "id": "Dv8rbn_cHonQ",
        "colab": {
          "base_uri": "https://localhost:8080/"
        },
        "outputId": "ae97e0ca-eab2-4355-a0da-c8437f19d309"
      },
      "outputs": [
        {
          "output_type": "stream",
          "name": "stdout",
          "text": [
            "[8, 8, 7, 5, 5, 4, 4, 2, 2, 1, 1]\n"
          ]
        }
      ],
      "source": [
        "lst.sort(reverse=True)\n",
        "print (lst)"
      ]
    },
    {
      "cell_type": "markdown",
      "metadata": {
        "id": "nYWF0OwJHonQ"
      },
      "source": [
        "Similarly for lists containing string elements, **sort( )** would sort the elements based on it's ASCII value in ascending and by specifying reverse=True in descending."
      ]
    },
    {
      "cell_type": "code",
      "execution_count": null,
      "metadata": {
        "jupyter": {
          "outputs_hidden": false
        },
        "id": "Hf10f6hpHonQ",
        "colab": {
          "base_uri": "https://localhost:8080/"
        },
        "outputId": "bf03ec0e-9102-428b-9750-0ee46a48519a"
      },
      "outputs": [
        {
          "output_type": "stream",
          "name": "stdout",
          "text": [
            "['Air', 'Earth', 'Fire', 'Water']\n",
            "['Water', 'Fire', 'Earth', 'Air']\n"
          ]
        }
      ],
      "source": [
        "names.sort()\n",
        "print (names)\n",
        "names.sort(reverse=True)\n",
        "print (names)"
      ]
    },
    {
      "cell_type": "markdown",
      "metadata": {
        "id": "NrC6MI2BHonQ"
      },
      "source": [
        "To sort based on length key=len should be specified as shown."
      ]
    },
    {
      "cell_type": "code",
      "execution_count": null,
      "metadata": {
        "jupyter": {
          "outputs_hidden": false
        },
        "id": "6aZbkzkFHonQ",
        "colab": {
          "base_uri": "https://localhost:8080/"
        },
        "outputId": "0b99bc84-c83d-4ae6-a3fd-9d896d9f55b2"
      },
      "outputs": [
        {
          "output_type": "stream",
          "name": "stdout",
          "text": [
            "['Air', 'Fire', 'Water', 'Earth']\n",
            "['Water', 'Earth', 'Fire', 'Air']\n"
          ]
        }
      ],
      "source": [
        "names.sort(key=len)\n",
        "print (names)\n",
        "names.sort(key=len,reverse=True)\n",
        "print (names)"
      ]
    },
    {
      "cell_type": "markdown",
      "metadata": {
        "id": "RX9NyjkCHonR"
      },
      "source": [
        "### Copying a list"
      ]
    },
    {
      "cell_type": "markdown",
      "metadata": {
        "id": "bI4Qh8seHonR"
      },
      "source": [
        "Most of the new python programmers commit this mistake. Consider the following,"
      ]
    },
    {
      "cell_type": "code",
      "execution_count": null,
      "metadata": {
        "jupyter": {
          "outputs_hidden": false
        },
        "id": "Wtow4DEbHonR"
      },
      "outputs": [],
      "source": [
        "lista= [2,1,4,3]"
      ]
    },
    {
      "cell_type": "code",
      "execution_count": null,
      "metadata": {
        "jupyter": {
          "outputs_hidden": false
        },
        "id": "HWXsdpbgHonR",
        "colab": {
          "base_uri": "https://localhost:8080/"
        },
        "outputId": "573fbb07-32d2-44af-90a4-0b89c89d8779"
      },
      "outputs": [
        {
          "output_type": "stream",
          "name": "stdout",
          "text": [
            "[2, 1, 4, 3]\n"
          ]
        }
      ],
      "source": [
        "listb = lista\n",
        "print (listb)"
      ]
    },
    {
      "cell_type": "markdown",
      "metadata": {
        "id": "CJm9GwEHHonR"
      },
      "source": [
        "Here, We have declared a list, lista = [2,1,4,3]. This list is copied to listb by assigning it's value and it get's copied as seen. Now we perform some random operations on lista."
      ]
    },
    {
      "cell_type": "code",
      "execution_count": null,
      "metadata": {
        "jupyter": {
          "outputs_hidden": false
        },
        "id": "vN1TOPeUHonR",
        "colab": {
          "base_uri": "https://localhost:8080/"
        },
        "outputId": "804a9e5d-b549-4f50-9bf5-851ee5344b55"
      },
      "outputs": [
        {
          "output_type": "stream",
          "name": "stdout",
          "text": [
            "[2, 1, 4]\n",
            "[2, 1, 4, 9]\n"
          ]
        }
      ],
      "source": [
        "lista.pop()\n",
        "print (lista)\n",
        "lista.append(9)\n",
        "print (lista)"
      ]
    },
    {
      "cell_type": "code",
      "execution_count": null,
      "metadata": {
        "jupyter": {
          "outputs_hidden": false
        },
        "id": "YMP6emp5HonS",
        "colab": {
          "base_uri": "https://localhost:8080/"
        },
        "outputId": "10b6b894-4825-4ac8-941f-97100203d182"
      },
      "outputs": [
        {
          "output_type": "stream",
          "name": "stdout",
          "text": [
            "[2, 1, 4, 9]\n"
          ]
        }
      ],
      "source": [
        "print (listb)"
      ]
    },
    {
      "cell_type": "markdown",
      "metadata": {
        "id": "G9qilEdaHonS"
      },
      "source": [
        "listb has also changed though no operation has been performed on it. This is because you have assigned the same memory space of lista to listb. So how do fix this?\n",
        "\n",
        "If you recall, in slicing we had seen that parentlist[a:b] returns a list from parent list with start index a and end index b and if a and b is not mentioned then by default it considers the first and last element. We use the same concept here. By doing so, we are assigning the data of lista to listb as a variable."
      ]
    },
    {
      "cell_type": "code",
      "execution_count": null,
      "metadata": {
        "collapsed": true,
        "jupyter": {
          "outputs_hidden": true
        },
        "id": "Ud2d7zu1HonS"
      },
      "outputs": [],
      "source": [
        "lista = [2,1,4,3]"
      ]
    },
    {
      "cell_type": "code",
      "execution_count": null,
      "metadata": {
        "jupyter": {
          "outputs_hidden": false
        },
        "id": "Pl9x2rpEHonT",
        "colab": {
          "base_uri": "https://localhost:8080/"
        },
        "outputId": "81c5fba4-7dc4-4edb-93d2-9ff945cce28c"
      },
      "outputs": [
        {
          "output_type": "stream",
          "name": "stdout",
          "text": [
            "[2, 1, 4, 3]\n"
          ]
        }
      ],
      "source": [
        "listb = lista[:]\n",
        "print (listb)"
      ]
    },
    {
      "cell_type": "code",
      "execution_count": null,
      "metadata": {
        "jupyter": {
          "outputs_hidden": false
        },
        "id": "nDORVDhNHonT",
        "colab": {
          "base_uri": "https://localhost:8080/"
        },
        "outputId": "e10d3e66-05f3-4539-bcbd-cabf5b796d4a"
      },
      "outputs": [
        {
          "output_type": "stream",
          "name": "stdout",
          "text": [
            "[2, 1, 4]\n",
            "[2, 1, 4, 9]\n"
          ]
        }
      ],
      "source": [
        "lista.pop()\n",
        "print (lista)\n",
        "lista.append(9)\n",
        "print (lista)"
      ]
    },
    {
      "cell_type": "code",
      "execution_count": null,
      "metadata": {
        "jupyter": {
          "outputs_hidden": false
        },
        "id": "OlHkyxlZHonT",
        "colab": {
          "base_uri": "https://localhost:8080/"
        },
        "outputId": "83b9ad70-1138-4476-ef35-066c5ff97a8f"
      },
      "outputs": [
        {
          "output_type": "stream",
          "name": "stdout",
          "text": [
            "[2, 1, 4, 3]\n"
          ]
        }
      ],
      "source": [
        "print (listb)"
      ]
    },
    {
      "cell_type": "markdown",
      "metadata": {
        "id": "av24LKvMHonT"
      },
      "source": [
        "## Tuples"
      ]
    },
    {
      "cell_type": "markdown",
      "metadata": {
        "id": "jVHSGs_WHonU"
      },
      "source": [
        "Tuples are similar to lists but only big difference is the elements inside a list can be changed but in tuple it cannot be changed. Think of tuples as something which has to be True for a particular something and cannot be True for no other values. For better understanding, Recall **divmod()** function."
      ]
    },
    {
      "cell_type": "code",
      "execution_count": null,
      "metadata": {
        "jupyter": {
          "outputs_hidden": false
        },
        "id": "LWH3v-vEHonU",
        "colab": {
          "base_uri": "https://localhost:8080/"
        },
        "outputId": "23414b7e-7cf0-4a44-d4d3-b697575c5f32"
      },
      "outputs": [
        {
          "output_type": "stream",
          "name": "stdout",
          "text": [
            "(3, 1)\n",
            "<class 'tuple'>\n"
          ]
        }
      ],
      "source": [
        "xyz = divmod(10,3)\n",
        "print (xyz)\n",
        "print (type(xyz))"
      ]
    },
    {
      "cell_type": "markdown",
      "metadata": {
        "id": "rX6kfhE7HonU"
      },
      "source": [
        "Here the quotient has to be 3 and the remainder has to be 1. These values cannot be changed whatsoever when 10 is divided by 3. Hence divmod returns these values in a tuple."
      ]
    },
    {
      "cell_type": "markdown",
      "metadata": {
        "id": "QsBAYK8rHonU"
      },
      "source": [
        "To define a tuple, A variable is assigned to paranthesis ( ) or tuple( )."
      ]
    },
    {
      "cell_type": "code",
      "execution_count": null,
      "metadata": {
        "jupyter": {
          "outputs_hidden": false
        },
        "id": "p7AxVoibHonU"
      },
      "outputs": [],
      "source": [
        "tup = ()\n",
        "tup2 = tuple()"
      ]
    },
    {
      "cell_type": "markdown",
      "metadata": {
        "id": "u99ah7AYHonU"
      },
      "source": [
        "If you want to directly declare a tuple it can be done by using a comma at the end of the data."
      ]
    },
    {
      "cell_type": "code",
      "execution_count": null,
      "metadata": {
        "jupyter": {
          "outputs_hidden": false
        },
        "id": "Monoqv-bHonU",
        "colab": {
          "base_uri": "https://localhost:8080/"
        },
        "outputId": "a0cae831-705b-41fd-bc71-c64ab4789d8e"
      },
      "outputs": [
        {
          "output_type": "execute_result",
          "data": {
            "text/plain": [
              "(27,)"
            ]
          },
          "metadata": {},
          "execution_count": 55
        }
      ],
      "source": [
        "27,"
      ]
    },
    {
      "cell_type": "markdown",
      "metadata": {
        "id": "tJTRVKqNHonU"
      },
      "source": [
        "27 when multiplied by 2 yields 54, But when multiplied with a tuple the data is repeated twice."
      ]
    },
    {
      "cell_type": "code",
      "execution_count": null,
      "metadata": {
        "jupyter": {
          "outputs_hidden": false
        },
        "id": "qMKHOZ2THonV",
        "colab": {
          "base_uri": "https://localhost:8080/"
        },
        "outputId": "39411b5a-335a-4218-c850-414e9e123510"
      },
      "outputs": [
        {
          "output_type": "execute_result",
          "data": {
            "text/plain": [
              "(27, 27)"
            ]
          },
          "metadata": {},
          "execution_count": 56
        }
      ],
      "source": [
        "2*(27,)"
      ]
    },
    {
      "cell_type": "markdown",
      "metadata": {
        "id": "L0-5LOVTHonV"
      },
      "source": [
        "Values can be assigned while declaring a tuple. It takes a list as input and converts it into a tuple or it takes a string and converts it into a tuple."
      ]
    },
    {
      "cell_type": "code",
      "execution_count": null,
      "metadata": {
        "jupyter": {
          "outputs_hidden": false
        },
        "scrolled": true,
        "id": "SzRHpyjTHonV",
        "colab": {
          "base_uri": "https://localhost:8080/"
        },
        "outputId": "a1037fef-c01e-4c1c-9694-30abc8e1e009"
      },
      "outputs": [
        {
          "output_type": "stream",
          "name": "stdout",
          "text": [
            "(1, 2, 3)\n",
            "('H', 'e', 'l', 'l', 'o')\n"
          ]
        }
      ],
      "source": [
        "tup3 = tuple([1,2,3])\n",
        "print (tup3)\n",
        "tup4 = tuple('Hello')\n",
        "print (tup4)"
      ]
    },
    {
      "cell_type": "markdown",
      "metadata": {
        "id": "gce_SBv5HonV"
      },
      "source": [
        "It follows the same indexing and slicing as Lists."
      ]
    },
    {
      "cell_type": "code",
      "execution_count": null,
      "metadata": {
        "jupyter": {
          "outputs_hidden": false
        },
        "id": "SFCjOMKsHonV",
        "colab": {
          "base_uri": "https://localhost:8080/"
        },
        "outputId": "ae917d8c-4166-4bf7-fb5f-62f5e724d0c0"
      },
      "outputs": [
        {
          "output_type": "stream",
          "name": "stdout",
          "text": [
            "2\n",
            "('H', 'e', 'l')\n"
          ]
        }
      ],
      "source": [
        "print (tup3[1])\n",
        "tup5 = tup4[:3]\n",
        "print (tup5)"
      ]
    },
    {
      "cell_type": "markdown",
      "metadata": {
        "id": "S-VWoi54HonV"
      },
      "source": [
        "### Mapping one tuple to another"
      ]
    },
    {
      "cell_type": "code",
      "execution_count": null,
      "metadata": {
        "collapsed": true,
        "jupyter": {
          "outputs_hidden": true
        },
        "id": "0V4x3YXGHonV"
      },
      "outputs": [],
      "source": [
        "(a,b,c)= ('alpha','beta','gamma')"
      ]
    },
    {
      "cell_type": "code",
      "execution_count": null,
      "metadata": {
        "jupyter": {
          "outputs_hidden": false
        },
        "id": "5_b1jBB2HonV",
        "colab": {
          "base_uri": "https://localhost:8080/"
        },
        "outputId": "6b77161c-cb93-49c5-c1e6-a3da0c30fcbb"
      },
      "outputs": [
        {
          "output_type": "stream",
          "name": "stdout",
          "text": [
            "alpha beta gamma\n"
          ]
        }
      ],
      "source": [
        "print (a,b,c)"
      ]
    },
    {
      "cell_type": "code",
      "execution_count": null,
      "metadata": {
        "jupyter": {
          "outputs_hidden": false
        },
        "id": "uL4K-FtYHonW",
        "colab": {
          "base_uri": "https://localhost:8080/"
        },
        "outputId": "7fad539e-ca2d-49d1-e1bb-0e303ac3acc4"
      },
      "outputs": [
        {
          "output_type": "stream",
          "name": "stdout",
          "text": [
            "('R', 'a', 'j', 'a', 't', 'h', 'K', 'u', 'm', 'a', 'r', 'M', 'P')\n"
          ]
        }
      ],
      "source": [
        "d = tuple('RajathKumarMP')\n",
        "print (d)"
      ]
    },
    {
      "cell_type": "markdown",
      "metadata": {
        "id": "0XcuIqGDHonW"
      },
      "source": [
        "### Built In Tuple functions"
      ]
    },
    {
      "cell_type": "markdown",
      "metadata": {
        "id": "opehl-eUHonW"
      },
      "source": [
        "**count()** function counts the number of specified element that is present in the tuple."
      ]
    },
    {
      "cell_type": "code",
      "execution_count": null,
      "metadata": {
        "jupyter": {
          "outputs_hidden": false
        },
        "id": "JyOL3p9mHonW",
        "colab": {
          "base_uri": "https://localhost:8080/"
        },
        "outputId": "c1896609-d3ad-447a-c1bf-8a475746db16"
      },
      "outputs": [
        {
          "output_type": "execute_result",
          "data": {
            "text/plain": [
              "3"
            ]
          },
          "metadata": {},
          "execution_count": 62
        }
      ],
      "source": [
        "d.count('a')"
      ]
    },
    {
      "cell_type": "markdown",
      "metadata": {
        "id": "zGvP0OyYHonW"
      },
      "source": [
        "**index()** function returns the index of the specified element. If the elements are more than one then the index of the first element of that specified element is returned"
      ]
    },
    {
      "cell_type": "code",
      "execution_count": null,
      "metadata": {
        "jupyter": {
          "outputs_hidden": false
        },
        "id": "A91eS6MmHonW",
        "colab": {
          "base_uri": "https://localhost:8080/"
        },
        "outputId": "7512a4ef-541d-4d3d-d658-b0252cad9b91"
      },
      "outputs": [
        {
          "output_type": "execute_result",
          "data": {
            "text/plain": [
              "1"
            ]
          },
          "metadata": {},
          "execution_count": 63
        }
      ],
      "source": [
        "d.index('a')"
      ]
    },
    {
      "cell_type": "markdown",
      "metadata": {
        "id": "EoIj8L42HonW"
      },
      "source": [
        "## Sets"
      ]
    },
    {
      "cell_type": "markdown",
      "metadata": {
        "id": "fDvJvFqzHonW"
      },
      "source": [
        "Sets are mainly used to eliminate repeated numbers in a sequence/list. It is also used to perform some standard set operations.\n",
        "\n",
        "Sets are declared as set() which will initialize a empty set. Also set([sequence]) can be executed to declare a set with elements"
      ]
    },
    {
      "cell_type": "code",
      "execution_count": null,
      "metadata": {
        "jupyter": {
          "outputs_hidden": false
        },
        "id": "MYwS6-sCHonX",
        "colab": {
          "base_uri": "https://localhost:8080/"
        },
        "outputId": "ded35a0e-25c4-4a21-8ed5-4a1b334c16a0"
      },
      "outputs": [
        {
          "output_type": "stream",
          "name": "stdout",
          "text": [
            "<class 'set'>\n"
          ]
        }
      ],
      "source": [
        "set1 = set()\n",
        "print (type(set1))"
      ]
    },
    {
      "cell_type": "code",
      "execution_count": null,
      "metadata": {
        "jupyter": {
          "outputs_hidden": false
        },
        "id": "aQzyYUbNHonX",
        "colab": {
          "base_uri": "https://localhost:8080/"
        },
        "outputId": "1ae6be25-6101-4fa7-fb61-7ce858455143"
      },
      "outputs": [
        {
          "output_type": "stream",
          "name": "stdout",
          "text": [
            "{1, 2, 3, 4}\n"
          ]
        }
      ],
      "source": [
        "set0 = set([1,2,2,3,3,4])\n",
        "print (set0)"
      ]
    },
    {
      "cell_type": "markdown",
      "metadata": {
        "id": "U83dLBqCHonX"
      },
      "source": [
        "elements 2,3 which are repeated twice are seen only once. Thus in a set each element is distinct."
      ]
    },
    {
      "cell_type": "markdown",
      "metadata": {
        "id": "opVRdQ6lHonX"
      },
      "source": [
        "### Built-in Functions"
      ]
    },
    {
      "cell_type": "code",
      "execution_count": null,
      "metadata": {
        "jupyter": {
          "outputs_hidden": false
        },
        "id": "tP3Bz8Y2HonX"
      },
      "outputs": [],
      "source": [
        "set1 = set([1,2,3])"
      ]
    },
    {
      "cell_type": "code",
      "execution_count": null,
      "metadata": {
        "jupyter": {
          "outputs_hidden": false
        },
        "id": "ZsavTab1HonX"
      },
      "outputs": [],
      "source": [
        "set2 = set([2,3,4,5])"
      ]
    },
    {
      "cell_type": "markdown",
      "metadata": {
        "id": "OLTVefCyHonX"
      },
      "source": [
        "**union( )** function returns a set which contains all the elements of both the sets without repition."
      ]
    },
    {
      "cell_type": "code",
      "execution_count": null,
      "metadata": {
        "jupyter": {
          "outputs_hidden": false
        },
        "id": "ngCFrW0QHonX",
        "colab": {
          "base_uri": "https://localhost:8080/"
        },
        "outputId": "91249b23-3a97-4869-dfac-169157771afc"
      },
      "outputs": [
        {
          "output_type": "execute_result",
          "data": {
            "text/plain": [
              "{1, 2, 3, 4, 5}"
            ]
          },
          "metadata": {},
          "execution_count": 68
        }
      ],
      "source": [
        "set1.union(set2)"
      ]
    },
    {
      "cell_type": "markdown",
      "metadata": {
        "id": "ePLFsQ9YHonY"
      },
      "source": [
        "**add( )** will add a particular element into the set. Note that the index of the newly added element is arbitrary and can be placed anywhere not neccessarily in the end."
      ]
    },
    {
      "cell_type": "code",
      "execution_count": null,
      "metadata": {
        "jupyter": {
          "outputs_hidden": false
        },
        "id": "fOIuql2_HonY",
        "colab": {
          "base_uri": "https://localhost:8080/"
        },
        "outputId": "ef30b64d-7c33-4b86-a582-ac674a9d110f"
      },
      "outputs": [
        {
          "output_type": "execute_result",
          "data": {
            "text/plain": [
              "{0, 1, 2, 3}"
            ]
          },
          "metadata": {},
          "execution_count": 69
        }
      ],
      "source": [
        "set1.add(0)\n",
        "set1"
      ]
    },
    {
      "cell_type": "markdown",
      "metadata": {
        "id": "NenHf4bmHonY"
      },
      "source": [
        "**intersection( )** function outputs a set which contains all the elements that are in both sets."
      ]
    },
    {
      "cell_type": "code",
      "execution_count": null,
      "metadata": {
        "jupyter": {
          "outputs_hidden": false
        },
        "id": "PSMzT5-QHonY",
        "colab": {
          "base_uri": "https://localhost:8080/"
        },
        "outputId": "f9d246a1-a38c-49b5-fb66-306f9b9ac510"
      },
      "outputs": [
        {
          "output_type": "execute_result",
          "data": {
            "text/plain": [
              "{2, 3}"
            ]
          },
          "metadata": {},
          "execution_count": 70
        }
      ],
      "source": [
        "set1.intersection(set2)"
      ]
    },
    {
      "cell_type": "markdown",
      "metadata": {
        "id": "BRQpy5Q3HonY"
      },
      "source": [
        "**difference( )** function ouptuts a set which contains elements that are in set1 and not in set2."
      ]
    },
    {
      "cell_type": "code",
      "execution_count": null,
      "metadata": {
        "jupyter": {
          "outputs_hidden": false
        },
        "id": "CHEzyEzxHonY",
        "colab": {
          "base_uri": "https://localhost:8080/"
        },
        "outputId": "9ccc9d66-3260-4fe0-dbf0-df583780879e"
      },
      "outputs": [
        {
          "output_type": "execute_result",
          "data": {
            "text/plain": [
              "{0, 1}"
            ]
          },
          "metadata": {},
          "execution_count": 71
        }
      ],
      "source": [
        "set1.difference(set2)"
      ]
    },
    {
      "cell_type": "markdown",
      "metadata": {
        "id": "tUtX02sHHonY"
      },
      "source": [
        "**symmetric_difference( )** function ouputs a function which contains elements that are in one of the sets."
      ]
    },
    {
      "cell_type": "code",
      "execution_count": null,
      "metadata": {
        "jupyter": {
          "outputs_hidden": false
        },
        "id": "lIR8s4YYHonY",
        "colab": {
          "base_uri": "https://localhost:8080/"
        },
        "outputId": "e84455b6-7b72-4701-9b83-cb8cbb9f601f"
      },
      "outputs": [
        {
          "output_type": "execute_result",
          "data": {
            "text/plain": [
              "{0, 1, 4, 5}"
            ]
          },
          "metadata": {},
          "execution_count": 72
        }
      ],
      "source": [
        "set2.symmetric_difference(set1)"
      ]
    },
    {
      "cell_type": "markdown",
      "metadata": {
        "id": "ZcZy4jM5HonZ"
      },
      "source": [
        "**issubset( ), isdisjoint( ), issuperset( )** is used to check if the set1/set2 is a subset, disjoint or superset of set2/set1 respectively."
      ]
    },
    {
      "cell_type": "code",
      "execution_count": null,
      "metadata": {
        "jupyter": {
          "outputs_hidden": false
        },
        "id": "L4fqtog9HonZ",
        "colab": {
          "base_uri": "https://localhost:8080/"
        },
        "outputId": "4fbf344e-d2d0-4228-93dc-539ea05bf43a"
      },
      "outputs": [
        {
          "output_type": "execute_result",
          "data": {
            "text/plain": [
              "False"
            ]
          },
          "metadata": {},
          "execution_count": 73
        }
      ],
      "source": [
        "set1.issubset(set2)"
      ]
    },
    {
      "cell_type": "code",
      "execution_count": null,
      "metadata": {
        "jupyter": {
          "outputs_hidden": false
        },
        "id": "mryVeXs-HonZ",
        "colab": {
          "base_uri": "https://localhost:8080/"
        },
        "outputId": "f63bfa6e-e567-456a-e9cd-633882da75c6"
      },
      "outputs": [
        {
          "output_type": "execute_result",
          "data": {
            "text/plain": [
              "False"
            ]
          },
          "metadata": {},
          "execution_count": 74
        }
      ],
      "source": [
        "set2.isdisjoint(set1)"
      ]
    },
    {
      "cell_type": "code",
      "execution_count": null,
      "metadata": {
        "jupyter": {
          "outputs_hidden": false
        },
        "id": "0F0PthxwHonZ",
        "colab": {
          "base_uri": "https://localhost:8080/"
        },
        "outputId": "796faa8f-7205-4eea-9cb7-9eddedb96423"
      },
      "outputs": [
        {
          "output_type": "execute_result",
          "data": {
            "text/plain": [
              "False"
            ]
          },
          "metadata": {},
          "execution_count": 75
        }
      ],
      "source": [
        "set2.issuperset(set1)"
      ]
    },
    {
      "cell_type": "markdown",
      "metadata": {
        "id": "0ukd_zqvHonZ"
      },
      "source": [
        "**pop( )** is used to remove an arbitrary element in the set"
      ]
    },
    {
      "cell_type": "code",
      "execution_count": null,
      "metadata": {
        "jupyter": {
          "outputs_hidden": false
        },
        "id": "ehBWU0ofHonZ",
        "colab": {
          "base_uri": "https://localhost:8080/"
        },
        "outputId": "23d7bd85-ebf4-42ff-a041-3f269e538450"
      },
      "outputs": [
        {
          "output_type": "stream",
          "name": "stdout",
          "text": [
            "{1, 2, 3}\n"
          ]
        }
      ],
      "source": [
        "set1.pop()\n",
        "print (set1)"
      ]
    },
    {
      "cell_type": "markdown",
      "metadata": {
        "id": "27JD4fF3HonZ"
      },
      "source": [
        "**remove( )** function deletes the specified element from the set."
      ]
    },
    {
      "cell_type": "code",
      "execution_count": null,
      "metadata": {
        "jupyter": {
          "outputs_hidden": false
        },
        "id": "hiUy2OsuHona",
        "colab": {
          "base_uri": "https://localhost:8080/"
        },
        "outputId": "6317102f-b560-4075-f7d2-b7c5722d4673"
      },
      "outputs": [
        {
          "output_type": "execute_result",
          "data": {
            "text/plain": [
              "{1, 3}"
            ]
          },
          "metadata": {},
          "execution_count": 77
        }
      ],
      "source": [
        "set1.remove(2)\n",
        "set1"
      ]
    },
    {
      "cell_type": "markdown",
      "metadata": {
        "id": "by3LaIgrHona"
      },
      "source": [
        "**clear( )** is used to clear all the elements and make that set an empty set."
      ]
    },
    {
      "cell_type": "code",
      "execution_count": null,
      "metadata": {
        "jupyter": {
          "outputs_hidden": false
        },
        "id": "qe80uesRHona",
        "colab": {
          "base_uri": "https://localhost:8080/"
        },
        "outputId": "5a031b17-dc9a-43e7-b710-a9e3e3278113"
      },
      "outputs": [
        {
          "output_type": "execute_result",
          "data": {
            "text/plain": [
              "set()"
            ]
          },
          "metadata": {},
          "execution_count": 78
        }
      ],
      "source": [
        "set1.clear()\n",
        "set1"
      ]
    },
    {
      "cell_type": "code",
      "execution_count": null,
      "metadata": {
        "id": "Ur8Jp0NoHona"
      },
      "outputs": [],
      "source": [
        ""
      ]
    }
  ],
  "metadata": {
    "kernelspec": {
      "display_name": "Python 3",
      "language": "python",
      "name": "python3"
    },
    "language_info": {
      "codemirror_mode": {
        "name": "ipython",
        "version": 3
      },
      "file_extension": ".py",
      "mimetype": "text/x-python",
      "name": "python",
      "nbconvert_exporter": "python",
      "pygments_lexer": "ipython3",
      "version": "3.7.6"
    },
    "colab": {
      "name": "Intro03-data-structures.ipynb",
      "provenance": [],
      "include_colab_link": true
    }
  },
  "nbformat": 4,
  "nbformat_minor": 0
}