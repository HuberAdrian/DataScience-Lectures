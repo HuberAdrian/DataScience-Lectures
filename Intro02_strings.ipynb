{
  "cells": [
    {
      "cell_type": "markdown",
      "metadata": {
        "id": "view-in-github",
        "colab_type": "text"
      },
      "source": [
        "<a href=\"https://colab.research.google.com/github/HuberAdrian/DataScience-Lectures/blob/main/Intro02_strings.ipynb\" target=\"_parent\"><img src=\"https://colab.research.google.com/assets/colab-badge.svg\" alt=\"Open In Colab\"/></a>"
      ]
    },
    {
      "cell_type": "markdown",
      "metadata": {
        "id": "hAjCyjE-HNMZ"
      },
      "source": [
        "# Introduction to Python II - Strings\n",
        "* Based on a lecture series by Rajath Kumart (https://github.com/rajathkumarmp/Python-Lectures)\n",
        "* Ported to Python3 and extessions added by Janis Keuper\n",
        "* Copyright: Creative Commons Attribution 3.0 Unported License. To view a copy of this license, visit http://creativecommons.org/licenses/by/3.0/"
      ]
    },
    {
      "cell_type": "markdown",
      "metadata": {
        "id": "PulCqXQAHNMb"
      },
      "source": [
        "# Print Statement"
      ]
    },
    {
      "cell_type": "markdown",
      "metadata": {
        "id": "QMGL-sYWHNMb"
      },
      "source": [
        "The **print** statement can be used in the following different ways :\n",
        "\n",
        "    - print (\"Hello World\")\n",
        "    - print (\"Hello\", <Variable Containing the String>)\n",
        "    - print (\"Hello\" + <Variable Containing the String>)\n",
        "    - print (\"Hello %s\" % <variable containing the string>)"
      ]
    },
    {
      "cell_type": "code",
      "execution_count": null,
      "metadata": {
        "jupyter": {
          "outputs_hidden": false
        },
        "id": "iqDlYaTRHNMc",
        "outputId": "a701bf64-73f6-4eed-9f44-7dba55242efb",
        "colab": {
          "base_uri": "https://localhost:8080/"
        }
      },
      "outputs": [
        {
          "output_type": "stream",
          "name": "stdout",
          "text": [
            "Hello World\n"
          ]
        }
      ],
      "source": [
        "print (\"Hello World\")"
      ]
    },
    {
      "cell_type": "markdown",
      "metadata": {
        "id": "Es80QEdRHNMc"
      },
      "source": [
        "In Python, single, double and triple quotes are used to denote a string.\n",
        "Most use single quotes when declaring a single character. \n",
        "Double quotes when declaring a line and triple quotes when declaring a paragraph/multiple lines."
      ]
    },
    {
      "cell_type": "code",
      "execution_count": null,
      "metadata": {
        "jupyter": {
          "outputs_hidden": false
        },
        "id": "reFBz94mHNMc",
        "outputId": "ee12b1c7-fc50-43d1-c0c0-b90876498181",
        "colab": {
          "base_uri": "https://localhost:8080/"
        }
      },
      "outputs": [
        {
          "output_type": "stream",
          "name": "stdout",
          "text": [
            "Hey\n"
          ]
        }
      ],
      "source": [
        "print ('Hey')"
      ]
    },
    {
      "cell_type": "code",
      "execution_count": null,
      "metadata": {
        "jupyter": {
          "outputs_hidden": false
        },
        "id": "PTLWm3nvHNMd",
        "outputId": "c2252172-20bc-4b90-c3e2-3a9d7bf689ba",
        "colab": {
          "base_uri": "https://localhost:8080/"
        }
      },
      "outputs": [
        {
          "output_type": "stream",
          "name": "stdout",
          "text": [
            "My name is Rajath Kumar M.P.\n",
            "\n",
            "I love Python.\n"
          ]
        }
      ],
      "source": [
        "print (\"\"\"My name is Rajath Kumar M.P.\n",
        "\n",
        "I love Python.\"\"\")"
      ]
    },
    {
      "cell_type": "markdown",
      "metadata": {
        "id": "rDfYFSvhHNMd"
      },
      "source": [
        "Strings can be assigned to variable say _string1_ and _string2_ which can called when using the print statement."
      ]
    },
    {
      "cell_type": "code",
      "execution_count": null,
      "metadata": {
        "jupyter": {
          "outputs_hidden": false
        },
        "scrolled": true,
        "id": "gPaCw8TrHNMd",
        "outputId": "3b23f5d2-7609-4ee1-8e18-6bcf54118e58",
        "colab": {
          "base_uri": "https://localhost:8080/"
        }
      },
      "outputs": [
        {
          "output_type": "stream",
          "name": "stdout",
          "text": [
            "Hello World\n",
            "Hello World !\n"
          ]
        }
      ],
      "source": [
        "string1 = 'World'\n",
        "print ('Hello', string1)\n",
        "\n",
        "string2 = '!'\n",
        "print ('Hello', string1, string2)"
      ]
    },
    {
      "cell_type": "markdown",
      "metadata": {
        "id": "NpTBOtLdHNMe"
      },
      "source": [
        "String concatenation is the \"addition\" of two strings. Observe that while concatenating there will be no space between the strings."
      ]
    },
    {
      "cell_type": "code",
      "execution_count": null,
      "metadata": {
        "jupyter": {
          "outputs_hidden": false
        },
        "id": "Vtt_iE0jHNMe",
        "outputId": "9cdfe759-bb50-4e0e-9b3c-ebaaf763e4ca",
        "colab": {
          "base_uri": "https://localhost:8080/"
        }
      },
      "outputs": [
        {
          "output_type": "stream",
          "name": "stdout",
          "text": [
            "HelloWorld!\n"
          ]
        }
      ],
      "source": [
        "print ('Hello' + string1 + string2)"
      ]
    },
    {
      "cell_type": "markdown",
      "metadata": {
        "id": "UNG6HZnTHNMe"
      },
      "source": [
        "**%s** is used to refer to a variable which contains a string."
      ]
    },
    {
      "cell_type": "code",
      "execution_count": null,
      "metadata": {
        "jupyter": {
          "outputs_hidden": false
        },
        "id": "8A8SHdOKHNMe",
        "outputId": "5c10e224-8054-4d06-b313-94d0f8a3c41b",
        "colab": {
          "base_uri": "https://localhost:8080/"
        }
      },
      "outputs": [
        {
          "output_type": "stream",
          "name": "stdout",
          "text": [
            "Hello World\n"
          ]
        }
      ],
      "source": [
        "print (\"Hello %s\" % string1)"
      ]
    },
    {
      "cell_type": "markdown",
      "metadata": {
        "id": "2MT3hPHgHNMf"
      },
      "source": [
        "Similarly, when using other data types\n",
        "\n",
        "    - %s -> string\n",
        "    - %d -> Integer\n",
        "    - %f -> Float\n",
        "    - %o -> Octal\n",
        "    - %x -> Hexadecimal\n",
        "    - %e -> exponential\n",
        "    \n",
        "This can be used for conversions inside the print statement itself."
      ]
    },
    {
      "cell_type": "code",
      "execution_count": null,
      "metadata": {
        "jupyter": {
          "outputs_hidden": false
        },
        "id": "HBrnSRaFHNMf",
        "outputId": "fc8da34c-c792-47fb-8a1f-8a323c265a02",
        "colab": {
          "base_uri": "https://localhost:8080/"
        }
      },
      "outputs": [
        {
          "output_type": "stream",
          "name": "stdout",
          "text": [
            "Actual Number = 18\n",
            "Float of the number = 18.000000\n",
            "Octal equivalent of the number = 22\n",
            "Hexadecimal equivalent of the number = 12\n",
            "Exponential equivalent of the number = 1.800000e+01\n"
          ]
        }
      ],
      "source": [
        "print (\"Actual Number = %d\" %18)\n",
        "print (\"Float of the number = %f\" %18)\n",
        "print (\"Octal equivalent of the number = %o\" %18)\n",
        "print (\"Hexadecimal equivalent of the number = %x\" %18)\n",
        "print (\"Exponential equivalent of the number = %e\" %18)"
      ]
    },
    {
      "cell_type": "markdown",
      "metadata": {
        "id": "2ScE7qj1HNMf"
      },
      "source": [
        "When referring to multiple variables parenthesis is used."
      ]
    },
    {
      "cell_type": "code",
      "execution_count": null,
      "metadata": {
        "jupyter": {
          "outputs_hidden": false
        },
        "id": "Y-vwrvG_HNMg",
        "outputId": "0da9fa74-3eff-443b-c9a0-f1982b5b0827",
        "colab": {
          "base_uri": "https://localhost:8080/"
        }
      },
      "outputs": [
        {
          "output_type": "stream",
          "name": "stdout",
          "text": [
            "Hello World !\n"
          ]
        }
      ],
      "source": [
        "print (\"Hello %s %s\" %(string1,string2))"
      ]
    },
    {
      "cell_type": "markdown",
      "metadata": {
        "id": "juIhySHgHNMg"
      },
      "source": [
        "## Other Examples"
      ]
    },
    {
      "cell_type": "markdown",
      "metadata": {
        "id": "ydueoboBHNMg"
      },
      "source": [
        "The following are other different ways the print statement can be put to use."
      ]
    },
    {
      "cell_type": "code",
      "execution_count": null,
      "metadata": {
        "jupyter": {
          "outputs_hidden": false
        },
        "id": "Hq-1mzzoHNMg",
        "outputId": "7af0bc8b-a550-427b-d41f-78c87382aecd",
        "colab": {
          "base_uri": "https://localhost:8080/"
        }
      },
      "outputs": [
        {
          "output_type": "stream",
          "name": "stdout",
          "text": [
            "I want %d to be printed here\n"
          ]
        }
      ],
      "source": [
        "print (\"I want %%d to be printed %s\" %'here')"
      ]
    },
    {
      "cell_type": "code",
      "execution_count": null,
      "metadata": {
        "jupyter": {
          "outputs_hidden": false
        },
        "id": "LHm9Xe3CHNMh",
        "outputId": "010d48b0-75c5-4b3a-8420-64acbabf3b2d",
        "colab": {
          "base_uri": "https://localhost:8080/"
        }
      },
      "outputs": [
        {
          "output_type": "stream",
          "name": "stdout",
          "text": [
            "_A_A_A_A_A_A_A_A_A_A\n"
          ]
        }
      ],
      "source": [
        "print ('_A'*10)"
      ]
    },
    {
      "cell_type": "code",
      "execution_count": null,
      "metadata": {
        "jupyter": {
          "outputs_hidden": false
        },
        "id": "QP-FSanOHNMh",
        "outputId": "d4c202ca-2892-4b20-c24a-9ae7e491475a",
        "colab": {
          "base_uri": "https://localhost:8080/"
        }
      },
      "outputs": [
        {
          "output_type": "stream",
          "name": "stdout",
          "text": [
            "Jan\n",
            "Feb\n",
            "Mar\n",
            "Apr\n",
            "May\n",
            "Jun\n",
            "Jul\n",
            "Aug\n"
          ]
        }
      ],
      "source": [
        "print (\"Jan\\nFeb\\nMar\\nApr\\nMay\\nJun\\nJul\\nAug\")"
      ]
    },
    {
      "cell_type": "code",
      "execution_count": null,
      "metadata": {
        "jupyter": {
          "outputs_hidden": false
        },
        "id": "b9I9-ubwHNMh",
        "outputId": "9ba58c35-5cd6-465e-a25c-b2910f2bef7d",
        "colab": {
          "base_uri": "https://localhost:8080/"
        }
      },
      "outputs": [
        {
          "output_type": "stream",
          "name": "stdout",
          "text": [
            "I want \\n to be printed.\n"
          ]
        }
      ],
      "source": [
        "print (\"I want \\\\n to be printed.\")"
      ]
    },
    {
      "cell_type": "code",
      "execution_count": null,
      "metadata": {
        "jupyter": {
          "outputs_hidden": false
        },
        "id": "HRuzPBJoHNMh",
        "outputId": "e429e33f-368b-48eb-e45d-2c563ea3a947",
        "colab": {
          "base_uri": "https://localhost:8080/"
        }
      },
      "outputs": [
        {
          "output_type": "stream",
          "name": "stdout",
          "text": [
            "\n",
            "Routine:\n",
            "\t- Eat\n",
            "\t- Sleep\n",
            "\t- Repeat\n",
            "\n"
          ]
        }
      ],
      "source": [
        "print (\"\"\"\n",
        "Routine:\n",
        "\\t- Eat\n",
        "\\t- Sleep\\n\\t- Repeat\n",
        "\"\"\")"
      ]
    },
    {
      "cell_type": "markdown",
      "metadata": {
        "id": "eV1WdSIwHNMi"
      },
      "source": [
        "# PrecisionWidth and FieldWidth"
      ]
    },
    {
      "cell_type": "markdown",
      "metadata": {
        "id": "QAwRkljZHNMi"
      },
      "source": [
        "Fieldwidth is the width of the entire number and precision is the width towards the right. One can alter these widths based on the requirements.\n",
        "\n",
        "The default Precision Width is set to 6."
      ]
    },
    {
      "cell_type": "code",
      "execution_count": null,
      "metadata": {
        "jupyter": {
          "outputs_hidden": false
        },
        "id": "bjcW0eHWHNMi",
        "outputId": "dec205f7-af6f-492d-dbf2-b417649c0d77",
        "colab": {
          "base_uri": "https://localhost:8080/",
          "height": 37
        }
      },
      "outputs": [
        {
          "output_type": "execute_result",
          "data": {
            "text/plain": [
              "'3.121312'"
            ],
            "application/vnd.google.colaboratory.intrinsic+json": {
              "type": "string"
            }
          },
          "metadata": {},
          "execution_count": 14
        }
      ],
      "source": [
        "\"%f\" % 3.121312312312"
      ]
    },
    {
      "cell_type": "markdown",
      "metadata": {
        "id": "p3Um1Kj1HNMi"
      },
      "source": [
        "Notice upto 6 decimal points are returned. To specify the number of decimal points, '%(fieldwidth).(precisionwidth)f' is used."
      ]
    },
    {
      "cell_type": "code",
      "execution_count": null,
      "metadata": {
        "jupyter": {
          "outputs_hidden": false
        },
        "id": "LylgXkfiHNMi",
        "outputId": "9633c185-adf2-4377-cadf-77764d77a6a0",
        "colab": {
          "base_uri": "https://localhost:8080/",
          "height": 37
        }
      },
      "outputs": [
        {
          "output_type": "execute_result",
          "data": {
            "text/plain": [
              "'3.12131'"
            ],
            "application/vnd.google.colaboratory.intrinsic+json": {
              "type": "string"
            }
          },
          "metadata": {},
          "execution_count": 15
        }
      ],
      "source": [
        "\"%.5f\" % 3.121312312312"
      ]
    },
    {
      "cell_type": "markdown",
      "metadata": {
        "id": "rI_yKr0nHNMj"
      },
      "source": [
        "If the field width is set more than the necessary than the data right aligns itself to adjust to the specified values."
      ]
    },
    {
      "cell_type": "code",
      "execution_count": null,
      "metadata": {
        "jupyter": {
          "outputs_hidden": false
        },
        "id": "BeGBH7S2HNMj",
        "outputId": "466aa893-1fda-47c7-e039-2bc880c6fe92",
        "colab": {
          "base_uri": "https://localhost:8080/",
          "height": 37
        }
      },
      "outputs": [
        {
          "output_type": "execute_result",
          "data": {
            "text/plain": [
              "'  3.12131'"
            ],
            "application/vnd.google.colaboratory.intrinsic+json": {
              "type": "string"
            }
          },
          "metadata": {},
          "execution_count": 16
        }
      ],
      "source": [
        "\"%9.5f\" % 3.121312312312"
      ]
    },
    {
      "cell_type": "markdown",
      "metadata": {
        "id": "zdtfhcjDHNMj"
      },
      "source": [
        "Zero padding is done by adding a 0 at the start of fieldwidth."
      ]
    },
    {
      "cell_type": "code",
      "execution_count": null,
      "metadata": {
        "jupyter": {
          "outputs_hidden": false
        },
        "id": "VtJROWSJHNMj",
        "outputId": "caa35956-c155-4ea0-85fc-5bd6c34c5d0c",
        "colab": {
          "base_uri": "https://localhost:8080/",
          "height": 37
        }
      },
      "outputs": [
        {
          "output_type": "execute_result",
          "data": {
            "text/plain": [
              "'00000000000003.12131'"
            ],
            "application/vnd.google.colaboratory.intrinsic+json": {
              "type": "string"
            }
          },
          "metadata": {},
          "execution_count": 17
        }
      ],
      "source": [
        "\"%020.5f\" % 3.121312312312"
      ]
    },
    {
      "cell_type": "markdown",
      "metadata": {
        "id": "reeXugHnHNMj"
      },
      "source": [
        "For proper alignment, a space can be left blank in the field width so that when a negative number is used, proper alignment is maintained."
      ]
    },
    {
      "cell_type": "code",
      "execution_count": null,
      "metadata": {
        "jupyter": {
          "outputs_hidden": false
        },
        "id": "X5D9ndRfHNMj",
        "outputId": "a74630ab-42c0-466d-e4b3-3733c82492fa",
        "colab": {
          "base_uri": "https://localhost:8080/"
        }
      },
      "outputs": [
        {
          "output_type": "stream",
          "name": "stdout",
          "text": [
            " 3.121312\n",
            "-3.121312\n"
          ]
        }
      ],
      "source": [
        "print (\"% 9f\" % 3.121312312312)\n",
        "print (\"% 9f\" % -3.121312312312)"
      ]
    },
    {
      "cell_type": "markdown",
      "metadata": {
        "id": "GcmU0azgHNMk"
      },
      "source": [
        "'+' sign can be returned at the beginning of a positive number by adding a + sign at the beginning of the field width."
      ]
    },
    {
      "cell_type": "code",
      "execution_count": null,
      "metadata": {
        "jupyter": {
          "outputs_hidden": false
        },
        "id": "qi8TdxX1HNMk",
        "outputId": "f3ce36d8-25c4-4dc0-c1e3-2c8d40023394",
        "colab": {
          "base_uri": "https://localhost:8080/"
        }
      },
      "outputs": [
        {
          "output_type": "stream",
          "name": "stdout",
          "text": [
            "+3.121312\n",
            "-3.121312\n"
          ]
        }
      ],
      "source": [
        "print (\"%+9f\" % 3.121312312312)\n",
        "print (\"% 9f\" % -3.121312312312)"
      ]
    },
    {
      "cell_type": "markdown",
      "metadata": {
        "id": "6SpT4VlGHNMk"
      },
      "source": [
        "As mentioned above, the data right aligns itself when the field width mentioned is larger than the actualy field width. But left alignment can be done by specifying a negative symbol in the field width."
      ]
    },
    {
      "cell_type": "code",
      "execution_count": null,
      "metadata": {
        "jupyter": {
          "outputs_hidden": false
        },
        "id": "AoHET4ytHNMk",
        "outputId": "bc6c30a0-b949-406e-a222-c9c0be01e085",
        "colab": {
          "base_uri": "https://localhost:8080/",
          "height": 37
        }
      },
      "outputs": [
        {
          "output_type": "execute_result",
          "data": {
            "text/plain": [
              "'3.121    '"
            ],
            "application/vnd.google.colaboratory.intrinsic+json": {
              "type": "string"
            }
          },
          "metadata": {},
          "execution_count": 20
        }
      ],
      "source": [
        "\"%-9.3f\" % 3.121312312312"
      ]
    },
    {
      "cell_type": "markdown",
      "metadata": {
        "id": "Y1ajBk2QHNMk"
      },
      "source": [
        "## Strings"
      ]
    },
    {
      "cell_type": "markdown",
      "metadata": {
        "id": "FkRK_J7rHNMl"
      },
      "source": [
        "Strings are ordered text based data which are represented by enclosing the same in single/double/triple quotes."
      ]
    },
    {
      "cell_type": "code",
      "execution_count": null,
      "metadata": {
        "jupyter": {
          "outputs_hidden": false
        },
        "id": "YbCvvooEHNMl"
      },
      "outputs": [],
      "source": [
        "String0 = 'Taj Mahal is beautiful'\n",
        "String1 = \"Taj Mahal is beautiful\"\n",
        "String2 = '''Taj Mahal\n",
        "is\n",
        "beautiful'''"
      ]
    },
    {
      "cell_type": "code",
      "execution_count": null,
      "metadata": {
        "jupyter": {
          "outputs_hidden": false
        },
        "id": "Nz2j_S2THNMl",
        "outputId": "1d6a4604-bc05-48fe-9f7c-42f6bfd60458",
        "colab": {
          "base_uri": "https://localhost:8080/"
        }
      },
      "outputs": [
        {
          "output_type": "stream",
          "name": "stdout",
          "text": [
            "Taj Mahal is beautiful <class 'str'>\n",
            "Taj Mahal is beautiful <class 'str'>\n",
            "Taj Mahal\n",
            "is\n",
            "beautiful <class 'str'>\n"
          ]
        }
      ],
      "source": [
        "print (String0 , type(String0))\n",
        "print (String1, type(String1))\n",
        "print (String2, type(String2))"
      ]
    },
    {
      "cell_type": "markdown",
      "metadata": {
        "id": "8_RwrVfzHNMl"
      },
      "source": [
        "String Indexing and Slicing are similar to Lists which was explained in detail earlier."
      ]
    },
    {
      "cell_type": "code",
      "execution_count": null,
      "metadata": {
        "jupyter": {
          "outputs_hidden": false
        },
        "id": "ISm10YOmHNMm",
        "outputId": "5a418986-1b06-4350-9aa8-6c5785ecfac1",
        "colab": {
          "base_uri": "https://localhost:8080/"
        }
      },
      "outputs": [
        {
          "output_type": "stream",
          "name": "stdout",
          "text": [
            "M\n",
            "Mahal is beautiful\n"
          ]
        }
      ],
      "source": [
        "print (String0[4])\n",
        "print (String0[4:])"
      ]
    },
    {
      "cell_type": "markdown",
      "metadata": {
        "id": "cZzKYF9PHNMm"
      },
      "source": [
        "### Built-in Functions"
      ]
    },
    {
      "cell_type": "markdown",
      "metadata": {
        "id": "PLezX1VsHNMm"
      },
      "source": [
        "**find( )** function returns the index value of the given data that is to found in the string. If it is not found it returns **-1**. Remember to not confuse the returned -1 for reverse indexing value."
      ]
    },
    {
      "cell_type": "code",
      "execution_count": null,
      "metadata": {
        "jupyter": {
          "outputs_hidden": false
        },
        "id": "gmW6Kh8eHNMm",
        "outputId": "86ae5952-8fbd-4052-b460-d4d8f4395041",
        "colab": {
          "base_uri": "https://localhost:8080/"
        }
      },
      "outputs": [
        {
          "output_type": "stream",
          "name": "stdout",
          "text": [
            "7\n",
            "-1\n"
          ]
        }
      ],
      "source": [
        "print (String0.find('al'))\n",
        "print (String0.find('am'))"
      ]
    },
    {
      "cell_type": "markdown",
      "metadata": {
        "id": "XS9a8kNuHNMm"
      },
      "source": [
        "The index value returned is the index of the first element in the input data."
      ]
    },
    {
      "cell_type": "code",
      "execution_count": null,
      "metadata": {
        "jupyter": {
          "outputs_hidden": false
        },
        "id": "RO0N4X71HNMn",
        "outputId": "b3d33e00-2726-4cad-9c0e-d3d6a64eb555",
        "colab": {
          "base_uri": "https://localhost:8080/"
        }
      },
      "outputs": [
        {
          "output_type": "stream",
          "name": "stdout",
          "text": [
            "a\n"
          ]
        }
      ],
      "source": [
        "print (String0[7])"
      ]
    },
    {
      "cell_type": "markdown",
      "metadata": {
        "id": "wklbY3IvHNMn"
      },
      "source": [
        "One can also input **find( )** function between which index values it has to search."
      ]
    },
    {
      "cell_type": "code",
      "execution_count": null,
      "metadata": {
        "jupyter": {
          "outputs_hidden": false
        },
        "id": "8p0HRb7iHNMn",
        "outputId": "ff907373-e5b7-49d2-f930-f63f84c84aef",
        "colab": {
          "base_uri": "https://localhost:8080/"
        }
      },
      "outputs": [
        {
          "output_type": "stream",
          "name": "stdout",
          "text": [
            "2\n",
            "2\n"
          ]
        }
      ],
      "source": [
        "print (String0.find('j',1))\n",
        "print (String0.find('j',1,3))"
      ]
    },
    {
      "cell_type": "markdown",
      "metadata": {
        "id": "QxR0GBBbHNMn"
      },
      "source": [
        "**capitalize( )** is used to capitalize the first element in the string."
      ]
    },
    {
      "cell_type": "code",
      "execution_count": null,
      "metadata": {
        "jupyter": {
          "outputs_hidden": false
        },
        "id": "IauPoVKKHNMn",
        "outputId": "ab6fa66c-41e3-4db0-a217-9a9e8cf078ee",
        "colab": {
          "base_uri": "https://localhost:8080/"
        }
      },
      "outputs": [
        {
          "output_type": "stream",
          "name": "stdout",
          "text": [
            "Observe the first letter in this sentence.\n"
          ]
        }
      ],
      "source": [
        "String3 = 'observe the first letter in this sentence.'\n",
        "print (String3.capitalize())"
      ]
    },
    {
      "cell_type": "markdown",
      "metadata": {
        "id": "ypo5cl-JHNMo"
      },
      "source": [
        "**center( )** is used to center align the string by specifying the field width."
      ]
    },
    {
      "cell_type": "code",
      "execution_count": null,
      "metadata": {
        "jupyter": {
          "outputs_hidden": false
        },
        "id": "qqA11bOAHNMo",
        "outputId": "298a8250-b7bb-44e7-ff76-7757baae7984",
        "colab": {
          "base_uri": "https://localhost:8080/",
          "height": 1000
        }
      },
      "outputs": [
        {
          "output_type": "execute_result",
          "data": {
            "text/plain": [
              "'                        Taj Mahal is beautiful                        '"
            ],
            "application/vnd.google.colaboratory.intrinsic+json": {
              "type": "string"
            }
          },
          "metadata": {},
          "execution_count": 28
        }
      ],
      "source": [
        "String0.center(70)"
      ]
    },
    {
      "cell_type": "markdown",
      "metadata": {
        "id": "IcqPYC46HNMo"
      },
      "source": [
        "One can also fill the left out spaces with any other character."
      ]
    },
    {
      "cell_type": "code",
      "execution_count": null,
      "metadata": {
        "jupyter": {
          "outputs_hidden": false
        },
        "id": "6XcYc1MoHNMo",
        "outputId": "d2918958-dc78-44e3-b1c7-2e1d1b97e33e",
        "colab": {
          "base_uri": "https://localhost:8080/",
          "height": 1000
        }
      },
      "outputs": [
        {
          "output_type": "execute_result",
          "data": {
            "text/plain": [
              "'------------------------Taj Mahal is beautiful------------------------'"
            ],
            "application/vnd.google.colaboratory.intrinsic+json": {
              "type": "string"
            }
          },
          "metadata": {},
          "execution_count": 29
        }
      ],
      "source": [
        "String0.center(70,'-')"
      ]
    },
    {
      "cell_type": "markdown",
      "metadata": {
        "id": "JucoRbhhHNMo"
      },
      "source": [
        "**zfill( )** is used for zero padding by specifying the field width."
      ]
    },
    {
      "cell_type": "code",
      "execution_count": null,
      "metadata": {
        "jupyter": {
          "outputs_hidden": false
        },
        "id": "ot7k4cU2HNMo",
        "outputId": "71e954bc-d947-4140-e266-c2769247ded3",
        "colab": {
          "base_uri": "https://localhost:8080/",
          "height": 601
        }
      },
      "outputs": [
        {
          "output_type": "execute_result",
          "data": {
            "text/plain": [
              "'00000000Taj Mahal is beautiful'"
            ],
            "application/vnd.google.colaboratory.intrinsic+json": {
              "type": "string"
            }
          },
          "metadata": {},
          "execution_count": 30
        }
      ],
      "source": [
        "String0.zfill(30)"
      ]
    },
    {
      "cell_type": "markdown",
      "metadata": {
        "id": "8iszqJ1pHNMp"
      },
      "source": [
        "**expandtabs( )** allows you to change the spacing of the tab character. '\\t' which is by default set to 8 spaces."
      ]
    },
    {
      "cell_type": "code",
      "execution_count": null,
      "metadata": {
        "jupyter": {
          "outputs_hidden": false
        },
        "id": "5JRF-5SjHNMp",
        "outputId": "0182ac8d-f2f4-47fc-f93b-ec39558dfc06",
        "colab": {
          "base_uri": "https://localhost:8080/"
        }
      },
      "outputs": [
        {
          "output_type": "stream",
          "name": "stdout",
          "text": [
            "h\te\tl\tl\to\n",
            "h e l l o\n",
            "h       e       l       l       o\n"
          ]
        }
      ],
      "source": [
        "s = 'h\\te\\tl\\tl\\to'\n",
        "print (s)\n",
        "print (s.expandtabs(1))\n",
        "print (s.expandtabs())"
      ]
    },
    {
      "cell_type": "markdown",
      "metadata": {
        "id": "mwYuPfiMHNMp"
      },
      "source": [
        "**endswith( )** function is used to check if the given string ends with the particular char which is given as input."
      ]
    },
    {
      "cell_type": "code",
      "execution_count": null,
      "metadata": {
        "jupyter": {
          "outputs_hidden": false
        },
        "id": "CYZQIemfHNMp",
        "outputId": "6a33d60b-a5ce-48ea-eca4-ee14c1c408e3",
        "colab": {
          "base_uri": "https://localhost:8080/"
        }
      },
      "outputs": [
        {
          "output_type": "stream",
          "name": "stdout",
          "text": [
            "False\n"
          ]
        }
      ],
      "source": [
        "print (String0.endswith('y'))"
      ]
    },
    {
      "cell_type": "markdown",
      "metadata": {
        "id": "Xe5_-lJfHNMp"
      },
      "source": [
        "The start and stop index values can also be specified."
      ]
    },
    {
      "cell_type": "code",
      "execution_count": null,
      "metadata": {
        "jupyter": {
          "outputs_hidden": false
        },
        "id": "QzWqNSu8HNMq",
        "outputId": "04a39c5c-971c-4fb3-e06d-f01fb739c6f2",
        "colab": {
          "base_uri": "https://localhost:8080/"
        }
      },
      "outputs": [
        {
          "output_type": "stream",
          "name": "stdout",
          "text": [
            "True\n",
            "True\n"
          ]
        }
      ],
      "source": [
        "print (String0.endswith('l',0))\n",
        "print (String0.endswith('M',0,5))"
      ]
    },
    {
      "cell_type": "markdown",
      "metadata": {
        "id": "n2Zj3IgQHNMq"
      },
      "source": [
        "**count( )** function counts the number of char in the given string. The start and the stop index can also be specified or left blank. (These are Implicit arguments which will be dealt in functions)"
      ]
    },
    {
      "cell_type": "code",
      "execution_count": null,
      "metadata": {
        "jupyter": {
          "outputs_hidden": false
        },
        "id": "P917F87EHNMq",
        "outputId": "8f0b8655-bfaa-4e01-deeb-124e14bdb19b",
        "colab": {
          "base_uri": "https://localhost:8080/"
        }
      },
      "outputs": [
        {
          "output_type": "stream",
          "name": "stdout",
          "text": [
            "4\n",
            "2\n"
          ]
        }
      ],
      "source": [
        "print (String0.count('a',0))\n",
        "print (String0.count('a',5,10))"
      ]
    },
    {
      "cell_type": "markdown",
      "metadata": {
        "id": "wJpOepfVHNMq"
      },
      "source": [
        "**join( )** function is used add a char in between the elements of the input string."
      ]
    },
    {
      "cell_type": "code",
      "execution_count": null,
      "metadata": {
        "jupyter": {
          "outputs_hidden": false
        },
        "id": "jXX-tLSEHNMr",
        "outputId": "61c925c4-9318-4fa6-fc2d-eb2c09c91d14",
        "colab": {
          "base_uri": "https://localhost:8080/",
          "height": 176
        }
      },
      "outputs": [
        {
          "output_type": "execute_result",
          "data": {
            "text/plain": [
              "'*a_a-'"
            ],
            "application/vnd.google.colaboratory.intrinsic+json": {
              "type": "string"
            }
          },
          "metadata": {},
          "execution_count": 35
        }
      ],
      "source": [
        "'a'.join('*_-')"
      ]
    },
    {
      "cell_type": "markdown",
      "metadata": {
        "id": "WxNWBqMEHNMr"
      },
      "source": [
        "'*_-' is the input string and char 'a' is added in between each element"
      ]
    },
    {
      "cell_type": "markdown",
      "metadata": {
        "id": "-c95aGruHNMr"
      },
      "source": [
        "**join( )** function can also be used to convert a list into a string."
      ]
    },
    {
      "cell_type": "code",
      "execution_count": null,
      "metadata": {
        "jupyter": {
          "outputs_hidden": false
        },
        "id": "LsPryB50HNMr",
        "outputId": "fa52f6eb-8c86-4691-bd3d-3641e6afdc90",
        "colab": {
          "base_uri": "https://localhost:8080/"
        }
      },
      "outputs": [
        {
          "output_type": "stream",
          "name": "stdout",
          "text": [
            "['T', 'a', 'j', ' ', 'M', 'a', 'h', 'a', 'l', ' ', 'i', 's', ' ', 'b', 'e', 'a', 'u', 't', 'i', 'f', 'u', 'l']\n",
            "Taj Mahal is beautiful\n"
          ]
        }
      ],
      "source": [
        "a = list(String0)\n",
        "print (a)\n",
        "b = ''.join(a)\n",
        "print (b)"
      ]
    },
    {
      "cell_type": "markdown",
      "metadata": {
        "id": "J-2fPy9RHNMr"
      },
      "source": [
        "Before converting it into a string **join( )** function can be used to insert any char in between the list elements."
      ]
    },
    {
      "cell_type": "code",
      "execution_count": null,
      "metadata": {
        "jupyter": {
          "outputs_hidden": false
        },
        "id": "0utELRf6HNMs",
        "outputId": "af272359-b5b8-49c2-86c3-0074c66e60a5",
        "colab": {
          "base_uri": "https://localhost:8080/"
        }
      },
      "outputs": [
        {
          "output_type": "stream",
          "name": "stdout",
          "text": [
            " /i/s/ /b/e/a/u/t/i/f/u/l\n"
          ]
        }
      ],
      "source": [
        "c = '/'.join(a)[18:]\n",
        "print (c)"
      ]
    },
    {
      "cell_type": "markdown",
      "metadata": {
        "id": "maqWBaxHHNMs"
      },
      "source": [
        "**split( )** function is used to convert a string back to a list. Think of it as the opposite of the **join()** function."
      ]
    },
    {
      "cell_type": "code",
      "execution_count": null,
      "metadata": {
        "jupyter": {
          "outputs_hidden": false
        },
        "id": "-hKtBvUYHNMs",
        "outputId": "223b1ad1-047a-451c-e7e6-190dbe19293b",
        "colab": {
          "base_uri": "https://localhost:8080/"
        }
      },
      "outputs": [
        {
          "output_type": "stream",
          "name": "stdout",
          "text": [
            "[' ', 'i', 's', ' ', 'b', 'e', 'a', 'u', 't', 'i', 'f', 'u', 'l']\n"
          ]
        }
      ],
      "source": [
        "d = c.split('/')\n",
        "print (d)"
      ]
    },
    {
      "cell_type": "markdown",
      "metadata": {
        "id": "2zcjCx3uHNMs"
      },
      "source": [
        "In **split( )** function one can also specify the number of times you want to split the string or the number of elements the new returned list should conatin. The number of elements is always one more than the specified number this is because it is split the number of times specified."
      ]
    },
    {
      "cell_type": "code",
      "execution_count": null,
      "metadata": {
        "jupyter": {
          "outputs_hidden": false
        },
        "id": "NZRhPLI6HNMs",
        "outputId": "71f12da2-a8a1-4b5c-df47-2a0d30c3f9e9",
        "colab": {
          "base_uri": "https://localhost:8080/"
        }
      },
      "outputs": [
        {
          "output_type": "stream",
          "name": "stdout",
          "text": [
            "[' ', 'i', 's', ' /b/e/a/u/t/i/f/u/l']\n",
            "4\n"
          ]
        }
      ],
      "source": [
        "e = c.split('/',3)\n",
        "print (e)\n",
        "print (len(e))"
      ]
    },
    {
      "cell_type": "markdown",
      "metadata": {
        "id": "8hvkHSajHNMs"
      },
      "source": [
        "**lower( )** converts any capital letter to small letter."
      ]
    },
    {
      "cell_type": "code",
      "execution_count": null,
      "metadata": {
        "jupyter": {
          "outputs_hidden": false
        },
        "id": "uCj-rwjNHNMt",
        "outputId": "227007f5-3e40-48b8-f9c3-451c6efbfe3d",
        "colab": {
          "base_uri": "https://localhost:8080/"
        }
      },
      "outputs": [
        {
          "output_type": "stream",
          "name": "stdout",
          "text": [
            "Taj Mahal is beautiful\n",
            "taj mahal is beautiful\n"
          ]
        }
      ],
      "source": [
        "print (String0)\n",
        "print (String0.lower())"
      ]
    },
    {
      "cell_type": "markdown",
      "metadata": {
        "id": "xRnxgiBgHNMt"
      },
      "source": [
        "**upper( )** converts any small letter to capital letter."
      ]
    },
    {
      "cell_type": "code",
      "execution_count": null,
      "metadata": {
        "jupyter": {
          "outputs_hidden": false
        },
        "id": "UH2Lg0JkHNMt",
        "outputId": "a52e731e-83cb-4e73-c0d5-32044ebddb4f",
        "colab": {
          "base_uri": "https://localhost:8080/",
          "height": 465
        }
      },
      "outputs": [
        {
          "output_type": "execute_result",
          "data": {
            "text/plain": [
              "'TAJ MAHAL IS BEAUTIFUL'"
            ],
            "application/vnd.google.colaboratory.intrinsic+json": {
              "type": "string"
            }
          },
          "metadata": {},
          "execution_count": 41
        }
      ],
      "source": [
        "String0.upper()"
      ]
    },
    {
      "cell_type": "markdown",
      "metadata": {
        "id": "yT6Q1buLHNMt"
      },
      "source": [
        "**replace( )** function replaces the element with another element."
      ]
    },
    {
      "cell_type": "code",
      "execution_count": null,
      "metadata": {
        "jupyter": {
          "outputs_hidden": false
        },
        "id": "JPXGUsrVHNMt",
        "outputId": "20ca2c78-97e7-4a41-b05e-e8b420b7bbf0",
        "colab": {
          "base_uri": "https://localhost:8080/",
          "height": 465
        }
      },
      "outputs": [
        {
          "output_type": "execute_result",
          "data": {
            "text/plain": [
              "'Bengaluru is beautiful'"
            ],
            "application/vnd.google.colaboratory.intrinsic+json": {
              "type": "string"
            }
          },
          "metadata": {},
          "execution_count": 42
        }
      ],
      "source": [
        "String0.replace('Taj Mahal','Bengaluru')"
      ]
    },
    {
      "cell_type": "markdown",
      "metadata": {
        "id": "DYUwONttHNMt"
      },
      "source": [
        "**strip( )** function is used to delete elements from the right end and the left end which is not required."
      ]
    },
    {
      "cell_type": "code",
      "execution_count": null,
      "metadata": {
        "collapsed": true,
        "jupyter": {
          "outputs_hidden": true
        },
        "id": "nn0TNNpmHNMu"
      },
      "outputs": [],
      "source": [
        "f = '    hello      '"
      ]
    },
    {
      "cell_type": "markdown",
      "metadata": {
        "id": "ZxjPN0koHNMu"
      },
      "source": [
        "If no char is specified then it will delete all the spaces that is present in the right and left hand side of the data."
      ]
    },
    {
      "cell_type": "code",
      "execution_count": null,
      "metadata": {
        "jupyter": {
          "outputs_hidden": false
        },
        "id": "BOxh9Tn0HNMu",
        "outputId": "512a4e0b-27f0-47bf-c017-56664cf28bdb",
        "colab": {
          "base_uri": "https://localhost:8080/",
          "height": 176
        }
      },
      "outputs": [
        {
          "output_type": "execute_result",
          "data": {
            "text/plain": [
              "'hello'"
            ],
            "application/vnd.google.colaboratory.intrinsic+json": {
              "type": "string"
            }
          },
          "metadata": {},
          "execution_count": 44
        }
      ],
      "source": [
        "f.strip()"
      ]
    },
    {
      "cell_type": "markdown",
      "metadata": {
        "id": "KnVZNDKsHNMu"
      },
      "source": [
        "**strip( )** function, when a char is specified then it deletes that char if it is present in the two ends of the specified string."
      ]
    },
    {
      "cell_type": "code",
      "execution_count": null,
      "metadata": {
        "collapsed": true,
        "jupyter": {
          "outputs_hidden": true
        },
        "id": "VxzES-VOHNMu"
      },
      "outputs": [],
      "source": [
        "f = '   ***----hello---*******     '"
      ]
    },
    {
      "cell_type": "code",
      "execution_count": null,
      "metadata": {
        "jupyter": {
          "outputs_hidden": false
        },
        "id": "zEtKAGFEHNMu",
        "outputId": "6bb9889f-cd35-43f8-e148-7a462f5cf131",
        "colab": {
          "base_uri": "https://localhost:8080/",
          "height": 601
        }
      },
      "outputs": [
        {
          "output_type": "execute_result",
          "data": {
            "text/plain": [
              "'   ***----hello---*******     '"
            ],
            "application/vnd.google.colaboratory.intrinsic+json": {
              "type": "string"
            }
          },
          "metadata": {},
          "execution_count": 46
        }
      ],
      "source": [
        "f.strip('*')"
      ]
    },
    {
      "cell_type": "markdown",
      "metadata": {
        "id": "W2TAgZgnHNMv"
      },
      "source": [
        "The asterisk had to be deleted but is not. This is because there is a space in both the right and left hand side. So in strip function. The characters need to be inputted in the specific order in which they are present."
      ]
    },
    {
      "cell_type": "code",
      "execution_count": null,
      "metadata": {
        "jupyter": {
          "outputs_hidden": false
        },
        "id": "PEN4dsJYHNMv",
        "outputId": "a404f2c6-ed39-4495-db35-a5c79ee38a20",
        "colab": {
          "base_uri": "https://localhost:8080/"
        }
      },
      "outputs": [
        {
          "output_type": "stream",
          "name": "stdout",
          "text": [
            "----hello---\n",
            "hello\n"
          ]
        }
      ],
      "source": [
        "print (f.strip(' *'))\n",
        "print (f.strip(' *-'))"
      ]
    },
    {
      "cell_type": "markdown",
      "metadata": {
        "id": "-FjqYirhHNMv"
      },
      "source": [
        "**lstrip( )** and **rstrip( )** function have the same functionality as strip function but the only difference is **lstrip( )** deletes only towards the left side and **rstrip( )** towards the right."
      ]
    },
    {
      "cell_type": "code",
      "execution_count": null,
      "metadata": {
        "jupyter": {
          "outputs_hidden": false
        },
        "id": "qY0II8k0HNMv",
        "outputId": "890248a5-64ac-406c-9224-6aabe7b8561d",
        "colab": {
          "base_uri": "https://localhost:8080/"
        }
      },
      "outputs": [
        {
          "output_type": "stream",
          "name": "stdout",
          "text": [
            "----hello---*******     \n",
            "   ***----hello---\n"
          ]
        }
      ],
      "source": [
        "print (f.lstrip(' *'))\n",
        "print (f.rstrip(' *'))"
      ]
    },
    {
      "cell_type": "markdown",
      "metadata": {
        "id": "wHXUp8ptHNMv"
      },
      "source": [
        "## Dictionaries"
      ]
    },
    {
      "cell_type": "markdown",
      "metadata": {
        "id": "mRZ0T5eSHNMv"
      },
      "source": [
        "Dictionaries are more used like a database because here you can index a particular sequence with your user defined string."
      ]
    },
    {
      "cell_type": "markdown",
      "metadata": {
        "id": "j8bWCifnHNMv"
      },
      "source": [
        "To define a dictionary, equate a variable to { } or dict()"
      ]
    },
    {
      "cell_type": "code",
      "execution_count": null,
      "metadata": {
        "jupyter": {
          "outputs_hidden": false
        },
        "id": "nLIcszTEHNMw",
        "outputId": "6a4d950b-c5bb-4a50-c49b-8bc2bf8679db",
        "colab": {
          "base_uri": "https://localhost:8080/"
        }
      },
      "outputs": [
        {
          "output_type": "stream",
          "name": "stdout",
          "text": [
            "<class 'dict'> <class 'dict'>\n"
          ]
        }
      ],
      "source": [
        "d0 = {}\n",
        "d1 = dict()\n",
        "print (type(d0), type(d1))"
      ]
    },
    {
      "cell_type": "markdown",
      "metadata": {
        "id": "0A_NKyQLHNMw"
      },
      "source": [
        "Dictionary works somewhat like a list but with an added capability of assigning it's own index style."
      ]
    },
    {
      "cell_type": "code",
      "execution_count": null,
      "metadata": {
        "jupyter": {
          "outputs_hidden": false
        },
        "id": "EZZtjPSGHNMw",
        "outputId": "bec470a8-0e0a-49e1-d604-a9e69370d410",
        "colab": {
          "base_uri": "https://localhost:8080/"
        }
      },
      "outputs": [
        {
          "output_type": "stream",
          "name": "stdout",
          "text": [
            "{'One': 1, 'OneTwo': '12'}\n"
          ]
        }
      ],
      "source": [
        "d0['One'] = 1\n",
        "d0['OneTwo'] = \"12\" \n",
        "print (d0)"
      ]
    },
    {
      "cell_type": "markdown",
      "metadata": {
        "id": "4uVTfgg3HNMw"
      },
      "source": [
        "That is how a dictionary looks like. Now you are able to access '1' by the index value set at 'One'"
      ]
    },
    {
      "cell_type": "code",
      "execution_count": null,
      "metadata": {
        "jupyter": {
          "outputs_hidden": false
        },
        "id": "kSCMhEHlHNMw",
        "outputId": "2a7c5082-2252-4880-8b9f-2cc161b468d5",
        "colab": {
          "base_uri": "https://localhost:8080/"
        }
      },
      "outputs": [
        {
          "output_type": "stream",
          "name": "stdout",
          "text": [
            "1\n"
          ]
        }
      ],
      "source": [
        "print (d0['One'])"
      ]
    },
    {
      "cell_type": "markdown",
      "metadata": {
        "id": "5ZeAfrgFHNMx"
      },
      "source": [
        "Two lists which are related can be merged to form a dictionary."
      ]
    },
    {
      "cell_type": "code",
      "execution_count": null,
      "metadata": {
        "jupyter": {
          "outputs_hidden": false
        },
        "id": "oXB08rXDHNMx"
      },
      "outputs": [],
      "source": [
        "names = ['One', 'Two', 'Three', 'Four', 'Five']\n",
        "numbers = [1, 2, 3, 4, 5,8]"
      ]
    },
    {
      "cell_type": "markdown",
      "metadata": {
        "id": "HQYMaTqfHNMx"
      },
      "source": [
        "**zip( )** function is used to combine two lists"
      ]
    },
    {
      "cell_type": "code",
      "execution_count": null,
      "metadata": {
        "jupyter": {
          "outputs_hidden": false
        },
        "id": "rArFunb6HNMx",
        "outputId": "376ffb94-e528-4806-c109-cbc5c5f4c88b",
        "colab": {
          "base_uri": "https://localhost:8080/"
        }
      },
      "outputs": [
        {
          "output_type": "stream",
          "name": "stdout",
          "text": [
            "<zip object at 0x7f15fc1cf230>\n"
          ]
        }
      ],
      "source": [
        "d2 = zip(names,numbers)\n",
        "print (d2)"
      ]
    },
    {
      "cell_type": "markdown",
      "metadata": {
        "id": "Q36aGWI0HNMx"
      },
      "source": [
        "The two lists are combined to form a single list and each elements are clubbed with their respective elements from the other list inside a tuple. Tuples because that is what is assigned and the value should not change.\n",
        "\n",
        "Further, To convert the above into a dictionary. **dict( )** function is used."
      ]
    },
    {
      "cell_type": "code",
      "execution_count": null,
      "metadata": {
        "jupyter": {
          "outputs_hidden": false
        },
        "id": "Pd4-KljuHNMx",
        "outputId": "c3fe5274-6bb3-4736-b38f-f37ededa364a",
        "colab": {
          "base_uri": "https://localhost:8080/"
        }
      },
      "outputs": [
        {
          "output_type": "stream",
          "name": "stdout",
          "text": [
            "{'One': 1, 'Two': 2, 'Three': 3, 'Four': 4, 'Five': 5}\n"
          ]
        }
      ],
      "source": [
        "a1 = dict(d2)\n",
        "print (a1)"
      ]
    },
    {
      "cell_type": "markdown",
      "metadata": {
        "id": "8W_scji-HNMy"
      },
      "source": [
        "### Built-in Functions"
      ]
    },
    {
      "cell_type": "markdown",
      "metadata": {
        "id": "Bg6OPueeHNMy"
      },
      "source": [
        "**clear( )** function is used to erase the entire database that was created."
      ]
    },
    {
      "cell_type": "code",
      "execution_count": null,
      "metadata": {
        "jupyter": {
          "outputs_hidden": false
        },
        "id": "Ue9xCcdtHNMy",
        "outputId": "67485f37-edb7-4e5d-f79f-9ba20b44b933",
        "colab": {
          "base_uri": "https://localhost:8080/"
        }
      },
      "outputs": [
        {
          "output_type": "stream",
          "name": "stdout",
          "text": [
            "{}\n"
          ]
        }
      ],
      "source": [
        "a1.clear()\n",
        "print (a1)"
      ]
    },
    {
      "cell_type": "markdown",
      "metadata": {
        "id": "kfK8-2GfHNMy"
      },
      "source": [
        "Dictionary can also be built using loops."
      ]
    },
    {
      "cell_type": "code",
      "execution_count": null,
      "metadata": {
        "jupyter": {
          "outputs_hidden": false
        },
        "id": "06LSS51PHNMy",
        "outputId": "d8f7f3a7-439c-4191-a0c7-1691354c7b65",
        "colab": {
          "base_uri": "https://localhost:8080/"
        }
      },
      "outputs": [
        {
          "output_type": "stream",
          "name": "stdout",
          "text": [
            "{'One': 1, 'Two': 2, 'Three': 3, 'Four': 4, 'Five': 5}\n"
          ]
        }
      ],
      "source": [
        "for i in range(len(names)):\n",
        "    a1[names[i]] = numbers[i]\n",
        "print (a1)"
      ]
    },
    {
      "cell_type": "markdown",
      "metadata": {
        "id": "qiJmfd2bHNMy"
      },
      "source": [
        "**values( )** function returns a list with all the assigned values in the dictionary."
      ]
    },
    {
      "cell_type": "code",
      "execution_count": null,
      "metadata": {
        "jupyter": {
          "outputs_hidden": false
        },
        "id": "odBSmLB3HNMz",
        "outputId": "dc1f4594-a408-42f9-c44e-444e70b283e6",
        "colab": {
          "base_uri": "https://localhost:8080/"
        }
      },
      "outputs": [
        {
          "output_type": "execute_result",
          "data": {
            "text/plain": [
              "dict_values([1, 2, 3, 4, 5])"
            ]
          },
          "metadata": {},
          "execution_count": 57
        }
      ],
      "source": [
        "a1.values()"
      ]
    },
    {
      "cell_type": "markdown",
      "metadata": {
        "id": "c-vC93ORHNMz"
      },
      "source": [
        "**keys( )** function returns all the index or the keys to which contains the values that it was assigned to."
      ]
    },
    {
      "cell_type": "code",
      "execution_count": null,
      "metadata": {
        "jupyter": {
          "outputs_hidden": false
        },
        "id": "OozE3tl9HNMz",
        "outputId": "8b4f25eb-f71e-4a68-f50d-6ffa88fe888d",
        "colab": {
          "base_uri": "https://localhost:8080/"
        }
      },
      "outputs": [
        {
          "output_type": "execute_result",
          "data": {
            "text/plain": [
              "dict_keys(['One', 'Two', 'Three', 'Four', 'Five'])"
            ]
          },
          "metadata": {},
          "execution_count": 58
        }
      ],
      "source": [
        "a1.keys()"
      ]
    },
    {
      "cell_type": "markdown",
      "metadata": {
        "id": "gHrHKM1jHNMz"
      },
      "source": [
        "**items( )** is returns a list containing both the list but each element in the dictionary is inside a tuple. This is same as the result that was obtained when zip function was used."
      ]
    },
    {
      "cell_type": "code",
      "execution_count": null,
      "metadata": {
        "jupyter": {
          "outputs_hidden": false
        },
        "id": "zzAhhzWJHNMz",
        "outputId": "ba6e72be-11f1-470f-fd7e-3c451c6598ca",
        "colab": {
          "base_uri": "https://localhost:8080/"
        }
      },
      "outputs": [
        {
          "output_type": "execute_result",
          "data": {
            "text/plain": [
              "dict_items([('One', 1), ('Two', 2), ('Three', 3), ('Four', 4), ('Five', 5)])"
            ]
          },
          "metadata": {},
          "execution_count": 59
        }
      ],
      "source": [
        "a1.items()"
      ]
    },
    {
      "cell_type": "markdown",
      "metadata": {
        "id": "tqv9BsBXHNMz"
      },
      "source": [
        "**pop( )** function is used to get the remove that particular element and this removed element can be assigned to a new variable. But remember only the value is stored and not the key. Because the is just a index value."
      ]
    },
    {
      "cell_type": "code",
      "execution_count": null,
      "metadata": {
        "jupyter": {
          "outputs_hidden": false
        },
        "id": "BDSRVTatHNM0",
        "outputId": "5e1a01aa-ac70-4b3b-ee3c-af8d1cd84a4a",
        "colab": {
          "base_uri": "https://localhost:8080/"
        }
      },
      "outputs": [
        {
          "output_type": "stream",
          "name": "stdout",
          "text": [
            "{'One': 1, 'Two': 2, 'Three': 3, 'Five': 5}\n",
            "4\n"
          ]
        }
      ],
      "source": [
        "a2 = a1.pop('Four')\n",
        "print (a1)\n",
        "print (a2)"
      ]
    },
    {
      "cell_type": "code",
      "execution_count": null,
      "metadata": {
        "id": "lj0Wje95HNM0"
      },
      "outputs": [],
      "source": [
        ""
      ]
    }
  ],
  "metadata": {
    "kernelspec": {
      "display_name": "Python 3",
      "language": "python",
      "name": "python3"
    },
    "language_info": {
      "codemirror_mode": {
        "name": "ipython",
        "version": 3
      },
      "file_extension": ".py",
      "mimetype": "text/x-python",
      "name": "python",
      "nbconvert_exporter": "python",
      "pygments_lexer": "ipython3",
      "version": "3.7.6"
    },
    "colab": {
      "name": "Intro02_strings.ipynb",
      "provenance": [],
      "collapsed_sections": [
        "juIhySHgHNMg",
        "Y1ajBk2QHNMk",
        "cZzKYF9PHNMm",
        "wHXUp8ptHNMv",
        "8W_scji-HNMy"
      ],
      "include_colab_link": true
    }
  },
  "nbformat": 4,
  "nbformat_minor": 0
}