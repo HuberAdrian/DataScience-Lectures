{
  "cells": [
    {
      "cell_type": "markdown",
      "metadata": {
        "id": "view-in-github",
        "colab_type": "text"
      },
      "source": [
        "<a href=\"https://colab.research.google.com/github/HuberAdrian/DataScience-Lectures/blob/main/Introduction_Numpy.ipynb\" target=\"_parent\"><img src=\"https://colab.research.google.com/assets/colab-badge.svg\" alt=\"Open In Colab\"/></a>"
      ]
    },
    {
      "cell_type": "markdown",
      "metadata": {
        "id": "JC_d5wf2_yNp"
      },
      "source": [
        "# Numpy -  multidimensional data arrays"
      ]
    },
    {
      "cell_type": "markdown",
      "metadata": {
        "id": "2_EA2Rqx_yNq"
      },
      "source": [
        "A modified tutorial based on a notebook by J.R. Johansson <BR>\n",
        "<it>(Creative Commons Attribution 3.0 Unported License.)</it>\n",
        "\n",
        "Ported to Python3 by Janis Keuper, HS Offenburg\n"
      ]
    },
    {
      "cell_type": "code",
      "execution_count": null,
      "metadata": {
        "id": "xwNkfZEw_yNr"
      },
      "outputs": [],
      "source": [
        "# setup\n",
        "%matplotlib inline\n",
        "import matplotlib.pyplot as plt #common convention"
      ]
    },
    {
      "cell_type": "markdown",
      "metadata": {
        "id": "Tpc8pwTD_yNs"
      },
      "source": [
        "## Introduction"
      ]
    },
    {
      "cell_type": "markdown",
      "metadata": {
        "id": "7xvJcfDV_yNs"
      },
      "source": [
        "The `numpy` package (module) is used in almost all numerical computation using Python. It is a package that provide high-performance vector, matrix and higher-dimensional data structures for Python. It is implemented in C and Fortran so when calculations are vectorized (formulated with vectors and matrices), performance is very good. \n",
        "\n",
        "To use `numpy` you need to import the module, using for example:"
      ]
    },
    {
      "cell_type": "code",
      "execution_count": null,
      "metadata": {
        "id": "COsE2iz8_yNs"
      },
      "outputs": [],
      "source": [
        "import numpy as np #common convention"
      ]
    },
    {
      "cell_type": "markdown",
      "metadata": {
        "id": "dZ7BQxCG_yNt"
      },
      "source": [
        "In the `numpy` package the terminology used for vectors, matrices and higher-dimensional data sets is *array*. \n",
        "\n"
      ]
    },
    {
      "cell_type": "markdown",
      "metadata": {
        "id": "7TcYZJQg_yNt"
      },
      "source": [
        "## Creating `numpy` arrays"
      ]
    },
    {
      "cell_type": "markdown",
      "metadata": {
        "id": "PZJTkJbh_yNt"
      },
      "source": [
        "There are a number of ways to initialize new numpy arrays, for example from\n",
        "\n",
        "* a Python list or tuples\n",
        "* using functions that are dedicated to generating numpy arrays, such as `arange`, `linspace`, etc.\n",
        "* reading data from files"
      ]
    },
    {
      "cell_type": "markdown",
      "metadata": {
        "id": "pvgPVs6d_yNu"
      },
      "source": [
        "### From lists"
      ]
    },
    {
      "cell_type": "markdown",
      "metadata": {
        "id": "X7odiVlc_yNu"
      },
      "source": [
        "For example, to create new vector and matrix arrays from Python lists we can use the `numpy.array` function."
      ]
    },
    {
      "cell_type": "code",
      "execution_count": null,
      "metadata": {
        "id": "L6xLX_Ck_yNu",
        "colab": {
          "base_uri": "https://localhost:8080/"
        },
        "outputId": "b0b7e49e-f929-4366-ec8d-efe1588eba43"
      },
      "outputs": [
        {
          "output_type": "execute_result",
          "data": {
            "text/plain": [
              "array([1, 2, 3, 5])"
            ]
          },
          "metadata": {},
          "execution_count": 4
        }
      ],
      "source": [
        "# a vector: the argument to the array function is a Python list\n",
        "v = np.array([1,2,3,5])\n",
        "\n",
        "v"
      ]
    },
    {
      "cell_type": "code",
      "execution_count": null,
      "metadata": {
        "id": "hX1TjdoP_yNv",
        "colab": {
          "base_uri": "https://localhost:8080/"
        },
        "outputId": "169db4e9-4624-4563-ef65-922fa5dc3322"
      },
      "outputs": [
        {
          "output_type": "execute_result",
          "data": {
            "text/plain": [
              "array([[1, 2],\n",
              "       [3, 4]])"
            ]
          },
          "metadata": {},
          "execution_count": 5
        }
      ],
      "source": [
        "# a matrix: the argument to the array function is a nested Python list\n",
        "M = np.array([[1, 2], [3, 4 ]])\n",
        "\n",
        "M"
      ]
    },
    {
      "cell_type": "markdown",
      "metadata": {
        "id": "0C25QUzk_yNv"
      },
      "source": [
        "The `v` and `M` objects are both of the type `ndarray` that the `numpy` module provides."
      ]
    },
    {
      "cell_type": "code",
      "execution_count": null,
      "metadata": {
        "id": "pwgohb_G_yNv",
        "colab": {
          "base_uri": "https://localhost:8080/"
        },
        "outputId": "e5868cd7-11dd-4abe-b050-85bdcd2ec3ac"
      },
      "outputs": [
        {
          "output_type": "execute_result",
          "data": {
            "text/plain": [
              "(numpy.ndarray, numpy.ndarray)"
            ]
          },
          "metadata": {},
          "execution_count": 6
        }
      ],
      "source": [
        "type(v), type(M)"
      ]
    },
    {
      "cell_type": "markdown",
      "metadata": {
        "id": "Ojh2cgfV_yNw"
      },
      "source": [
        "The difference between the `v` and `M` arrays is only their shapes. We can get information about the shape of an array by using the `ndarray.shape` property."
      ]
    },
    {
      "cell_type": "code",
      "execution_count": null,
      "metadata": {
        "id": "DPLdqdoW_yNw",
        "colab": {
          "base_uri": "https://localhost:8080/"
        },
        "outputId": "5b7449dd-0950-4700-db83-fd567aaf7994"
      },
      "outputs": [
        {
          "output_type": "execute_result",
          "data": {
            "text/plain": [
              "(4,)"
            ]
          },
          "metadata": {},
          "execution_count": 7
        }
      ],
      "source": [
        "v.shape"
      ]
    },
    {
      "cell_type": "code",
      "execution_count": null,
      "metadata": {
        "id": "jb8QDwlv_yNw",
        "colab": {
          "base_uri": "https://localhost:8080/"
        },
        "outputId": "afe8ff7c-4eaf-4cff-f667-115ee6f8a82e"
      },
      "outputs": [
        {
          "output_type": "execute_result",
          "data": {
            "text/plain": [
              "(2, 2)"
            ]
          },
          "metadata": {},
          "execution_count": 8
        }
      ],
      "source": [
        "M.shape"
      ]
    },
    {
      "cell_type": "markdown",
      "metadata": {
        "id": "Cqkz6Tlh_yNw"
      },
      "source": [
        "The number of elements in the array is available through the `ndarray.size` property:"
      ]
    },
    {
      "cell_type": "code",
      "execution_count": null,
      "metadata": {
        "id": "d_waB7tf_yNx",
        "colab": {
          "base_uri": "https://localhost:8080/"
        },
        "outputId": "b9e7e7c3-0c7b-4d49-ab86-b385e464049c"
      },
      "outputs": [
        {
          "output_type": "execute_result",
          "data": {
            "text/plain": [
              "4"
            ]
          },
          "metadata": {},
          "execution_count": 9
        }
      ],
      "source": [
        "M.size"
      ]
    },
    {
      "cell_type": "markdown",
      "metadata": {
        "id": "WO2HgL_O_yNx"
      },
      "source": [
        "Equivalently, we could use the function `numpy.shape` and `numpy.size`"
      ]
    },
    {
      "cell_type": "code",
      "execution_count": null,
      "metadata": {
        "id": "aTNn48Fx_yNx",
        "colab": {
          "base_uri": "https://localhost:8080/"
        },
        "outputId": "d53b41c3-55ea-4925-91ef-c9e9b2122ff8"
      },
      "outputs": [
        {
          "output_type": "execute_result",
          "data": {
            "text/plain": [
              "(2, 2)"
            ]
          },
          "metadata": {},
          "execution_count": 10
        }
      ],
      "source": [
        "np.shape(M)"
      ]
    },
    {
      "cell_type": "code",
      "execution_count": null,
      "metadata": {
        "id": "0q12H5Kb_yNy",
        "colab": {
          "base_uri": "https://localhost:8080/"
        },
        "outputId": "bd7d73ff-a045-499f-88c7-8fa5478594be"
      },
      "outputs": [
        {
          "output_type": "execute_result",
          "data": {
            "text/plain": [
              "4"
            ]
          },
          "metadata": {},
          "execution_count": 11
        }
      ],
      "source": [
        "np.size(M)"
      ]
    },
    {
      "cell_type": "markdown",
      "metadata": {
        "id": "Sf6ai65I_yNy"
      },
      "source": [
        "So far the `numpy.ndarray` looks awefully much like a Python list (or nested list). Why not simply use Python lists for computations instead of creating a new array type? \n",
        "\n",
        "There are several reasons: \n",
        "\n",
        "* Python lists are very general. They can contain any kind of object. They are dynamically typed. They do not support mathematical functions such as matrix and dot multiplications, etc. Implementing such functions for Python lists would not be very efficient because of the dynamic typing.\n",
        "* Numpy arrays are **statically typed** and **homogeneous**. The type of the elements is determined when the array is created.\n",
        "* Numpy arrays are memory efficient.\n",
        "* Because of the static typing, fast implementation of mathematical functions such as multiplication and addition of `numpy` arrays can be implemented in a compiled language (C and Fortran is used)."
      ]
    },
    {
      "cell_type": "markdown",
      "metadata": {
        "id": "Y4rKtZiG_yNy"
      },
      "source": [
        "Using the `dtype` (data type) property of an `ndarray`, we can see what type the data of an array has:"
      ]
    },
    {
      "cell_type": "code",
      "execution_count": null,
      "metadata": {
        "id": "LV8oz_Wa_yNy",
        "colab": {
          "base_uri": "https://localhost:8080/"
        },
        "outputId": "e5d23b9f-6f9e-4feb-9e7d-3d613657d142"
      },
      "outputs": [
        {
          "output_type": "execute_result",
          "data": {
            "text/plain": [
              "dtype('int64')"
            ]
          },
          "metadata": {},
          "execution_count": 12
        }
      ],
      "source": [
        "M.dtype"
      ]
    },
    {
      "cell_type": "markdown",
      "metadata": {
        "id": "gsBdO9eY_yNz"
      },
      "source": [
        "We get an error if we try to assign a value of the wrong type to an element in a numpy array:"
      ]
    },
    {
      "cell_type": "code",
      "execution_count": null,
      "metadata": {
        "id": "hS8l19nN_yNz"
      },
      "outputs": [],
      "source": [
        "M[0,0] = \"hello\""
      ]
    },
    {
      "cell_type": "markdown",
      "metadata": {
        "id": "yvxHnZOj_yNz"
      },
      "source": [
        "If we want, we can explicitly define the type of the array data when we create it, using the `dtype` keyword argument: "
      ]
    },
    {
      "cell_type": "code",
      "execution_count": null,
      "metadata": {
        "id": "Ib61Tn-s_yNz",
        "colab": {
          "base_uri": "https://localhost:8080/"
        },
        "outputId": "03a51423-9708-4d41-e4d1-9cbb3b1ca7b6"
      },
      "outputs": [
        {
          "output_type": "execute_result",
          "data": {
            "text/plain": [
              "array([[1.+0.j, 2.+0.j],\n",
              "       [3.+0.j, 4.+0.j]])"
            ]
          },
          "metadata": {},
          "execution_count": 14
        }
      ],
      "source": [
        "M = np.array([[1, 2], [3, 4]], dtype=complex)\n",
        "\n",
        "M"
      ]
    },
    {
      "cell_type": "markdown",
      "metadata": {
        "id": "7Ja0gLya_yNz"
      },
      "source": [
        "Common data types that can be used with `dtype` are: `int`, `float`, `complex`, `bool`, `object`, etc.\n",
        "\n",
        "We can also explicitly define the bit size of the data types, for example: `int64`, `int16`, `float128`, `complex128`."
      ]
    },
    {
      "cell_type": "markdown",
      "metadata": {
        "id": "ijVmB6Xj_yN0"
      },
      "source": [
        "### Using array-generating functions"
      ]
    },
    {
      "cell_type": "markdown",
      "metadata": {
        "id": "WrTk1b0c_yN0"
      },
      "source": [
        "For larger arrays it is inpractical to initialize the data manually, using explicit python lists. Instead we can use one of the many functions in `numpy` that generate arrays of different forms. Some of the more common are:"
      ]
    },
    {
      "cell_type": "markdown",
      "metadata": {
        "id": "bm3Dmj31_yN0"
      },
      "source": [
        "#### arange"
      ]
    },
    {
      "cell_type": "code",
      "execution_count": null,
      "metadata": {
        "id": "kQtyoEsL_yN1",
        "colab": {
          "base_uri": "https://localhost:8080/"
        },
        "outputId": "3177b295-7a2e-4eba-af40-f6351a50ca97"
      },
      "outputs": [
        {
          "output_type": "execute_result",
          "data": {
            "text/plain": [
              "array([0, 1, 2, 3, 4, 5, 6, 7, 8, 9])"
            ]
          },
          "metadata": {},
          "execution_count": 15
        }
      ],
      "source": [
        "# create a range\n",
        "\n",
        "x = np.arange(0, 10, 1) # arguments: start, stop, step\n",
        "\n",
        "x"
      ]
    },
    {
      "cell_type": "code",
      "execution_count": null,
      "metadata": {
        "id": "jQdFtQGU_yN1",
        "colab": {
          "base_uri": "https://localhost:8080/"
        },
        "outputId": "75d00a09-61dc-49d2-dcc9-6bb5193208ef"
      },
      "outputs": [
        {
          "output_type": "execute_result",
          "data": {
            "text/plain": [
              "array([-1.00000000e+00, -9.00000000e-01, -8.00000000e-01, -7.00000000e-01,\n",
              "       -6.00000000e-01, -5.00000000e-01, -4.00000000e-01, -3.00000000e-01,\n",
              "       -2.00000000e-01, -1.00000000e-01, -2.22044605e-16,  1.00000000e-01,\n",
              "        2.00000000e-01,  3.00000000e-01,  4.00000000e-01,  5.00000000e-01,\n",
              "        6.00000000e-01,  7.00000000e-01,  8.00000000e-01,  9.00000000e-01])"
            ]
          },
          "metadata": {},
          "execution_count": 16
        }
      ],
      "source": [
        "x = np.arange(-1, 1, 0.1)\n",
        "\n",
        "x"
      ]
    },
    {
      "cell_type": "markdown",
      "metadata": {
        "id": "6MQn9xdK_yN1"
      },
      "source": [
        "#### linspace and logspace"
      ]
    },
    {
      "cell_type": "code",
      "execution_count": null,
      "metadata": {
        "id": "gtivuL-t_yN1"
      },
      "outputs": [],
      "source": [
        "# using linspace, both end points ARE included\n",
        "np.linspace(0, 10, 25)"
      ]
    },
    {
      "cell_type": "code",
      "execution_count": null,
      "metadata": {
        "id": "cEWUFgB7_yN2"
      },
      "outputs": [],
      "source": [
        "np.logspace(0, 10, 10, base=2)"
      ]
    },
    {
      "cell_type": "markdown",
      "metadata": {
        "id": "dVpOxWLj_yN2"
      },
      "source": [
        "#### mgrid"
      ]
    },
    {
      "cell_type": "code",
      "execution_count": null,
      "metadata": {
        "id": "f3XEeDAB_yN2"
      },
      "outputs": [],
      "source": [
        "x, y = np.mgrid[0:5, 0:5] # similar to meshgrid in MATLAB"
      ]
    },
    {
      "cell_type": "code",
      "execution_count": null,
      "metadata": {
        "id": "Hy_3h0wZ_yN2",
        "colab": {
          "base_uri": "https://localhost:8080/"
        },
        "outputId": "e71b8674-5783-48b6-9fd9-a937999172fd"
      },
      "outputs": [
        {
          "output_type": "execute_result",
          "data": {
            "text/plain": [
              "array([[0, 0, 0, 0, 0],\n",
              "       [1, 1, 1, 1, 1],\n",
              "       [2, 2, 2, 2, 2],\n",
              "       [3, 3, 3, 3, 3],\n",
              "       [4, 4, 4, 4, 4]])"
            ]
          },
          "metadata": {},
          "execution_count": 18
        }
      ],
      "source": [
        "x"
      ]
    },
    {
      "cell_type": "code",
      "execution_count": null,
      "metadata": {
        "id": "7CMXtrex_yN2",
        "colab": {
          "base_uri": "https://localhost:8080/"
        },
        "outputId": "20b15689-7a80-4b4d-9e24-b6c0defce3ea"
      },
      "outputs": [
        {
          "output_type": "execute_result",
          "data": {
            "text/plain": [
              "array([[0, 1, 2, 3, 4],\n",
              "       [0, 1, 2, 3, 4],\n",
              "       [0, 1, 2, 3, 4],\n",
              "       [0, 1, 2, 3, 4],\n",
              "       [0, 1, 2, 3, 4]])"
            ]
          },
          "metadata": {},
          "execution_count": 19
        }
      ],
      "source": [
        "y"
      ]
    },
    {
      "cell_type": "markdown",
      "metadata": {
        "id": "bNIPiV8B_yN3"
      },
      "source": [
        "#### random data"
      ]
    },
    {
      "cell_type": "code",
      "execution_count": null,
      "metadata": {
        "id": "rJxBmoAx_yN3",
        "colab": {
          "base_uri": "https://localhost:8080/"
        },
        "outputId": "7627625d-e9c3-47de-bb10-bf81373eb366"
      },
      "outputs": [
        {
          "output_type": "execute_result",
          "data": {
            "text/plain": [
              "array([[0.56083255, 0.1044874 , 0.55415477, 0.16756551, 0.97440863],\n",
              "       [0.578897  , 0.89640327, 0.18399983, 0.07133521, 0.41484891],\n",
              "       [0.17695338, 0.85925854, 0.31765789, 0.66859636, 0.2368318 ],\n",
              "       [0.50900814, 0.15271709, 0.32961187, 0.850051  , 0.76536721],\n",
              "       [0.0109654 , 0.18940705, 0.73491033, 0.52646449, 0.24134143]])"
            ]
          },
          "metadata": {},
          "execution_count": 20
        }
      ],
      "source": [
        "# uniform random numbers in [0,1]\n",
        "np.random.rand(5,5)"
      ]
    },
    {
      "cell_type": "code",
      "execution_count": null,
      "metadata": {
        "id": "c9HHyUN9_yN3",
        "colab": {
          "base_uri": "https://localhost:8080/"
        },
        "outputId": "95632543-2326-4b2f-8422-5e1a6549a610"
      },
      "outputs": [
        {
          "output_type": "execute_result",
          "data": {
            "text/plain": [
              "array([[-0.4133115 ,  0.97133656,  0.4914957 , -0.20891922, -0.08161078],\n",
              "       [ 0.33959523, -0.52041417,  0.95679377,  0.2859026 ,  1.872975  ],\n",
              "       [ 0.06279687,  0.7798367 ,  0.35865688,  0.24895944,  0.10001834],\n",
              "       [-0.21706947,  0.48314436, -0.02437589,  1.5238147 ,  1.29432287],\n",
              "       [ 0.15687046, -0.91886281,  0.56648632,  1.47407911, -0.12972888]])"
            ]
          },
          "metadata": {},
          "execution_count": 21
        }
      ],
      "source": [
        "# standard normal distributed random numbers\n",
        "np.random.randn(5,5)"
      ]
    },
    {
      "cell_type": "markdown",
      "metadata": {
        "id": "Ohf-Jn4N_yN3"
      },
      "source": [
        "#### diag"
      ]
    },
    {
      "cell_type": "code",
      "execution_count": null,
      "metadata": {
        "id": "hmWn_jSg_yN4",
        "colab": {
          "base_uri": "https://localhost:8080/"
        },
        "outputId": "c8155996-2d66-4939-cbf1-ce6d5a3c846a"
      },
      "outputs": [
        {
          "output_type": "execute_result",
          "data": {
            "text/plain": [
              "array([[1, 0, 0],\n",
              "       [0, 2, 0],\n",
              "       [0, 0, 3]])"
            ]
          },
          "metadata": {},
          "execution_count": 22
        }
      ],
      "source": [
        "# a diagonal matrix\n",
        "np.diag([1,2,3])"
      ]
    },
    {
      "cell_type": "code",
      "execution_count": null,
      "metadata": {
        "id": "fRjoVn3L_yN4",
        "colab": {
          "base_uri": "https://localhost:8080/"
        },
        "outputId": "cb16fe19-caef-48dc-bc5d-a4fb861f7877"
      },
      "outputs": [
        {
          "output_type": "execute_result",
          "data": {
            "text/plain": [
              "array([[0, 1, 0, 0],\n",
              "       [0, 0, 2, 0],\n",
              "       [0, 0, 0, 3],\n",
              "       [0, 0, 0, 0]])"
            ]
          },
          "metadata": {},
          "execution_count": 23
        }
      ],
      "source": [
        "# diagonal with offset from the main diagonal\n",
        "np.diag([1,2,3], k=1) "
      ]
    },
    {
      "cell_type": "markdown",
      "metadata": {
        "id": "87WFXDJh_yN4"
      },
      "source": [
        "#### zeros and ones"
      ]
    },
    {
      "cell_type": "code",
      "execution_count": null,
      "metadata": {
        "id": "_Ix1HUpn_yN4",
        "colab": {
          "base_uri": "https://localhost:8080/"
        },
        "outputId": "bfce3801-1312-446b-9f6d-8d8425e920ed"
      },
      "outputs": [
        {
          "output_type": "execute_result",
          "data": {
            "text/plain": [
              "array([[0., 0., 0.],\n",
              "       [0., 0., 0.],\n",
              "       [0., 0., 0.]])"
            ]
          },
          "metadata": {},
          "execution_count": 24
        }
      ],
      "source": [
        "np.zeros((3,3))"
      ]
    },
    {
      "cell_type": "code",
      "execution_count": null,
      "metadata": {
        "id": "-CsIJaLm_yN4",
        "colab": {
          "base_uri": "https://localhost:8080/"
        },
        "outputId": "1a26a308-96c8-46fd-d9fb-695645bf9a75"
      },
      "outputs": [
        {
          "output_type": "execute_result",
          "data": {
            "text/plain": [
              "array([[1., 1., 1.],\n",
              "       [1., 1., 1.],\n",
              "       [1., 1., 1.]])"
            ]
          },
          "metadata": {},
          "execution_count": 25
        }
      ],
      "source": [
        "np.ones((3,3))"
      ]
    },
    {
      "cell_type": "markdown",
      "metadata": {
        "id": "OBT9GTHl_yN5"
      },
      "source": [
        "## NumPy File I/O"
      ]
    },
    {
      "cell_type": "markdown",
      "metadata": {
        "id": "ETPkH7md_yN5"
      },
      "source": [
        "### Comma-separated values (CSV)"
      ]
    },
    {
      "cell_type": "markdown",
      "metadata": {
        "id": "i6K14h6k_yN5"
      },
      "source": [
        "A very common file format for data files is comma-separated values (CSV), or related formats such as TSV (tab-separated values). To read data from such files into Numpy arrays we can use the `numpy.genfromtxt` function. For example, "
      ]
    },
    {
      "cell_type": "code",
      "execution_count": null,
      "metadata": {
        "id": "BiYxiu0l_yN5"
      },
      "outputs": [],
      "source": [
        "data = np.genfromtxt('../../DATA/stockholm_td_adj.dat')"
      ]
    },
    {
      "cell_type": "markdown",
      "metadata": {
        "id": "SfSqZnHY_yN5"
      },
      "source": [
        "**Hint:** try to open this file in your Jupyter file browser"
      ]
    },
    {
      "cell_type": "code",
      "execution_count": null,
      "metadata": {
        "id": "ruTxvJM0_yN6"
      },
      "outputs": [],
      "source": [
        "data.shape"
      ]
    },
    {
      "cell_type": "code",
      "execution_count": null,
      "metadata": {
        "id": "PwycOWZJ_yN6"
      },
      "outputs": [],
      "source": [
        "fig, ax = plt.subplots(figsize=(14,4))\n",
        "ax.plot(data[:,0]+data[:,1]/12.0+data[:,2]/365, data[:,5])\n",
        "ax.axis('tight')\n",
        "ax.set_title('tempeatures in Stockholm')\n",
        "ax.set_xlabel('year')\n",
        "ax.set_ylabel('temperature (C)');"
      ]
    },
    {
      "cell_type": "markdown",
      "metadata": {
        "id": "kvDyRpV4_yN6"
      },
      "source": [
        "Using `numpy.savetxt` we can store a Numpy array to a file in CSV format:"
      ]
    },
    {
      "cell_type": "code",
      "execution_count": null,
      "metadata": {
        "id": "5-pwcFjV_yN6"
      },
      "outputs": [],
      "source": [
        "M = np.random.rand(3,3)\n",
        "\n",
        "M"
      ]
    },
    {
      "cell_type": "code",
      "execution_count": null,
      "metadata": {
        "id": "4v_Mo6XV_yN6"
      },
      "outputs": [],
      "source": [
        "np.savetxt(\"random-matrix.csv\", M)"
      ]
    },
    {
      "cell_type": "markdown",
      "metadata": {
        "id": "54BhhRpe_yN6"
      },
      "source": [
        "**Hint:** try to open this file in your Jupyter file browser"
      ]
    },
    {
      "cell_type": "code",
      "execution_count": null,
      "metadata": {
        "id": "99n4tKiD_yN7"
      },
      "outputs": [],
      "source": [
        "np.savetxt(\"random-matrix.csv\", M, fmt='%.5f') # fmt specifies the format\n",
        "\n",
        "#have another look at the file now"
      ]
    },
    {
      "cell_type": "markdown",
      "metadata": {
        "id": "LnVE4sv5_yN7"
      },
      "source": [
        "### Numpy's native file format"
      ]
    },
    {
      "cell_type": "markdown",
      "metadata": {
        "id": "HnaI5gxT_yN7"
      },
      "source": [
        "Useful when storing and reading back numpy array data. Use the functions `numpy.save` and `numpy.load`:"
      ]
    },
    {
      "cell_type": "code",
      "execution_count": null,
      "metadata": {
        "id": "FFneYh6W_yN7"
      },
      "outputs": [],
      "source": [
        "np.save(\"random-matrix.npy\", M)\n",
        "\n"
      ]
    },
    {
      "cell_type": "code",
      "execution_count": null,
      "metadata": {
        "id": "B5aZyhu8_yN8",
        "colab": {
          "base_uri": "https://localhost:8080/"
        },
        "outputId": "934aaba8-3b33-42e6-b833-c86b3def1c23"
      },
      "outputs": [
        {
          "output_type": "execute_result",
          "data": {
            "text/plain": [
              "array([[1.+0.j, 2.+0.j],\n",
              "       [3.+0.j, 4.+0.j]])"
            ]
          },
          "metadata": {},
          "execution_count": 27
        }
      ],
      "source": [
        "np.load(\"random-matrix.npy\")"
      ]
    },
    {
      "cell_type": "markdown",
      "metadata": {
        "id": "0wuHyp7G_yN8"
      },
      "source": [
        "## More properties of the numpy arrays"
      ]
    },
    {
      "cell_type": "code",
      "execution_count": null,
      "metadata": {
        "id": "RHw7T1bI_yN8",
        "colab": {
          "base_uri": "https://localhost:8080/"
        },
        "outputId": "ec19cd3b-1317-4bee-ef1d-ac7f638e930e"
      },
      "outputs": [
        {
          "output_type": "execute_result",
          "data": {
            "text/plain": [
              "16"
            ]
          },
          "metadata": {},
          "execution_count": 28
        }
      ],
      "source": [
        "M.itemsize # bytes per element"
      ]
    },
    {
      "cell_type": "code",
      "execution_count": null,
      "metadata": {
        "id": "6u7vMsX2_yN8",
        "colab": {
          "base_uri": "https://localhost:8080/"
        },
        "outputId": "bb3508ce-02a5-4d28-fa8f-3f90373b0cc1"
      },
      "outputs": [
        {
          "output_type": "execute_result",
          "data": {
            "text/plain": [
              "64"
            ]
          },
          "metadata": {},
          "execution_count": 29
        }
      ],
      "source": [
        "M.nbytes # number of bytes"
      ]
    },
    {
      "cell_type": "code",
      "execution_count": null,
      "metadata": {
        "id": "_FUO54ix_yN8",
        "colab": {
          "base_uri": "https://localhost:8080/"
        },
        "outputId": "89bae71d-ca09-4aad-83be-a74b30ad6e10"
      },
      "outputs": [
        {
          "output_type": "execute_result",
          "data": {
            "text/plain": [
              "2"
            ]
          },
          "metadata": {},
          "execution_count": 30
        }
      ],
      "source": [
        "M.ndim # number of dimensions"
      ]
    },
    {
      "cell_type": "markdown",
      "metadata": {
        "id": "QXjcGhTn_yN9"
      },
      "source": [
        "## Manipulating arrays"
      ]
    },
    {
      "cell_type": "markdown",
      "metadata": {
        "id": "4NefLVvT_yN9"
      },
      "source": [
        "### Indexing"
      ]
    },
    {
      "cell_type": "markdown",
      "metadata": {
        "id": "jdV4ayoP_yN9"
      },
      "source": [
        "We can index elements in an array using square brackets and indices:"
      ]
    },
    {
      "cell_type": "code",
      "execution_count": null,
      "metadata": {
        "id": "2mXXSLln_yN9",
        "colab": {
          "base_uri": "https://localhost:8080/"
        },
        "outputId": "f93c9378-ee25-4b2e-9ff3-b59d532afdbf"
      },
      "outputs": [
        {
          "output_type": "execute_result",
          "data": {
            "text/plain": [
              "1"
            ]
          },
          "metadata": {},
          "execution_count": 31
        }
      ],
      "source": [
        "# v is a vector, and has only one dimension, taking one index\n",
        "v[0]"
      ]
    },
    {
      "cell_type": "code",
      "execution_count": null,
      "metadata": {
        "id": "XwdtmQca_yN9",
        "colab": {
          "base_uri": "https://localhost:8080/"
        },
        "outputId": "a284e6ae-bac3-4a26-a840-1083b0a637af"
      },
      "outputs": [
        {
          "output_type": "execute_result",
          "data": {
            "text/plain": [
              "(4+0j)"
            ]
          },
          "metadata": {},
          "execution_count": 32
        }
      ],
      "source": [
        "# M is a matrix, or a 2 dimensional array, taking two indices \n",
        "M[1,1]"
      ]
    },
    {
      "cell_type": "markdown",
      "metadata": {
        "id": "MS1nuoah_yN9"
      },
      "source": [
        "If we omit an index of a multidimensional array it returns the whole row (or, in general, a N-1 dimensional array) "
      ]
    },
    {
      "cell_type": "code",
      "execution_count": null,
      "metadata": {
        "id": "6OYvWawR_yN-",
        "colab": {
          "base_uri": "https://localhost:8080/"
        },
        "outputId": "6127618d-13f6-423e-f7c0-6a6793c05404"
      },
      "outputs": [
        {
          "output_type": "execute_result",
          "data": {
            "text/plain": [
              "array([[1.+0.j, 2.+0.j],\n",
              "       [3.+0.j, 4.+0.j]])"
            ]
          },
          "metadata": {},
          "execution_count": 33
        }
      ],
      "source": [
        "M"
      ]
    },
    {
      "cell_type": "code",
      "execution_count": null,
      "metadata": {
        "id": "xgL5DcIj_yN-",
        "colab": {
          "base_uri": "https://localhost:8080/"
        },
        "outputId": "cf1df793-5230-4240-c2c9-d71d2b1d79b8"
      },
      "outputs": [
        {
          "output_type": "execute_result",
          "data": {
            "text/plain": [
              "array([1.+0.j, 2.+0.j])"
            ]
          },
          "metadata": {},
          "execution_count": 34
        }
      ],
      "source": [
        "M[0]"
      ]
    },
    {
      "cell_type": "markdown",
      "metadata": {
        "id": "vkzpoU-G_yN-"
      },
      "source": [
        "The same thing can be achieved with using `:` instead of an index: "
      ]
    },
    {
      "cell_type": "code",
      "execution_count": null,
      "metadata": {
        "id": "XrKJSng0_yN-",
        "colab": {
          "base_uri": "https://localhost:8080/"
        },
        "outputId": "cad09878-b54e-49e6-f056-5fdc4a2f80f8"
      },
      "outputs": [
        {
          "output_type": "execute_result",
          "data": {
            "text/plain": [
              "array([3.+0.j, 4.+0.j])"
            ]
          },
          "metadata": {},
          "execution_count": 35
        }
      ],
      "source": [
        "M[1,:] # row 1"
      ]
    },
    {
      "cell_type": "code",
      "execution_count": null,
      "metadata": {
        "id": "mGilQq7d_yN-",
        "colab": {
          "base_uri": "https://localhost:8080/"
        },
        "outputId": "429c00e8-945f-4575-c992-bdd63ee28f2d"
      },
      "outputs": [
        {
          "output_type": "execute_result",
          "data": {
            "text/plain": [
              "array([2.+0.j, 4.+0.j])"
            ]
          },
          "metadata": {},
          "execution_count": 36
        }
      ],
      "source": [
        "M[:,1] # column 1"
      ]
    },
    {
      "cell_type": "markdown",
      "metadata": {
        "id": "HS5Hhcl1_yN_"
      },
      "source": [
        "We can assign new values to elements in an array using indexing:"
      ]
    },
    {
      "cell_type": "code",
      "execution_count": null,
      "metadata": {
        "id": "udKmI0KY_yN_"
      },
      "outputs": [],
      "source": [
        "M[0,0] = 1"
      ]
    },
    {
      "cell_type": "code",
      "execution_count": null,
      "metadata": {
        "id": "bCDrpOyf_yN_",
        "colab": {
          "base_uri": "https://localhost:8080/"
        },
        "outputId": "ff1dc72b-2d47-4aae-daaf-b4830273ec0f"
      },
      "outputs": [
        {
          "output_type": "execute_result",
          "data": {
            "text/plain": [
              "array([[1.+0.j, 2.+0.j],\n",
              "       [3.+0.j, 4.+0.j]])"
            ]
          },
          "metadata": {},
          "execution_count": 38
        }
      ],
      "source": [
        "M"
      ]
    },
    {
      "cell_type": "code",
      "execution_count": null,
      "metadata": {
        "id": "yERl2Qf4_yN_"
      },
      "outputs": [],
      "source": [
        "# also works for rows and columns\n",
        "M[1,:] = 0\n",
        "M[:,1] = -1"
      ]
    },
    {
      "cell_type": "code",
      "execution_count": null,
      "metadata": {
        "id": "vGAXzWlI_yN_",
        "colab": {
          "base_uri": "https://localhost:8080/"
        },
        "outputId": "b590ccaf-3ce1-4cf9-e0a6-ed00536a954c"
      },
      "outputs": [
        {
          "output_type": "execute_result",
          "data": {
            "text/plain": [
              "array([[ 1.+0.j, -1.+0.j],\n",
              "       [ 0.+0.j, -1.+0.j]])"
            ]
          },
          "metadata": {},
          "execution_count": 41
        }
      ],
      "source": [
        "M"
      ]
    },
    {
      "cell_type": "markdown",
      "metadata": {
        "id": "8CLJielI_yN_"
      },
      "source": [
        "### Index slicing"
      ]
    },
    {
      "cell_type": "markdown",
      "metadata": {
        "id": "H22w9gyr_yOA"
      },
      "source": [
        "Index slicing is the technical name for the syntax `M[lower:upper:step]` to extract part of an array:"
      ]
    },
    {
      "cell_type": "code",
      "execution_count": null,
      "metadata": {
        "id": "9QIH94mK_yOA",
        "colab": {
          "base_uri": "https://localhost:8080/"
        },
        "outputId": "19df83cb-8675-43fa-8e15-ce3d1d24623d"
      },
      "outputs": [
        {
          "output_type": "execute_result",
          "data": {
            "text/plain": [
              "array([1, 2, 3, 4, 5])"
            ]
          },
          "metadata": {},
          "execution_count": 42
        }
      ],
      "source": [
        "A = np.array([1,2,3,4,5])\n",
        "A"
      ]
    },
    {
      "cell_type": "code",
      "execution_count": null,
      "metadata": {
        "id": "Ut9R8bWt_yOA",
        "colab": {
          "base_uri": "https://localhost:8080/"
        },
        "outputId": "4fbe9d16-8318-4f28-de8e-0a49d1da4b25"
      },
      "outputs": [
        {
          "output_type": "execute_result",
          "data": {
            "text/plain": [
              "array([2, 3, 4, 5])"
            ]
          },
          "metadata": {},
          "execution_count": 43
        }
      ],
      "source": [
        "A[1:]"
      ]
    },
    {
      "cell_type": "markdown",
      "metadata": {
        "id": "tNTjQhcT_yOA"
      },
      "source": [
        "Array slices are *mutable*: if they are assigned a new value the original array from which the slice was extracted is modified:"
      ]
    },
    {
      "cell_type": "code",
      "execution_count": null,
      "metadata": {
        "id": "GGZcrXHA_yOA",
        "colab": {
          "base_uri": "https://localhost:8080/"
        },
        "outputId": "af2b63f5-a7f7-46a9-eba8-6848bb01d62e"
      },
      "outputs": [
        {
          "output_type": "execute_result",
          "data": {
            "text/plain": [
              "array([ 1, -2, -3,  4,  5])"
            ]
          },
          "metadata": {},
          "execution_count": 44
        }
      ],
      "source": [
        "A[1:3] = [-2,-3]\n",
        "\n",
        "A"
      ]
    },
    {
      "cell_type": "markdown",
      "metadata": {
        "id": "McEnd6tg_yOA"
      },
      "source": [
        "We can omit any of the three parameters in `M[lower:upper:step]`:"
      ]
    },
    {
      "cell_type": "code",
      "execution_count": null,
      "metadata": {
        "id": "MpH3UyX5_yOB",
        "colab": {
          "base_uri": "https://localhost:8080/"
        },
        "outputId": "64302781-ada1-42bf-e251-36ac420d83ed"
      },
      "outputs": [
        {
          "output_type": "execute_result",
          "data": {
            "text/plain": [
              "array([ 1, -2, -3,  4,  5])"
            ]
          },
          "metadata": {},
          "execution_count": 45
        }
      ],
      "source": [
        "A[::] # lower, upper, step all take the default values"
      ]
    },
    {
      "cell_type": "code",
      "execution_count": null,
      "metadata": {
        "id": "nlUif8ep_yOB",
        "colab": {
          "base_uri": "https://localhost:8080/"
        },
        "outputId": "717dcc82-9814-4a92-9aef-31e4efd1404e"
      },
      "outputs": [
        {
          "output_type": "execute_result",
          "data": {
            "text/plain": [
              "array([ 1, -3,  5])"
            ]
          },
          "metadata": {},
          "execution_count": 46
        }
      ],
      "source": [
        "A[::2] # step is 2, lower and upper defaults to the beginning and end of the array"
      ]
    },
    {
      "cell_type": "code",
      "execution_count": null,
      "metadata": {
        "id": "GNYD1CgR_yOB",
        "colab": {
          "base_uri": "https://localhost:8080/"
        },
        "outputId": "b59f7ec6-1f95-4946-8689-558f5f7ffec9"
      },
      "outputs": [
        {
          "output_type": "execute_result",
          "data": {
            "text/plain": [
              "array([ 1, -2, -3])"
            ]
          },
          "metadata": {},
          "execution_count": 47
        }
      ],
      "source": [
        "A[:3] # first three elements"
      ]
    },
    {
      "cell_type": "code",
      "execution_count": null,
      "metadata": {
        "id": "UEYfsgU2_yOB",
        "colab": {
          "base_uri": "https://localhost:8080/"
        },
        "outputId": "c919ee0c-c6c5-4b94-d0b2-ec4ca6211e00"
      },
      "outputs": [
        {
          "output_type": "execute_result",
          "data": {
            "text/plain": [
              "array([4, 5])"
            ]
          },
          "metadata": {},
          "execution_count": 48
        }
      ],
      "source": [
        "A[3:] # elements from index 3"
      ]
    },
    {
      "cell_type": "markdown",
      "metadata": {
        "id": "nDpaVIGf_yOB"
      },
      "source": [
        "Negative indices counts from the end of the array (positive index from the begining):"
      ]
    },
    {
      "cell_type": "code",
      "execution_count": null,
      "metadata": {
        "id": "UziRyMGM_yOB"
      },
      "outputs": [],
      "source": [
        "A = np.array([1,2,3,4,5])"
      ]
    },
    {
      "cell_type": "code",
      "execution_count": null,
      "metadata": {
        "id": "Nxp_HT29_yOC",
        "colab": {
          "base_uri": "https://localhost:8080/"
        },
        "outputId": "cdd77b6c-db8d-423f-aaa5-c2dca98f8f68"
      },
      "outputs": [
        {
          "output_type": "execute_result",
          "data": {
            "text/plain": [
              "5"
            ]
          },
          "metadata": {},
          "execution_count": 50
        }
      ],
      "source": [
        "A[-1] # the last element in the array"
      ]
    },
    {
      "cell_type": "code",
      "execution_count": null,
      "metadata": {
        "id": "kdHTWRqY_yOC",
        "colab": {
          "base_uri": "https://localhost:8080/"
        },
        "outputId": "3f81ea34-b430-4bc1-9f1e-f46b11ea6339"
      },
      "outputs": [
        {
          "output_type": "execute_result",
          "data": {
            "text/plain": [
              "array([3, 4, 5])"
            ]
          },
          "metadata": {},
          "execution_count": 51
        }
      ],
      "source": [
        "A[-3:] # the last three elements"
      ]
    },
    {
      "cell_type": "markdown",
      "metadata": {
        "id": "GGL5ysa1_yOC"
      },
      "source": [
        "Index slicing works exactly the same way for multidimensional arrays:"
      ]
    },
    {
      "cell_type": "code",
      "execution_count": null,
      "metadata": {
        "id": "khnnF33t_yOC",
        "colab": {
          "base_uri": "https://localhost:8080/"
        },
        "outputId": "bdb2bbe9-b777-402e-ec3f-4ac7b365e9f6"
      },
      "outputs": [
        {
          "output_type": "execute_result",
          "data": {
            "text/plain": [
              "array([[ 0,  1,  2,  3,  4],\n",
              "       [10, 11, 12, 13, 14],\n",
              "       [20, 21, 22, 23, 24],\n",
              "       [30, 31, 32, 33, 34],\n",
              "       [40, 41, 42, 43, 44]])"
            ]
          },
          "metadata": {},
          "execution_count": 52
        }
      ],
      "source": [
        "A = np.array([[n+m*10 for n in range(5)] for m in range(5)])\n",
        "\n",
        "A"
      ]
    },
    {
      "cell_type": "code",
      "execution_count": null,
      "metadata": {
        "id": "zHpSuLSE_yOC",
        "colab": {
          "base_uri": "https://localhost:8080/"
        },
        "outputId": "5bd4ac7f-4f8f-4410-9a7b-2db002e9f839"
      },
      "outputs": [
        {
          "output_type": "execute_result",
          "data": {
            "text/plain": [
              "array([[11, 12, 13],\n",
              "       [21, 22, 23],\n",
              "       [31, 32, 33]])"
            ]
          },
          "metadata": {},
          "execution_count": 55
        }
      ],
      "source": [
        "# a block from the original array\n",
        "A[1:4, 1:4]"
      ]
    },
    {
      "cell_type": "code",
      "execution_count": null,
      "metadata": {
        "id": "TXnNXZag_yOC",
        "colab": {
          "base_uri": "https://localhost:8080/"
        },
        "outputId": "e93a79bf-18b0-4cc7-e55e-7ddc3d86fca7"
      },
      "outputs": [
        {
          "output_type": "execute_result",
          "data": {
            "text/plain": [
              "array([[ 0,  2,  4],\n",
              "       [20, 22, 24],\n",
              "       [40, 42, 44]])"
            ]
          },
          "metadata": {},
          "execution_count": 56
        }
      ],
      "source": [
        "# strides\n",
        "A[::2, ::2]"
      ]
    },
    {
      "cell_type": "markdown",
      "metadata": {
        "id": "giWGtppg_yOD"
      },
      "source": [
        "### Fancy indexing"
      ]
    },
    {
      "cell_type": "markdown",
      "metadata": {
        "id": "ou8WKAgs_yOD"
      },
      "source": [
        "Fancy indexing is the name for when an array or list is used in-place of an index: "
      ]
    },
    {
      "cell_type": "code",
      "execution_count": null,
      "metadata": {
        "id": "fUH7yz60_yOD",
        "colab": {
          "base_uri": "https://localhost:8080/"
        },
        "outputId": "033db24a-8210-4167-fee2-4edf5321146e"
      },
      "outputs": [
        {
          "output_type": "execute_result",
          "data": {
            "text/plain": [
              "array([[10, 11, 12, 13, 14],\n",
              "       [20, 21, 22, 23, 24],\n",
              "       [30, 31, 32, 33, 34]])"
            ]
          },
          "metadata": {},
          "execution_count": 57
        }
      ],
      "source": [
        "row_indices = [1, 2, 3]\n",
        "A[row_indices]"
      ]
    },
    {
      "cell_type": "code",
      "execution_count": null,
      "metadata": {
        "id": "tP_wNer6_yOD",
        "colab": {
          "base_uri": "https://localhost:8080/"
        },
        "outputId": "0e6a2d7a-38ae-4261-e6b8-35c6bf4e8cf6"
      },
      "outputs": [
        {
          "output_type": "execute_result",
          "data": {
            "text/plain": [
              "array([11, 22, 34])"
            ]
          },
          "metadata": {},
          "execution_count": 58
        }
      ],
      "source": [
        "col_indices = [1, 2, -1] # remember, index -1 means the last element\n",
        "A[row_indices, col_indices]"
      ]
    },
    {
      "cell_type": "markdown",
      "metadata": {
        "id": "rj34A3Si_yOD"
      },
      "source": [
        "We can also use index masks: If the index mask is an Numpy array of data type `bool`, then an element is selected (True) or not (False) depending on the value of the index mask at the position of each element: "
      ]
    },
    {
      "cell_type": "code",
      "execution_count": null,
      "metadata": {
        "id": "AiQY8Ahp_yOE",
        "colab": {
          "base_uri": "https://localhost:8080/"
        },
        "outputId": "0b47fe2d-5464-4168-fa48-38ebe0ab759f"
      },
      "outputs": [
        {
          "output_type": "execute_result",
          "data": {
            "text/plain": [
              "array([0, 1, 2, 3, 4])"
            ]
          },
          "metadata": {},
          "execution_count": 59
        }
      ],
      "source": [
        "B = np.array([n for n in range(5)])\n",
        "B"
      ]
    },
    {
      "cell_type": "code",
      "execution_count": null,
      "metadata": {
        "id": "EjeZCyJI_yOE"
      },
      "outputs": [],
      "source": [
        "row_mask = np.array([True, False, True, False, False])\n",
        "B[row_mask]"
      ]
    },
    {
      "cell_type": "code",
      "execution_count": null,
      "metadata": {
        "id": "J02Ds4Mv_yOE"
      },
      "outputs": [],
      "source": [
        "# same thing\n",
        "row_mask = np.array([1,0,1,0,0], dtype=bool)\n",
        "B[row_mask]"
      ]
    },
    {
      "cell_type": "markdown",
      "metadata": {
        "id": "FHt4mz8L_yOE"
      },
      "source": [
        "This feature is very useful to conditionally select elements from an array, using for example comparison operators:"
      ]
    },
    {
      "cell_type": "code",
      "execution_count": null,
      "metadata": {
        "id": "JVZCttkS_yOE",
        "colab": {
          "base_uri": "https://localhost:8080/"
        },
        "outputId": "dca6b973-8fd1-4296-f8aa-6fe294c579bb"
      },
      "outputs": [
        {
          "output_type": "execute_result",
          "data": {
            "text/plain": [
              "array([0. , 0.5, 1. , 1.5, 2. , 2.5, 3. , 3.5, 4. , 4.5, 5. , 5.5, 6. ,\n",
              "       6.5, 7. , 7.5, 8. , 8.5, 9. , 9.5])"
            ]
          },
          "metadata": {},
          "execution_count": 62
        }
      ],
      "source": [
        "x = np.arange(0, 10, 0.5)\n",
        "x"
      ]
    },
    {
      "cell_type": "code",
      "execution_count": null,
      "metadata": {
        "id": "UgQmF2Ud_yOE",
        "colab": {
          "base_uri": "https://localhost:8080/"
        },
        "outputId": "8ce98f6a-0db4-49d7-f363-995bda8b95a5"
      },
      "outputs": [
        {
          "output_type": "execute_result",
          "data": {
            "text/plain": [
              "array([False, False, False, False, False, False, False, False, False,\n",
              "       False, False,  True,  True,  True,  True, False, False, False,\n",
              "       False, False])"
            ]
          },
          "metadata": {},
          "execution_count": 63
        }
      ],
      "source": [
        "mask = (5 < x) * (x < 7.5)\n",
        "\n",
        "mask"
      ]
    },
    {
      "cell_type": "code",
      "execution_count": null,
      "metadata": {
        "id": "HCkWwWaT_yOF",
        "colab": {
          "base_uri": "https://localhost:8080/"
        },
        "outputId": "c69d2ddd-5f2e-4d7e-a69e-5673e281d41b"
      },
      "outputs": [
        {
          "output_type": "execute_result",
          "data": {
            "text/plain": [
              "array([5.5, 6. , 6.5, 7. ])"
            ]
          },
          "metadata": {},
          "execution_count": 64
        }
      ],
      "source": [
        "x[mask]"
      ]
    },
    {
      "cell_type": "markdown",
      "metadata": {
        "id": "4N6JqAvn_yOF"
      },
      "source": [
        "## Functions for extracting data from arrays and creating arrays"
      ]
    },
    {
      "cell_type": "markdown",
      "metadata": {
        "id": "Bd4zSOMU_yOF"
      },
      "source": [
        "### where"
      ]
    },
    {
      "cell_type": "markdown",
      "metadata": {
        "id": "6hA4Xp6n_yOF"
      },
      "source": [
        "The index mask can be converted to position index using the `where` function"
      ]
    },
    {
      "cell_type": "code",
      "execution_count": null,
      "metadata": {
        "id": "xvY6uCVS_yOG",
        "colab": {
          "base_uri": "https://localhost:8080/"
        },
        "outputId": "295a251b-1273-4f29-e6bd-3127cf4a2b25"
      },
      "outputs": [
        {
          "output_type": "execute_result",
          "data": {
            "text/plain": [
              "(array([11, 12, 13, 14]),)"
            ]
          },
          "metadata": {},
          "execution_count": 65
        }
      ],
      "source": [
        "indices =np.where(mask)\n",
        "\n",
        "indices"
      ]
    },
    {
      "cell_type": "code",
      "execution_count": null,
      "metadata": {
        "id": "NtRGiVBf_yOG"
      },
      "outputs": [],
      "source": [
        "x[indices] # this indexing is equivalent to the fancy indexing x[mask]"
      ]
    },
    {
      "cell_type": "markdown",
      "metadata": {
        "id": "bdtRWEFT_yOG"
      },
      "source": [
        "### diag"
      ]
    },
    {
      "cell_type": "markdown",
      "metadata": {
        "id": "n00dhlXH_yOG"
      },
      "source": [
        "With the diag function we can also extract the diagonal and subdiagonals of an array:"
      ]
    },
    {
      "cell_type": "code",
      "execution_count": null,
      "metadata": {
        "id": "fSuhTMke_yOH",
        "colab": {
          "base_uri": "https://localhost:8080/"
        },
        "outputId": "d1ed2f6c-084c-4689-d498-ee46a76626c6"
      },
      "outputs": [
        {
          "output_type": "execute_result",
          "data": {
            "text/plain": [
              "array([ 0, 11, 22, 33, 44])"
            ]
          },
          "metadata": {},
          "execution_count": 66
        }
      ],
      "source": [
        "np.diag(A)"
      ]
    },
    {
      "cell_type": "code",
      "execution_count": null,
      "metadata": {
        "id": "B0jfEQz6_yOH",
        "colab": {
          "base_uri": "https://localhost:8080/"
        },
        "outputId": "0dc55f32-c4c1-4bc6-8fea-33aafa179855"
      },
      "outputs": [
        {
          "output_type": "execute_result",
          "data": {
            "text/plain": [
              "array([10, 21, 32, 43])"
            ]
          },
          "metadata": {},
          "execution_count": 67
        }
      ],
      "source": [
        "np.diag(A, -1)"
      ]
    },
    {
      "cell_type": "markdown",
      "metadata": {
        "id": "eYBWDTx3_yOI"
      },
      "source": [
        "### take"
      ]
    },
    {
      "cell_type": "markdown",
      "metadata": {
        "id": "EBFo5tp1_yOI"
      },
      "source": [
        "The `take` function is similar to fancy indexing described above:"
      ]
    },
    {
      "cell_type": "code",
      "execution_count": null,
      "metadata": {
        "id": "ig4Oz2yG_yOI",
        "colab": {
          "base_uri": "https://localhost:8080/"
        },
        "outputId": "009a7569-a942-499a-889b-8a2cb17cf96c"
      },
      "outputs": [
        {
          "output_type": "execute_result",
          "data": {
            "text/plain": [
              "array([-3, -2, -1,  0,  1,  2])"
            ]
          },
          "metadata": {},
          "execution_count": 68
        }
      ],
      "source": [
        "v2 = np.arange(-3,3)\n",
        "v2"
      ]
    },
    {
      "cell_type": "code",
      "execution_count": null,
      "metadata": {
        "id": "hfFwKpWR_yOJ",
        "colab": {
          "base_uri": "https://localhost:8080/"
        },
        "outputId": "213e4ea0-29dd-4c03-e23f-f6190110e6fa"
      },
      "outputs": [
        {
          "output_type": "execute_result",
          "data": {
            "text/plain": [
              "array([-2,  0,  2])"
            ]
          },
          "metadata": {},
          "execution_count": 69
        }
      ],
      "source": [
        "row_indices = [1, 3, 5]\n",
        "v2[row_indices] # fancy indexing"
      ]
    },
    {
      "cell_type": "code",
      "execution_count": null,
      "metadata": {
        "id": "VcKiApMB_yOJ",
        "colab": {
          "base_uri": "https://localhost:8080/"
        },
        "outputId": "40d15850-65a7-423a-af85-02bcc7e0b595"
      },
      "outputs": [
        {
          "output_type": "execute_result",
          "data": {
            "text/plain": [
              "array([-2,  0,  2])"
            ]
          },
          "metadata": {},
          "execution_count": 70
        }
      ],
      "source": [
        "v2.take(row_indices)"
      ]
    },
    {
      "cell_type": "markdown",
      "metadata": {
        "id": "M69Az5SX_yOK"
      },
      "source": [
        "But `take` also works on lists and other objects:"
      ]
    },
    {
      "cell_type": "code",
      "execution_count": null,
      "metadata": {
        "id": "Rn8I_QE9_yOM",
        "colab": {
          "base_uri": "https://localhost:8080/"
        },
        "outputId": "bb23e600-3d9d-4308-922c-2c52017e30dd"
      },
      "outputs": [
        {
          "output_type": "execute_result",
          "data": {
            "text/plain": [
              "array([-2,  0,  2])"
            ]
          },
          "metadata": {},
          "execution_count": 71
        }
      ],
      "source": [
        "np.take([-3, -2, -1,  0,  1,  2], row_indices)"
      ]
    },
    {
      "cell_type": "markdown",
      "metadata": {
        "id": "Clmu2qoo_yON"
      },
      "source": [
        "### choose"
      ]
    },
    {
      "cell_type": "markdown",
      "metadata": {
        "id": "Humk1PC7_yON"
      },
      "source": [
        "Constructs an array by picking elements from several arrays:"
      ]
    },
    {
      "cell_type": "code",
      "execution_count": null,
      "metadata": {
        "id": "5eW6mbEf_yON"
      },
      "outputs": [],
      "source": [
        "which = [1, 0, 1, 0]\n",
        "choices = [[-2,-2,-2,-2], [5,5,5,5]]\n",
        "\n",
        "np.choose(which, choices)"
      ]
    },
    {
      "cell_type": "markdown",
      "metadata": {
        "id": "WbLUQS2H_yOO"
      },
      "source": [
        "## Linear algebra"
      ]
    },
    {
      "cell_type": "markdown",
      "metadata": {
        "id": "B1RcSCHW_yOO"
      },
      "source": [
        "Vectorizing code is the key to writing efficient numerical calculation with Python/Numpy. That means that as much as possible of a program should be formulated in terms of matrix and vector operations, like matrix-matrix multiplication."
      ]
    },
    {
      "cell_type": "markdown",
      "metadata": {
        "id": "Ly0kuGIh_yOO"
      },
      "source": [
        "### Scalar-array operations"
      ]
    },
    {
      "cell_type": "markdown",
      "metadata": {
        "id": "PYL7TwNJ_yOO"
      },
      "source": [
        "We can use the usual arithmetic operators to multiply, add, subtract, and divide arrays with scalar numbers."
      ]
    },
    {
      "cell_type": "code",
      "execution_count": null,
      "metadata": {
        "id": "r2oPseEC_yOP",
        "colab": {
          "base_uri": "https://localhost:8080/"
        },
        "outputId": "f2086457-c5fd-4c9b-fad9-eef859be53f5"
      },
      "outputs": [
        {
          "output_type": "execute_result",
          "data": {
            "text/plain": [
              "array([0, 1, 2, 3, 4])"
            ]
          },
          "metadata": {},
          "execution_count": 75
        }
      ],
      "source": [
        "v1 = np.arange(0, 5)\n",
        "\n",
        "v1"
      ]
    },
    {
      "cell_type": "code",
      "execution_count": null,
      "metadata": {
        "id": "eJDoidRq_yOP",
        "colab": {
          "base_uri": "https://localhost:8080/"
        },
        "outputId": "f0b06a04-fcfb-407e-bdc7-bde26b15b0f3"
      },
      "outputs": [
        {
          "output_type": "execute_result",
          "data": {
            "text/plain": [
              "array([0, 2, 4, 6, 8])"
            ]
          },
          "metadata": {},
          "execution_count": 76
        }
      ],
      "source": [
        "v1 * 2"
      ]
    },
    {
      "cell_type": "code",
      "execution_count": null,
      "metadata": {
        "id": "4RmhhY28_yOQ",
        "colab": {
          "base_uri": "https://localhost:8080/"
        },
        "outputId": "8cb62e1c-3ba5-40e2-b122-86ce96375236"
      },
      "outputs": [
        {
          "output_type": "execute_result",
          "data": {
            "text/plain": [
              "array([2, 3, 4, 5, 6])"
            ]
          },
          "metadata": {},
          "execution_count": 77
        }
      ],
      "source": [
        "v1 + 2"
      ]
    },
    {
      "cell_type": "code",
      "execution_count": null,
      "metadata": {
        "id": "IjCiy9zA_yOQ",
        "colab": {
          "base_uri": "https://localhost:8080/"
        },
        "outputId": "3a33fe3b-2a75-4307-e3f4-98bac7306cee"
      },
      "outputs": [
        {
          "output_type": "execute_result",
          "data": {
            "text/plain": [
              "(array([[ 0,  2,  4,  6,  8],\n",
              "        [20, 22, 24, 26, 28],\n",
              "        [40, 42, 44, 46, 48],\n",
              "        [60, 62, 64, 66, 68],\n",
              "        [80, 82, 84, 86, 88]]), array([[ 2,  3,  4,  5,  6],\n",
              "        [12, 13, 14, 15, 16],\n",
              "        [22, 23, 24, 25, 26],\n",
              "        [32, 33, 34, 35, 36],\n",
              "        [42, 43, 44, 45, 46]]))"
            ]
          },
          "metadata": {},
          "execution_count": 78
        }
      ],
      "source": [
        "A * 2, A + 2"
      ]
    },
    {
      "cell_type": "markdown",
      "metadata": {
        "id": "VVh52WyY_yOQ"
      },
      "source": [
        "### Element-wise array-array operations"
      ]
    },
    {
      "cell_type": "markdown",
      "metadata": {
        "id": "SH09E5Tk_yOQ"
      },
      "source": [
        "When we add, subtract, multiply and divide arrays with each other, the default behaviour is **element-wise** operations:"
      ]
    },
    {
      "cell_type": "code",
      "execution_count": null,
      "metadata": {
        "id": "uQTLT2KJ_yOQ",
        "colab": {
          "base_uri": "https://localhost:8080/"
        },
        "outputId": "ef226be2-beab-4d2b-ee98-a64142e3dd51"
      },
      "outputs": [
        {
          "output_type": "execute_result",
          "data": {
            "text/plain": [
              "array([[   0,    1,    4,    9,   16],\n",
              "       [ 100,  121,  144,  169,  196],\n",
              "       [ 400,  441,  484,  529,  576],\n",
              "       [ 900,  961, 1024, 1089, 1156],\n",
              "       [1600, 1681, 1764, 1849, 1936]])"
            ]
          },
          "metadata": {},
          "execution_count": 79
        }
      ],
      "source": [
        "A * A # element-wise multiplication"
      ]
    },
    {
      "cell_type": "code",
      "execution_count": null,
      "metadata": {
        "id": "FpW-w83u_yOQ",
        "colab": {
          "base_uri": "https://localhost:8080/"
        },
        "outputId": "cee4d9a3-b51c-45ef-c22f-ddbb1d8987a3"
      },
      "outputs": [
        {
          "output_type": "stream",
          "name": "stdout",
          "text": [
            "[0 1 2 3 4]\n"
          ]
        },
        {
          "output_type": "execute_result",
          "data": {
            "text/plain": [
              "array([ 0,  1,  4,  9, 16])"
            ]
          },
          "metadata": {},
          "execution_count": 82
        }
      ],
      "source": [
        "print(v1)\n",
        "v1 * v1"
      ]
    },
    {
      "cell_type": "markdown",
      "metadata": {
        "id": "jwmMjZfS_yOR"
      },
      "source": [
        "If we multiply arrays with compatible shapes, we get an element-wise multiplication of each row:"
      ]
    },
    {
      "cell_type": "code",
      "execution_count": null,
      "metadata": {
        "id": "22igSjMD_yOR",
        "colab": {
          "base_uri": "https://localhost:8080/"
        },
        "outputId": "3cfa4e84-d36f-4862-ea03-3be79e8232c1"
      },
      "outputs": [
        {
          "output_type": "execute_result",
          "data": {
            "text/plain": [
              "((5, 5), (5,))"
            ]
          },
          "metadata": {},
          "execution_count": 84
        }
      ],
      "source": [
        "A.shape, v1.shape"
      ]
    },
    {
      "cell_type": "code",
      "execution_count": null,
      "metadata": {
        "id": "eoyTC2iY_yOR"
      },
      "outputs": [],
      "source": [
        "A * v1"
      ]
    },
    {
      "cell_type": "markdown",
      "metadata": {
        "id": "5aI8T1ub_yOR"
      },
      "source": [
        "### Complex Array Expressions\n",
        "\n",
        "Problem: Numpy evaluates Array expression step by step, producing temp solutions.<BR>"
      ]
    },
    {
      "cell_type": "code",
      "execution_count": null,
      "metadata": {
        "id": "EhhppP4r_yOR",
        "colab": {
          "base_uri": "https://localhost:8080/"
        },
        "outputId": "3fc0cc63-cffd-4990-875d-15f0ca71a77b"
      },
      "outputs": [
        {
          "output_type": "stream",
          "name": "stdout",
          "text": [
            "100 loops, best of 5: 7.62 ms per loop\n"
          ]
        }
      ],
      "source": [
        "\n",
        "\n",
        "x,y,z = np.random.rand(3,1000000)\n",
        "\n",
        "%timeit x +(y**2 +(z*x +1)*4)"
      ]
    },
    {
      "cell_type": "markdown",
      "metadata": {
        "id": "0GzxnDmA_yOR"
      },
      "source": [
        "#### Numerxp solves this problem: "
      ]
    },
    {
      "cell_type": "code",
      "execution_count": null,
      "metadata": {
        "id": "q_w5ifln_yOR",
        "colab": {
          "base_uri": "https://localhost:8080/"
        },
        "outputId": "8e22d46f-8e2f-418c-f851-552797814974"
      },
      "outputs": [
        {
          "output_type": "stream",
          "name": "stdout",
          "text": [
            "100 loops, best of 5: 5.93 ms per loop\n"
          ]
        }
      ],
      "source": [
        "import numexpr as ne\n",
        "\n",
        "%timeit ne.evaluate('x +(y**2 +(z*x +1)*4)')"
      ]
    },
    {
      "cell_type": "markdown",
      "metadata": {
        "id": "bD_D8bzR_yOS"
      },
      "source": [
        "### Matrix algebra"
      ]
    },
    {
      "cell_type": "markdown",
      "metadata": {
        "id": "Sqc9J8L4_yOS"
      },
      "source": [
        "What about matrix mutiplication? There are two ways. We can either use the `dot` function, which applies a matrix-matrix, matrix-vector, or inner vector multiplication to its two arguments: "
      ]
    },
    {
      "cell_type": "code",
      "execution_count": null,
      "metadata": {
        "id": "62TVDOpI_yOS",
        "colab": {
          "base_uri": "https://localhost:8080/"
        },
        "outputId": "5cfd97e8-f561-491e-9620-f01105779a1d"
      },
      "outputs": [
        {
          "output_type": "stream",
          "name": "stdout",
          "text": [
            "[[ 0  1  2  3  4]\n",
            " [10 11 12 13 14]\n",
            " [20 21 22 23 24]\n",
            " [30 31 32 33 34]\n",
            " [40 41 42 43 44]]\n"
          ]
        },
        {
          "output_type": "execute_result",
          "data": {
            "text/plain": [
              "array([[ 300,  310,  320,  330,  340],\n",
              "       [1300, 1360, 1420, 1480, 1540],\n",
              "       [2300, 2410, 2520, 2630, 2740],\n",
              "       [3300, 3460, 3620, 3780, 3940],\n",
              "       [4300, 4510, 4720, 4930, 5140]])"
            ]
          },
          "metadata": {},
          "execution_count": 87
        }
      ],
      "source": [
        "print(A)\n",
        "np.dot(A, A)"
      ]
    },
    {
      "cell_type": "code",
      "execution_count": null,
      "metadata": {
        "id": "SdnsMZuk_yOS",
        "colab": {
          "base_uri": "https://localhost:8080/"
        },
        "outputId": "1ed30ed5-ae31-46fe-b1c9-33498b275373"
      },
      "outputs": [
        {
          "output_type": "execute_result",
          "data": {
            "text/plain": [
              "array([ 30, 130, 230, 330, 430])"
            ]
          },
          "metadata": {},
          "execution_count": 88
        }
      ],
      "source": [
        "np.dot(A, v1)"
      ]
    },
    {
      "cell_type": "code",
      "execution_count": null,
      "metadata": {
        "id": "dZsDjMHv_yOS",
        "colab": {
          "base_uri": "https://localhost:8080/"
        },
        "outputId": "3707946f-c52d-41c9-debe-7d4f7474b1e3"
      },
      "outputs": [
        {
          "output_type": "execute_result",
          "data": {
            "text/plain": [
              "30"
            ]
          },
          "metadata": {},
          "execution_count": 89
        }
      ],
      "source": [
        "np.dot(v1, v1)"
      ]
    },
    {
      "cell_type": "markdown",
      "metadata": {
        "id": "bQF7-oqk_yOS"
      },
      "source": [
        "Alternatively, we can cast the array objects to the type `matrix`. This changes the behavior of the standard arithmetic operators `+, -, *` to use matrix algebra."
      ]
    },
    {
      "cell_type": "code",
      "execution_count": null,
      "metadata": {
        "id": "WWX5jVJ0_yOS",
        "colab": {
          "base_uri": "https://localhost:8080/"
        },
        "outputId": "9fbdf80b-7a75-42fc-c804-f66e283d0865"
      },
      "outputs": [
        {
          "output_type": "stream",
          "name": "stdout",
          "text": [
            "[[ 0  1  2  3  4]\n",
            " [10 11 12 13 14]\n",
            " [20 21 22 23 24]\n",
            " [30 31 32 33 34]\n",
            " [40 41 42 43 44]]\n",
            "[[ 0  1  2  3  4]\n",
            " [10 11 12 13 14]\n",
            " [20 21 22 23 24]\n",
            " [30 31 32 33 34]\n",
            " [40 41 42 43 44]]\n"
          ]
        }
      ],
      "source": [
        "print(A)\n",
        "M = np.matrix(A)\n",
        "print(M)\n",
        "v = np.matrix(v1).T # make it a column vector"
      ]
    },
    {
      "cell_type": "code",
      "execution_count": null,
      "metadata": {
        "id": "8voEvgWK_yOS",
        "colab": {
          "base_uri": "https://localhost:8080/"
        },
        "outputId": "ee030191-40cb-4f54-deb7-28d3111e2cac"
      },
      "outputs": [
        {
          "output_type": "execute_result",
          "data": {
            "text/plain": [
              "matrix([[0],\n",
              "        [1],\n",
              "        [2],\n",
              "        [3],\n",
              "        [4]])"
            ]
          },
          "metadata": {},
          "execution_count": 91
        }
      ],
      "source": [
        "v"
      ]
    },
    {
      "cell_type": "code",
      "execution_count": null,
      "metadata": {
        "id": "CcWR_2VA_yOS",
        "colab": {
          "base_uri": "https://localhost:8080/"
        },
        "outputId": "2439c561-074b-4b54-8b5b-8c9abf7f8797"
      },
      "outputs": [
        {
          "output_type": "execute_result",
          "data": {
            "text/plain": [
              "matrix([[ 300,  310,  320,  330,  340],\n",
              "        [1300, 1360, 1420, 1480, 1540],\n",
              "        [2300, 2410, 2520, 2630, 2740],\n",
              "        [3300, 3460, 3620, 3780, 3940],\n",
              "        [4300, 4510, 4720, 4930, 5140]])"
            ]
          },
          "metadata": {},
          "execution_count": 92
        }
      ],
      "source": [
        "M * M"
      ]
    },
    {
      "cell_type": "code",
      "execution_count": null,
      "metadata": {
        "id": "ikTEHImH_yOT"
      },
      "outputs": [],
      "source": [
        "M * v"
      ]
    },
    {
      "cell_type": "code",
      "execution_count": null,
      "metadata": {
        "id": "4QR6KThH_yOT"
      },
      "outputs": [],
      "source": [
        "# inner product\n",
        "v.T * v"
      ]
    },
    {
      "cell_type": "code",
      "execution_count": null,
      "metadata": {
        "id": "KaWCc8-n_yOT"
      },
      "outputs": [],
      "source": [
        "# with matrix objects, standard matrix algebra applies\n",
        "v + M*v"
      ]
    },
    {
      "cell_type": "markdown",
      "metadata": {
        "id": "UbXhN99m_yOT"
      },
      "source": [
        "If we try to add, subtract or multiply objects with incomplatible shapes we get an error:"
      ]
    },
    {
      "cell_type": "code",
      "execution_count": null,
      "metadata": {
        "id": "RMbjTTL0_yOT"
      },
      "outputs": [],
      "source": [
        "v = np.matrix([1,2,3,4,5,6]).T"
      ]
    },
    {
      "cell_type": "code",
      "execution_count": null,
      "metadata": {
        "id": "Mw15vf1b_yOT"
      },
      "outputs": [],
      "source": [
        "np.shape(M), np.shape(v)"
      ]
    },
    {
      "cell_type": "code",
      "execution_count": null,
      "metadata": {
        "id": "K7wi2ISu_yOT"
      },
      "outputs": [],
      "source": [
        "M * v"
      ]
    },
    {
      "cell_type": "markdown",
      "metadata": {
        "id": "XQ7kyGRg_yOT"
      },
      "source": [
        "See also the related functions: `inner`, `outer`, `cross`, `kron`, `tensordot`. Try for example `help(kron)`."
      ]
    },
    {
      "cell_type": "markdown",
      "metadata": {
        "id": "010mvVse_yOT"
      },
      "source": [
        "### Array/Matrix transformations"
      ]
    },
    {
      "cell_type": "markdown",
      "metadata": {
        "id": "LBE3Mgog_yOU"
      },
      "source": [
        "Above we have used the `.T` to transpose the matrix object `v`. We could also have used the `transpose` function to accomplish the same thing. \n",
        "\n",
        "Other mathematical functions that transform matrix objects are:"
      ]
    },
    {
      "cell_type": "code",
      "execution_count": null,
      "metadata": {
        "id": "Xts0Jg4U_yOU",
        "colab": {
          "base_uri": "https://localhost:8080/"
        },
        "outputId": "09f969aa-df71-4945-a395-e714f2d57c3b"
      },
      "outputs": [
        {
          "output_type": "execute_result",
          "data": {
            "text/plain": [
              "matrix([[0.+1.j, 0.+2.j],\n",
              "        [0.+3.j, 0.+4.j]])"
            ]
          },
          "metadata": {},
          "execution_count": 95
        }
      ],
      "source": [
        "C = np.matrix([[1j, 2j], [3j, 4j]])\n",
        "C"
      ]
    },
    {
      "cell_type": "code",
      "execution_count": null,
      "metadata": {
        "id": "6a5XSAHC_yOU",
        "colab": {
          "base_uri": "https://localhost:8080/"
        },
        "outputId": "7c6b01b1-6d0d-46e8-d72a-85a08be279c0"
      },
      "outputs": [
        {
          "output_type": "execute_result",
          "data": {
            "text/plain": [
              "matrix([[0.-1.j, 0.-2.j],\n",
              "        [0.-3.j, 0.-4.j]])"
            ]
          },
          "metadata": {},
          "execution_count": 96
        }
      ],
      "source": [
        "np.conjugate(C)"
      ]
    },
    {
      "cell_type": "markdown",
      "metadata": {
        "id": "HmALvsMZ_yOU"
      },
      "source": [
        "Hermitian conjugate: transpose + conjugate"
      ]
    },
    {
      "cell_type": "code",
      "execution_count": null,
      "metadata": {
        "id": "lOOnURNP_yOU"
      },
      "outputs": [],
      "source": [
        "C.H"
      ]
    },
    {
      "cell_type": "markdown",
      "metadata": {
        "id": "mVip0I19_yOU"
      },
      "source": [
        "We can extract the real and imaginary parts of complex-valued arrays using `real` and `imag`:"
      ]
    },
    {
      "cell_type": "code",
      "execution_count": null,
      "metadata": {
        "id": "83vv0WKr_yOU"
      },
      "outputs": [],
      "source": [
        "np.real(C) # same as: C.real"
      ]
    },
    {
      "cell_type": "code",
      "execution_count": null,
      "metadata": {
        "id": "zg0D-Kui_yOU"
      },
      "outputs": [],
      "source": [
        "np.imag(C) # same as: C.imag"
      ]
    },
    {
      "cell_type": "markdown",
      "metadata": {
        "id": "qh7HZ92D_yOV"
      },
      "source": [
        "Or the complex argument and absolute value"
      ]
    },
    {
      "cell_type": "code",
      "execution_count": null,
      "metadata": {
        "id": "VNuJca7t_yOV"
      },
      "outputs": [],
      "source": [
        "np.angle(C+1) # heads up MATLAB Users, angle is used instead of arg"
      ]
    },
    {
      "cell_type": "code",
      "execution_count": null,
      "metadata": {
        "id": "VtgDgiHr_yOV"
      },
      "outputs": [],
      "source": [
        "abs(C)"
      ]
    },
    {
      "cell_type": "markdown",
      "metadata": {
        "id": "MtVjqTMM_yOV"
      },
      "source": [
        "### Matrix computations"
      ]
    },
    {
      "cell_type": "markdown",
      "metadata": {
        "id": "veUNf4XV_yOV"
      },
      "source": [
        "#### Inverse"
      ]
    },
    {
      "cell_type": "code",
      "execution_count": null,
      "metadata": {
        "id": "DjdWKd08_yOV"
      },
      "outputs": [],
      "source": [
        "np.linalg.inv(C) # equivalent to C.I "
      ]
    },
    {
      "cell_type": "code",
      "execution_count": null,
      "metadata": {
        "id": "mlryG6fN_yOV"
      },
      "outputs": [],
      "source": [
        "C.I * C"
      ]
    },
    {
      "cell_type": "markdown",
      "metadata": {
        "id": "cJmj0-3B_yOV"
      },
      "source": [
        "#### Determinant"
      ]
    },
    {
      "cell_type": "code",
      "execution_count": null,
      "metadata": {
        "id": "wnCWWmA3_yOV"
      },
      "outputs": [],
      "source": [
        "np.linalg.det(C)"
      ]
    },
    {
      "cell_type": "code",
      "execution_count": null,
      "metadata": {
        "id": "lnJwENpk_yOV"
      },
      "outputs": [],
      "source": [
        "np.linalg.det(C.I)"
      ]
    },
    {
      "cell_type": "markdown",
      "metadata": {
        "id": "nY0YcxaJ_yOW"
      },
      "source": [
        "### Data processing"
      ]
    },
    {
      "cell_type": "markdown",
      "metadata": {
        "id": "YhqkkllP_yOW"
      },
      "source": [
        "Often it is useful to store datasets in Numpy arrays. Numpy provides a number of functions to calculate statistics of datasets in arrays. \n",
        "\n",
        "For example, let's calculate some properties from the Stockholm temperature dataset used above."
      ]
    },
    {
      "cell_type": "code",
      "execution_count": null,
      "metadata": {
        "id": "3u1uQ0dq_yOW"
      },
      "outputs": [],
      "source": [
        "# reminder, the tempeature dataset is stored in the data variable:\n",
        "np.shape(data)"
      ]
    },
    {
      "cell_type": "markdown",
      "metadata": {
        "id": "Zh1XgbZI_yOW"
      },
      "source": [
        "#### mean"
      ]
    },
    {
      "cell_type": "code",
      "execution_count": null,
      "metadata": {
        "id": "AlMu_qpO_yOW"
      },
      "outputs": [],
      "source": [
        "# the temperature data is in column 3\n",
        "np.mean(data[:,3])"
      ]
    },
    {
      "cell_type": "markdown",
      "metadata": {
        "id": "CYvwt7jW_yOW"
      },
      "source": [
        "The daily mean temperature in Stockholm over the last 200 years has been about 6.2 C."
      ]
    },
    {
      "cell_type": "markdown",
      "metadata": {
        "id": "b-v8OFPV_yOW"
      },
      "source": [
        "#### standard deviations and variance"
      ]
    },
    {
      "cell_type": "code",
      "execution_count": null,
      "metadata": {
        "id": "iFKoEJbN_yOX"
      },
      "outputs": [],
      "source": [
        "np.std(data[:,3]), np.var(data[:,3])"
      ]
    },
    {
      "cell_type": "markdown",
      "metadata": {
        "id": "FmZH3JIn_yOX"
      },
      "source": [
        "#### min and max"
      ]
    },
    {
      "cell_type": "code",
      "execution_count": null,
      "metadata": {
        "id": "nGHIrNL-_yOX"
      },
      "outputs": [],
      "source": [
        "# lowest daily average temperature\n",
        "data[:,3].min()"
      ]
    },
    {
      "cell_type": "code",
      "execution_count": null,
      "metadata": {
        "id": "9UR73b-l_yOX"
      },
      "outputs": [],
      "source": [
        "# highest daily average temperature\n",
        "data[:,3].max()"
      ]
    },
    {
      "cell_type": "markdown",
      "metadata": {
        "id": "YifeuJh4_yOX"
      },
      "source": [
        "#### sum, prod, and trace"
      ]
    },
    {
      "cell_type": "code",
      "execution_count": null,
      "metadata": {
        "id": "dj6U8yWB_yOX"
      },
      "outputs": [],
      "source": [
        "d = np.arange(0, 10)\n",
        "d"
      ]
    },
    {
      "cell_type": "code",
      "execution_count": null,
      "metadata": {
        "id": "wAIs9uIF_yOX"
      },
      "outputs": [],
      "source": [
        "# sum up all elements\n",
        "np.sum(d)"
      ]
    },
    {
      "cell_type": "code",
      "execution_count": null,
      "metadata": {
        "id": "IOLAKQAW_yOY"
      },
      "outputs": [],
      "source": [
        "# product of all elements\n",
        "np.prod(d+1)"
      ]
    },
    {
      "cell_type": "code",
      "execution_count": null,
      "metadata": {
        "id": "3NLH8MYZ_yOY"
      },
      "outputs": [],
      "source": [
        "# cummulative sum\n",
        "np.cumsum(d)"
      ]
    },
    {
      "cell_type": "code",
      "execution_count": null,
      "metadata": {
        "id": "bmpC8IJT_yOY"
      },
      "outputs": [],
      "source": [
        "# cummulative product\n",
        "np.cumprod(d+1)"
      ]
    },
    {
      "cell_type": "code",
      "execution_count": null,
      "metadata": {
        "id": "e0h1uhxI_yOY"
      },
      "outputs": [],
      "source": [
        "# same as: diag(A).sum()\n",
        "np.trace(A)"
      ]
    },
    {
      "cell_type": "markdown",
      "metadata": {
        "id": "haKjlhbD_yOY"
      },
      "source": [
        "#### dealing with NaNs and Infs"
      ]
    },
    {
      "cell_type": "code",
      "execution_count": null,
      "metadata": {
        "id": "hZI8-9Mm_yOY"
      },
      "outputs": [],
      "source": [
        "A=np.random.rand(3,3)\n",
        "A[1,1]=np.nan\n",
        "A\n"
      ]
    },
    {
      "cell_type": "code",
      "execution_count": null,
      "metadata": {
        "id": "Tn9GSonr_yOY"
      },
      "outputs": [],
      "source": [
        "np.isnan(A)"
      ]
    },
    {
      "cell_type": "markdown",
      "metadata": {
        "id": "hveuqWmO_yOY"
      },
      "source": [
        "Many NaN safe functions like:"
      ]
    },
    {
      "cell_type": "code",
      "execution_count": null,
      "metadata": {
        "id": "QdrCQmc-_yOZ"
      },
      "outputs": [],
      "source": [
        "np.nansum(A)"
      ]
    },
    {
      "cell_type": "markdown",
      "metadata": {
        "id": "SZpPARtr_yOZ"
      },
      "source": [
        "Convert NaN to 0:"
      ]
    },
    {
      "cell_type": "code",
      "execution_count": null,
      "metadata": {
        "id": "UBPdlKAw_yOZ"
      },
      "outputs": [],
      "source": [
        "np.nan_to_num(A)\n",
        "\n"
      ]
    },
    {
      "cell_type": "markdown",
      "metadata": {
        "id": "ZhkGvy39_yOZ"
      },
      "source": [
        "### Computations on subsets of arrays"
      ]
    },
    {
      "cell_type": "markdown",
      "metadata": {
        "id": "mb_P6dNo_yOZ"
      },
      "source": [
        "We can compute with subsets of the data in an array using indexing, fancy indexing, and the other methods of extracting data from an array (described above).\n",
        "\n",
        "For example, let's go back to the temperature dataset: open this file in your Jupyter file browser again."
      ]
    },
    {
      "cell_type": "markdown",
      "metadata": {
        "id": "q0Kwwco1_yOZ"
      },
      "source": [
        "The dataformat is: year, month, day, daily average temperature, low, high, location.\n",
        "\n",
        "If we are interested in the average temperature only in a particular month, say February, then we can create a index mask and use it to select only the data for that month using:"
      ]
    },
    {
      "cell_type": "code",
      "execution_count": null,
      "metadata": {
        "id": "pyFSH6oc_yOZ"
      },
      "outputs": [],
      "source": [
        "np.unique(data[:,1]) # the month column takes values from 1 to 12"
      ]
    },
    {
      "cell_type": "code",
      "execution_count": null,
      "metadata": {
        "id": "FWHUtBYW_yOZ"
      },
      "outputs": [],
      "source": [
        "mask_feb = data[:,1] == 2"
      ]
    },
    {
      "cell_type": "code",
      "execution_count": null,
      "metadata": {
        "id": "e8WFRLQI_yOZ"
      },
      "outputs": [],
      "source": [
        "# the temperature data is in column 3\n",
        "np.mean(data[mask_feb,3])"
      ]
    },
    {
      "cell_type": "markdown",
      "metadata": {
        "id": "daJHsxla_yOZ"
      },
      "source": [
        "With these tools we have very powerful data processing capabilities at our disposal. For example, to extract the average monthly average temperatures for each month of the year only takes a few lines of code: "
      ]
    },
    {
      "cell_type": "code",
      "execution_count": null,
      "metadata": {
        "id": "Yzmruc9y_yOa"
      },
      "outputs": [],
      "source": [
        "months = np.arange(1,13)\n",
        "monthly_mean = [np.mean(data[data[:,1] == month, 3]) for month in months]\n",
        "\n",
        "fig, ax = plt.subplots()\n",
        "ax.bar(months, monthly_mean)\n",
        "ax.set_xlabel(\"Month\")\n",
        "ax.set_ylabel(\"Monthly avg. temp.\");"
      ]
    },
    {
      "cell_type": "markdown",
      "metadata": {
        "id": "4y8pD5Qg_yOa"
      },
      "source": [
        "### Calculations with higher-dimensional data"
      ]
    },
    {
      "cell_type": "markdown",
      "metadata": {
        "id": "p_lZvmCw_yOa"
      },
      "source": [
        "When functions such as `min`, `max`, etc. are applied to a multidimensional arrays, it is sometimes useful to apply the calculation to the entire array, and sometimes only on a row or column basis. Using the `axis` argument we can specify how these functions should behave: "
      ]
    },
    {
      "cell_type": "code",
      "execution_count": null,
      "metadata": {
        "id": "p5DOvdHz_yOa",
        "colab": {
          "base_uri": "https://localhost:8080/"
        },
        "outputId": "2711c32f-e0f3-476f-af17-bf9e9eb0f5a8"
      },
      "outputs": [
        {
          "output_type": "execute_result",
          "data": {
            "text/plain": [
              "array([[0.28730778, 0.35820025, 0.45546911],\n",
              "       [0.88498384, 0.83129351, 0.89412442],\n",
              "       [0.76641547, 0.09696631, 0.10756925]])"
            ]
          },
          "metadata": {},
          "execution_count": 97
        }
      ],
      "source": [
        "m = np.random.rand(3,3)\n",
        "m"
      ]
    },
    {
      "cell_type": "code",
      "execution_count": null,
      "metadata": {
        "id": "vNTYwGeI_yOa",
        "colab": {
          "base_uri": "https://localhost:8080/"
        },
        "outputId": "92bd4b41-295a-40ea-a76f-64b87a4fdef9"
      },
      "outputs": [
        {
          "output_type": "execute_result",
          "data": {
            "text/plain": [
              "0.8941244222675593"
            ]
          },
          "metadata": {},
          "execution_count": 98
        }
      ],
      "source": [
        "# global max\n",
        "m.max()"
      ]
    },
    {
      "cell_type": "code",
      "execution_count": null,
      "metadata": {
        "id": "jRAqzzF8_yOa",
        "colab": {
          "base_uri": "https://localhost:8080/"
        },
        "outputId": "98d7d2f0-2cf7-4e0a-df66-85fa445c452e"
      },
      "outputs": [
        {
          "output_type": "execute_result",
          "data": {
            "text/plain": [
              "array([0.88498384, 0.83129351, 0.89412442])"
            ]
          },
          "metadata": {},
          "execution_count": 99
        }
      ],
      "source": [
        "# max in each column\n",
        "m.max(axis=0)"
      ]
    },
    {
      "cell_type": "code",
      "execution_count": null,
      "metadata": {
        "id": "x0ErPCqf_yOa"
      },
      "outputs": [],
      "source": [
        "# max in each row\n",
        "m.max(axis=1)"
      ]
    },
    {
      "cell_type": "markdown",
      "metadata": {
        "id": "TP-3p2qB_yOb"
      },
      "source": [
        "Many other functions and methods in the `array` and `matrix` classes accept the same (optional) `axis` keyword argument."
      ]
    },
    {
      "cell_type": "markdown",
      "metadata": {
        "id": "MbCl09S5_yOb"
      },
      "source": [
        "## Reshaping, resizing and stacking arrays"
      ]
    },
    {
      "cell_type": "markdown",
      "metadata": {
        "id": "ngXsi4Jm_yOb"
      },
      "source": [
        "The shape of an Numpy array can be modified without copying the underlaying data, which makes it a fast operation even for large arrays."
      ]
    },
    {
      "cell_type": "code",
      "execution_count": null,
      "metadata": {
        "id": "ViovGtnT_yOb"
      },
      "outputs": [],
      "source": [
        "A"
      ]
    },
    {
      "cell_type": "code",
      "execution_count": null,
      "metadata": {
        "id": "gfmc-zhQ_yOb"
      },
      "outputs": [],
      "source": [
        "n, m = A.shape"
      ]
    },
    {
      "cell_type": "code",
      "execution_count": null,
      "metadata": {
        "id": "aQzhiwzA_yOb"
      },
      "outputs": [],
      "source": [
        "B = A.reshape((1,n*m))\n",
        "B"
      ]
    },
    {
      "cell_type": "code",
      "execution_count": null,
      "metadata": {
        "id": "J0XZU_Bt_yOb"
      },
      "outputs": [],
      "source": [
        "B[0,0:5] = 5 # modify the array\n",
        "\n",
        "B"
      ]
    },
    {
      "cell_type": "code",
      "execution_count": null,
      "metadata": {
        "id": "HKSHPMHr_yOc"
      },
      "outputs": [],
      "source": [
        "A # and the original variable is also changed. B is only a different view of the same data"
      ]
    },
    {
      "cell_type": "markdown",
      "metadata": {
        "id": "LUAGCGVE_yOc"
      },
      "source": [
        "We can also use the function `flatten` to make a higher-dimensional array into a vector. But this function create a copy of the data."
      ]
    },
    {
      "cell_type": "code",
      "execution_count": null,
      "metadata": {
        "id": "ojl_J-AT_yOc"
      },
      "outputs": [],
      "source": [
        "B = A.flatten()\n",
        "\n",
        "B"
      ]
    },
    {
      "cell_type": "code",
      "execution_count": null,
      "metadata": {
        "id": "EARSoUeP_yOc"
      },
      "outputs": [],
      "source": [
        "B[0:5] = 10\n",
        "\n",
        "B"
      ]
    },
    {
      "cell_type": "code",
      "execution_count": null,
      "metadata": {
        "id": "IDN0wP80_yOc"
      },
      "outputs": [],
      "source": [
        "A # now A has not changed, because B's data is a copy of A's, not refering to the same data"
      ]
    },
    {
      "cell_type": "markdown",
      "metadata": {
        "id": "yEpnTbRi_yOd"
      },
      "source": [
        "## Adding a new dimension: newaxis"
      ]
    },
    {
      "cell_type": "markdown",
      "metadata": {
        "id": "1pHMXSEE_yOd"
      },
      "source": [
        "With `newaxis`, we can insert new dimensions in an array, for example converting a vector to a column or row matrix:"
      ]
    },
    {
      "cell_type": "code",
      "execution_count": null,
      "metadata": {
        "id": "lMW0-VMu_yOd"
      },
      "outputs": [],
      "source": [
        "v = np.array([1,2,3])"
      ]
    },
    {
      "cell_type": "code",
      "execution_count": null,
      "metadata": {
        "id": "saJRrQTQ_yOd"
      },
      "outputs": [],
      "source": [
        "np.shape(v)"
      ]
    },
    {
      "cell_type": "code",
      "execution_count": null,
      "metadata": {
        "id": "NDQE9JJ5_yOd"
      },
      "outputs": [],
      "source": [
        "# make a column matrix of the vector v\n",
        "v[:, np.newaxis]"
      ]
    },
    {
      "cell_type": "code",
      "execution_count": null,
      "metadata": {
        "id": "79I6qjOr_yOd"
      },
      "outputs": [],
      "source": [
        "# column matrix\n",
        "v[:,np.newaxis].shape"
      ]
    },
    {
      "cell_type": "code",
      "execution_count": null,
      "metadata": {
        "id": "21GmFv1N_yOe"
      },
      "outputs": [],
      "source": [
        "# row matrix\n",
        "v[np.newaxis,:].shape"
      ]
    },
    {
      "cell_type": "markdown",
      "metadata": {
        "id": "LIYch1Zw_yOe"
      },
      "source": [
        "## Stacking and repeating arrays"
      ]
    },
    {
      "cell_type": "markdown",
      "metadata": {
        "id": "B41_vXvz_yOe"
      },
      "source": [
        "Using function `repeat`, `tile`, `vstack`, `hstack`, and `concatenate` we can create larger vectors and matrices from smaller ones:"
      ]
    },
    {
      "cell_type": "markdown",
      "metadata": {
        "id": "Xuft12_d_yOe"
      },
      "source": [
        "### tile and repeat"
      ]
    },
    {
      "cell_type": "code",
      "execution_count": null,
      "metadata": {
        "id": "X_-Yxdyu_yOe"
      },
      "outputs": [],
      "source": [
        "a = np.array([[1, 2], [3, 4]])"
      ]
    },
    {
      "cell_type": "code",
      "execution_count": null,
      "metadata": {
        "id": "6klRUH2X_yOe",
        "colab": {
          "base_uri": "https://localhost:8080/"
        },
        "outputId": "e9c17ab6-84bf-4a0a-d562-7b21bd994561"
      },
      "outputs": [
        {
          "output_type": "execute_result",
          "data": {
            "text/plain": [
              "array([1, 1, 1, 2, 2, 2, 3, 3, 3, 4, 4, 4])"
            ]
          },
          "metadata": {},
          "execution_count": 103
        }
      ],
      "source": [
        "# repeat each element 3 times\n",
        "np.repeat(a, 3)"
      ]
    },
    {
      "cell_type": "code",
      "execution_count": null,
      "metadata": {
        "id": "L7pLWfjP_yOe",
        "colab": {
          "base_uri": "https://localhost:8080/"
        },
        "outputId": "89138e00-f1bd-4c53-a496-bd82b3020ce7"
      },
      "outputs": [
        {
          "output_type": "execute_result",
          "data": {
            "text/plain": [
              "array([[1, 2, 1, 2, 1, 2],\n",
              "       [3, 4, 3, 4, 3, 4]])"
            ]
          },
          "metadata": {},
          "execution_count": 104
        }
      ],
      "source": [
        "# tile the matrix 3 times \n",
        "np.tile(a, 3)"
      ]
    },
    {
      "cell_type": "markdown",
      "metadata": {
        "id": "A0xab-9N_yOf"
      },
      "source": [
        "### concatenate"
      ]
    },
    {
      "cell_type": "code",
      "execution_count": null,
      "metadata": {
        "id": "8w6h9xIY_yOf"
      },
      "outputs": [],
      "source": [
        "b = np.array([[5, 6]])"
      ]
    },
    {
      "cell_type": "code",
      "execution_count": null,
      "metadata": {
        "id": "_1ks9tRR_yOf",
        "colab": {
          "base_uri": "https://localhost:8080/",
          "height": 158
        },
        "outputId": "28bf2316-8c10-49c8-fe7e-db38280c91af"
      },
      "outputs": [
        {
          "output_type": "error",
          "ename": "NameError",
          "evalue": "ignored",
          "traceback": [
            "\u001b[0;31m---------------------------------------------------------------------------\u001b[0m",
            "\u001b[0;31mNameError\u001b[0m                                 Traceback (most recent call last)",
            "\u001b[0;32m<ipython-input-101-0ed2f549f1e6>\u001b[0m in \u001b[0;36m<module>\u001b[0;34m()\u001b[0m\n\u001b[0;32m----> 1\u001b[0;31m \u001b[0mnp\u001b[0m\u001b[0;34m.\u001b[0m\u001b[0mconcatenate\u001b[0m\u001b[0;34m(\u001b[0m\u001b[0;34m(\u001b[0m\u001b[0ma\u001b[0m\u001b[0;34m,\u001b[0m \u001b[0mb\u001b[0m\u001b[0;34m)\u001b[0m\u001b[0;34m,\u001b[0m \u001b[0maxis\u001b[0m\u001b[0;34m=\u001b[0m\u001b[0;36m0\u001b[0m\u001b[0;34m)\u001b[0m\u001b[0;34m\u001b[0m\u001b[0;34m\u001b[0m\u001b[0m\n\u001b[0m",
            "\u001b[0;31mNameError\u001b[0m: name 'a' is not defined"
          ]
        }
      ],
      "source": [
        "np.concatenate((a, b), axis=0)"
      ]
    },
    {
      "cell_type": "code",
      "execution_count": null,
      "metadata": {
        "id": "tgOiM9CN_yOf"
      },
      "outputs": [],
      "source": [
        "np.concatenate((a, b.T), axis=1)"
      ]
    },
    {
      "cell_type": "markdown",
      "metadata": {
        "id": "0NFpwIPh_yOf"
      },
      "source": [
        "### hstack and vstack"
      ]
    },
    {
      "cell_type": "code",
      "execution_count": null,
      "metadata": {
        "id": "dtL_ibBS_yOg"
      },
      "outputs": [],
      "source": [
        "np.vstack((a,b))"
      ]
    },
    {
      "cell_type": "code",
      "execution_count": null,
      "metadata": {
        "id": "o11g1nX9_yOg"
      },
      "outputs": [],
      "source": [
        "np.hstack((a,b.T))"
      ]
    },
    {
      "cell_type": "markdown",
      "metadata": {
        "id": "jR0C__M4_yOg"
      },
      "source": [
        "## Copy and \"deep copy\""
      ]
    },
    {
      "cell_type": "markdown",
      "metadata": {
        "id": "yi3uPy6b_yOg"
      },
      "source": [
        "To achieve high performance, assignments in Python usually do not copy the underlaying objects. This is important for example when objects are passed between functions, to avoid an excessive amount of memory copying when it is not necessary (technical term: pass by reference). "
      ]
    },
    {
      "cell_type": "code",
      "execution_count": null,
      "metadata": {
        "id": "_PLPC9Ej_yOg"
      },
      "outputs": [],
      "source": [
        "A = np.array([[1, 2], [3, 4]])\n",
        "\n",
        "A"
      ]
    },
    {
      "cell_type": "code",
      "execution_count": null,
      "metadata": {
        "id": "EyaSwby8_yOg"
      },
      "outputs": [],
      "source": [
        "# now B is referring to the same array data as A \n",
        "B = A "
      ]
    },
    {
      "cell_type": "code",
      "execution_count": null,
      "metadata": {
        "id": "EqVT84TW_yOg"
      },
      "outputs": [],
      "source": [
        "# changing B affects A\n",
        "B[0,0] = 10\n",
        "\n",
        "B"
      ]
    },
    {
      "cell_type": "code",
      "execution_count": null,
      "metadata": {
        "id": "S40G1cGp_yOh"
      },
      "outputs": [],
      "source": [
        "A"
      ]
    },
    {
      "cell_type": "markdown",
      "metadata": {
        "id": "D0TfrfKm_yOh"
      },
      "source": [
        "If we want to avoid this behavior, so that when we get a new completely independent object `B` copied from `A`, then we need to do a so-called \"deep copy\" using the function `copy`:"
      ]
    },
    {
      "cell_type": "code",
      "execution_count": null,
      "metadata": {
        "id": "0o6Mic9B_yOh"
      },
      "outputs": [],
      "source": [
        "B = np.copy(A)"
      ]
    },
    {
      "cell_type": "code",
      "execution_count": null,
      "metadata": {
        "id": "B2vrfv6K_yOh"
      },
      "outputs": [],
      "source": [
        "# now, if we modify B, A is not affected\n",
        "B[0,0] = -5\n",
        "\n",
        "B "
      ]
    },
    {
      "cell_type": "code",
      "execution_count": null,
      "metadata": {
        "id": "LbCDtahN_yOh"
      },
      "outputs": [],
      "source": [
        "A"
      ]
    },
    {
      "cell_type": "markdown",
      "metadata": {
        "id": "SFOSkImA_yOh"
      },
      "source": [
        "## Iterating over array elements"
      ]
    },
    {
      "cell_type": "markdown",
      "metadata": {
        "id": "37lM91hD_yOh"
      },
      "source": [
        "Generally, we want to avoid iterating over the elements of arrays whenever we can (at all costs). The reason is that in a interpreted language like Python (or MATLAB), iterations are really slow compared to vectorized operations. \n",
        "\n",
        "However, sometimes iterations are unavoidable. For such cases, the Python `for` loop is the most convenient way to iterate over an array:"
      ]
    },
    {
      "cell_type": "code",
      "execution_count": null,
      "metadata": {
        "id": "itsw0r_N_yOh"
      },
      "outputs": [],
      "source": [
        "v = np.array([1,2,3,4])\n",
        "\n",
        "for element in v:\n",
        "    print(element)"
      ]
    },
    {
      "cell_type": "code",
      "execution_count": null,
      "metadata": {
        "id": "qvao6GkJ_yOh"
      },
      "outputs": [],
      "source": [
        "M = np.array([[1,2], [3,4]])\n",
        "\n",
        "for row in M:\n",
        "    print(\"row\", row)\n",
        "    \n",
        "    for element in row:\n",
        "        print(element)"
      ]
    },
    {
      "cell_type": "markdown",
      "metadata": {
        "id": "IKHz9MNm_yOi"
      },
      "source": [
        "When we need to iterate over each element of an array and modify its elements, it is convenient to use the `enumerate` function to obtain both the element and its index in the `for` loop: "
      ]
    },
    {
      "cell_type": "code",
      "execution_count": null,
      "metadata": {
        "id": "UOiPKgyI_yOi"
      },
      "outputs": [],
      "source": [
        "for row_idx, row in enumerate(M):\n",
        "    print(\"row_idx\", row_idx, \"row\", row)\n",
        "    \n",
        "    for col_idx, element in enumerate(row):\n",
        "        print(\"col_idx\", col_idx, \"element\", element)\n",
        "       \n",
        "        # update the matrix M: square each element\n",
        "        M[row_idx, col_idx] = element ** 2"
      ]
    },
    {
      "cell_type": "code",
      "execution_count": null,
      "metadata": {
        "id": "lqzZCoRD_yOi"
      },
      "outputs": [],
      "source": [
        "# each element in M is now squared\n",
        "M"
      ]
    },
    {
      "cell_type": "markdown",
      "metadata": {
        "id": "ZwEtDPoP_yOi"
      },
      "source": [
        "## Vectorizing functions"
      ]
    },
    {
      "cell_type": "markdown",
      "metadata": {
        "id": "eBp14tT0_yOi"
      },
      "source": [
        "As mentioned several times by now, to get good performance we should try to avoid looping over elements in our vectors and matrices, and instead use vectorized algorithms. The first step in converting a scalar algorithm to a vectorized algorithm is to make sure that the functions we write work with vector inputs."
      ]
    },
    {
      "cell_type": "code",
      "execution_count": null,
      "metadata": {
        "id": "Xcdp36ag_yOi"
      },
      "outputs": [],
      "source": [
        "def Theta(x):\n",
        "    \"\"\"\n",
        "    Scalar implemenation of the Heaviside step function.\n",
        "    \"\"\"\n",
        "    if x >= 0:\n",
        "        return 1\n",
        "    else:\n",
        "        return 0"
      ]
    },
    {
      "cell_type": "code",
      "execution_count": null,
      "metadata": {
        "id": "-3vPlHh3_yOi"
      },
      "outputs": [],
      "source": [
        "Theta(np.array([-3,-2,-1,0,1,2,3]))"
      ]
    },
    {
      "cell_type": "markdown",
      "metadata": {
        "id": "D70ck1w5_yOi"
      },
      "source": [
        "OK, that didn't work because we didn't write the `Theta` function so that it can handle a vector input... \n",
        "\n",
        "To get a vectorized version of Theta we can use the Numpy function `vectorize`. In many cases it can automatically vectorize a function:"
      ]
    },
    {
      "cell_type": "code",
      "execution_count": null,
      "metadata": {
        "id": "gdlm9E_U_yOj"
      },
      "outputs": [],
      "source": [
        "Theta_vec = np.vectorize(Theta)"
      ]
    },
    {
      "cell_type": "code",
      "execution_count": null,
      "metadata": {
        "id": "ry5CfSiH_yOj"
      },
      "outputs": [],
      "source": [
        "Theta_vec([1,3,4])"
      ]
    },
    {
      "cell_type": "markdown",
      "metadata": {
        "id": "8I7X3vmg_yOj"
      },
      "source": [
        "We can also implement the function to accept a vector input from the beginning (requires more effort but might give better performance):"
      ]
    },
    {
      "cell_type": "code",
      "execution_count": null,
      "metadata": {
        "id": "VjjRcHyx_yOj"
      },
      "outputs": [],
      "source": [
        "def Theta(x):\n",
        "    \"\"\"\n",
        "    Vector-aware implemenation of the Heaviside step function.\n",
        "    \"\"\"\n",
        "    return 1 * (x >= 0)"
      ]
    },
    {
      "cell_type": "code",
      "execution_count": null,
      "metadata": {
        "id": "pvVIExU0_yOj"
      },
      "outputs": [],
      "source": [
        "Theta(np.array([-3,-2,-1,0,1,2,3]))"
      ]
    },
    {
      "cell_type": "code",
      "execution_count": null,
      "metadata": {
        "id": "4inmdlJs_yOj"
      },
      "outputs": [],
      "source": [
        "# still works for scalars as well\n",
        "Theta(-1.2), Theta(2.6)"
      ]
    },
    {
      "cell_type": "markdown",
      "metadata": {
        "id": "8S13xUzY_yOj"
      },
      "source": [
        "## Using arrays in conditions"
      ]
    },
    {
      "cell_type": "markdown",
      "metadata": {
        "id": "R5SmAn1M_yOj"
      },
      "source": [
        "When using arrays in conditions,for example `if` statements and other boolean expressions, one needs to use `any` or `all`, which requires that any or all elements in the array evalutes to `True`:"
      ]
    },
    {
      "cell_type": "code",
      "execution_count": null,
      "metadata": {
        "id": "YBY44zwY_yOj"
      },
      "outputs": [],
      "source": [
        "M"
      ]
    },
    {
      "cell_type": "code",
      "execution_count": null,
      "metadata": {
        "id": "mkQRwo3Z_yOj"
      },
      "outputs": [],
      "source": [
        "if (M > 5).any():\n",
        "    print(\"at least one element in M is larger than 5\")\n",
        "else:\n",
        "    print(\"no element in M is larger than 5\")"
      ]
    },
    {
      "cell_type": "code",
      "execution_count": null,
      "metadata": {
        "id": "Mv3L373Q_yOk"
      },
      "outputs": [],
      "source": [
        "if (M > 5).all():\n",
        "    print(\"all elements in M are larger than 5\")\n",
        "else:\n",
        "    print(\"all elements in M are not larger than 5\")"
      ]
    },
    {
      "cell_type": "markdown",
      "metadata": {
        "id": "uc3pFoTC_yOk"
      },
      "source": [
        "## Type casting"
      ]
    },
    {
      "cell_type": "markdown",
      "metadata": {
        "id": "Qn7jl-c8_yOk"
      },
      "source": [
        "Since Numpy arrays are *statically typed*, the type of an array does not change once created. But we can explicitly cast an array of some type to another using the `astype` functions (see also the similar `asarray` function). This always create a new array of new type:"
      ]
    },
    {
      "cell_type": "code",
      "execution_count": null,
      "metadata": {
        "id": "aWXUbGq-_yOk"
      },
      "outputs": [],
      "source": [
        "M.dtype"
      ]
    },
    {
      "cell_type": "code",
      "execution_count": null,
      "metadata": {
        "id": "dISJxrhp_yOk"
      },
      "outputs": [],
      "source": [
        "M2 = M.astype(float)\n",
        "\n",
        "M2"
      ]
    },
    {
      "cell_type": "code",
      "execution_count": null,
      "metadata": {
        "id": "iq3EwNoX_yOk"
      },
      "outputs": [],
      "source": [
        "M2.dtype"
      ]
    },
    {
      "cell_type": "code",
      "execution_count": null,
      "metadata": {
        "id": "UFqv0DEV_yOk"
      },
      "outputs": [],
      "source": [
        "?M.astype(bool)\n"
      ]
    },
    {
      "cell_type": "markdown",
      "metadata": {
        "id": "sD5jfWKB_yOk"
      },
      "source": [
        "## Further reading"
      ]
    },
    {
      "cell_type": "markdown",
      "metadata": {
        "id": "WJVsaDdT_yOk"
      },
      "source": [
        "* http://numpy.scipy.org\n",
        "* https://numpy.org/doc/stable/user/numpy-for-matlab-users.html - A Numpy guide for MATLAB users."
      ]
    },
    {
      "cell_type": "code",
      "execution_count": null,
      "metadata": {
        "id": "eQp7yppR_yOl"
      },
      "outputs": [],
      "source": [
        ""
      ]
    }
  ],
  "metadata": {
    "anaconda-cloud": {},
    "celltoolbar": "Slideshow",
    "kernelspec": {
      "display_name": "Python 3",
      "language": "python",
      "name": "python3"
    },
    "language_info": {
      "codemirror_mode": {
        "name": "ipython",
        "version": 3
      },
      "file_extension": ".py",
      "mimetype": "text/x-python",
      "name": "python",
      "nbconvert_exporter": "python",
      "pygments_lexer": "ipython3",
      "version": "3.7.6"
    },
    "colab": {
      "name": "Introduction_Numpy.ipynb",
      "provenance": [],
      "collapsed_sections": [
        "ijVmB6Xj_yN0",
        "bm3Dmj31_yN0",
        "6MQn9xdK_yN1",
        "dVpOxWLj_yN2",
        "bNIPiV8B_yN3",
        "Ohf-Jn4N_yN3",
        "87WFXDJh_yN4",
        "OBT9GTHl_yN5",
        "ETPkH7md_yN5",
        "LnVE4sv5_yN7",
        "0wuHyp7G_yN8",
        "QXjcGhTn_yN9",
        "4NefLVvT_yN9",
        "8CLJielI_yN_",
        "giWGtppg_yOD",
        "4N6JqAvn_yOF",
        "Bd4zSOMU_yOF",
        "bdtRWEFT_yOG",
        "eYBWDTx3_yOI",
        "Clmu2qoo_yON",
        "WbLUQS2H_yOO",
        "Ly0kuGIh_yOO",
        "VVh52WyY_yOQ",
        "5aI8T1ub_yOR",
        "0GzxnDmA_yOR",
        "bD_D8bzR_yOS",
        "010mvVse_yOT",
        "MtVjqTMM_yOV",
        "veUNf4XV_yOV",
        "cJmj0-3B_yOV",
        "nY0YcxaJ_yOW",
        "Zh1XgbZI_yOW",
        "b-v8OFPV_yOW",
        "FmZH3JIn_yOX",
        "YifeuJh4_yOX",
        "haKjlhbD_yOY",
        "ZhkGvy39_yOZ",
        "4y8pD5Qg_yOa",
        "MbCl09S5_yOb",
        "yEpnTbRi_yOd",
        "LIYch1Zw_yOe",
        "Xuft12_d_yOe",
        "A0xab-9N_yOf",
        "0NFpwIPh_yOf",
        "jR0C__M4_yOg",
        "SFOSkImA_yOh",
        "ZwEtDPoP_yOi",
        "8S13xUzY_yOj",
        "uc3pFoTC_yOk",
        "sD5jfWKB_yOk"
      ],
      "include_colab_link": true
    }
  },
  "nbformat": 4,
  "nbformat_minor": 0
}