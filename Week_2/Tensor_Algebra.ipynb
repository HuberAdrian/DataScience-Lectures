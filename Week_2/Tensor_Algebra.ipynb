{
  "cells": [
    {
      "cell_type": "markdown",
      "metadata": {
        "id": "view-in-github",
        "colab_type": "text"
      },
      "source": [
        "<a href=\"https://colab.research.google.com/github/HuberAdrian/DataScience-Lectures/blob/main/Tensor_Algebra.ipynb\" target=\"_parent\"><img src=\"https://colab.research.google.com/assets/colab-badge.svg\" alt=\"Open In Colab\"/></a>"
      ]
    },
    {
      "cell_type": "markdown",
      "metadata": {
        "id": "2Cutx2kt_xEr"
      },
      "source": [
        " # Tensor Algebra"
      ]
    },
    {
      "cell_type": "markdown",
      "metadata": {
        "id": "m594KN6v_xEt"
      },
      "source": [
        "## Outline\n",
        "* What is Tensor?\n",
        "* Quick introduction to ***Numpy***\n",
        "* Basic Vector Algebra \n",
        "* Basic Matrix Algebra\n",
        "* Eigen Values - Problems and Applications\n",
        "* Singular Value Decomposition"
      ]
    },
    {
      "cell_type": "markdown",
      "metadata": {
        "id": "eb6TpUct_xEt"
      },
      "source": [
        "\n",
        "<div class=\"slide-title\">\n",
        "    <h3><font color=\"red\">Disclaimer</font></h3>\n",
        "    <b>This is not a math class!</b><br>\n",
        "    <li> Terms and concepts are introduced as needed\n",
        "    <li> NOT complete!\n",
        "</div>"
      ]
    },
    {
      "cell_type": "markdown",
      "metadata": {
        "id": "SPuUHIGc_xEu"
      },
      "source": [
        "## What is a Tensor? "
      ]
    },
    {
      "cell_type": "markdown",
      "metadata": {
        "id": "Jrm6ZOMq_xEu"
      },
      "source": [
        "In mathematics, a **tensor** is a geometric object that maps in a multi-linear manner geometric vectors, scalars, and other tensors to a resulting tensor. **Vectors and scalars** which are often used in elementary physics and engineering applications, are considered as the simplest tensors...<br>\n",
        "An elementary example of mapping, describable as a tensor, is the **dot product**, which maps two vectors to a scalar. ...\" [Wikipedia]"
      ]
    },
    {
      "cell_type": "markdown",
      "metadata": {
        "id": "8xhwiVJ__xEu"
      },
      "source": [
        "## NumPy - A Python Library for Arrays and Tensors  \n",
        "\n",
        "<center>\n",
        "    <img src=\"https://github.com/keuperj/DataScience22/blob/main/week_2/IMG/numpy.jpeg?raw=1\">\n",
        "    <br><br>\n",
        "    <A HREF=\"https://docs.scipy.org/doc/numpy/\">https://docs.scipy.org/doc/numpy/</A>\n",
        "</center>"
      ]
    },
    {
      "cell_type": "code",
      "execution_count": null,
      "metadata": {
        "id": "5IiHoyKx_xEv"
      },
      "outputs": [],
      "source": [
        "#comunity convention to name numpy \"np\"\n",
        "import numpy as np"
      ]
    },
    {
      "cell_type": "markdown",
      "metadata": {
        "id": "-f6qnRiY_xEv"
      },
      "source": [
        "NumPy introduction \"on the fly\" - detailed intro this afternoon in the Lab session."
      ]
    },
    {
      "cell_type": "markdown",
      "metadata": {
        "id": "51ztnnAK_xEv"
      },
      "source": [
        "## Vector Arithmetic\n",
        "Let's start simple: recall vector notation and some basic vector algebra."
      ]
    },
    {
      "cell_type": "markdown",
      "metadata": {
        "id": "cQiZAg_l_xEw"
      },
      "source": [
        "Notation: we wrtite $\\vec{a}$ to denote elements of some vector space, e.g. $\\vec{a} \\in \\mathbb{R}^n$\n",
        "\n",
        "$\\vec{a} := (a_0, a_1, \\dots, a_n), a_i \\in \\mathbb{R}$\n",
        "\n",
        "See https://en.wikipedia.org/wiki/Vector_space for formal definition of vector spaces."
      ]
    },
    {
      "cell_type": "code",
      "execution_count": null,
      "metadata": {
        "id": "HX9NzMiI_xEw",
        "outputId": "40b55cc8-6ffb-4fd9-f4e9-92755a84162b"
      },
      "outputs": [
        {
          "data": {
            "text/plain": [
              "array([1, 2, 3, 4])"
            ]
          },
          "execution_count": 2,
          "metadata": {},
          "output_type": "execute_result"
        }
      ],
      "source": [
        "#in numpy we define vectors as 1D arrays\n",
        "a=np.array([1,2,3,4])\n",
        "a"
      ]
    },
    {
      "cell_type": "markdown",
      "metadata": {
        "id": "JucyQq3W_xEw"
      },
      "source": [
        "### Basic Vector opperations\n",
        "For some example vector space $\\mathbb{R}^n$\n",
        "* addition: $\\vec{c} = \\vec{a}+\\vec{b} \\rightarrow : \\forall a,b \\in \\mathbb{R}^n: c \\in \\mathbb{R}^n$\n",
        "\n",
        "* scalar multiplocation: $ h \\vec{a}, h \\in \\mathbb{R} := (ha_0,ha_1,\\dots ha_n) $\n",
        "\n",
        "* **dot product**: $<\\vec{a},\\vec{b}> := c$ ,where $c \\in \\mathbb{R}$ "
      ]
    },
    {
      "cell_type": "code",
      "execution_count": null,
      "metadata": {
        "id": "n4zjAvER_xEx",
        "outputId": "a75eefc0-16cf-464a-bd99-2201611d5665"
      },
      "outputs": [
        {
          "data": {
            "text/plain": [
              "array([3.26213973, 2.21111012, 2.49034553, 3.32616839])"
            ]
          },
          "execution_count": 5,
          "metadata": {},
          "output_type": "execute_result"
        }
      ],
      "source": [
        "#in numpy:\n",
        "a=np.random.random(4)\n",
        "b=np.random.random(4)\n",
        "a+b*5"
      ]
    },
    {
      "cell_type": "code",
      "execution_count": null,
      "metadata": {
        "id": "7-2srAmK_xEx",
        "outputId": "aeeb199d-979a-40c6-ff08-790da19666ed"
      },
      "outputs": [
        {
          "data": {
            "text/plain": [
              "array([0.02899746, 0.02599721, 0.21964574, 0.32139272])"
            ]
          },
          "execution_count": 6,
          "metadata": {},
          "output_type": "execute_result"
        }
      ],
      "source": [
        "#WARNING:\n",
        "a*b #element wise mult"
      ]
    },
    {
      "cell_type": "code",
      "execution_count": null,
      "metadata": {
        "id": "owr1Jlmd_xEy",
        "outputId": "4a74b525-ed93-49d9-c513-cc9f0d8d52ca"
      },
      "outputs": [
        {
          "data": {
            "text/plain": [
              "0.5960331200656978"
            ]
          },
          "execution_count": 7,
          "metadata": {},
          "output_type": "execute_result"
        }
      ],
      "source": [
        "a.dot(b) #this is a dot product !"
      ]
    },
    {
      "cell_type": "markdown",
      "metadata": {
        "id": "VSkeGqqk_xEy"
      },
      "source": [
        "### Some more important vector opperations:\n",
        "* vector norm (formal): $\\|\\vec{a}\\| := \\sqrt{<\\vec{a},\\vec{a}> } $\n",
        "* eucledian norm: $\\|\\vec{a}\\|_2 := \\sqrt{\\sum_i a_i^2 } $\n"
      ]
    },
    {
      "cell_type": "code",
      "execution_count": null,
      "metadata": {
        "id": "e6QdlpEn_xEz",
        "outputId": "ec347aba-c0ac-45c4-a1fc-b27cb1fe5e31"
      },
      "outputs": [
        {
          "data": {
            "text/plain": [
              "3.4641016151377544"
            ]
          },
          "execution_count": 8,
          "metadata": {},
          "output_type": "execute_result"
        }
      ],
      "source": [
        "#in numpy\n",
        "a=np.array([2,2,2])\n",
        "np.linalg.norm(a)"
      ]
    },
    {
      "cell_type": "markdown",
      "metadata": {
        "id": "pYsuT3jv_xEz"
      },
      "source": [
        "### Some more important vector opperations:\n",
        "* vector norm (formal): $\\|\\vec{a}\\| := \\sqrt{<\\vec{a},\\vec{a}> } $\n",
        "* eucledian norm: $\\|\\vec{a}\\|_2 := \\sqrt{\\sum_i a_i^2 } $\n",
        "* outer product (dyadic product): $\\vec{a} \\otimes \\vec{b} := \\vec{a}\\vec{b}^T$ (Matrix product)"
      ]
    },
    {
      "cell_type": "markdown",
      "metadata": {
        "id": "LCkucAqs_xE0"
      },
      "source": [
        "## Matrix Algebra"
      ]
    },
    {
      "cell_type": "markdown",
      "metadata": {
        "id": "mt0qzA8E_xE0"
      },
      "source": [
        "### Definition\n",
        "A **matrix** $A$ is defined as a $m \\times n$ 2d tensor (rank 2):\n",
        "$A := \\left(\\begin{matrix} a_{00} & a_{01} & \\dots & a_{0n}\\\\ \\vdots & &  & \\vdots\\\\a_{m0} & a_{m1}& \\dots &a_{mn} \\end{matrix} \\right) $\n",
        "\n",
        "* e.g. with $m$ **row vectors** $\\in \\mathbb{R}^n$ and $n$ **column vectors** $\\in \\mathbb{R}^m$\n",
        "* $\\forall a_{ij} \\in \\mathbb{R}$"
      ]
    },
    {
      "cell_type": "code",
      "execution_count": null,
      "metadata": {
        "id": "LeOInUhC_xE0",
        "outputId": "087233c6-df70-46d7-dae4-fc7205c9de17"
      },
      "outputs": [
        {
          "data": {
            "text/plain": [
              "array([[1, 2, 3, 4],\n",
              "       [1, 2, 3, 4],\n",
              "       [5, 6, 7, 8]])"
            ]
          },
          "execution_count": 9,
          "metadata": {},
          "output_type": "execute_result"
        }
      ],
      "source": [
        "#in numpy\n",
        "A=np.array([[1,2,3,4],[1,2,3,4],[5,6,7,8]])\n",
        "A"
      ]
    },
    {
      "cell_type": "markdown",
      "metadata": {
        "id": "GwIVVlE3_xE1"
      },
      "source": [
        "#### Motivation I: Matrix as data structure\n",
        "* e.g. to store and process distances between objects\n",
        "<img src=\"https://github.com/keuperj/DataScience22/blob/main/week_2/IMG/D.png?raw=1\" width=\"300\">\n",
        "* we will see many examples where matricies hold\n",
        "   * distances \n",
        "   * correlations\n",
        "   * afinity in graphs \n",
        "   * ..."
      ]
    },
    {
      "cell_type": "markdown",
      "metadata": {
        "id": "scud4h8j_xE1"
      },
      "source": [
        "#### Motivation II: linear mappings / equation systems\n",
        "Write system of linear equations\n",
        "<img src=\"https://github.com/keuperj/DataScience22/blob/main/week_2/IMG/lin_eq.svg?raw=1\">\n",
        "as $Ax = b$ with\n",
        "<img src=\"https://github.com/keuperj/DataScience22/blob/main/week_2/IMG/lin_mat.svg?raw=1\">"
      ]
    },
    {
      "cell_type": "code",
      "execution_count": null,
      "metadata": {
        "id": "pHrOgmGe_xE1",
        "outputId": "5ea4a7e1-79e3-40cd-d0aa-8ab0a66ac225"
      },
      "outputs": [
        {
          "data": {
            "text/plain": [
              "array([2., 3.])"
            ]
          },
          "execution_count": 10,
          "metadata": {},
          "output_type": "execute_result"
        }
      ],
      "source": [
        "# NumPy: Solve the system of equations 3 * x0 + x1 = 9 and x0 + 2 * x1 = 8:\n",
        "a = np.array([[3,1], [1,2]])\n",
        "b = np.array([9,8])\n",
        "np.linalg.solve(a, b)"
      ]
    },
    {
      "cell_type": "markdown",
      "metadata": {
        "id": "5_g5zK-q_xE2"
      },
      "source": [
        "#### Motivation III: Matrices as operators (tensors)\n",
        "Matrices are widely use as operators (tensors) to apply transformations (mappings) on data vectors. E.g., to represent affine transformations with matrices, we can use **homogeneous coordinates**. This means representing a 2-vector $(x, y)$ as a 3-vector $(x, y, 1)$.\n",
        "\n",
        "$\\vec{a}' = A\\vec{a}$"
      ]
    },
    {
      "cell_type": "markdown",
      "metadata": {
        "id": "wncmHn9M_xE2"
      },
      "source": [
        "Example: transformations of the unit square in $\\mathbb{R}^2$ [wikipedia].\n",
        "<img src=\"https://github.com/keuperj/DataScience22/blob/main/week_2/IMG/mat_op.png?raw=1\">"
      ]
    },
    {
      "cell_type": "markdown",
      "metadata": {
        "id": "uaoHZz7j_xE2"
      },
      "source": [
        "### Special types of Matrices\n",
        "* **Unit Matrix** (or Identity Matrix): $I_n := \\left(\\begin{matrix} 1 & 0 & 0 &\\dots & 0\\\\ 0 & 1 & 0 & \\dots & 0\\\\ \\vdots & & & & \\vdots\\\\ 0 & \\dots& 0 & 1 & 0\\\\0 & 0& \\dots & 0& 1 \\end{matrix} \\right)$\n",
        "with $I_mA = AI_n = A$\n",
        "<br><br>\n",
        "* **Symmetric Matrix**: square Matrix $(m=n)$ where $A^T=A$  \n",
        "<BR><BR>\n",
        "\n",
        "* **Diagonal Matrix**: square Matrix where $a_{mn} := 0, \\quad\\forall m\\neq m$ \n"
      ]
    },
    {
      "cell_type": "code",
      "execution_count": null,
      "metadata": {
        "id": "E4YQ1nNh_xE3",
        "outputId": "1ec9aa31-4e79-49b1-ba9c-88a42da3bd55"
      },
      "outputs": [
        {
          "data": {
            "text/plain": [
              "array([[1, 0, 0, 0],\n",
              "       [0, 2, 0, 0],\n",
              "       [0, 0, 3, 0],\n",
              "       [0, 0, 0, 4]])"
            ]
          },
          "execution_count": 11,
          "metadata": {},
          "output_type": "execute_result"
        }
      ],
      "source": [
        "#in numpy\n",
        "np.diag([1,2,3,4])"
      ]
    },
    {
      "cell_type": "code",
      "execution_count": null,
      "metadata": {
        "id": "_7K9bABu_xE3",
        "outputId": "e25d3b15-d317-4957-8e90-13063f1f60f6"
      },
      "outputs": [
        {
          "data": {
            "text/plain": [
              "array([[1., 0., 0., 0.],\n",
              "       [0., 1., 0., 0.],\n",
              "       [0., 0., 1., 0.],\n",
              "       [0., 0., 0., 1.]])"
            ]
          },
          "execution_count": 12,
          "metadata": {},
          "output_type": "execute_result"
        }
      ],
      "source": [
        "np.identity(4)"
      ]
    },
    {
      "cell_type": "markdown",
      "metadata": {
        "id": "kDdVm6bb_xE4"
      },
      "source": [
        "### Matrix Arithmetic\n",
        "* **adding matrices** (element wise): $C := A + B$, where $c_{ij} := a_{ij}+b_{ij}  \\forall i\\in m, j \\in n   $\n",
        "<br><br>\n",
        "* **skalar multiplication**: $C := hA$, where $c_{ij} := ha_{ij}  \\forall i\\in m, j \\in n   $\n"
      ]
    },
    {
      "cell_type": "markdown",
      "metadata": {
        "id": "Ty4SYfVD_xE4"
      },
      "source": [
        "* **inner product** (matrix multiplication):\n",
        "<img SRC=\"IMG/matmul.gif\">\n",
        "https://www.reddit.com/r/educationalgifs/comments/5il2xm/matrix_multiplication/"
      ]
    },
    {
      "cell_type": "markdown",
      "metadata": {
        "id": "BLTYRLDG_xE4"
      },
      "source": [
        "#### Matrix Inverse\n",
        "\n",
        "The inverse $A^{-1}$ of a quadratic Matrix $A$ is defined as: $A^{-1}A = AA^{-1} = I$\n",
        "\n",
        "**Complexity:** $O(n^3)$ whens solving the above equation via Gauss-Jorden.\n",
        "https://en.wikipedia.org/wiki/Computational_complexity_of_mathematical_operations"
      ]
    },
    {
      "cell_type": "markdown",
      "metadata": {
        "id": "rgPfjbdV_xE5"
      },
      "source": [
        "## Changing the Basis of a Vector Space"
      ]
    },
    {
      "cell_type": "markdown",
      "metadata": {
        "id": "h4T-Ahhi_xE5"
      },
      "source": [
        "#### Definition:\n",
        "a **set** B of elements (**vectors**) in a **vector space** $V$ is called a **basis**, if every element of $V$ may be written in a unique way as a (finite) **linear combination** of elements of B. The coefficients of this linear combination are referred to as components or **coordinates** on B of the vector. The elements of a basis are called basis vectors [wikipedia]."
      ]
    },
    {
      "cell_type": "markdown",
      "metadata": {
        "id": "kDlGEXNn_xE5"
      },
      "source": [
        "#### Simple Example:\n",
        "In $\\mathbb{R}^2$, the ***eucledian*** basis is the set of the two vectors $\\vec{e_0} := (1,0)^T, \\vec{e_1} := (0,1)^T$.\n",
        "    \n",
        "Every point $\\vec{p}:=(p_0,p_1) \\in \\mathbb{R}^2$ can be expressed by it's **coordinates** $x,y$ in the form of $p_0:=x\\vec{e_0}$ and $p_1:=y\\vec{e_1}$   "
      ]
    },
    {
      "cell_type": "markdown",
      "metadata": {
        "id": "hMw7vpsV_xE5"
      },
      "source": [
        "<img src=\"https://github.com/keuperj/DataScience22/blob/main/week_2/IMG/basis1.png?raw=1\">"
      ]
    },
    {
      "cell_type": "markdown",
      "metadata": {
        "id": "pIbTLmsm_xE5"
      },
      "source": [
        "#### Alternative Basis\n",
        "The basis of vector space is not unique: it is very easy to find new sets of basis vectors.  "
      ]
    },
    {
      "cell_type": "markdown",
      "metadata": {
        "id": "ssyA-Hko_xE6"
      },
      "source": [
        "<img src=\"https://github.com/keuperj/DataScience22/blob/main/week_2/IMG/basis2.png?raw=1\">"
      ]
    },
    {
      "cell_type": "markdown",
      "metadata": {
        "id": "p07BQ6En_xE6"
      },
      "source": [
        "#### Optional Properties of Basis Sets\n",
        "* othortogonal\n",
        "* orthonormal "
      ]
    },
    {
      "cell_type": "markdown",
      "metadata": {
        "id": "-dsx51AL_xE6"
      },
      "source": [
        "#### Changing the Basis\n"
      ]
    },
    {
      "cell_type": "markdown",
      "metadata": {
        "id": "ZOJ8ga9D_xE6"
      },
      "source": [
        "## Eigen Decomposition"
      ]
    },
    {
      "cell_type": "markdown",
      "metadata": {
        "id": "FDqWsdi2_xE7"
      },
      "source": [
        "One of the re-accuring questions is: how to find the ***\"best\"*** basis for a given problem/data. Decomposition into ***Eigen Values*** and ***Eigen Vectors*** provide a comon solution:"
      ]
    },
    {
      "cell_type": "markdown",
      "metadata": {
        "id": "xLhqUZ61_xE7"
      },
      "source": [
        "#### Definition\n",
        "An eigenvector of a linear transformation $T$ is a non-zero vector that changes by only a scalar factor when that linear transformation is applied to it. This condition can be written as:\n",
        "\n",
        "$ T(\\mathbf {v} )=\\lambda \\mathbf {v} $\n",
        "\n",
        "where $\\lambda$ is a scalar, known as the ***eigenvalue*** associated with the ***eigenvector*** v.\n",
        "\n",
        "If the vector space $V$ is finite-dimensional, then the linear transformation $T$ can be represented as a **square matrix $A$** , and the vector $v$ by a **column vector**, rendering the above mapping as a matrix multiplication on the left-hand side and a scaling of the column vector on the right-hand side in the equation [wikipedia]\n",
        "\n",
        "$ A\\mathbf {v} =\\lambda \\mathbf {v}$ "
      ]
    },
    {
      "cell_type": "markdown",
      "metadata": {
        "id": "ar0v0J08_xE7"
      },
      "source": [
        "#### Eigen Decomposition\n",
        "for a squared, diagonizable matrix $M$ of size $n \\times n$:\n",
        "\n",
        "* we can find $n$ **eigen vectors** $q_i$ with **eigen values** $\\lambda_i$ \n",
        "\n",
        "* we can decompose $M$ into $M = Q \\Lambda Q^{-1} $\n",
        "    * where $Q$ is a matrix of the eigenvectors\n",
        "    * $\\Lambda$ a diagonal matrix with the $\\lambda_i$ on the diagonal"
      ]
    },
    {
      "cell_type": "markdown",
      "metadata": {
        "id": "Z2f88C3t_xE7"
      },
      "source": [
        "#### Intuition\n",
        "* Number of non zero eigenvalues gives the \"intrinsic dimension/rank\" of the data\n",
        "* Eigenvectors form **new basis**"
      ]
    },
    {
      "cell_type": "code",
      "execution_count": null,
      "metadata": {
        "id": "Ct7WXRu8_xE8",
        "outputId": "3df7e5a0-de5b-41fc-9a3e-8e73de8625ab"
      },
      "outputs": [
        {
          "data": {
            "text/plain": [
              "array([[1, 0, 0],\n",
              "       [0, 1, 0],\n",
              "       [0, 0, 0]])"
            ]
          },
          "execution_count": 16,
          "metadata": {},
          "output_type": "execute_result"
        }
      ],
      "source": [
        "#a numpy example\n",
        "A=np.diag((1, 1, 0))\n",
        "A"
      ]
    },
    {
      "cell_type": "code",
      "execution_count": null,
      "metadata": {
        "id": "XGXIBq7d_xE8",
        "outputId": "cfd0c6e2-a12b-4b32-aae1-46430dcf1a39"
      },
      "outputs": [
        {
          "name": "stdout",
          "output_type": "stream",
          "text": [
            "[1. 1. 0.]\n"
          ]
        }
      ],
      "source": [
        "v,V=np.linalg.eig(A)\n",
        "print(v)"
      ]
    },
    {
      "cell_type": "code",
      "execution_count": null,
      "metadata": {
        "id": "lG7HGFiG_xE8",
        "outputId": "75cd2aa1-4464-404a-9538-cd7008c10c84"
      },
      "outputs": [
        {
          "name": "stdout",
          "output_type": "stream",
          "text": [
            "[[1. 0. 0.]\n",
            " [0. 1. 0.]\n",
            " [0. 0. 1.]]\n"
          ]
        }
      ],
      "source": [
        "print(V)"
      ]
    },
    {
      "cell_type": "code",
      "execution_count": null,
      "metadata": {
        "id": "8x3-UM0Y_xE9"
      },
      "outputs": [],
      "source": [
        "#a bit more complex example\n",
        "A=np.array([[1,1,0,0],[3,3,0,0],[2,2,0,0],[4,4,0,0]])\n",
        "v,V=np.linalg.eig(A)"
      ]
    },
    {
      "cell_type": "code",
      "execution_count": null,
      "metadata": {
        "id": "6PZQ6MUH_xE9",
        "outputId": "f5884fa5-ed3e-4065-b46e-98ca077ce757"
      },
      "outputs": [
        {
          "data": {
            "text/plain": [
              "array([ 0.        ,  4.        ,  0.        , -2.92118697])"
            ]
          },
          "execution_count": 27,
          "metadata": {},
          "output_type": "execute_result"
        }
      ],
      "source": [
        "v[3]*V[3,:]"
      ]
    },
    {
      "cell_type": "markdown",
      "metadata": {
        "id": "zhTwB_ll_xE9"
      },
      "source": [
        "#### Problems with Eigen Decompositions \n",
        "* only for diagonizable, quared marticies\n",
        "* but, matricies hoding data are usually not square (more data samples than data dimensions)"
      ]
    },
    {
      "cell_type": "markdown",
      "metadata": {
        "id": "-PKvVNbg_xE9"
      },
      "source": [
        "## Sigular Value Decomposition"
      ]
    },
    {
      "cell_type": "markdown",
      "metadata": {
        "id": "paB6rUUQ_xE9"
      },
      "source": [
        "#### Definition [wikipedia]: \n",
        "Suppose $M$ is a $m \\times n$ matrix whose entries come from the field of real numbers or the field of complex numbers. Then there exists a factorization, called a **singular value decomposition** of $M$, of the form\n",
        "\n",
        "$ \\mathbf {M} =\\mathbf {U} {\\boldsymbol {\\Sigma }}\\mathbf {V} ^{*}$\n",
        "\n",
        "where\n",
        "\n",
        "* $U$ is an $m \\times m$ unitary ($U^*U=I$) matrix,\n",
        "* $\\Sigma$ is a diagonal $m \\times n$ matrix with non-negative real numbers, the **singular values**, on the diagonal,\n",
        "* $V$ is an $n \\times n$ unitary matrix, and $V^∗$ is the conjugate transpose of $V$.\n",
        "\n"
      ]
    },
    {
      "cell_type": "markdown",
      "metadata": {
        "id": "oPY2KuNP_xE-"
      },
      "source": [
        "**Intuition:** $M$ is an $m \\times$ m real square matrix with positive determinant: $U, V^*$, and $\\Sigma$ are real $m \\times m$ matrices as well. $\\Sigma$ can be regarded as a **scaling** matrix, and $U, V^∗$ can be viewed as **rotation** matrices [wikipedia]:\n",
        "\n",
        "<img src=\"https://github.com/keuperj/DataScience22/blob/main/week_2/IMG/svg.png?raw=1\" width=500>"
      ]
    },
    {
      "cell_type": "code",
      "execution_count": null,
      "metadata": {
        "id": "7Ffshx8m_xE-",
        "outputId": "94519788-0009-4450-8a6d-92ea6ccc2421"
      },
      "outputs": [
        {
          "name": "stdout",
          "output_type": "stream",
          "text": [
            "[[1 0 0 0]\n",
            " [0 0 0 2]\n",
            " [0 3 0 0]\n",
            " [0 0 0 0]\n",
            " [2 0 0 0]]\n"
          ]
        }
      ],
      "source": [
        "#example \n",
        "M = np.array([ [1, 0, 0, 0], [0,0,0,2], [0,3,0,0], [0,0,0,0], [2,0,0,0] ])\n",
        "print(M)\n",
        "U,S,V = np.linalg.svd(M)"
      ]
    },
    {
      "cell_type": "code",
      "execution_count": null,
      "metadata": {
        "id": "ssV8Mz5N_xE-",
        "outputId": "62584b98-c98b-45fc-a5d0-1ef8654d55fe"
      },
      "outputs": [
        {
          "data": {
            "text/plain": [
              "array([[ 0.        , -0.4472136 ,  0.        ,  0.        , -0.89442719],\n",
              "       [ 0.        ,  0.        , -1.        ,  0.        ,  0.        ],\n",
              "       [-1.        ,  0.        ,  0.        ,  0.        ,  0.        ],\n",
              "       [ 0.        ,  0.        ,  0.        ,  1.        ,  0.        ],\n",
              "       [ 0.        , -0.89442719,  0.        ,  0.        ,  0.4472136 ]])"
            ]
          },
          "execution_count": 29,
          "metadata": {},
          "output_type": "execute_result"
        }
      ],
      "source": [
        "U"
      ]
    },
    {
      "cell_type": "code",
      "execution_count": null,
      "metadata": {
        "id": "nuePXEWA_xE-",
        "outputId": "69c7987b-d99f-468a-c56c-f7a657abd599"
      },
      "outputs": [
        {
          "data": {
            "text/plain": [
              "array([3.        , 2.23606798, 2.        , 0.        ])"
            ]
          },
          "execution_count": 30,
          "metadata": {},
          "output_type": "execute_result"
        }
      ],
      "source": [
        "S"
      ]
    },
    {
      "cell_type": "code",
      "execution_count": null,
      "metadata": {
        "id": "VF1bMtZ7_xE_",
        "outputId": "d96ffee7-7480-43e0-9c36-35b18357e2e9"
      },
      "outputs": [
        {
          "data": {
            "text/plain": [
              "array([[-0., -1., -0., -0.],\n",
              "       [-1., -0., -0., -0.],\n",
              "       [-0., -0., -0., -1.],\n",
              "       [-0., -0., -1., -0.]])"
            ]
          },
          "execution_count": 31,
          "metadata": {},
          "output_type": "execute_result"
        }
      ],
      "source": [
        "V"
      ]
    },
    {
      "cell_type": "code",
      "execution_count": null,
      "metadata": {
        "id": "4IyV25X8_xE_",
        "outputId": "323de1a1-f892-4d30-dfce-669178dd11df"
      },
      "outputs": [
        {
          "data": {
            "text/plain": [
              "array([[1., 0., 0., 0.],\n",
              "       [0., 0., 0., 2.],\n",
              "       [0., 3., 0., 0.],\n",
              "       [0., 0., 0., 0.],\n",
              "       [2., 0., 0., 0.]])"
            ]
          },
          "execution_count": 35,
          "metadata": {},
          "output_type": "execute_result"
        }
      ],
      "source": [
        "#now: reconstruct M\n",
        "np.dot(U[:,:4]*S,V)"
      ]
    },
    {
      "cell_type": "code",
      "execution_count": null,
      "metadata": {
        "scrolled": true,
        "id": "9seepFZU_xE_",
        "outputId": "d04d98bd-6f7c-4ea9-e197-b72be18e7d4d"
      },
      "outputs": [
        {
          "data": {
            "text/plain": [
              "array([[1., 0., 0., 0.],\n",
              "       [0., 0., 0., 0.],\n",
              "       [0., 3., 0., 0.],\n",
              "       [0., 0., 0., 0.],\n",
              "       [2., 0., 0., 0.]])"
            ]
          },
          "execution_count": 33,
          "metadata": {},
          "output_type": "execute_result"
        }
      ],
      "source": [
        "#now reconstruct with loss, using only th first 2 of 4 singular values\n",
        "np.dot(U[:,:2]*S[:2],V[:2,:])"
      ]
    },
    {
      "cell_type": "code",
      "execution_count": null,
      "metadata": {
        "id": "nIxuJ58H_xE_"
      },
      "outputs": [],
      "source": [
        ""
      ]
    },
    {
      "cell_type": "code",
      "execution_count": null,
      "metadata": {
        "id": "AXLRLyhx_xFA"
      },
      "outputs": [],
      "source": [
        ""
      ]
    },
    {
      "cell_type": "markdown",
      "metadata": {
        "id": "gOvvrXrU_xFA"
      },
      "source": [
        "## Let's apply SVD to our recommender matrix $R$ ..."
      ]
    }
  ],
  "metadata": {
    "celltoolbar": "Slideshow",
    "kernelspec": {
      "display_name": "Python 3",
      "language": "python",
      "name": "python3"
    },
    "language_info": {
      "codemirror_mode": {
        "name": "ipython",
        "version": 3
      },
      "file_extension": ".py",
      "mimetype": "text/x-python",
      "name": "python",
      "nbconvert_exporter": "python",
      "pygments_lexer": "ipython3",
      "version": "3.7.6"
    },
    "livereveal": {
      "enable_chalkboard": true,
      "footer": "Janis Keuper - SS22",
      "header": "Data Science: Week 2"
    },
    "colab": {
      "name": "Tensor_Algebra.ipynb",
      "provenance": [],
      "collapsed_sections": [
        "GwIVVlE3_xE1",
        "scud4h8j_xE1",
        "5_g5zK-q_xE2",
        "BLTYRLDG_xE4",
        "h4T-Ahhi_xE5",
        "kDlGEXNn_xE5",
        "pIbTLmsm_xE5",
        "p07BQ6En_xE6",
        "-dsx51AL_xE6",
        "xLhqUZ61_xE7",
        "ar0v0J08_xE7",
        "Z2f88C3t_xE7",
        "zhTwB_ll_xE9",
        "paB6rUUQ_xE9"
      ],
      "include_colab_link": true
    }
  },
  "nbformat": 4,
  "nbformat_minor": 0
}