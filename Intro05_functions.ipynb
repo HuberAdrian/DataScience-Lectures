{
  "cells": [
    {
      "cell_type": "markdown",
      "metadata": {
        "id": "view-in-github",
        "colab_type": "text"
      },
      "source": [
        "<a href=\"https://colab.research.google.com/github/HuberAdrian/DataScience-Lectures/blob/main/Intro05_functions.ipynb\" target=\"_parent\"><img src=\"https://colab.research.google.com/assets/colab-badge.svg\" alt=\"Open In Colab\"/></a>"
      ]
    },
    {
      "cell_type": "markdown",
      "metadata": {
        "id": "8mV4P_knH45o"
      },
      "source": [
        "# Introduction to Python V - Functions\n",
        "* Based on a lecture series by Rajath Kumart (https://github.com/rajathkumarmp/Python-Lectures)\n",
        "* Ported to Python3 and extessions added by Janis Keuper\n",
        "* Copyright: Creative Commons Attribution 3.0 Unported License. To view a copy of this license, visit http://creativecommons.org/licenses/by/3.0/"
      ]
    },
    {
      "cell_type": "markdown",
      "metadata": {
        "id": "QrpgQAycH45p"
      },
      "source": [
        "# Functions"
      ]
    },
    {
      "cell_type": "markdown",
      "metadata": {
        "id": "Oh1mqIKOH45p"
      },
      "source": [
        "Most of the times, In a algorithm the statements keep repeating and it will be a tedious job to execute the same statements again and again and will consume a lot of memory and is not efficient. Enter Functions."
      ]
    },
    {
      "cell_type": "markdown",
      "metadata": {
        "id": "8ukzsVkGH45q"
      },
      "source": [
        "This is the basic syntax of a function"
      ]
    },
    {
      "cell_type": "markdown",
      "metadata": {
        "id": "ovjAMnZbH45q"
      },
      "source": [
        "def funcname(arg1, arg2,... argN):\n",
        "    \n",
        "    ''' Document String'''\n",
        "\n",
        "    statements\n",
        "\n",
        "\n",
        "    return <value>"
      ]
    },
    {
      "cell_type": "markdown",
      "metadata": {
        "id": "KKDt0a6DH45q"
      },
      "source": [
        "Read the above syntax as, A function by name \"funcname\" is defined, which accepts arguements \"arg1,arg2,....argN\". The function is documented and it is '''Document String'''. The function after executing the statements returns a \"value\"."
      ]
    },
    {
      "cell_type": "code",
      "execution_count": null,
      "metadata": {
        "id": "s6VKa8aIH45r"
      },
      "outputs": [],
      "source": [
        "print (\"Hello!\")\n",
        "print (\"How do you do?\")"
      ]
    },
    {
      "cell_type": "markdown",
      "metadata": {
        "id": "1nOnHWGpH45s"
      },
      "source": [
        "Instead of writing the above two statements every single time it can be replaced by defining a function which would do the job in just one line. \n",
        "\n",
        "Defining a function firstfunc()."
      ]
    },
    {
      "cell_type": "code",
      "execution_count": null,
      "metadata": {
        "collapsed": true,
        "jupyter": {
          "outputs_hidden": true
        },
        "id": "uD043mupH45s"
      },
      "outputs": [],
      "source": [
        "def firstfunc():\n",
        "    print (\"Hello\")\n",
        "    print (\"How do you do?\")   "
      ]
    },
    {
      "cell_type": "code",
      "execution_count": null,
      "metadata": {
        "id": "BlbOSjGPH45s"
      },
      "outputs": [],
      "source": [
        "firstfunc()"
      ]
    },
    {
      "cell_type": "markdown",
      "metadata": {
        "id": "XcytguwLH45t"
      },
      "source": [
        "**firstfunc()** every time just prints the message to a single person. We can make our function **firstfunc()** to accept arguements which will store the name and then prints respective to that accepted name. To do so, add a argument within the function as shown."
      ]
    },
    {
      "cell_type": "code",
      "execution_count": null,
      "metadata": {
        "collapsed": true,
        "jupyter": {
          "outputs_hidden": true
        },
        "id": "XBklMfQLH45t"
      },
      "outputs": [],
      "source": [
        "def firstfunc(username):\n",
        "    print (\"Hey\", username + '!')\n",
        "    print (username + ',' ,\"How do you do?\")"
      ]
    },
    {
      "cell_type": "code",
      "execution_count": null,
      "metadata": {
        "id": "KlbyLtwQH45t"
      },
      "outputs": [],
      "source": [
        "firstfunc(\"Hans\")"
      ]
    },
    {
      "cell_type": "markdown",
      "metadata": {
        "id": "oMZ0YRQzH45t"
      },
      "source": [
        "Let us simplify this even further by defining another function **secondfunc()** which accepts the name and stores it inside a variable and then calls the **firstfunc()** from inside the function itself."
      ]
    },
    {
      "cell_type": "code",
      "execution_count": null,
      "metadata": {
        "id": "tFOGm5gXH45u"
      },
      "outputs": [],
      "source": [
        "def firstfunc(username):\n",
        "    print (\"Hey\", username + '!')\n",
        "    print (username + ',' ,\"How do you do?\")\n",
        "def secondfunc():\n",
        "    name = input(\"Please enter your name : \")\n",
        "    firstfunc(name)"
      ]
    },
    {
      "cell_type": "code",
      "execution_count": null,
      "metadata": {
        "id": "-5h1unhcH45u"
      },
      "outputs": [],
      "source": [
        "secondfunc()"
      ]
    },
    {
      "cell_type": "markdown",
      "metadata": {
        "id": "YwnqcxaYH45v"
      },
      "source": [
        "## Return Statement"
      ]
    },
    {
      "cell_type": "markdown",
      "metadata": {
        "id": "QN9OvY_eH45v"
      },
      "source": [
        "When the function results in some value and that value has to be stored in a variable or needs to be sent back or returned for further operation to the main algorithm, return statement is used."
      ]
    },
    {
      "cell_type": "code",
      "execution_count": null,
      "metadata": {
        "collapsed": true,
        "jupyter": {
          "outputs_hidden": true
        },
        "id": "AAju6VgZH45v"
      },
      "outputs": [],
      "source": [
        "def times(x,y):\n",
        "    z = x*y\n",
        "    return z"
      ]
    },
    {
      "cell_type": "markdown",
      "metadata": {
        "id": "KFqRf5izH45w"
      },
      "source": [
        "The above defined **times( )** function accepts two arguements and return the variable z which contains the result of the product of the two arguements"
      ]
    },
    {
      "cell_type": "code",
      "execution_count": null,
      "metadata": {
        "id": "9tEW2hoMH45w"
      },
      "outputs": [],
      "source": [
        "c = times(4,5)\n",
        "print (c)"
      ]
    },
    {
      "cell_type": "markdown",
      "metadata": {
        "id": "vEEhhR79H45w"
      },
      "source": [
        "The z value is stored in variable c and can be used for further operations."
      ]
    },
    {
      "cell_type": "markdown",
      "metadata": {
        "id": "7JNYNYc1H45w"
      },
      "source": [
        "Instead of declaring another variable the entire statement itself can be used in the return statement as shown."
      ]
    },
    {
      "cell_type": "code",
      "execution_count": null,
      "metadata": {
        "id": "UMJLXrxGH45x"
      },
      "outputs": [],
      "source": [
        "def times(x,y):\n",
        "    '''This multiplies the two input arguments'''\n",
        "    return x*y"
      ]
    },
    {
      "cell_type": "code",
      "execution_count": null,
      "metadata": {
        "id": "SLo1AWqzH45x"
      },
      "outputs": [],
      "source": [
        "c = times(4,5)\n",
        "print (c)"
      ]
    },
    {
      "cell_type": "markdown",
      "metadata": {
        "id": "dgVeS2WEH45x"
      },
      "source": [
        "Since the **times( )** is now defined, we can document it as shown above. This document is returned whenever **times( )** function is called under **help( )** function."
      ]
    },
    {
      "cell_type": "code",
      "execution_count": null,
      "metadata": {
        "id": "W69pjFDHH45x"
      },
      "outputs": [],
      "source": [
        "help(times)"
      ]
    },
    {
      "cell_type": "markdown",
      "metadata": {
        "id": "ikif5gZXH45y"
      },
      "source": [
        "Multiple variable can also be returned, But keep in mind the order."
      ]
    },
    {
      "cell_type": "code",
      "execution_count": null,
      "metadata": {
        "collapsed": true,
        "jupyter": {
          "outputs_hidden": true
        },
        "id": "6NRgwRtNH45y"
      },
      "outputs": [],
      "source": [
        "eglist = [10,50,30,12,6,8,100]"
      ]
    },
    {
      "cell_type": "code",
      "execution_count": null,
      "metadata": {
        "collapsed": true,
        "jupyter": {
          "outputs_hidden": true
        },
        "id": "w5bpPcHCH45y"
      },
      "outputs": [],
      "source": [
        "def egfunc(eglist):\n",
        "    highest = max(eglist)\n",
        "    lowest = min(eglist)\n",
        "    first = eglist[0]\n",
        "    last = eglist[-1]\n",
        "    return highest,lowest,first,last"
      ]
    },
    {
      "cell_type": "markdown",
      "metadata": {
        "id": "15ap0FWxH45y"
      },
      "source": [
        "If the function is just called without any variable for it to be assigned to, the result is returned inside a tuple. But if the variables are mentioned then the result is assigned to the variable in a particular order which is declared in the return statement."
      ]
    },
    {
      "cell_type": "code",
      "execution_count": null,
      "metadata": {
        "id": "zT47hAxoH45y"
      },
      "outputs": [],
      "source": [
        "egfunc(eglist)"
      ]
    },
    {
      "cell_type": "code",
      "execution_count": null,
      "metadata": {
        "id": "OlzQjPFNH45z"
      },
      "outputs": [],
      "source": [
        "a,b,c,d = egfunc(eglist)\n",
        "print (' a =',a,'\\n b =',b,'\\n c =',c,'\\n d =',d)"
      ]
    },
    {
      "cell_type": "markdown",
      "metadata": {
        "id": "txb-EfUNH45z"
      },
      "source": [
        "## Implicit arguments"
      ]
    },
    {
      "cell_type": "markdown",
      "metadata": {
        "id": "irQk94uDH45z"
      },
      "source": [
        "When an argument of a function is common in majority of the cases or it is \"implicit\" this concept is used."
      ]
    },
    {
      "cell_type": "code",
      "execution_count": null,
      "metadata": {
        "collapsed": true,
        "jupyter": {
          "outputs_hidden": true
        },
        "id": "6ptPJmqpH45z"
      },
      "outputs": [],
      "source": [
        "def implicitadd(x,y=3):\n",
        "    return x+y"
      ]
    },
    {
      "cell_type": "markdown",
      "metadata": {
        "id": "24i2_yLVH45z"
      },
      "source": [
        "**implicitadd( )** is a function accepts two arguments but most of the times the first argument needs to be added just by 3. Hence the second argument is assigned the value 3. Here the second argument is implicit."
      ]
    },
    {
      "cell_type": "markdown",
      "metadata": {
        "id": "LGkgkpnVH450"
      },
      "source": [
        "Now if the second argument is not defined when calling the **implicitadd( )** function then it considered as 3."
      ]
    },
    {
      "cell_type": "code",
      "execution_count": null,
      "metadata": {
        "id": "WtkAQrRqH450"
      },
      "outputs": [],
      "source": [
        "implicitadd(4)"
      ]
    },
    {
      "cell_type": "markdown",
      "metadata": {
        "id": "tbkNxALoH450"
      },
      "source": [
        "But if the second argument is specified then this value overrides the implicit value assigned to the argument "
      ]
    },
    {
      "cell_type": "code",
      "execution_count": null,
      "metadata": {
        "id": "irISC1xBH450"
      },
      "outputs": [],
      "source": [
        "implicitadd(4,4)"
      ]
    },
    {
      "cell_type": "markdown",
      "metadata": {
        "id": "Z-XyS0BrH450"
      },
      "source": [
        "## Any number of arguments"
      ]
    },
    {
      "cell_type": "markdown",
      "metadata": {
        "id": "nLPdP55iH450"
      },
      "source": [
        "If the number of arguments that is to be accepted by a function is not known then a asterisk symbol is used before the argument."
      ]
    },
    {
      "cell_type": "code",
      "execution_count": null,
      "metadata": {
        "collapsed": true,
        "jupyter": {
          "outputs_hidden": true
        },
        "id": "Zta8ruLnH451"
      },
      "outputs": [],
      "source": [
        "def add_n(*args):\n",
        "    res = 0\n",
        "    reslist = []\n",
        "    for i in args:\n",
        "        reslist.append(i)\n",
        "    print (reslist)\n",
        "    return sum(reslist)"
      ]
    },
    {
      "cell_type": "markdown",
      "metadata": {
        "id": "jpEFpj7oH451"
      },
      "source": [
        "The above function accepts any number of arguments, defines a list and appends all the arguments into that list and return the sum of all the arguments."
      ]
    },
    {
      "cell_type": "code",
      "execution_count": null,
      "metadata": {
        "id": "Q8_0x-F1H451"
      },
      "outputs": [],
      "source": [
        "add_n(1,2,3,4,5)"
      ]
    },
    {
      "cell_type": "code",
      "execution_count": null,
      "metadata": {
        "id": "k6WXEWGEH451"
      },
      "outputs": [],
      "source": [
        "add_n(1,2,3)"
      ]
    },
    {
      "cell_type": "code",
      "execution_count": null,
      "metadata": {
        "id": "EBKA4mpnH452"
      },
      "outputs": [],
      "source": [
        "def multi_reurn():\n",
        "    return 1,2,3,4,5"
      ]
    },
    {
      "cell_type": "code",
      "execution_count": null,
      "metadata": {
        "id": "sdkpSJ04H452"
      },
      "outputs": [],
      "source": [
        "a,b,c,d,e=multi_reurn()"
      ]
    },
    {
      "cell_type": "code",
      "execution_count": null,
      "metadata": {
        "id": "aG9rYyfBH452"
      },
      "outputs": [],
      "source": [
        "print (a,e)"
      ]
    },
    {
      "cell_type": "code",
      "execution_count": null,
      "metadata": {
        "id": "GbfwlJtoH452"
      },
      "outputs": [],
      "source": [
        "\n",
        "multi_reurn()"
      ]
    },
    {
      "cell_type": "markdown",
      "metadata": {
        "id": "ERFxt0CzH452"
      },
      "source": [
        "## Global and Local Variables"
      ]
    },
    {
      "cell_type": "markdown",
      "metadata": {
        "id": "uXQSv9QrH452"
      },
      "source": [
        "Whatever variable is declared inside a function is local variable and outside the function in global variable."
      ]
    },
    {
      "cell_type": "code",
      "execution_count": null,
      "metadata": {
        "id": "4KOrOVk8H453"
      },
      "outputs": [],
      "source": [
        "eg1 = [1,2,3,4,5]"
      ]
    },
    {
      "cell_type": "markdown",
      "metadata": {
        "id": "TvqSVXaJH453"
      },
      "source": [
        "In the below function we are appending a element to the declared list inside the function. eg2 variable declared inside the function is a local variable."
      ]
    },
    {
      "cell_type": "code",
      "execution_count": null,
      "metadata": {
        "collapsed": true,
        "jupyter": {
          "outputs_hidden": true
        },
        "id": "eCjuOGPLH453"
      },
      "outputs": [],
      "source": [
        "def egfunc1():\n",
        "    def thirdfunc(arg1):\n",
        "        eg2 = arg1[:]\n",
        "        eg2.append(6)\n",
        "        print (\"This is happening inside the function :\", eg2 )\n",
        "    print (\"This is happening before the function is called : \", eg1)\n",
        "    thirdfunc(eg1)\n",
        "    print (\"This is happening outside the function :\", eg1   )\n",
        "    print (\"Accessing a variable declared inside the function from outside :\" , eg2)"
      ]
    },
    {
      "cell_type": "code",
      "execution_count": null,
      "metadata": {
        "id": "lYmWGwojH453"
      },
      "outputs": [],
      "source": [
        "egfunc1()"
      ]
    },
    {
      "cell_type": "markdown",
      "metadata": {
        "id": "KAvxpyvZH453"
      },
      "source": [
        "If a **global** variable is defined as shown in the example below then that variable can be called from anywhere."
      ]
    },
    {
      "cell_type": "code",
      "execution_count": null,
      "metadata": {
        "id": "9UFkRdzWH454"
      },
      "outputs": [],
      "source": [
        "eg3 = [1,2,3,4,5]"
      ]
    },
    {
      "cell_type": "code",
      "execution_count": null,
      "metadata": {
        "collapsed": true,
        "jupyter": {
          "outputs_hidden": true
        },
        "id": "vzdtSD8kH454"
      },
      "outputs": [],
      "source": [
        "def egfunc1():\n",
        "    def thirdfunc(arg1):\n",
        "        global eg2\n",
        "        eg2 = arg1[:]\n",
        "        eg2.append(6)\n",
        "        print (\"This is happening inside the function :\", eg2 )\n",
        "    print (\"This is happening before the function is called : \", eg1)\n",
        "    thirdfunc(eg1)\n",
        "    print (\"This is happening outside the function :\", eg1)   \n",
        "    print (\"Accessing a variable declared inside the function from outside :\" , eg2)"
      ]
    },
    {
      "cell_type": "code",
      "execution_count": null,
      "metadata": {
        "id": "nPuTdIkdH454"
      },
      "outputs": [],
      "source": [
        "egfunc1()"
      ]
    }
  ],
  "metadata": {
    "kernelspec": {
      "display_name": "Python 3",
      "language": "python",
      "name": "python3"
    },
    "language_info": {
      "codemirror_mode": {
        "name": "ipython",
        "version": 3
      },
      "file_extension": ".py",
      "mimetype": "text/x-python",
      "name": "python",
      "nbconvert_exporter": "python",
      "pygments_lexer": "ipython3",
      "version": "3.7.6"
    },
    "colab": {
      "name": "Intro05_functions.ipynb",
      "provenance": [],
      "include_colab_link": true
    }
  },
  "nbformat": 4,
  "nbformat_minor": 0
}