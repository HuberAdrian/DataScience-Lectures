{
  "cells": [
    {
      "cell_type": "markdown",
      "metadata": {
        "id": "view-in-github",
        "colab_type": "text"
      },
      "source": [
        "<a href=\"https://colab.research.google.com/github/HuberAdrian/DataScience-Lectures/blob/main/Intro01_variables.ipynb\" target=\"_parent\"><img src=\"https://colab.research.google.com/assets/colab-badge.svg\" alt=\"Open In Colab\"/></a>"
      ]
    },
    {
      "cell_type": "markdown",
      "metadata": {
        "id": "WbPow-GnHHZy"
      },
      "source": [
        "# Introduction to Python I - Variables\n",
        "* Based on a lecture series by Rajath Kumart (https://github.com/rajathkumarmp/Python-Lectures)\n",
        "* Ported to Python3 and extessions added by Janis Keuper\n",
        "* Copyright: Creative Commons Attribution 3.0 Unported License. To view a copy of this license, visit http://creativecommons.org/licenses/by/3.0/"
      ]
    },
    {
      "cell_type": "markdown",
      "metadata": {
        "id": "c2geO7_UHHZ2"
      },
      "source": [
        "## The Zen Of Python"
      ]
    },
    {
      "cell_type": "code",
      "execution_count": null,
      "metadata": {
        "id": "_vcRJny6HHZ2",
        "colab": {
          "base_uri": "https://localhost:8080/"
        },
        "outputId": "acabf241-6ad4-4f43-a33f-44edaab1c4aa"
      },
      "outputs": [
        {
          "output_type": "stream",
          "name": "stdout",
          "text": [
            "The Zen of Python, by Tim Peters\n",
            "\n",
            "Beautiful is better than ugly.\n",
            "Explicit is better than implicit.\n",
            "Simple is better than complex.\n",
            "Complex is better than complicated.\n",
            "Flat is better than nested.\n",
            "Sparse is better than dense.\n",
            "Readability counts.\n",
            "Special cases aren't special enough to break the rules.\n",
            "Although practicality beats purity.\n",
            "Errors should never pass silently.\n",
            "Unless explicitly silenced.\n",
            "In the face of ambiguity, refuse the temptation to guess.\n",
            "There should be one-- and preferably only one --obvious way to do it.\n",
            "Although that way may not be obvious at first unless you're Dutch.\n",
            "Now is better than never.\n",
            "Although never is often better than *right* now.\n",
            "If the implementation is hard to explain, it's a bad idea.\n",
            "If the implementation is easy to explain, it may be a good idea.\n",
            "Namespaces are one honking great idea -- let's do more of those!\n"
          ]
        }
      ],
      "source": [
        "import this"
      ]
    },
    {
      "cell_type": "markdown",
      "metadata": {
        "id": "bk-PcXMAHHZ3"
      },
      "source": [
        "## The Very Basics"
      ]
    },
    {
      "cell_type": "markdown",
      "metadata": {
        "id": "4lrg0zcSHHZ4"
      },
      "source": [
        "### Comments:"
      ]
    },
    {
      "cell_type": "code",
      "execution_count": null,
      "metadata": {
        "id": "anHv-RrGHHZ4"
      },
      "outputs": [],
      "source": [
        "# this is a comment"
      ]
    },
    {
      "cell_type": "markdown",
      "metadata": {
        "id": "ubsgu9XQHHZ4"
      },
      "source": [
        "### Spaces\n",
        "***Python is indent sensitive!!!***\n"
      ]
    },
    {
      "cell_type": "code",
      "execution_count": null,
      "metadata": {
        "id": "waZWz-9DHHZ5",
        "colab": {
          "base_uri": "https://localhost:8080/",
          "height": 130
        },
        "outputId": "76dc9771-f1e5-4c1c-e586-0fe329003743"
      },
      "outputs": [
        {
          "output_type": "error",
          "ename": "IndentationError",
          "evalue": "ignored",
          "traceback": [
            "\u001b[0;36m  File \u001b[0;32m\"<ipython-input-3-f080e30b2b8c>\"\u001b[0;36m, line \u001b[0;32m2\u001b[0m\n\u001b[0;31m    print (\"this does not work\")\u001b[0m\n\u001b[0m    ^\u001b[0m\n\u001b[0;31mIndentationError\u001b[0m\u001b[0;31m:\u001b[0m unexpected indent\n"
          ]
        }
      ],
      "source": [
        "print (\"hello\")\n",
        "  print (\"this does not work\")"
      ]
    },
    {
      "cell_type": "code",
      "execution_count": null,
      "metadata": {
        "id": "WtBnCW-yHHZ5"
      },
      "outputs": [],
      "source": [
        "for i in range(5):\n",
        "    print (\"this is a correct indent\")"
      ]
    },
    {
      "cell_type": "code",
      "execution_count": null,
      "metadata": {
        "id": "nbIM-I9vHHZ5"
      },
      "outputs": [],
      "source": [
        ""
      ]
    },
    {
      "cell_type": "code",
      "execution_count": null,
      "metadata": {
        "id": "7OcMXH9mHHZ5"
      },
      "outputs": [],
      "source": [
        "for i in range(5):\n",
        "print (\"this is NOT a correct indent\")"
      ]
    },
    {
      "cell_type": "markdown",
      "metadata": {
        "id": "ZhFz1ZSmHHZ6"
      },
      "source": [
        "**NOTE: you should set your editor to convert <tab> into 4 Spaces**\n",
        "    \n",
        "Python Coding Conventions: https://www.python.org/dev/peps/pep-0008/"
      ]
    },
    {
      "cell_type": "markdown",
      "metadata": {
        "id": "aCIZvTGVHHZ6"
      },
      "source": [
        "# Variables"
      ]
    },
    {
      "cell_type": "markdown",
      "metadata": {
        "id": "k8GcP1Z2HHZ6"
      },
      "source": [
        "A name that is used to denote something or a value is called a variable. **Important:** Python has no strong typing, e.g. variables can change their type within a script. In python, variables can be declared and values can be assigned to it as follows,"
      ]
    },
    {
      "cell_type": "code",
      "execution_count": null,
      "metadata": {
        "id": "le5qs8NIHHZ7"
      },
      "outputs": [],
      "source": [
        "x = 2\n",
        "y = 5\n",
        "xy = 'Hey'"
      ]
    },
    {
      "cell_type": "code",
      "execution_count": null,
      "metadata": {
        "id": "TEityfaTHHZ7"
      },
      "outputs": [],
      "source": [
        "print (x+y, xy)"
      ]
    },
    {
      "cell_type": "markdown",
      "metadata": {
        "id": "yCXeri63HHZ7"
      },
      "source": [
        "Multiple variables can be assigned with the same value."
      ]
    },
    {
      "cell_type": "code",
      "execution_count": null,
      "metadata": {
        "id": "anf1IjayHHZ8"
      },
      "outputs": [],
      "source": [
        "x = y = 1"
      ]
    },
    {
      "cell_type": "code",
      "execution_count": null,
      "metadata": {
        "id": "pm42f5DTHHZ8"
      },
      "outputs": [],
      "source": [
        "print (x,y)"
      ]
    },
    {
      "cell_type": "markdown",
      "metadata": {
        "id": "_v7dee--HHZ9"
      },
      "source": [
        "Weak typing example:"
      ]
    },
    {
      "cell_type": "code",
      "execution_count": null,
      "metadata": {
        "id": "t9W98wCyHHZ9"
      },
      "outputs": [],
      "source": [
        "a = 1\n",
        "a += 1\n",
        "print (a)\n",
        "a = \"hello\"\n",
        "print (a)"
      ]
    },
    {
      "cell_type": "code",
      "execution_count": null,
      "metadata": {
        "id": "E7WDlJKQHHZ9"
      },
      "outputs": [],
      "source": [
        "a+=1"
      ]
    },
    {
      "cell_type": "markdown",
      "metadata": {
        "id": "t6CTlnvsHHZ-"
      },
      "source": [
        "### Checking variable types:\n"
      ]
    },
    {
      "cell_type": "code",
      "execution_count": null,
      "metadata": {
        "id": "S5emP-GPHHZ-"
      },
      "outputs": [],
      "source": [
        "type(a)"
      ]
    },
    {
      "cell_type": "markdown",
      "metadata": {
        "id": "1YZpAzXoHHZ-"
      },
      "source": [
        "### Type casting:"
      ]
    },
    {
      "cell_type": "code",
      "execution_count": null,
      "metadata": {
        "id": "hr0Ur8wDHHZ-",
        "colab": {
          "base_uri": "https://localhost:8080/",
          "height": 37
        },
        "outputId": "79d9f9b0-26d7-4257-e54e-4c02c2dd9a7e"
      },
      "outputs": [
        {
          "output_type": "execute_result",
          "data": {
            "text/plain": [
              "'1'"
            ],
            "application/vnd.google.colaboratory.intrinsic+json": {
              "type": "string"
            }
          },
          "metadata": {},
          "execution_count": 4
        }
      ],
      "source": [
        "str(1)"
      ]
    },
    {
      "cell_type": "code",
      "execution_count": null,
      "metadata": {
        "id": "i4KMIOo5HHZ_",
        "colab": {
          "base_uri": "https://localhost:8080/"
        },
        "outputId": "d88d9d12-857f-414e-a95f-9f431d924796"
      },
      "outputs": [
        {
          "output_type": "execute_result",
          "data": {
            "text/plain": [
              "39"
            ]
          },
          "metadata": {},
          "execution_count": 5
        }
      ],
      "source": [
        "int('34')+5"
      ]
    },
    {
      "cell_type": "markdown",
      "metadata": {
        "id": "0OkabPJMHHZ_"
      },
      "source": [
        "# Operators"
      ]
    },
    {
      "cell_type": "markdown",
      "metadata": {
        "id": "fa5W6iolHHZ_"
      },
      "source": [
        "## Arithmetic Operators"
      ]
    },
    {
      "cell_type": "markdown",
      "metadata": {
        "id": "TLBBvr4gHHZ_"
      },
      "source": [
        "| Symbol | Task Performed |\n",
        "|----|---|\n",
        "| +  | Addition |\n",
        "| -  | Subtraction |\n",
        "| /  | division |\n",
        "| %  | mod |\n",
        "| *  | multiplication |\n",
        "| //  | floor division |\n",
        "| **  | to the power of |"
      ]
    },
    {
      "cell_type": "code",
      "execution_count": null,
      "metadata": {
        "id": "_KmDzx0WHHaA"
      },
      "outputs": [],
      "source": [
        "1+2"
      ]
    },
    {
      "cell_type": "code",
      "execution_count": null,
      "metadata": {
        "id": "djdmR7_MHHaA"
      },
      "outputs": [],
      "source": [
        "2-1"
      ]
    },
    {
      "cell_type": "code",
      "execution_count": null,
      "metadata": {
        "id": "G0FP8a82HHaB"
      },
      "outputs": [],
      "source": [
        "1*2"
      ]
    },
    {
      "cell_type": "code",
      "execution_count": null,
      "metadata": {
        "id": "LQG5XftNHHaB"
      },
      "outputs": [],
      "source": [
        "1/2"
      ]
    },
    {
      "cell_type": "markdown",
      "metadata": {
        "id": "qYOvrOdtHHaC"
      },
      "source": [
        "0? This is because both the numerator and denominator are integers but the result is a float value hence an integer value is returned. By changing either the numerator or the denominator to float, correct answer can be obtained."
      ]
    },
    {
      "cell_type": "code",
      "execution_count": null,
      "metadata": {
        "id": "wn2wVbanHHaD"
      },
      "outputs": [],
      "source": [
        "1/2.0"
      ]
    },
    {
      "cell_type": "code",
      "execution_count": null,
      "metadata": {
        "id": "vZVeru_bHHaD"
      },
      "outputs": [],
      "source": [
        "15%10"
      ]
    },
    {
      "cell_type": "markdown",
      "metadata": {
        "id": "D2XUok3PHHaD"
      },
      "source": [
        "Floor division is nothing but converting the result so obtained to the nearest integer."
      ]
    },
    {
      "cell_type": "code",
      "execution_count": null,
      "metadata": {
        "id": "NnuyqE4yHHaE"
      },
      "outputs": [],
      "source": [
        "2.8//2.0"
      ]
    },
    {
      "cell_type": "markdown",
      "metadata": {
        "id": "ZfhKJib9HHaE"
      },
      "source": [
        "## Relational Operators"
      ]
    },
    {
      "cell_type": "markdown",
      "metadata": {
        "id": "TNChfxkUHHaE"
      },
      "source": [
        "| Symbol | Task Performed |\n",
        "|----|---|\n",
        "| == | True, if it is equal |\n",
        "| !=  | True, if not equal to |\n",
        "| < | less than |\n",
        "| > | greater than |\n",
        "| <=  | less than or equal to |\n",
        "| >=  | greater than or equal to |"
      ]
    },
    {
      "cell_type": "code",
      "execution_count": null,
      "metadata": {
        "id": "ImIB55a0HHaF"
      },
      "outputs": [],
      "source": [
        "z = 1"
      ]
    },
    {
      "cell_type": "code",
      "execution_count": null,
      "metadata": {
        "id": "ZgkZgtZ9HHaG"
      },
      "outputs": [],
      "source": [
        "z == 1"
      ]
    },
    {
      "cell_type": "code",
      "execution_count": null,
      "metadata": {
        "id": "tlo4Vr03HHaG"
      },
      "outputs": [],
      "source": [
        "z > 1"
      ]
    },
    {
      "cell_type": "markdown",
      "metadata": {
        "id": "ZSnfwugLHHaG"
      },
      "source": [
        "## Bitwise Operators"
      ]
    },
    {
      "cell_type": "markdown",
      "metadata": {
        "id": "77s1hopaHHaG"
      },
      "source": [
        "| Symbol | Task Performed |\n",
        "|----|---|\n",
        "| &  | Logical And |\n",
        "| l  | Logical OR |\n",
        "| ^  | XOR |\n",
        "| ~  | Negate |\n",
        "| >>  | Right shift |\n",
        "| <<  | Left shift |"
      ]
    },
    {
      "cell_type": "code",
      "execution_count": null,
      "metadata": {
        "id": "XQLo7FhwHHaH"
      },
      "outputs": [],
      "source": [
        "a = 2 #10\n",
        "b = 3 #11"
      ]
    },
    {
      "cell_type": "code",
      "execution_count": null,
      "metadata": {
        "id": "qXkBPVNkHHaH"
      },
      "outputs": [],
      "source": [
        "print (a & b)\n",
        "print (bin(a&b))"
      ]
    },
    {
      "cell_type": "code",
      "execution_count": null,
      "metadata": {
        "id": "HNVvoBElHHaH"
      },
      "outputs": [],
      "source": [
        "5 >> 1"
      ]
    },
    {
      "cell_type": "markdown",
      "metadata": {
        "id": "uz2p4dB_HHaH"
      },
      "source": [
        "0000 0101 -> 5 \n",
        "\n",
        "Shifting the digits by 1 to the right and zero padding\n",
        "\n",
        "0000 0010 -> 2"
      ]
    },
    {
      "cell_type": "code",
      "execution_count": null,
      "metadata": {
        "id": "EqkxH851HHaH"
      },
      "outputs": [],
      "source": [
        "5 << 1"
      ]
    },
    {
      "cell_type": "markdown",
      "metadata": {
        "id": "TBIcYZoWHHaH"
      },
      "source": [
        "0000 0101 -> 5 \n",
        "\n",
        "Shifting the digits by 1 to the left and zero padding\n",
        "\n",
        "0000 1010 -> 10"
      ]
    },
    {
      "cell_type": "markdown",
      "metadata": {
        "id": "qrx5dG43HHaI"
      },
      "source": [
        "# Built-in Functions"
      ]
    },
    {
      "cell_type": "markdown",
      "metadata": {
        "id": "eDR72c2tHHaI"
      },
      "source": [
        "Python comes loaded with pre-built functions"
      ]
    },
    {
      "cell_type": "markdown",
      "metadata": {
        "id": "kmEY2BdZHHaI"
      },
      "source": [
        "## Conversion from one system to another"
      ]
    },
    {
      "cell_type": "markdown",
      "metadata": {
        "id": "I29X3Z3mHHaI"
      },
      "source": [
        "Conversion from hexadecimal to decimal is done by adding prefix **0x** to the hexadecimal value or vice versa by using built in **hex( )**, Octal to decimal by adding prefix **0** to the octal value or vice versa by using built in function **oct( )**."
      ]
    },
    {
      "cell_type": "code",
      "execution_count": null,
      "metadata": {
        "id": "GOZN_nC7HHaI"
      },
      "outputs": [],
      "source": [
        "hex(170)"
      ]
    },
    {
      "cell_type": "code",
      "execution_count": null,
      "metadata": {
        "id": "a_KOd3RPHHaI"
      },
      "outputs": [],
      "source": [
        "0xAA"
      ]
    },
    {
      "cell_type": "code",
      "execution_count": null,
      "metadata": {
        "id": "KtYlIAKWHHaJ"
      },
      "outputs": [],
      "source": [
        "oct(8)"
      ]
    },
    {
      "cell_type": "markdown",
      "metadata": {
        "id": "ASSOq3uMHHaJ"
      },
      "source": [
        "**int( )** accepts two values when used for conversion, one is the value in a different number system and the other is its base. Note that input number in the different number system should be of string type."
      ]
    },
    {
      "cell_type": "code",
      "execution_count": null,
      "metadata": {
        "id": "0yjAFEmqHHaJ"
      },
      "outputs": [],
      "source": [
        "print (int('010',8))\n",
        "print (int('0xaa',16))\n",
        "print (int('1010',2))"
      ]
    },
    {
      "cell_type": "markdown",
      "metadata": {
        "id": "4KjYOYwLHHaJ"
      },
      "source": [
        "**int( )** can also be used to get only the integer value of a float number or can be used to convert a number which is of type string to integer format. Similarly, the function **str( )** can be used to convert the integer back to string format"
      ]
    },
    {
      "cell_type": "code",
      "execution_count": null,
      "metadata": {
        "id": "fefuByJjHHaJ"
      },
      "outputs": [],
      "source": [
        "print (int(7.7))\n",
        "print (int('7'))"
      ]
    },
    {
      "cell_type": "markdown",
      "metadata": {
        "id": "Yh_cXKvUHHaJ"
      },
      "source": [
        "Also note that function **bin( )** is used for binary and **float( )** for decimal/float values. **chr( )** is used for converting ASCII to its alphabet equivalent, **ord( )** is used for the other way round."
      ]
    },
    {
      "cell_type": "code",
      "execution_count": null,
      "metadata": {
        "id": "bjLkkbkJHHaJ"
      },
      "outputs": [],
      "source": [
        "chr(98)"
      ]
    },
    {
      "cell_type": "code",
      "execution_count": null,
      "metadata": {
        "id": "2onan9vOHHaK"
      },
      "outputs": [],
      "source": [
        "ord('b')"
      ]
    },
    {
      "cell_type": "markdown",
      "metadata": {
        "id": "TTYevhkLHHaK"
      },
      "source": [
        "##Simplifying Arithmetic Operations"
      ]
    },
    {
      "cell_type": "markdown",
      "metadata": {
        "id": "i7s6U3xFHHaK"
      },
      "source": [
        "**round( )** function rounds the input value to a specified number of places or to the nearest integer. "
      ]
    },
    {
      "cell_type": "code",
      "execution_count": null,
      "metadata": {
        "id": "MhvEgjnAHHaK"
      },
      "outputs": [],
      "source": [
        "print (round(5.6231) )\n",
        "print (round(4.55892, 2))"
      ]
    },
    {
      "cell_type": "markdown",
      "metadata": {
        "id": "mEoGGhv5HHaK"
      },
      "source": [
        "**complex( )** is used to define a complex number and **abs( )** outputs the absolute value of the same."
      ]
    },
    {
      "cell_type": "code",
      "execution_count": null,
      "metadata": {
        "id": "9wKTq2PQHHaK"
      },
      "outputs": [],
      "source": [
        "c =complex('5+2j')\n",
        "print (abs(c))"
      ]
    },
    {
      "cell_type": "markdown",
      "metadata": {
        "id": "aDkOye8iHHaL"
      },
      "source": [
        "**divmod(x,y)** outputs the quotient and the remainder in a tuple(you will be learning about it in the further chapters) in the format (quotient, remainder). "
      ]
    },
    {
      "cell_type": "code",
      "execution_count": null,
      "metadata": {
        "id": "-Y4rmScJHHaL"
      },
      "outputs": [],
      "source": [
        "divmod(9,2)"
      ]
    },
    {
      "cell_type": "markdown",
      "metadata": {
        "id": "lXrSZqdtHHaL"
      },
      "source": [
        "**isinstance( )** returns True, if the first argument is an instance of that class. Multiple classes can also be checked at once."
      ]
    },
    {
      "cell_type": "code",
      "execution_count": null,
      "metadata": {
        "id": "g9-P6mYeHHaL"
      },
      "outputs": [],
      "source": [
        "print (isinstance(1, int))\n",
        "print (isinstance(1.0,int))\n",
        "print (isinstance(1.0,(int,float)))"
      ]
    },
    {
      "cell_type": "markdown",
      "metadata": {
        "id": "BOVfArQiHHaL"
      },
      "source": [
        "**pow(x,y,z)** can be used to find the power $x^y$ also the mod of the resulting value with the third specified number can be found i.e. : ($x^y$ % z)."
      ]
    },
    {
      "cell_type": "code",
      "execution_count": null,
      "metadata": {
        "id": "vDCxMSxtHHaM",
        "colab": {
          "base_uri": "https://localhost:8080/"
        },
        "outputId": "1a8e341f-eeb7-4deb-9413-0f854c167d13"
      },
      "outputs": [
        {
          "output_type": "stream",
          "name": "stdout",
          "text": [
            "27\n",
            "2\n"
          ]
        }
      ],
      "source": [
        "print (pow(3,3))\n",
        "print (pow(3,3,5))"
      ]
    },
    {
      "cell_type": "markdown",
      "metadata": {
        "id": "y6DKk5KOHHaM"
      },
      "source": [
        "**range( )** function outputs the integers of the specified range. It can also be used to generate a series by specifying the difference between the two numbers within a particular range. The elements are returned in a list (will be discussing in detail later.)"
      ]
    },
    {
      "cell_type": "code",
      "execution_count": null,
      "metadata": {
        "id": "AKsf58mGHHaN",
        "colab": {
          "base_uri": "https://localhost:8080/"
        },
        "outputId": "10514142-f5fb-4ede-f79a-c6a3a4571115"
      },
      "outputs": [
        {
          "output_type": "stream",
          "name": "stdout",
          "text": [
            "range(0, 3)\n",
            "range(2, 9)\n",
            "range(2, 27, 8)\n"
          ]
        }
      ],
      "source": [
        "print (range(3))\n",
        "print (range(2,9))\n",
        "print (range(2,27,8))"
      ]
    },
    {
      "cell_type": "code",
      "execution_count": null,
      "metadata": {
        "id": "X8fRds0oHHaN"
      },
      "outputs": [],
      "source": [
        ""
      ]
    },
    {
      "cell_type": "code",
      "execution_count": null,
      "metadata": {
        "id": "u4nYwlBjHHaN"
      },
      "outputs": [],
      "source": [
        ""
      ]
    }
  ],
  "metadata": {
    "kernelspec": {
      "display_name": "Python 3",
      "language": "python",
      "name": "python3"
    },
    "language_info": {
      "codemirror_mode": {
        "name": "ipython",
        "version": 3
      },
      "file_extension": ".py",
      "mimetype": "text/x-python",
      "name": "python",
      "nbconvert_exporter": "python",
      "pygments_lexer": "ipython3",
      "version": "3.7.6"
    },
    "colab": {
      "name": "Intro01-variables.ipynb",
      "provenance": [],
      "include_colab_link": true
    }
  },
  "nbformat": 4,
  "nbformat_minor": 0
}