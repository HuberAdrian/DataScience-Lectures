{
  "cells": [
    {
      "cell_type": "markdown",
      "metadata": {
        "id": "view-in-github",
        "colab_type": "text"
      },
      "source": [
        "<a href=\"https://colab.research.google.com/github/HuberAdrian/DataScience-Lectures/blob/main/Intro07_modules.ipynb\" target=\"_parent\"><img src=\"https://colab.research.google.com/assets/colab-badge.svg\" alt=\"Open In Colab\"/></a>"
      ]
    },
    {
      "cell_type": "markdown",
      "metadata": {
        "id": "k0-WH27EH_1-"
      },
      "source": [
        "# Introduction to Python VII - Python Modules\n",
        "* by Janis Keuper\n",
        "* Copyright: Creative Commons Attribution 3.0 Unported License. To view a copy of this license, visit http://creativecommons.org/licenses/by/3.0/"
      ]
    },
    {
      "cell_type": "code",
      "source": [
        "from google.colab import drive\n",
        "drive.mount('/content/drive')"
      ],
      "metadata": {
        "id": "qC6hhCYLn3Uo"
      },
      "execution_count": null,
      "outputs": []
    },
    {
      "cell_type": "markdown",
      "metadata": {
        "id": "Ra_14jYAH_1_"
      },
      "source": [
        "## Importing Modules\n",
        "The key feature of Python is it's very strom basis of open libraries - called modules in python. To import a module:   "
      ]
    },
    {
      "cell_type": "code",
      "execution_count": null,
      "metadata": {
        "id": "mt0xEU7LH_2A"
      },
      "outputs": [],
      "source": [
        "import os"
      ]
    },
    {
      "cell_type": "code",
      "execution_count": null,
      "metadata": {
        "id": "2DokzbiRH_2B"
      },
      "outputs": [],
      "source": [
        "#get module documentation\n",
        "os.__doc__"
      ]
    },
    {
      "cell_type": "code",
      "execution_count": null,
      "metadata": {
        "id": "FHHTACOqH_2B"
      },
      "outputs": [],
      "source": [
        "#list all methods of the module\n",
        "dir(os)"
      ]
    },
    {
      "cell_type": "markdown",
      "metadata": {
        "id": "WUpIqQtTH_2C"
      },
      "source": [
        "Also see this [list of module attributes](https://www.dummies.com/programming/python/how-to-view-module-content-in-python/)"
      ]
    },
    {
      "cell_type": "markdown",
      "metadata": {
        "id": "eL6IzpidH_2C"
      },
      "source": [
        "### Calling module methods"
      ]
    },
    {
      "cell_type": "code",
      "execution_count": null,
      "metadata": {
        "id": "ApkTPQxPH_2C"
      },
      "outputs": [],
      "source": [
        "#example: get all system environment variables\n",
        "os.environ\n"
      ]
    },
    {
      "cell_type": "markdown",
      "metadata": {
        "id": "yG2vTfXiH_2D"
      },
      "source": [
        "### Import variants"
      ]
    },
    {
      "cell_type": "code",
      "execution_count": null,
      "metadata": {
        "id": "wlWEoGEsH_2D"
      },
      "outputs": [],
      "source": [
        "#importing a submodule with new name\n",
        "%matplotlib inline \n",
        "import matplotlib.pyplot as plt"
      ]
    },
    {
      "cell_type": "code",
      "execution_count": null,
      "metadata": {
        "id": "eQ_OuW0tH_2D"
      },
      "outputs": [],
      "source": [
        "plt.plot([1,6,2,9,4,7])"
      ]
    },
    {
      "cell_type": "code",
      "execution_count": null,
      "metadata": {
        "id": "p2GY1og8H_2E"
      },
      "outputs": [],
      "source": [
        "#importing everthing\n",
        "from matplotlib.pyplot import *"
      ]
    },
    {
      "cell_type": "code",
      "execution_count": null,
      "metadata": {
        "id": "rmvfgqcHH_2E"
      },
      "outputs": [],
      "source": [
        "plot([1,6,2,9,4,7])\n"
      ]
    },
    {
      "cell_type": "markdown",
      "metadata": {
        "id": "msTnwESCH_2E"
      },
      "source": [
        "**WARNING:** ``import *`` can be very dangerous -> conflicting name spaces. **DON'T DO IT!** "
      ]
    },
    {
      "cell_type": "markdown",
      "metadata": {
        "id": "SfF81TaYH_2F"
      },
      "source": [
        "## Writing your own module"
      ]
    },
    {
      "cell_type": "code",
      "execution_count": null,
      "metadata": {
        "id": "mRDkuy1TH_2F"
      },
      "outputs": [],
      "source": [
        "#Basically, one can ``import`` any local python file:\n",
        "import MyPythonScript as myPy#importing MyPythonScript.py"
      ]
    },
    {
      "cell_type": "code",
      "execution_count": null,
      "metadata": {
        "id": "i-jI_fNWH_2F"
      },
      "outputs": [],
      "source": [
        "dir(myPy)"
      ]
    },
    {
      "cell_type": "code",
      "execution_count": null,
      "metadata": {
        "id": "syt0FbyPH_2G"
      },
      "outputs": [],
      "source": [
        "myPy.A"
      ]
    },
    {
      "cell_type": "markdown",
      "metadata": {
        "id": "c0VsSYa3H_2G"
      },
      "source": [
        "Also see https://docs.python.org/3/tutorial/modules.html for more Details."
      ]
    },
    {
      "cell_type": "markdown",
      "metadata": {
        "id": "j367bRsnH_2G"
      },
      "source": [
        "#### Reloading Modules\n",
        "If a module changes (during development), it has to be reloades in order to get the changes into effect... "
      ]
    },
    {
      "cell_type": "code",
      "execution_count": null,
      "metadata": {
        "id": "KBVJLGGUH_2H"
      },
      "outputs": [],
      "source": [
        "# load the autoreload extension\n",
        "%load_ext autoreload\n",
        "# Set extension to reload modules every time before executing code\n",
        "%autoreload 2"
      ]
    },
    {
      "cell_type": "code",
      "execution_count": null,
      "metadata": {
        "id": "7JFZUr6SH_2H"
      },
      "outputs": [],
      "source": [
        "myPy.B"
      ]
    },
    {
      "cell_type": "code",
      "execution_count": null,
      "metadata": {
        "id": "9YaK8KiYH_2H"
      },
      "outputs": [],
      "source": [
        ""
      ]
    }
  ],
  "metadata": {
    "kernelspec": {
      "display_name": "Python 3",
      "language": "python",
      "name": "python3"
    },
    "language_info": {
      "codemirror_mode": {
        "name": "ipython",
        "version": 3
      },
      "file_extension": ".py",
      "mimetype": "text/x-python",
      "name": "python",
      "nbconvert_exporter": "python",
      "pygments_lexer": "ipython3",
      "version": "3.7.6"
    },
    "colab": {
      "name": "Intro07-modules.ipynb",
      "provenance": [],
      "include_colab_link": true
    }
  },
  "nbformat": 4,
  "nbformat_minor": 0
}