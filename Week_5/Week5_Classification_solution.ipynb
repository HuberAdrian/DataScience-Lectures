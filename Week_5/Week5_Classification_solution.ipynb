{
  "cells": [
    {
      "cell_type": "markdown",
      "metadata": {
        "id": "view-in-github",
        "colab_type": "text"
      },
      "source": [
        "<a href=\"https://colab.research.google.com/github/HuberAdrian/DataScience-Lectures/blob/main/Week5_Classification_solution.ipynb\" target=\"_parent\"><img src=\"https://colab.research.google.com/assets/colab-badge.svg\" alt=\"Open In Colab\"/></a>"
      ]
    },
    {
      "cell_type": "markdown",
      "metadata": {
        "id": "3vXvjb-PliaL"
      },
      "source": [
        "# Block 5 Exercise 1: Classification"
      ]
    },
    {
      "cell_type": "markdown",
      "metadata": {
        "id": "J6Yis41iliaN"
      },
      "source": [
        "## MNIST Data\n",
        "In these exercises we are using the MNIST data set on handwritten digits to compare supervised classification algorithms...   "
      ]
    },
    {
      "cell_type": "code",
      "execution_count": null,
      "metadata": {
        "id": "XaPxosm_liaO"
      },
      "outputs": [],
      "source": [
        "#imports \n",
        "import matplotlib.pyplot as plt\n",
        "import numpy as np\n",
        "from sklearn.datasets import fetch_openml"
      ]
    },
    {
      "cell_type": "code",
      "execution_count": null,
      "metadata": {
        "id": "pCBwmJPSliaP"
      },
      "outputs": [],
      "source": [
        "# Load data from https://www.openml.org/d/554\n",
        "X, y = fetch_openml('mnist_784', version=1, return_X_y=True)\n"
      ]
    },
    {
      "cell_type": "code",
      "execution_count": null,
      "metadata": {
        "id": "EXvlfyrgliaQ",
        "outputId": "f942dc28-1b73-4ada-8b9a-42c73e3eea9e"
      },
      "outputs": [
        {
          "data": {
            "text/plain": [
              "(70000, 784)"
            ]
          },
          "execution_count": 3,
          "metadata": {},
          "output_type": "execute_result"
        }
      ],
      "source": [
        "#the full MNIST data set contains 70k samples of digits 0-9 as 28*28 gray scale images (represented as 784 dim vectors)\n",
        "np.shape(X)"
      ]
    },
    {
      "cell_type": "markdown",
      "metadata": {
        "id": "KYUSeC3tliaR"
      },
      "source": [
        "### E1.1: Use SkLearn methods to split the MNIST data into random train and test sets. Use 60k samples for training.  \n"
      ]
    },
    {
      "cell_type": "code",
      "execution_count": null,
      "metadata": {
        "id": "YsnwilLyliaR"
      },
      "outputs": [],
      "source": [
        "from sklearn.model_selection import train_test_split\n",
        "X_train, X_test, y_train, y_test = train_test_split(X, y, test_size=0.1) #split 90% train 10% test"
      ]
    },
    {
      "cell_type": "markdown",
      "metadata": {
        "id": "IehIMla4liaS"
      },
      "source": [
        "### E1.2: Train models on the train data.\n",
        "Train the following models with default parameters on the train data.\n",
        "* [Naive Bayes](https://scikit-learn.org/stable/modules/generated/sklearn.naive_bayes.GaussianNB.html#sklearn.naive_bayes.GaussianNB) (assuming a Gaussian distribution of the data)\n",
        "* [Simple linear model](https://scikit-learn.org/stable/modules/generated/sklearn.linear_model.SGDClassifier.html#sklearn.linear_model.SGDClassifier)\n",
        "   * use ``loss='log'`` to reproduce our logistic loss function \n",
        "* [Random Forest](https://scikit-learn.org/stable/modules/generated/sklearn.ensemble.RandomForestClassifier.html#sklearn.ensemble.RandomForestClassifier)\n",
        "\n",
        "Compare the training accuracy (https://scikit-learn.org/stable/modules/generated/sklearn.metrics.accuracy_score.html#sklearn.metrics.accuracy_score) and [confusion matrix](https://scikit-learn.org/stable/modules/generated/sklearn.metrics.confusion_matrix.html#sklearn.metrics.confusion_matrix) for all three models."
      ]
    },
    {
      "cell_type": "code",
      "execution_count": null,
      "metadata": {
        "id": "OUW7CNfLliaT"
      },
      "outputs": [],
      "source": [
        "#define models\n",
        "from sklearn.naive_bayes import GaussianNB\n",
        "from sklearn import linear_model\n",
        "from sklearn.ensemble import RandomForestClassifier\n",
        "\n",
        "bayes=GaussianNB()\n",
        "linear=linear_model.SGDClassifier(loss='log', max_iter=50) #limit number of iterations -> linear model will not converge\n",
        "rf=RandomForestClassifier()\n",
        "\n",
        "#now train all"
      ]
    },
    {
      "cell_type": "code",
      "execution_count": null,
      "metadata": {
        "id": "5lg0ybBmliaU",
        "outputId": "bfacde09-6b95-4918-8338-f8c904c39fa7"
      },
      "outputs": [
        {
          "name": "stdout",
          "output_type": "stream",
          "text": [
            "CPU times: user 1.07 s, sys: 588 ms, total: 1.66 s\n",
            "Wall time: 1.74 s\n"
          ]
        },
        {
          "data": {
            "text/plain": [
              "GaussianNB()"
            ]
          },
          "execution_count": 6,
          "metadata": {},
          "output_type": "execute_result"
        }
      ],
      "source": [
        "%%time\n",
        "bayes.fit(X_train,y_train)"
      ]
    },
    {
      "cell_type": "code",
      "execution_count": null,
      "metadata": {
        "id": "HwhIYRvnliaU",
        "outputId": "feef43aa-be76-49b8-eb04-ef8b0edc5ec2"
      },
      "outputs": [
        {
          "name": "stdout",
          "output_type": "stream",
          "text": [
            "CPU times: user 1min 7s, sys: 54.2 ms, total: 1min 7s\n",
            "Wall time: 1min 7s\n"
          ]
        },
        {
          "name": "stderr",
          "output_type": "stream",
          "text": [
            "/home/keuper/anaconda3/lib/python3.7/site-packages/sklearn/linear_model/_stochastic_gradient.py:577: ConvergenceWarning: Maximum number of iteration reached before convergence. Consider increasing max_iter to improve the fit.\n",
            "  ConvergenceWarning)\n"
          ]
        },
        {
          "data": {
            "text/plain": [
              "SGDClassifier(loss='log', max_iter=50)"
            ]
          },
          "execution_count": 7,
          "metadata": {},
          "output_type": "execute_result"
        }
      ],
      "source": [
        "%%time\n",
        "linear.fit(X_train,y_train)"
      ]
    },
    {
      "cell_type": "code",
      "execution_count": null,
      "metadata": {
        "id": "wshb2on8liaV",
        "outputId": "45d7d709-beae-492c-828d-c2faebb915fb"
      },
      "outputs": [
        {
          "name": "stdout",
          "output_type": "stream",
          "text": [
            "CPU times: user 59.3 s, sys: 19.4 ms, total: 59.3 s\n",
            "Wall time: 59.4 s\n"
          ]
        },
        {
          "data": {
            "text/plain": [
              "RandomForestClassifier()"
            ]
          },
          "execution_count": 8,
          "metadata": {},
          "output_type": "execute_result"
        }
      ],
      "source": [
        "%%time\n",
        "rf.fit(X_train,y_train)"
      ]
    },
    {
      "cell_type": "code",
      "execution_count": null,
      "metadata": {
        "id": "7Vk2ZkWvliaV"
      },
      "outputs": [],
      "source": [
        "#train error\n",
        "from sklearn.metrics import accuracy_score\n",
        "from sklearn.metrics import confusion_matrix"
      ]
    },
    {
      "cell_type": "code",
      "execution_count": null,
      "metadata": {
        "scrolled": true,
        "id": "BNCaBZYmliaV",
        "outputId": "c77a5dc9-490a-4667-b7c8-d27ed3ba2b4f"
      },
      "outputs": [
        {
          "name": "stdout",
          "output_type": "stream",
          "text": [
            "CPU times: user 2.26 s, sys: 1.23 s, total: 3.49 s\n",
            "Wall time: 3.5 s\n"
          ]
        },
        {
          "data": {
            "text/plain": [
              "0.5544126984126985"
            ]
          },
          "execution_count": 10,
          "metadata": {},
          "output_type": "execute_result"
        }
      ],
      "source": [
        "%%time\n",
        "#Bayes\n",
        "accuracy_score(y_train,bayes.predict(X_train))"
      ]
    },
    {
      "cell_type": "code",
      "execution_count": null,
      "metadata": {
        "id": "DkCoRbaWliaW",
        "outputId": "fadfbf7e-d3dd-4955-922b-92c918c100eb"
      },
      "outputs": [
        {
          "data": {
            "text/plain": [
              "0.5561428571428572"
            ]
          },
          "execution_count": 18,
          "metadata": {},
          "output_type": "execute_result"
        }
      ],
      "source": [
        "#test\n",
        "accuracy_score(y_test,bayes.predict(X_test))"
      ]
    },
    {
      "cell_type": "code",
      "execution_count": null,
      "metadata": {
        "id": "n7HE91CDliaW",
        "outputId": "e3456e75-2522-4d69-c4c1-bf2666aeefe6"
      },
      "outputs": [
        {
          "data": {
            "text/plain": [
              "array([[669,   2,   4,   4,   1,   1,  17,   1,  30,  11],\n",
              "       [  1, 733,   3,   2,   0,   0,   5,   1,  30,  11],\n",
              "       [ 86,  22, 190,  42,   0,   0, 170,   3, 157,  13],\n",
              "       [ 60,  35,   7, 214,   1,   1,  43,   9, 256,  70],\n",
              "       [ 26,   3,   5,   2,  95,   5,  65,   3, 134, 314],\n",
              "       [ 90,  11,   7,  14,   2,  31,  33,   1, 379,  67],\n",
              "       [  7,   7,   2,   0,   0,   2, 658,   0,  14,   1],\n",
              "       [  3,   5,   4,   3,   8,   0,   1, 212,  31, 446],\n",
              "       [ 10,  81,   2,   4,   5,   4,  13,   1, 421, 160],\n",
              "       [  5,   5,   1,   2,   6,   0,   0,   4,  10, 670]])"
            ]
          },
          "execution_count": 17,
          "metadata": {},
          "output_type": "execute_result"
        }
      ],
      "source": [
        "confusion_matrix(y_test,bayes.predict(X_test))"
      ]
    },
    {
      "cell_type": "code",
      "execution_count": null,
      "metadata": {
        "scrolled": true,
        "id": "ws8ZX8edliaW",
        "outputId": "13133844-151b-4ff9-a8c6-3e6a2f91b33c"
      },
      "outputs": [
        {
          "name": "stdout",
          "output_type": "stream",
          "text": [
            "CPU times: user 479 ms, sys: 13.8 ms, total: 493 ms\n",
            "Wall time: 208 ms\n"
          ]
        },
        {
          "data": {
            "text/plain": [
              "0.8758571428571429"
            ]
          },
          "execution_count": 12,
          "metadata": {},
          "output_type": "execute_result"
        }
      ],
      "source": [
        "%%time\n",
        "#Linear\n",
        "accuracy_score(y_train,linear.predict(X_train))"
      ]
    },
    {
      "cell_type": "code",
      "execution_count": null,
      "metadata": {
        "id": "hb_kbSELliaX",
        "outputId": "52e8b1ea-1dc3-4d06-f131-570ade84f5af"
      },
      "outputs": [
        {
          "data": {
            "text/plain": [
              "0.8554285714285714"
            ]
          },
          "execution_count": 19,
          "metadata": {},
          "output_type": "execute_result"
        }
      ],
      "source": [
        "#train\n",
        "accuracy_score(y_test,linear.predict(X_test))"
      ]
    },
    {
      "cell_type": "code",
      "execution_count": null,
      "metadata": {
        "id": "72IvMvigliaX",
        "outputId": "64c29bda-e981-4a44-c809-7cd2935ba6cf"
      },
      "outputs": [
        {
          "data": {
            "text/plain": [
              "array([[607,   0,  14,   1,   5,  21,  36,   5,  49,   2],\n",
              "       [  0, 728,   4,   0,   1,   8,   2,   2,  39,   2],\n",
              "       [  2,   4, 580,   1,   7,   5,  12,  16,  55,   1],\n",
              "       [  0,   2,  30, 474,   1,  72,  13,  20,  80,   4],\n",
              "       [  0,   2,   5,   2, 579,   1,  15,   1,  21,  26],\n",
              "       [  1,   2,   4,   7,  10, 553,  19,   3,  31,   5],\n",
              "       [  0,   4,   7,   0,   2,  15, 657,   0,   6,   0],\n",
              "       [  0,   1,   8,   0,   8,   4,   2, 659,  12,  19],\n",
              "       [  0,   6,  12,   1,   1,  50,  10,   6, 608,   7],\n",
              "       [  0,   3,   4,   1,  25,  18,   2,  50,  57, 543]])"
            ]
          },
          "execution_count": 20,
          "metadata": {},
          "output_type": "execute_result"
        }
      ],
      "source": [
        "confusion_matrix(y_test,linear.predict(X_test))"
      ]
    },
    {
      "cell_type": "code",
      "execution_count": null,
      "metadata": {
        "scrolled": true,
        "id": "urznPmHhliaX",
        "outputId": "573176ca-28e6-4a07-96fa-eada3f3b5718"
      },
      "outputs": [
        {
          "name": "stdout",
          "output_type": "stream",
          "text": [
            "CPU times: user 3.18 s, sys: 9.31 ms, total: 3.19 s\n",
            "Wall time: 3.19 s\n"
          ]
        },
        {
          "data": {
            "text/plain": [
              "1.0"
            ]
          },
          "execution_count": 22,
          "metadata": {},
          "output_type": "execute_result"
        }
      ],
      "source": [
        "%%time\n",
        "#random Forest\n",
        "accuracy_score(y_train,rf.predict(X_train))"
      ]
    },
    {
      "cell_type": "code",
      "execution_count": null,
      "metadata": {
        "id": "zBCz_JrbliaY",
        "outputId": "42dd69cb-a11b-43d1-d530-c86172c06c11"
      },
      "outputs": [
        {
          "data": {
            "text/plain": [
              "0.9675714285714285"
            ]
          },
          "execution_count": 21,
          "metadata": {},
          "output_type": "execute_result"
        }
      ],
      "source": [
        "accuracy_score(y_test,rf.predict(X_test))"
      ]
    },
    {
      "cell_type": "code",
      "execution_count": null,
      "metadata": {
        "id": "mnVMnUqXliaY",
        "outputId": "239befef-800d-46d3-8499-e562c6520ca6"
      },
      "outputs": [
        {
          "data": {
            "text/plain": [
              "array([[727,   0,   0,   0,   2,   3,   4,   2,   1,   1],\n",
              "       [  0, 773,   3,   1,   4,   2,   1,   1,   1,   0],\n",
              "       [  5,   1, 658,   5,   3,   0,   0,   4,   6,   1],\n",
              "       [  0,   0,  12, 663,   0,   6,   0,   5,   7,   3],\n",
              "       [  2,   0,   0,   0, 631,   0,   6,   0,   3,  10],\n",
              "       [  0,   1,   0,  10,   2, 610,   5,   0,   6,   1],\n",
              "       [  2,   2,   1,   0,   1,   4, 681,   0,   0,   0],\n",
              "       [  0,   3,   6,   0,   5,   0,   0, 688,   4,   7],\n",
              "       [  0,   2,   6,   4,   4,   3,   4,   1, 671,   6],\n",
              "       [  4,   5,   0,   6,   4,   2,   1,   7,   3, 671]])"
            ]
          },
          "execution_count": 15,
          "metadata": {},
          "output_type": "execute_result"
        }
      ],
      "source": [
        "confusion_matrix(y_test,rf.predict(X_test))"
      ]
    }
  ],
  "metadata": {
    "kernelspec": {
      "display_name": "Python 3",
      "language": "python",
      "name": "python3"
    },
    "language_info": {
      "codemirror_mode": {
        "name": "ipython",
        "version": 3
      },
      "file_extension": ".py",
      "mimetype": "text/x-python",
      "name": "python",
      "nbconvert_exporter": "python",
      "pygments_lexer": "ipython3",
      "version": "3.7.6"
    },
    "colab": {
      "name": "Week5_Classification_solution.ipynb",
      "provenance": [],
      "collapsed_sections": [],
      "include_colab_link": true
    }
  },
  "nbformat": 4,
  "nbformat_minor": 0
}