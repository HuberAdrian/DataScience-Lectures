{
  "cells": [
    {
      "cell_type": "markdown",
      "metadata": {
        "id": "view-in-github",
        "colab_type": "text"
      },
      "source": [
        "<a href=\"https://colab.research.google.com/github/HuberAdrian/DataScience-Lectures/blob/main/pandas_MergeandJoin_week3.ipynb\" target=\"_parent\"><img src=\"https://colab.research.google.com/assets/colab-badge.svg\" alt=\"Open In Colab\"/></a>"
      ]
    },
    {
      "cell_type": "markdown",
      "metadata": {
        "id": "bV82fxR4xR-W"
      },
      "source": [
        "# Concat DataFrame \n",
        "------------\n",
        "       Concat is very useful method of pandas.You can concatanate two dataframes in two way -\n",
        "          1)Append by row\n",
        "          2)Append by col\n",
        "  \n",
        "## Append by row :\n",
        "       Concat is the method of pandas in which you can join two and more dataframes provided its indices are same.\n",
        "       Let's take an example -\n",
        "       You have two dataframes of weathers of two cities Kolkata and Chennai,\n",
        "       \n",
        "   <code> df=pd.concat([dataframe_1,dataframe_2,...,dataframe_n]) </code>\n",
        "       for n number of dataframes,"
      ]
    },
    {
      "cell_type": "code",
      "execution_count": null,
      "metadata": {
        "id": "48A1DkScxR-Y"
      },
      "outputs": [],
      "source": [
        "import pandas as pd"
      ]
    },
    {
      "cell_type": "code",
      "execution_count": null,
      "metadata": {
        "id": "v72Glpj1xR-a"
      },
      "outputs": [],
      "source": [
        "chennai={\n",
        "      \"date\":['01-02-12','03-02-12','04-02-12','05-02-12'],\n",
        "      \"event\":['hot','sunny','rainy','cold'],\n",
        "      \"wind-speed\":[33,23,45,24],\n",
        "      \"temp\":[20,21,15,18]\n",
        "}\n",
        "chen=pd.DataFrame(chennai)\n",
        "chen"
      ]
    },
    {
      "cell_type": "code",
      "execution_count": null,
      "metadata": {
        "id": "NtTe7dyAxR-a"
      },
      "outputs": [],
      "source": [
        "kolkata={\n",
        "      \"date\":['01-02-12','03-02-12','04-02-12','05-02-12'],\n",
        "      \"event\":['sunny','cold','cold','rainy'],\n",
        "      \"wind-speed\":[12,10,9,14],\n",
        "      \"temp\":[14,16,15,10]\n",
        "}\n",
        "kol=pd.DataFrame(kolkata)\n",
        "kol"
      ]
    },
    {
      "cell_type": "code",
      "execution_count": null,
      "metadata": {
        "id": "mGXGlGTSxR-b"
      },
      "outputs": [],
      "source": [
        "df=pd.concat([kol,chen])\n",
        "df"
      ]
    },
    {
      "cell_type": "markdown",
      "metadata": {
        "id": "qHTEKl1PxR-b"
      },
      "source": [
        "  **You can observe the index first 0 to 3 then again 0 to 3.To ignore this you have to pass an extra argument.**"
      ]
    },
    {
      "cell_type": "code",
      "execution_count": null,
      "metadata": {
        "id": "aXQVl5t1xR-b"
      },
      "outputs": [],
      "source": [
        "df=pd.concat([kol,chen],ignore_index=True)\n",
        "df\n",
        "# Now see index column"
      ]
    },
    {
      "cell_type": "markdown",
      "metadata": {
        "id": "tGvdOo3GxR-c"
      },
      "source": [
        "##### If you want to join dataframes with dataframe name as an index name"
      ]
    },
    {
      "cell_type": "code",
      "execution_count": null,
      "metadata": {
        "id": "TSOlUPGTxR-c"
      },
      "outputs": [],
      "source": [
        "df=pd.concat([kol,chen],keys=['Kolkata','Chennai'])\n",
        "df"
      ]
    },
    {
      "cell_type": "code",
      "execution_count": null,
      "metadata": {
        "id": "zQrbxae3xR-d"
      },
      "outputs": [],
      "source": [
        "df.loc['Kolkata']"
      ]
    },
    {
      "cell_type": "code",
      "execution_count": null,
      "metadata": {
        "id": "igOypZjkxR-d"
      },
      "outputs": [],
      "source": [
        "df.loc['Chennai']"
      ]
    },
    {
      "cell_type": "markdown",
      "metadata": {
        "id": "kHpCQTASxR-d"
      },
      "source": [
        "## Append by column :\n",
        "    if you have two dataframes and you want to append column wise. For example - if you have two dataframes of weather\n",
        "    first dataframe having columns date,event & temp and second dataframe having columns date,event & wind-speed when you\n",
        "    join both you will get one dataframe having columns date, event, temp, date, event and wind-speed.\n",
        "    To join two dataframe column wise\n",
        "    you have to pass axis=1 in concat() method.\n",
        "    \n",
        "   <code> df=pd.concat([dataframe_1,dataframe_2,...,dataframe_n],axis=1) </code>"
      ]
    },
    {
      "cell_type": "code",
      "execution_count": null,
      "metadata": {
        "id": "K8CP68OJxR-e"
      },
      "outputs": [],
      "source": [
        "temp1={\n",
        "      \"date\":['01-02-12','03-02-12','04-02-12','05-02-12'],\n",
        "      \"event\":['sunny','cold','cold','rainy'],\n",
        "      \"temp\":[14,16,15,10]\n",
        "}\n",
        "temp=pd.DataFrame(temp1)\n",
        "temp"
      ]
    },
    {
      "cell_type": "code",
      "execution_count": null,
      "metadata": {
        "id": "d2NRQrKQxR-e"
      },
      "outputs": [],
      "source": [
        "ws={\n",
        "      \"date\":['01-02-12','03-02-12','04-02-12','05-02-12'],\n",
        "      \"event\":['sunny','cold','cold','rainy'],\n",
        "      \"wind-speed\":[12,10,9,14],\n",
        "}\n",
        "wind_speed=pd.DataFrame(ws)\n",
        "wind_speed"
      ]
    },
    {
      "cell_type": "code",
      "execution_count": null,
      "metadata": {
        "id": "51gcUKptxR-e"
      },
      "outputs": [],
      "source": [
        "df=pd.concat([temp,wind_speed],axis=1)\n",
        "df"
      ]
    },
    {
      "cell_type": "markdown",
      "metadata": {
        "id": "I_JDnCWvxR-f"
      },
      "source": [
        "# Merging dataframes \n",
        "-------\n",
        "    merge() is a method in pandas in which you can merge two dataframes withou repeating columns as we did in\n",
        "    concat() method.\n",
        "    There are two types of merging -\n",
        "       1) Inner join\n",
        "       2) outer join\n",
        " ## Inner join\n",
        "    In this method you will get the intersetion of two dataframes with merged column.It is the default merge method.\n",
        "    In merge() method you have to pass the dataframes as arguments and list of columns on which you want to merge\n",
        "    and dataframes as arguments."
      ]
    },
    {
      "cell_type": "code",
      "execution_count": null,
      "metadata": {
        "id": "4dKZxt-QxR-f"
      },
      "outputs": [],
      "source": [
        "import pandas as pd"
      ]
    },
    {
      "cell_type": "code",
      "execution_count": null,
      "metadata": {
        "id": "zsjQvobcxR-f"
      },
      "outputs": [],
      "source": [
        "temp1={\n",
        "      \"date\":['01-02-12','03-02-12','04-02-12','05-02-12'],\n",
        "      \"event\":['sunny','cold','cold','rainy'],\n",
        "      \"temp\":[14,16,15,10]\n",
        "}\n",
        "temp=pd.DataFrame(temp1)\n",
        "temp"
      ]
    },
    {
      "cell_type": "code",
      "execution_count": null,
      "metadata": {
        "id": "JPhMpQSuxR-f"
      },
      "outputs": [],
      "source": [
        "ws={\n",
        "      \"date\":['01-02-12','03-02-12','04-02-12','05-02-12'],\n",
        "      \"event\":['sunny','cold','cold','rainy'],\n",
        "      \"wind-speed\":[12,10,9,14],\n",
        "}\n",
        "wind_speed=pd.DataFrame(ws)\n",
        "wind_speed"
      ]
    },
    {
      "cell_type": "code",
      "execution_count": null,
      "metadata": {
        "id": "qX5IV0mmxR-g"
      },
      "outputs": [],
      "source": [
        "df=pd.merge(temp,wind_speed,on=['date','event'])\n",
        "df"
      ]
    },
    {
      "cell_type": "markdown",
      "metadata": {
        "id": "5LT_7rONxR-g"
      },
      "source": [
        "    If you have different data in the common columns then you can not do inner merge in this case.\n",
        "    Assume the following case:\n",
        "    \n",
        "      temp                                \n",
        "      ___________________\n",
        "     | event  |   temp   |\n",
        "     |--------|----------|\n",
        "     | sunny  |   40     |\n",
        "     | hot    |   30     |\n",
        "     | rainy  |   25     |\n",
        "     |________|__________|\n",
        "     \n",
        "     wind-speed\n",
        "      ___________________\n",
        "     | event  |wind-speed|\n",
        "     |--------|----------|\n",
        "     | sunny  |   12     |\n",
        "     | hot    |   14     |\n",
        "     | hot    |   11     |\n",
        "     |________|__________|\n",
        "     \n",
        "     Merged Dataframe by inner method\n",
        "     \n",
        "      ________________________________\n",
        "     | event  |   temp   | wind-speed |\n",
        "     |--------|----------|------------|\n",
        "     | sunny  |   40     |     12     | \n",
        "     | hot    |   30     |     14     |\n",
        "     |________|__________|____________|\n",
        "     \n",
        "     You can see that last row is not merged here because there is no common element in the common columns.\n",
        "     "
      ]
    },
    {
      "cell_type": "markdown",
      "metadata": {
        "id": "amthuY66xR-h"
      },
      "source": [
        "## Outer join\n",
        "This is just like union of two dataframe. Non existing values will contain NaN.                               \n",
        "     \n",
        "\n",
        "     temp                                \n",
        "      ___________________\n",
        "     | event  |   temp   |\n",
        "     |--------|----------|\n",
        "     | sunny  |   40     |\n",
        "     | hot    |   30     |\n",
        "     | rainy  |   25     |\n",
        "     |________|__________|\n",
        "     \n",
        "     wind-speed\n",
        "      ___________________\n",
        "     | event  |wind-speed|\n",
        "     |--------|----------|\n",
        "     | sunny  |   12     |\n",
        "     | hot    |   14     |\n",
        "     | hot    |   11     |\n",
        "     |________|__________|\n",
        "     \n",
        "     Merged Dataframe by inner method\n",
        "     \n",
        "      ________________________________\n",
        "     | event  |   temp   | wind-speed |\n",
        "     |--------|----------|------------|\n",
        "     | sunny  |   40     |     12     | \n",
        "     | hot    |   30     |     14     |\n",
        "     | rainy  |   25     |     NaN    |\n",
        "     | hot    |   NaN    |     11     |\n",
        "     |________|__________|____________|\n",
        "     \n",
        "     You can see in the final dataframe two rows increased."
      ]
    },
    {
      "cell_type": "code",
      "execution_count": null,
      "metadata": {
        "id": "m3I_lgLVxR-h"
      },
      "outputs": [],
      "source": [
        "temp1={\n",
        "      \"date\":['01-02-12','03-02-12','04-02-12','05-02-12'],\n",
        "      \"event\":['sunny','cold','hot','sunny'],\n",
        "      \"temp\":[14,16,15,10]\n",
        "}\n",
        "temp=pd.DataFrame(temp1)\n",
        "temp"
      ]
    },
    {
      "cell_type": "code",
      "execution_count": null,
      "metadata": {
        "id": "pIMSA16zxR-i"
      },
      "outputs": [],
      "source": [
        "ws={\n",
        "      \"date\":['01-02-12','03-02-12','04-02-12','05-02-12'],\n",
        "      \"event\":['sunny','cold','cold','rainy'],\n",
        "      \"wind-speed\":[12,10,9,14],\n",
        "}\n",
        "wind_speed=pd.DataFrame(ws)\n",
        "wind_speed"
      ]
    },
    {
      "cell_type": "markdown",
      "metadata": {
        "id": "MDzjPiaZxR-i"
      },
      "source": [
        "##### One extra argument you need to pass in outer join i.e, how=\"outer\".By defaut it is inner."
      ]
    },
    {
      "cell_type": "code",
      "execution_count": null,
      "metadata": {
        "id": "FuLhU3iDxR-i"
      },
      "outputs": [],
      "source": [
        "df=pd.merge(temp,wind_speed,on=['date','event'],how='outer')\n",
        "df"
      ]
    },
    {
      "cell_type": "code",
      "execution_count": null,
      "metadata": {
        "id": "NVTABRYkxR-i"
      },
      "outputs": [],
      "source": [
        ""
      ]
    }
  ],
  "metadata": {
    "kernelspec": {
      "display_name": "Python 3",
      "language": "python",
      "name": "python3"
    },
    "language_info": {
      "codemirror_mode": {
        "name": "ipython",
        "version": 3
      },
      "file_extension": ".py",
      "mimetype": "text/x-python",
      "name": "python",
      "nbconvert_exporter": "python",
      "pygments_lexer": "ipython3",
      "version": "3.7.6"
    },
    "colab": {
      "name": "pandas_MergeandJoin_week3.ipynb",
      "provenance": [],
      "collapsed_sections": [],
      "include_colab_link": true
    }
  },
  "nbformat": 4,
  "nbformat_minor": 0
}