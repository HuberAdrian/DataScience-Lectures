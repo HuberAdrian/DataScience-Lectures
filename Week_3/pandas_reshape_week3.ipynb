{
  "cells": [
    {
      "cell_type": "markdown",
      "metadata": {
        "id": "view-in-github",
        "colab_type": "text"
      },
      "source": [
        "<a href=\"https://colab.research.google.com/github/HuberAdrian/DataScience-Lectures/blob/main/pandas_reshape_week3.ipynb\" target=\"_parent\"><img src=\"https://colab.research.google.com/assets/colab-badge.svg\" alt=\"Open In Colab\"/></a>"
      ]
    },
    {
      "cell_type": "markdown",
      "metadata": {
        "id": "pUK17LL6rAyD"
      },
      "source": [
        "# Pivot and Pivot table\n",
        "----------\n",
        "## Pivot :\n",
        "Pivot allows you reshape or trandform your dataset.\n",
        "\n",
        "    "
      ]
    },
    {
      "cell_type": "markdown",
      "metadata": {
        "id": "oNDE6RaUrAyF"
      },
      "source": [
        "In the city column there are three different cities new york, mumbai and beijing. Every city has a temperature\n",
        "and humidity in three different months. If you want to transform you dataset into another shape table so that you\n",
        "you can better analyze data,here comes the use of pivot."
      ]
    },
    {
      "cell_type": "code",
      "execution_count": null,
      "metadata": {
        "id": "mc82Gf9erAyG"
      },
      "outputs": [],
      "source": [
        "import pandas as pd"
      ]
    },
    {
      "cell_type": "code",
      "execution_count": null,
      "metadata": {
        "id": "Nz_RIO4trAyH"
      },
      "outputs": [],
      "source": [
        "mydis={\n",
        "    'Date':['5/1/2017','5/2/2017','5/3/2017','5/1/2017','5/2/2017','5/3/2017','5/1/2017','5/2/2017','5/3/2017'],\n",
        "    'city':['new york','new york','new york','mumbai','mumbai','mumbai','beijing','beijing','beijing'],\n",
        "    'temp':[65,66,68,75,78,82,80,77,79],\n",
        "'humidity':[56,58,60,80,83,85,26,30,35]\n",
        "}\n",
        "df=pd.DataFrame(mydis)\n",
        "df"
      ]
    },
    {
      "cell_type": "markdown",
      "metadata": {
        "id": "WtU55f1orAyI"
      },
      "source": [
        "To reshape your dataframe into another form you need to pass you arguments one is index=\"row\" (\"row\" is the row\n",
        "which you want to be row of transformed dataframe) and another argument is column=\"col\" (\"col\" is the column you want\n",
        "to be the column of the transformed dataframe). "
      ]
    },
    {
      "cell_type": "code",
      "execution_count": null,
      "metadata": {
        "id": "K3cVm-ybrAyJ"
      },
      "outputs": [],
      "source": [
        "df.pivot(index='Date',columns='city')"
      ]
    },
    {
      "cell_type": "code",
      "execution_count": null,
      "metadata": {
        "id": "fwGNZrZtrAyJ"
      },
      "outputs": [],
      "source": [
        "df.pivot(index='city',columns='Date')"
      ]
    },
    {
      "cell_type": "code",
      "execution_count": null,
      "metadata": {
        "id": "oIvVzfwnrAyK"
      },
      "outputs": [],
      "source": [
        "#depending on the index, we might end up with missing values, which are set to NaN by default\n",
        "df.pivot(index='temp',columns='Date')"
      ]
    },
    {
      "cell_type": "markdown",
      "metadata": {
        "id": "T4txciWdrAyL"
      },
      "source": [
        "## Pivot Table\n",
        "Pivot table is used to summarize and aggregate data inside dataframe."
      ]
    },
    {
      "cell_type": "code",
      "execution_count": null,
      "metadata": {
        "id": "4pmsgsp9rAyL"
      },
      "outputs": [],
      "source": [
        "mydis={\n",
        "    'Date':['5/1/2017','5/1/2017','5/2/2017','5/2/2017','5/1/2017','5/1/2017','5/2/2017','5/2/2017','5/1/2017',\n",
        "            '5/1/2017','5/2/2017','5/2/2017'],\n",
        "    'city':['new york','new york','new york','new york','mumbai','mumbai','mumbai','mumbai','beijing','beijing',\n",
        "            'beijing','beijing'],\n",
        "    'temp':[65,66,68,69,75,78,82,81,80,77,79,86],\n",
        "'humidity':[56,58,60,50,80,83,85,78,26,30,35,78]\n",
        "}\n",
        "df=pd.DataFrame(mydis)\n",
        "df"
      ]
    },
    {
      "cell_type": "code",
      "execution_count": null,
      "metadata": {
        "id": "nSkMkaqhrAyM"
      },
      "outputs": [],
      "source": [
        "import numpy as np\n",
        "#aggregate: count number of entries per day and city \n",
        "d=pd.pivot_table(df,index='Date',columns='city',aggfunc='count')\n",
        "d"
      ]
    },
    {
      "cell_type": "code",
      "execution_count": null,
      "metadata": {
        "id": "E5yaEKWIrAyM"
      },
      "outputs": [],
      "source": [
        "#same, but summing over days\n",
        "d=pd.pivot_table(df,index='Date',columns='city',aggfunc='sum')\n",
        "d"
      ]
    },
    {
      "cell_type": "code",
      "execution_count": null,
      "metadata": {
        "id": "z7OiB812rAyM"
      },
      "outputs": [],
      "source": [
        "#mean\n",
        "d=pd.pivot_table(df,index='Date',columns='city',aggfunc='mean')\n",
        "d"
      ]
    },
    {
      "cell_type": "code",
      "execution_count": null,
      "metadata": {
        "id": "shPwuq8rrAyN"
      },
      "outputs": [],
      "source": [
        "#max\n",
        "d=pd.pivot_table(df,index='Date',columns='city',aggfunc='max')\n",
        "d"
      ]
    },
    {
      "cell_type": "code",
      "execution_count": null,
      "metadata": {
        "id": "uOWNulpprAyN"
      },
      "outputs": [],
      "source": [
        "#transform date format\n",
        "df['Date']=pd.to_datetime(df['Date'])\n",
        "df"
      ]
    },
    {
      "cell_type": "code",
      "execution_count": null,
      "metadata": {
        "id": "MlahTTuNrAyN"
      },
      "outputs": [],
      "source": [
        "#group by date\n",
        "df.pivot_table(index=pd.Grouper(key='Date'),columns='city')"
      ]
    },
    {
      "cell_type": "markdown",
      "metadata": {
        "id": "Z-sRMaEOrAyN"
      },
      "source": [
        "## Reshaping Dataframes \n",
        "Using *melt* to perform \"inverse\" pivot operations.  "
      ]
    },
    {
      "cell_type": "code",
      "execution_count": null,
      "metadata": {
        "id": "fF9xHBAzrAyO"
      },
      "outputs": [],
      "source": [
        "import pandas as pd"
      ]
    },
    {
      "cell_type": "code",
      "execution_count": null,
      "metadata": {
        "id": "zZkCzhPurAyO"
      },
      "outputs": [],
      "source": [
        "mydis={\n",
        "    'Day':['Mon','Tue','Wed','Thu','Fri','Sat','Sun'],\n",
        "    'Kolkata':[10,20,30,40,32,34,23],\n",
        "    'Kerala':[23,32,13,42,13,43,23],\n",
        "    'Mumbai':[10,20,30,40,32,34,23]\n",
        "}\n",
        "df=pd.DataFrame(mydis)\n",
        "df"
      ]
    },
    {
      "cell_type": "code",
      "execution_count": null,
      "metadata": {
        "id": "jIWbizwfrAyO"
      },
      "outputs": [],
      "source": [
        "df2=pd.melt(df,id_vars=['Day'],var_name='City',value_name='Temp')\n",
        "df2"
      ]
    },
    {
      "cell_type": "code",
      "execution_count": null,
      "metadata": {
        "id": "JN8JNBnSrAyP"
      },
      "outputs": [],
      "source": [
        ""
      ]
    }
  ],
  "metadata": {
    "kernelspec": {
      "display_name": "Python 3",
      "language": "python",
      "name": "python3"
    },
    "language_info": {
      "codemirror_mode": {
        "name": "ipython",
        "version": 3
      },
      "file_extension": ".py",
      "mimetype": "text/x-python",
      "name": "python",
      "nbconvert_exporter": "python",
      "pygments_lexer": "ipython3",
      "version": "3.7.6"
    },
    "colab": {
      "name": "pandas_reshape_week3.ipynb",
      "provenance": [],
      "collapsed_sections": [],
      "include_colab_link": true
    }
  },
  "nbformat": 4,
  "nbformat_minor": 0
}