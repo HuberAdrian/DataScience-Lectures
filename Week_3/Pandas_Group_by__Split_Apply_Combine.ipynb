{
  "cells": [
    {
      "cell_type": "markdown",
      "metadata": {
        "id": "view-in-github",
        "colab_type": "text"
      },
      "source": [
        "<a href=\"https://colab.research.google.com/github/HuberAdrian/DataScience-Lectures/blob/main/Pandas_Group_by__Split_Apply_Combine.ipynb\" target=\"_parent\"><img src=\"https://colab.research.google.com/assets/colab-badge.svg\" alt=\"Open In Colab\"/></a>"
      ]
    },
    {
      "cell_type": "markdown",
      "metadata": {
        "id": "GYjbZYHXmiWx"
      },
      "source": [
        "# Groupby : Split, Apply and Combine\n",
        "---------------\n",
        "   Groupby is one of the important operations in data analysis.It includes three steps - <br>\n",
        "         \n",
        "   <ul>\n",
        "    <li><b>Splitting</b></li>\n",
        "    <li><b>Applying</b>\n",
        "        <ul>\n",
        "            <li>Aggregation</li>\n",
        "            <li>Transformation</li>\n",
        "            <li>Filterting</li>\n",
        "        </ul>\n",
        "    </li>\n",
        "    <li><b>Combine</b></li>\n",
        "   </ul>\n",
        "        \n",
        "   Groupby property is grouped the data according the column supplied to the function.In the following example\n",
        " you can see the i have grouped the dataframe df by its team."
      ]
    },
    {
      "cell_type": "code",
      "execution_count": null,
      "metadata": {
        "id": "zY5tQQtdmiW0"
      },
      "outputs": [],
      "source": [
        "import pandas as pd\n",
        "import numpy as np"
      ]
    },
    {
      "cell_type": "code",
      "execution_count": null,
      "metadata": {
        "id": "58lrnL5OmiW1"
      },
      "outputs": [],
      "source": [
        "d={\n",
        "    'team':[\"India\",\"New zealand\",\"Australia\",\"India\",\n",
        "            \"India\",\"New zealand\",\"Australia\",\"India\",\n",
        "            \"New zealand\",\"Australia\",\"New zealand\",\"Australia\"],\n",
        "     'Run':[330,230,300,180,200,250,190,400,340,290,390,333],\n",
        "     \"Match\":[2,4,2,1,5,6,3,2,5,3,1,1],\n",
        "     \"Year\":['2012','2012','2012','2012','2013','2013','2013','2013','2014','2014','2014','2014']\n",
        "  }\n",
        "df=pd.DataFrame(d)\n",
        "df"
      ]
    },
    {
      "cell_type": "markdown",
      "metadata": {
        "id": "n7_02dwRmiW2"
      },
      "source": [
        "    groupby() function will return an object.we can imagine that every group is pointing to its dataframe.\n",
        "        "
      ]
    },
    {
      "cell_type": "code",
      "execution_count": null,
      "metadata": {
        "id": "p-u_a1bCmiW3"
      },
      "outputs": [],
      "source": [
        "g=df.groupby('team')\n"
      ]
    },
    {
      "cell_type": "code",
      "execution_count": null,
      "metadata": {
        "id": "a3Inv8gPmiW3"
      },
      "outputs": [],
      "source": [
        "g.head()"
      ]
    },
    {
      "cell_type": "code",
      "execution_count": null,
      "metadata": {
        "id": "SR7sk197miW4"
      },
      "outputs": [],
      "source": [
        "for team,teamdata in g:\n",
        "    print(team)\n",
        "    print(\"-\"*10)\n",
        "    print(teamdata)\n",
        "    print(\"-\"*35)"
      ]
    },
    {
      "cell_type": "markdown",
      "metadata": {
        "id": "SJMw_5ONmiW7"
      },
      "source": [
        " **get_group('group name') :**  <br>\n",
        "  It will return dataframe of particular group"
      ]
    },
    {
      "cell_type": "code",
      "execution_count": null,
      "metadata": {
        "id": "YuiPVl01miW8"
      },
      "outputs": [],
      "source": [
        "g.get_group('India')"
      ]
    },
    {
      "cell_type": "code",
      "execution_count": null,
      "metadata": {
        "id": "xxUcPOhomiW9"
      },
      "outputs": [],
      "source": [
        "g.get_group('Australia')"
      ]
    },
    {
      "cell_type": "markdown",
      "metadata": {
        "id": "W-HkweYJmiW-"
      },
      "source": [
        "     We can also perform group operations as if tthe groups were dataframes:"
      ]
    },
    {
      "cell_type": "code",
      "execution_count": null,
      "metadata": {
        "id": "pm2vzy3GmiXN"
      },
      "outputs": [],
      "source": [
        "g.min()"
      ]
    },
    {
      "cell_type": "code",
      "execution_count": null,
      "metadata": {
        "id": "U0hxrTr6miXN"
      },
      "outputs": [],
      "source": [
        "g.mean()"
      ]
    },
    {
      "cell_type": "code",
      "execution_count": null,
      "metadata": {
        "id": "_oN9172tmiXO"
      },
      "outputs": [],
      "source": [
        "g_yr=df.groupby('Year')\n",
        "g_yr['Run'].agg([np.min,np.max,np.mean,np.sum,np.std])"
      ]
    },
    {
      "cell_type": "code",
      "execution_count": null,
      "metadata": {
        "id": "60f6OSRAmiXO"
      },
      "outputs": [],
      "source": [
        ""
      ]
    },
    {
      "cell_type": "code",
      "execution_count": null,
      "metadata": {
        "id": "UAAB361NmiXO"
      },
      "outputs": [],
      "source": [
        ""
      ]
    },
    {
      "cell_type": "code",
      "execution_count": null,
      "metadata": {
        "id": "pvFeYWh_miXP"
      },
      "outputs": [],
      "source": [
        ""
      ]
    },
    {
      "cell_type": "code",
      "execution_count": null,
      "metadata": {
        "id": "7U5l_w9BmiXP"
      },
      "outputs": [],
      "source": [
        ""
      ]
    }
  ],
  "metadata": {
    "kernelspec": {
      "display_name": "Python 3",
      "language": "python",
      "name": "python3"
    },
    "language_info": {
      "codemirror_mode": {
        "name": "ipython",
        "version": 3
      },
      "file_extension": ".py",
      "mimetype": "text/x-python",
      "name": "python",
      "nbconvert_exporter": "python",
      "pygments_lexer": "ipython3",
      "version": "3.7.6"
    },
    "colab": {
      "name": "Pandas_Group_by_.Split_Apply_Combine.ipynb",
      "provenance": [],
      "collapsed_sections": [],
      "include_colab_link": true
    }
  },
  "nbformat": 4,
  "nbformat_minor": 0
}